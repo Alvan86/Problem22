{
 "cells": [
  {
   "cell_type": "markdown",
   "metadata": {
    "deletable": false,
    "editable": false,
    "nbgrader": {
     "grade": false,
     "locked": true,
     "solution": false
    }
   },
   "source": [
    "# Problem 21: Final exam, Fall 2020: The legacy of \"redlining\" #\n",
    "\n",
    "> _Version 1.2 (Added clarification on regression part)_\n",
    "\n",
    "This problem builds on your knowledge of the Python data stack to do analyze data that contains geographic information. It has **6** exercises, numbered 0 to **5**. There are **13 available points.** However, to earn 100%, the threshold is just **10 points.** (Therefore, once you hit **10** points, you can stop. There is no extra credit for exceeding this threshold.)\n",
    "\n",
    "Each exercise builds logically on the previous one, but you may solve them in any order. That is, if you can't solve an exercise, you can still move on and try the next one. **However, if you see a code cell introduced by the phrase, \"Sample result for ...\", please run it.** Some demo cells in the notebook may depend on these precomputed results.\n",
    "\n",
    "The point values of individual exercises are as follows:\n",
    "\n",
    "- Exercise 0: 2 points\n",
    "- Exercise 1: 3 points\n",
    "- Exercise 2: 2 points\n",
    "- Exercise 3: 2 points\n",
    "- Exercise 4: 2 points\n",
    "- Exercise 5: 2 points\n",
    "\n",
    "**Pro-tips.**\n",
    "- All test cells use **randomly generated inputs.** Therefore, try your best to write solutions that do not assume too much. To help you debug, when a test cell does fail, it will often tell you exactly what inputs it was using and what output it expected, compared to yours.\n",
    "- If you need a complex SQL query, remember that you can define one using a [triple-quoted (multiline) string](https://docs.python.org/3.7/tutorial/introduction.html#strings).\n",
    "- If your program behavior seem strange, try resetting the kernel and rerunning everything.\n",
    "- If you mess up this notebook or just want to start from scratch, save copies of all your partial responses and use `Actions` $\\rightarrow$ `Reset Assignment` to get a fresh, original copy of this notebook. _(Resetting will wipe out any answers you've written so far, so be sure to stash those somewhere safe if you intend to keep or reuse them!)_\n",
    "- If you generate excessive output (e.g., from an ill-placed `print` statement) that causes the notebook to load slowly or not at all, use `Actions` $\\rightarrow$ `Clear Notebook Output` to get a clean copy. The clean copy will retain your code but remove any generated output. **However**, it will also **rename** the notebook to `clean.xxx.ipynb`. Since the autograder expects a notebook file with the original name, you'll need to rename the clean notebook accordingly.\n",
    "\n",
    "**Good luck!**"
   ]
  },
  {
   "cell_type": "markdown",
   "metadata": {
    "deletable": false,
    "editable": false,
    "nbgrader": {
     "grade": false,
     "locked": true,
     "solution": false
    }
   },
   "source": [
    "## Background ##\n",
    "\n",
    "During the economic Great Depression of the 1930s, the United States government began \"rating\" neighborhoods, on a letter-grade scale of \"A\" (\"good\") to \"D\" (\"bad\"). The purpose was to use such grades to determine which neighborhoods would qualify for new investments, in the form of residential and business loans.\n",
    "\n",
    "But these grades also reflected racial and ethnic bias toward the residents of their neighborhoods. Nearly 100 years later, the effects have taken the form of environmental and economic disparaties.\n",
    "\n",
    "In this notebook, you will get an idea of how such an analysis can come together using publicly available data and the basic computational data processing techniques that appeared in this course. (And after you finish the exam, we hope you will try the optional exercise at the end and refer to the \"epilogue\" for related reading.)"
   ]
  },
  {
   "cell_type": "markdown",
   "metadata": {
    "deletable": false,
    "editable": false,
    "nbgrader": {
     "grade": false,
     "locked": true,
     "solution": false
    }
   },
   "source": [
    "**Goal and workflow.** Your goal is to see if there is a relationship between the rating a neighborhood received in the 1930s and two attributes we can observe today: the average temperature of a neighborhood and the average home price.\n",
    "\n",
    "- Temperature tells you something about the local environment. Areas with more parks, trees, and green space tend to experience more moderate temperatures.\n",
    "- The average home price tells you something about the wealth or economic well-being of the neighborhood's residents.\n",
    "\n",
    "Your workflow will consist of the following steps:\n",
    "\n",
    "1. You'll start with neighborhood rating data, which was collected from public records as part of a [University of Richmond study on redlining policies](https://dsl.richmond.edu/panorama/redlining)\n",
    "2. You'll then combine these data with satellite images, which give information about climate. These data come from the [US Geological Survey](https://usgs.gov/).\n",
    "3. Lastly, you'll merge these data with home prices from the real estate website, [Zillow](https://zillow.com).\n",
    "\n",
    "> Note: The analysis you will perform is correlational, but the deeper research that inspired this problem tries to control for a variety of factors and suggests causal effects."
   ]
  },
  {
   "cell_type": "markdown",
   "metadata": {
    "deletable": false,
    "editable": false,
    "nbgrader": {
     "grade": false,
     "locked": true,
     "solution": false
    }
   },
   "source": [
    "## Part 0: Setup ##"
   ]
  },
  {
   "cell_type": "markdown",
   "metadata": {
    "deletable": false,
    "editable": false,
    "nbgrader": {
     "grade": false,
     "locked": true,
     "solution": false
    }
   },
   "source": [
    "At a minimum, you will need the following modules in this problem. They include a new one we did not cover called `geopandas`. While it may be new to you, if you have mastered `pandas`, then you know almost everything you need to use `geopandas`. Anything else you need will be given to you as part of this problem, so don't be intimidated!"
   ]
  },
  {
   "cell_type": "code",
   "execution_count": 1,
   "metadata": {
    "deletable": false,
    "editable": false,
    "nbgrader": {
     "grade": false,
     "locked": true,
     "solution": false
    }
   },
   "outputs": [
    {
     "name": "stdout",
     "output_type": "stream",
     "text": [
      "* Python version: 3.8.7 (default, Jan 25 2021, 11:14:52) \n",
      "[GCC 5.5.0 20171010]\n"
     ]
    },
    {
     "name": "stderr",
     "output_type": "stream",
     "text": [
      "Matplotlib is building the font cache; this may take a moment.\n"
     ]
    },
    {
     "name": "stdout",
     "output_type": "stream",
     "text": [
      "* geopandas version: 0.8.2\n"
     ]
    }
   ],
   "source": [
    "import sys\n",
    "print(f\"* Python version: {sys.version}\")\n",
    "\n",
    "# Standard packages you know and love:\n",
    "import pandas as pd\n",
    "import numpy as np\n",
    "import scipy as sp\n",
    "import matplotlib.pyplot as plt\n",
    "\n",
    "import geopandas\n",
    "print(\"* geopandas version:\", geopandas.__version__)"
   ]
  },
  {
   "cell_type": "markdown",
   "metadata": {
    "deletable": false,
    "editable": false,
    "nbgrader": {
     "grade": false,
     "locked": true,
     "solution": false
    }
   },
   "source": [
    "Run the next code cell, which will load some tools needed by the test cells."
   ]
  },
  {
   "cell_type": "code",
   "execution_count": 2,
   "metadata": {
    "collapsed": true,
    "deletable": false,
    "editable": false,
    "nbgrader": {
     "grade": false,
     "locked": true,
     "solution": false
    },
    "scrolled": true
   },
   "outputs": [],
   "source": [
    "###\n",
    "### AUTOGRADER TEST - DO NOT REMOVE\n",
    "###\n",
    "\n",
    "from testing_tools import data_fn, load_geopandas, load_df, load_pickle\n",
    "from testing_tools import f_ex0__sample_result\n",
    "from testing_tools import f_ex1__sample_result\n",
    "from testing_tools import f_ex2__sample_result\n",
    "from testing_tools import f_ex3__sample_result\n",
    "from testing_tools import f_ex4__sample_result\n",
    "from testing_tools import f_ex5__sample_result"
   ]
  },
  {
   "cell_type": "markdown",
   "metadata": {
    "deletable": false,
    "editable": false,
    "nbgrader": {
     "grade": false,
     "locked": true,
     "solution": false
    }
   },
   "source": [
    "## Part 1: Neighborhood ratings"
   ]
  },
  {
   "cell_type": "markdown",
   "metadata": {
    "deletable": false,
    "editable": false,
    "nbgrader": {
     "grade": false,
     "locked": true,
     "solution": false
    }
   },
   "source": [
    "The neighborhood rating data is stored in a special extension of a pandas `DataFrame` called a `GeoDataFrame`. Let's load the data into a variable named `neighborhood_ratings` and have a peek at the first few rows:"
   ]
  },
  {
   "cell_type": "code",
   "execution_count": 3,
   "metadata": {
    "deletable": false,
    "editable": false,
    "nbgrader": {
     "grade": false,
     "locked": true,
     "solution": false
    }
   },
   "outputs": [
    {
     "name": "stdout",
     "output_type": "stream",
     "text": [
      "Opening geopandas data file, './resource/asnlib/publicdata/fullDownload.geojson' ...\n",
      "<class 'geopandas.geodataframe.GeoDataFrame'>\n"
     ]
    },
    {
     "data": {
      "text/html": [
       "<div>\n",
       "<style scoped>\n",
       "    .dataframe tbody tr th:only-of-type {\n",
       "        vertical-align: middle;\n",
       "    }\n",
       "\n",
       "    .dataframe tbody tr th {\n",
       "        vertical-align: top;\n",
       "    }\n",
       "\n",
       "    .dataframe thead th {\n",
       "        text-align: right;\n",
       "    }\n",
       "</style>\n",
       "<table border=\"1\" class=\"dataframe\">\n",
       "  <thead>\n",
       "    <tr style=\"text-align: right;\">\n",
       "      <th></th>\n",
       "      <th>state</th>\n",
       "      <th>city</th>\n",
       "      <th>name</th>\n",
       "      <th>holc_id</th>\n",
       "      <th>holc_grade</th>\n",
       "      <th>area_description_data</th>\n",
       "      <th>geometry</th>\n",
       "    </tr>\n",
       "  </thead>\n",
       "  <tbody>\n",
       "    <tr>\n",
       "      <th>0</th>\n",
       "      <td>AL</td>\n",
       "      <td>Birmingham</td>\n",
       "      <td>Mountain Brook Estates and Country Club Garden...</td>\n",
       "      <td>A1</td>\n",
       "      <td>A</td>\n",
       "      <td>{'5': 'Both sales and rental prices in 1929 we...</td>\n",
       "      <td>MULTIPOLYGON (((-86.75678 33.49754, -86.75692 ...</td>\n",
       "    </tr>\n",
       "    <tr>\n",
       "      <th>1</th>\n",
       "      <td>AL</td>\n",
       "      <td>Birmingham</td>\n",
       "      <td>Redmont Park, Rockridge Park, Warwick Manor, a...</td>\n",
       "      <td>A2</td>\n",
       "      <td>A</td>\n",
       "      <td>{'5': 'Both sales and rental prices in 1929 we...</td>\n",
       "      <td>MULTIPOLYGON (((-86.75867 33.50933, -86.76093 ...</td>\n",
       "    </tr>\n",
       "    <tr>\n",
       "      <th>2</th>\n",
       "      <td>AL</td>\n",
       "      <td>Birmingham</td>\n",
       "      <td>Colonial Hills, Pine Crest (outside city limits)</td>\n",
       "      <td>A3</td>\n",
       "      <td>A</td>\n",
       "      <td>{'5': 'Generally speaking, houses are not buil...</td>\n",
       "      <td>MULTIPOLYGON (((-86.75678 33.49754, -86.75196 ...</td>\n",
       "    </tr>\n",
       "    <tr>\n",
       "      <th>3</th>\n",
       "      <td>AL</td>\n",
       "      <td>Birmingham</td>\n",
       "      <td>Grove Park, Hollywood, Mayfair, and Edgewood s...</td>\n",
       "      <td>B1</td>\n",
       "      <td>B</td>\n",
       "      <td>{'5': 'Both sales and rental prices in 1929 we...</td>\n",
       "      <td>MULTIPOLYGON (((-86.80111 33.48071, -86.80099 ...</td>\n",
       "    </tr>\n",
       "    <tr>\n",
       "      <th>4</th>\n",
       "      <td>AL</td>\n",
       "      <td>Birmingham</td>\n",
       "      <td>Best section of Woodlawn Highlands</td>\n",
       "      <td>B10</td>\n",
       "      <td>B</td>\n",
       "      <td>{'5': 'Both sales and rental prices in 1929 we...</td>\n",
       "      <td>MULTIPOLYGON (((-86.74923 33.53332, -86.74916 ...</td>\n",
       "    </tr>\n",
       "  </tbody>\n",
       "</table>\n",
       "</div>"
      ],
      "text/plain": [
       "  state        city                                               name  \\\n",
       "0    AL  Birmingham  Mountain Brook Estates and Country Club Garden...   \n",
       "1    AL  Birmingham  Redmont Park, Rockridge Park, Warwick Manor, a...   \n",
       "2    AL  Birmingham   Colonial Hills, Pine Crest (outside city limits)   \n",
       "3    AL  Birmingham  Grove Park, Hollywood, Mayfair, and Edgewood s...   \n",
       "4    AL  Birmingham                 Best section of Woodlawn Highlands   \n",
       "\n",
       "  holc_id holc_grade                              area_description_data  \\\n",
       "0      A1          A  {'5': 'Both sales and rental prices in 1929 we...   \n",
       "1      A2          A  {'5': 'Both sales and rental prices in 1929 we...   \n",
       "2      A3          A  {'5': 'Generally speaking, houses are not buil...   \n",
       "3      B1          B  {'5': 'Both sales and rental prices in 1929 we...   \n",
       "4     B10          B  {'5': 'Both sales and rental prices in 1929 we...   \n",
       "\n",
       "                                            geometry  \n",
       "0  MULTIPOLYGON (((-86.75678 33.49754, -86.75692 ...  \n",
       "1  MULTIPOLYGON (((-86.75867 33.50933, -86.76093 ...  \n",
       "2  MULTIPOLYGON (((-86.75678 33.49754, -86.75196 ...  \n",
       "3  MULTIPOLYGON (((-86.80111 33.48071, -86.80099 ...  \n",
       "4  MULTIPOLYGON (((-86.74923 33.53332, -86.74916 ...  "
      ]
     },
     "execution_count": 3,
     "metadata": {},
     "output_type": "execute_result"
    }
   ],
   "source": [
    "neighborhood_ratings = load_geopandas('fullDownload.geojson')\n",
    "print(type(neighborhood_ratings))\n",
    "neighborhood_ratings.head()"
   ]
  },
  {
   "cell_type": "markdown",
   "metadata": {
    "deletable": false,
    "editable": false,
    "nbgrader": {
     "grade": false,
     "locked": true,
     "solution": false
    }
   },
   "source": [
    "Each row is a neighborhood. Its location is given by name, city, and a two-letter state abbreviation code (the `name`, `city`, and `state` columns, respectively). The rating assigned to a neighborhood is a letter, `'A'`, `'B'`, `'C'`, or `'D'`, given by the `holc_grade` column.\n",
    "\n",
    "In addition, there is special column called `geometry`. It contains a geographic outline of the boundaries of this neighborhood. Let's take a look at row 4 (last row shown above):"
   ]
  },
  {
   "cell_type": "code",
   "execution_count": 4,
   "metadata": {
    "deletable": false,
    "editable": false,
    "nbgrader": {
     "grade": false,
     "locked": true,
     "solution": false
    }
   },
   "outputs": [
    {
     "name": "stdout",
     "output_type": "stream",
     "text": [
      "* Type of `g4_example`: <class 'shapely.geometry.multipolygon.MultiPolygon'>\n",
      "\n",
      "* Contents of `g4_example`: MULTIPOLYGON (((-86.749227 33.533325, -86.749156 33.530809, -86.75388599999999 33.529075, -86.754373 33.529382, -86.754729 33.529769, -86.754729 33.530294, -86.75604800000001 33.531225, -86.75539499999999 33.532008, -86.754456 33.532335, -86.753196 33.531483, -86.749714 33.533295, -86.749227 33.533325)))\n",
      "\n",
      "* A quick visual preview:\n"
     ]
    },
    {
     "data": {
      "image/svg+xml": [
       "<svg xmlns=\"http://www.w3.org/2000/svg\" xmlns:xlink=\"http://www.w3.org/1999/xlink\" width=\"100.0\" height=\"100.0\" viewBox=\"-86.75632368000001 33.52879932 0.007443360000010557 0.004801360000001864\" preserveAspectRatio=\"xMinYMin meet\"><g transform=\"matrix(1,0,0,-1,0,67.0624)\"><g><path fill-rule=\"evenodd\" fill=\"#66cc99\" stroke=\"#555555\" stroke-width=\"0.00014886720000021114\" opacity=\"0.6\" d=\"M -86.749227,33.533325 L -86.749156,33.530809 L -86.753886,33.529075 L -86.754373,33.529382 L -86.754729,33.529769 L -86.754729,33.530294 L -86.756048,33.531225 L -86.755395,33.532008 L -86.754456,33.532335 L -86.753196,33.531483 L -86.749714,33.533295 L -86.749227,33.533325 z\" /></g></g></svg>"
      ],
      "text/plain": [
       "<shapely.geometry.multipolygon.MultiPolygon at 0x7f2c2c0d2be0>"
      ]
     },
     "metadata": {},
     "output_type": "display_data"
    }
   ],
   "source": [
    "g4_example = neighborhood_ratings.loc[4, 'geometry']\n",
    "print(\"* Type of `g4_example`:\", type(g4_example))\n",
    "print(\"\\n* Contents of `g4_example`:\", g4_example)\n",
    "print(\"\\n* A quick visual preview:\")\n",
    "display(g4_example)"
   ]
  },
  {
   "cell_type": "markdown",
   "metadata": {
    "deletable": false,
    "editable": false,
    "nbgrader": {
     "grade": false,
     "locked": true,
     "solution": false
    }
   },
   "source": [
    "The output indicates that this boundary is stored a special object type called a `MultiPolygon`. It is usually a single connected polygon, but may also be the union of multiple such polygons.\n",
    "\n",
    "The coordinates of the multipolygon's corners are floating-point values, and correspond to [longitude and latitude values](https://www.latlong.net/). But for this notebook, the exact format won't be important. Simply treat the shapes as being specified in some way via a collection of two-dimensional $(x, y)$ coordinates measured in arbitrary units.\n",
    "\n",
    "Lastly, observe that calling `display()` on a `MultiPolygon` renders a small picture of it."
   ]
  },
  {
   "cell_type": "markdown",
   "metadata": {
    "deletable": false,
    "editable": false,
    "nbgrader": {
     "grade": false,
     "locked": true,
     "solution": false
    }
   },
   "source": [
    "### Exercise 0: Filtering ratings  (2 points) ###\n",
    "\n",
    "Complete the function,\n",
    "```python\n",
    "def filter_ratings(ratings, city_st, targets=None):\n",
    "    ...\n",
    "```\n",
    "so that it filters ratings data by its city and state name, along with a set of targeted letter grades. In particular, the inputs are:\n",
    "\n",
    "- `ratings`: A geopandas `GeoDataFrame` similar to the `neighborhood_ratings` example above.\n",
    "- `city_st`: The name of a city and two-letter state abbreviation as a string, e.g., `city_st = 'Atlanta, GA'` to request only rows for Atlanta, Georgia.\n",
    "- `targets`: A Python set containing zero or more ratings, e.g., `targets = {'A', 'C'}` to request only rows having either an `'A'` grade or a `'C'` grade.\n",
    "\n",
    "The function should return a copy of the input `GeoDataFrame` that has the same columns as `ratings` but only rows that match _both_ the desired `city_st` value _and_ any one of the target ratings."
   ]
  },
  {
   "cell_type": "markdown",
   "metadata": {
    "deletable": false,
    "editable": false,
    "nbgrader": {
     "grade": false,
     "locked": true,
     "solution": false
    }
   },
   "source": [
    "For example, suppose `ratings` is the following:\n",
    "\n",
    "|    | city        | state   | holc_grade   | holc_id   | _(... other cols not shown ...)_   | geometry          |\n",
    "|---:|:------------|:--------|:-------------|:----------|:-----------------------|:------------------|\n",
    "|  0 | Chattanooga | TN      | C            | C4        | ...                    | MULTIPOLYGON(...) |\n",
    "|  1 | Augusta     | GA      | C            | C5        | ...                    | MULTIPOLYGON(...) |\n",
    "|  2 | Chattanooga | TN      | B            | B7        | ...                    | MULTIPOLYGON(...) |\n",
    "|  3 | Chattanooga | TN      | A            | A1        | ...                    | MULTIPOLYGON(...) |\n",
    "|  4 | Augusta     | GA      | B            | B4        | ...                    | MULTIPOLYGON(...) |\n",
    "|  5 | Augusta     | GA      | D            | D11       | ...                    | MULTIPOLYGON(...) |\n",
    "|  6 | Augusta     | GA      | B            | B1        | ...                    | MULTIPOLYGON(...) |\n",
    "|  7 | Chattanooga | TN      | D            | D8        | ...                    | MULTIPOLYGON(...) |\n",
    "|  8 | Chattanooga | TN      | C            | C7        | ...                    | MULTIPOLYGON(...) |\n",
    "\n",
    "Then `filter_ratings(ratings, 'Chattanooga, TN', {'A', 'C'})` would return\n",
    "\n",
    "|    | city        | state   | holc_grade   | holc_id   | _(... other cols not shown ...)_   | geometry          |\n",
    "|---:|:------------|:--------|:-------------|:----------|:-----------------------|:------------------|\n",
    "|  0 | Chattanooga | TN      | C            | C4        | ...                    | MULTIPOLYGON(...) |\n",
    "|  3 | Chattanooga | TN      | A            | A1        | ...                    | MULTIPOLYGON(...) |\n",
    "|  8 | Chattanooga | TN      | C            | C7        | ...                    | MULTIPOLYGON(...) |\n",
    "\n",
    "All of these rows match `'Chattanooga, TN'` and have a `holc_grade` value of either `'A'` or `'C'`. Other columns, such as `holc_id` and any columns not shown, would be returned as-is from the original input."
   ]
  },
  {
   "cell_type": "markdown",
   "metadata": {
    "deletable": false,
    "editable": false,
    "nbgrader": {
     "grade": false,
     "locked": true,
     "solution": false
    }
   },
   "source": [
    "> **Note 0:** We will test your function on a randomly generated data frame. The input is guaranteed to have the columns, `'city'`, `'state'`, `'holc_grade'`, and `'geometry'`. However, it may have other columns with arbitrary names; your function should ensure these pass through unchanged, including the types.\n",
    ">\n",
    "> **Note 1:** Observe that `targets` may be `None`, which is the default value if unspecified by the caller. In this case, you should _not_ filter by rating, but only by `city_st`. The `targets` variable may be the empty set, in which case your function should return an empty `GeoDataFrame`.\n",
    ">\n",
    "> **Note 2:** You may return the rows in any order. We will use a function similar to `tibbles_are_equivalent` from Notebook 7 to determine if your output matches what we expect."
   ]
  },
  {
   "cell_type": "code",
   "execution_count": 37,
   "metadata": {
    "nbgrader": {
     "grade": false,
     "locked": false,
     "solution": false
    }
   },
   "outputs": [],
   "source": [
    "def filter_ratings(ratings, city_st, targets=None):\n",
    "    assert isinstance(ratings, geopandas.GeoDataFrame)\n",
    "    assert isinstance(targets, set) or (targets is None)\n",
    "    assert {'city', 'state', 'holc_grade', 'geometry'} <= set(ratings.columns)\n",
    "\n",
    "    city, state = city_st.split(', ')\n",
    "    \n",
    "    city_mask = (ratings['city'] == city) & (ratings['state'] == state)\n",
    "    target_mask = ratings['holc_grade'].isin(targets) if targets is not None else True\n",
    "    \n",
    "    filtered_ratings = ratings.loc[city_mask & target_mask]\n",
    "\n",
    "    return filtered_ratings\n",
    "\n",
    "\n",
    "#     matches_city_st = (ratings['city'] + ', ' + ratings['state']) == city_st\n",
    "#     matches_targets = ratings['holc_grade'].isin(targets or set()) | (targets is None)\n",
    "#     return ratings[matches_city_st & matches_targets]"
   ]
  },
  {
   "cell_type": "code",
   "execution_count": 38,
   "metadata": {},
   "outputs": [
    {
     "name": "stdout",
     "output_type": "stream",
     "text": [
      "<class 'geopandas.geodataframe.GeoDataFrame'> 51\n"
     ]
    },
    {
     "data": {
      "text/html": [
       "<div>\n",
       "<style scoped>\n",
       "    .dataframe tbody tr th:only-of-type {\n",
       "        vertical-align: middle;\n",
       "    }\n",
       "\n",
       "    .dataframe tbody tr th {\n",
       "        vertical-align: top;\n",
       "    }\n",
       "\n",
       "    .dataframe thead th {\n",
       "        text-align: right;\n",
       "    }\n",
       "</style>\n",
       "<table border=\"1\" class=\"dataframe\">\n",
       "  <thead>\n",
       "    <tr style=\"text-align: right;\">\n",
       "      <th></th>\n",
       "      <th>state</th>\n",
       "      <th>city</th>\n",
       "      <th>name</th>\n",
       "      <th>holc_id</th>\n",
       "      <th>holc_grade</th>\n",
       "      <th>area_description_data</th>\n",
       "      <th>geometry</th>\n",
       "    </tr>\n",
       "  </thead>\n",
       "  <tbody>\n",
       "    <tr>\n",
       "      <th>1342</th>\n",
       "      <td>GA</td>\n",
       "      <td>Atlanta</td>\n",
       "      <td>Older portion of West End</td>\n",
       "      <td>C35</td>\n",
       "      <td>C</td>\n",
       "      <td>{'0': 'Atlanta, Georgia', '5': 'Property, if a...</td>\n",
       "      <td>MULTIPOLYGON (((-84.41899 33.73891, -84.41903 ...</td>\n",
       "    </tr>\n",
       "    <tr>\n",
       "      <th>1339</th>\n",
       "      <td>GA</td>\n",
       "      <td>Atlanta</td>\n",
       "      <td>Capitol View</td>\n",
       "      <td>C32</td>\n",
       "      <td>C</td>\n",
       "      <td>{'0': 'Atlanta, Georgia', '5': 'Property, if a...</td>\n",
       "      <td>MULTIPOLYGON (((-84.40711 33.71916, -84.40713 ...</td>\n",
       "    </tr>\n",
       "    <tr>\n",
       "      <th>1318</th>\n",
       "      <td>GA</td>\n",
       "      <td>Atlanta</td>\n",
       "      <td>Hancock subdivision, Atkins Park, western edge...</td>\n",
       "      <td>C13</td>\n",
       "      <td>C</td>\n",
       "      <td>{'0': 'Atlanta, Georgia', '5': 'Property if ac...</td>\n",
       "      <td>MULTIPOLYGON (((-84.33932 33.78501, -84.34324 ...</td>\n",
       "    </tr>\n",
       "    <tr>\n",
       "      <th>1355</th>\n",
       "      <td>GA</td>\n",
       "      <td>Atlanta</td>\n",
       "      <td>Section between Ponce de Leon and Forrest Aves...</td>\n",
       "      <td>C9</td>\n",
       "      <td>C</td>\n",
       "      <td>{'0': 'Atlanta, Georgia', '5': 'Property if ac...</td>\n",
       "      <td>MULTIPOLYGON (((-84.36451 33.76639, -84.36468 ...</td>\n",
       "    </tr>\n",
       "    <tr>\n",
       "      <th>1315</th>\n",
       "      <td>GA</td>\n",
       "      <td>Atlanta</td>\n",
       "      <td>North Boulevard, between Amsterdam Avenue and ...</td>\n",
       "      <td>C10</td>\n",
       "      <td>C</td>\n",
       "      <td>{'0': 'Atlanta, Georgia', '5': 'Property if ac...</td>\n",
       "      <td>MULTIPOLYGON (((-84.36770 33.79936, -84.36745 ...</td>\n",
       "    </tr>\n",
       "  </tbody>\n",
       "</table>\n",
       "</div>"
      ],
      "text/plain": [
       "     state     city                                               name  \\\n",
       "1342    GA  Atlanta                          Older portion of West End   \n",
       "1339    GA  Atlanta                                       Capitol View   \n",
       "1318    GA  Atlanta  Hancock subdivision, Atkins Park, western edge...   \n",
       "1355    GA  Atlanta  Section between Ponce de Leon and Forrest Aves...   \n",
       "1315    GA  Atlanta  North Boulevard, between Amsterdam Avenue and ...   \n",
       "\n",
       "     holc_id holc_grade                              area_description_data  \\\n",
       "1342     C35          C  {'0': 'Atlanta, Georgia', '5': 'Property, if a...   \n",
       "1339     C32          C  {'0': 'Atlanta, Georgia', '5': 'Property, if a...   \n",
       "1318     C13          C  {'0': 'Atlanta, Georgia', '5': 'Property if ac...   \n",
       "1355      C9          C  {'0': 'Atlanta, Georgia', '5': 'Property if ac...   \n",
       "1315     C10          C  {'0': 'Atlanta, Georgia', '5': 'Property if ac...   \n",
       "\n",
       "                                               geometry  \n",
       "1342  MULTIPOLYGON (((-84.41899 33.73891, -84.41903 ...  \n",
       "1339  MULTIPOLYGON (((-84.40711 33.71916, -84.40713 ...  \n",
       "1318  MULTIPOLYGON (((-84.33932 33.78501, -84.34324 ...  \n",
       "1355  MULTIPOLYGON (((-84.36451 33.76639, -84.36468 ...  \n",
       "1315  MULTIPOLYGON (((-84.36770 33.79936, -84.36745 ...  "
      ]
     },
     "execution_count": 38,
     "metadata": {},
     "output_type": "execute_result"
    }
   ],
   "source": [
    "# Demo cell\n",
    "ex0_demo_result = filter_ratings(neighborhood_ratings, 'Atlanta, GA', targets={'A', 'C'})\n",
    "print(type(ex0_demo_result), len(ex0_demo_result)) # Result: `<class 'geopandas.geodataframe.GeoDataFrame'> 51`\n",
    "\n",
    "ex0_demo_result.sample(5)"
   ]
  },
  {
   "cell_type": "code",
   "execution_count": 39,
   "metadata": {
    "deletable": false,
    "editable": false,
    "nbgrader": {
     "grade": true,
     "grade_id": "f_ex0__filter_ratings",
     "locked": true,
     "points": "2",
     "solution": false
    },
    "scrolled": false
   },
   "outputs": [
    {
     "name": "stdout",
     "output_type": "stream",
     "text": [
      "Testing...\n"
     ]
    },
    {
     "name": "stderr",
     "output_type": "stream",
     "text": [
      "/usr/local/lib/python3.8/site-packages/geopandas/geodataframe.py:852: UserWarning: Geometry column does not contain geometry.\n",
      "  warnings.warn(\"Geometry column does not contain geometry.\")\n",
      "/usr/local/lib/python3.8/site-packages/geopandas/geodataframe.py:852: UserWarning: Geometry column does not contain geometry.\n",
      "  warnings.warn(\"Geometry column does not contain geometry.\")\n",
      "/usr/local/lib/python3.8/site-packages/geopandas/geodataframe.py:852: UserWarning: Geometry column does not contain geometry.\n",
      "  warnings.warn(\"Geometry column does not contain geometry.\")\n",
      "/usr/local/lib/python3.8/site-packages/geopandas/geodataframe.py:852: UserWarning: Geometry column does not contain geometry.\n",
      "  warnings.warn(\"Geometry column does not contain geometry.\")\n",
      "/usr/local/lib/python3.8/site-packages/geopandas/geodataframe.py:852: UserWarning: Geometry column does not contain geometry.\n",
      "  warnings.warn(\"Geometry column does not contain geometry.\")\n",
      "/usr/local/lib/python3.8/site-packages/geopandas/geodataframe.py:852: UserWarning: Geometry column does not contain geometry.\n",
      "  warnings.warn(\"Geometry column does not contain geometry.\")\n",
      "/usr/local/lib/python3.8/site-packages/geopandas/geodataframe.py:852: UserWarning: Geometry column does not contain geometry.\n",
      "  warnings.warn(\"Geometry column does not contain geometry.\")\n",
      "/usr/local/lib/python3.8/site-packages/geopandas/geodataframe.py:852: UserWarning: Geometry column does not contain geometry.\n",
      "  warnings.warn(\"Geometry column does not contain geometry.\")\n",
      "/usr/local/lib/python3.8/site-packages/geopandas/geodataframe.py:852: UserWarning: Geometry column does not contain geometry.\n",
      "  warnings.warn(\"Geometry column does not contain geometry.\")\n",
      "/usr/local/lib/python3.8/site-packages/geopandas/geodataframe.py:852: UserWarning: Geometry column does not contain geometry.\n",
      "  warnings.warn(\"Geometry column does not contain geometry.\")\n",
      "/usr/local/lib/python3.8/site-packages/geopandas/geodataframe.py:852: UserWarning: Geometry column does not contain geometry.\n",
      "  warnings.warn(\"Geometry column does not contain geometry.\")\n",
      "/usr/local/lib/python3.8/site-packages/geopandas/geodataframe.py:852: UserWarning: Geometry column does not contain geometry.\n",
      "  warnings.warn(\"Geometry column does not contain geometry.\")\n",
      "/usr/local/lib/python3.8/site-packages/geopandas/geodataframe.py:852: UserWarning: Geometry column does not contain geometry.\n",
      "  warnings.warn(\"Geometry column does not contain geometry.\")\n",
      "/usr/local/lib/python3.8/site-packages/geopandas/geodataframe.py:852: UserWarning: Geometry column does not contain geometry.\n",
      "  warnings.warn(\"Geometry column does not contain geometry.\")\n",
      "/usr/local/lib/python3.8/site-packages/geopandas/geodataframe.py:852: UserWarning: Geometry column does not contain geometry.\n",
      "  warnings.warn(\"Geometry column does not contain geometry.\")\n",
      "/usr/local/lib/python3.8/site-packages/geopandas/geodataframe.py:852: UserWarning: Geometry column does not contain geometry.\n",
      "  warnings.warn(\"Geometry column does not contain geometry.\")\n",
      "/usr/local/lib/python3.8/site-packages/geopandas/geodataframe.py:852: UserWarning: Geometry column does not contain geometry.\n",
      "  warnings.warn(\"Geometry column does not contain geometry.\")\n",
      "/usr/local/lib/python3.8/site-packages/geopandas/geodataframe.py:852: UserWarning: Geometry column does not contain geometry.\n",
      "  warnings.warn(\"Geometry column does not contain geometry.\")\n",
      "/usr/local/lib/python3.8/site-packages/geopandas/geodataframe.py:852: UserWarning: Geometry column does not contain geometry.\n",
      "  warnings.warn(\"Geometry column does not contain geometry.\")\n",
      "/usr/local/lib/python3.8/site-packages/geopandas/geodataframe.py:852: UserWarning: Geometry column does not contain geometry.\n",
      "  warnings.warn(\"Geometry column does not contain geometry.\")\n",
      "/usr/local/lib/python3.8/site-packages/geopandas/geodataframe.py:852: UserWarning: Geometry column does not contain geometry.\n",
      "  warnings.warn(\"Geometry column does not contain geometry.\")\n",
      "/usr/local/lib/python3.8/site-packages/geopandas/geodataframe.py:852: UserWarning: Geometry column does not contain geometry.\n",
      "  warnings.warn(\"Geometry column does not contain geometry.\")\n",
      "/usr/local/lib/python3.8/site-packages/geopandas/geodataframe.py:852: UserWarning: Geometry column does not contain geometry.\n",
      "  warnings.warn(\"Geometry column does not contain geometry.\")\n",
      "/usr/local/lib/python3.8/site-packages/geopandas/geodataframe.py:852: UserWarning: Geometry column does not contain geometry.\n",
      "  warnings.warn(\"Geometry column does not contain geometry.\")\n",
      "/usr/local/lib/python3.8/site-packages/geopandas/geodataframe.py:852: UserWarning: Geometry column does not contain geometry.\n",
      "  warnings.warn(\"Geometry column does not contain geometry.\")\n",
      "/usr/local/lib/python3.8/site-packages/geopandas/geodataframe.py:852: UserWarning: Geometry column does not contain geometry.\n",
      "  warnings.warn(\"Geometry column does not contain geometry.\")\n",
      "/usr/local/lib/python3.8/site-packages/geopandas/geodataframe.py:852: UserWarning: Geometry column does not contain geometry.\n",
      "  warnings.warn(\"Geometry column does not contain geometry.\")\n",
      "/usr/local/lib/python3.8/site-packages/geopandas/geodataframe.py:852: UserWarning: Geometry column does not contain geometry.\n",
      "  warnings.warn(\"Geometry column does not contain geometry.\")\n",
      "/usr/local/lib/python3.8/site-packages/geopandas/geodataframe.py:852: UserWarning: Geometry column does not contain geometry.\n",
      "  warnings.warn(\"Geometry column does not contain geometry.\")\n",
      "/usr/local/lib/python3.8/site-packages/geopandas/geodataframe.py:852: UserWarning: Geometry column does not contain geometry.\n",
      "  warnings.warn(\"Geometry column does not contain geometry.\")\n",
      "/usr/local/lib/python3.8/site-packages/geopandas/geodataframe.py:852: UserWarning: Geometry column does not contain geometry.\n",
      "  warnings.warn(\"Geometry column does not contain geometry.\")\n",
      "/usr/local/lib/python3.8/site-packages/geopandas/geodataframe.py:852: UserWarning: Geometry column does not contain geometry.\n",
      "  warnings.warn(\"Geometry column does not contain geometry.\")\n",
      "/usr/local/lib/python3.8/site-packages/geopandas/geodataframe.py:852: UserWarning: Geometry column does not contain geometry.\n",
      "  warnings.warn(\"Geometry column does not contain geometry.\")\n",
      "/usr/local/lib/python3.8/site-packages/geopandas/geodataframe.py:852: UserWarning: Geometry column does not contain geometry.\n",
      "  warnings.warn(\"Geometry column does not contain geometry.\")\n",
      "/usr/local/lib/python3.8/site-packages/geopandas/geodataframe.py:852: UserWarning: Geometry column does not contain geometry.\n",
      "  warnings.warn(\"Geometry column does not contain geometry.\")\n",
      "/usr/local/lib/python3.8/site-packages/geopandas/geodataframe.py:852: UserWarning: Geometry column does not contain geometry.\n",
      "  warnings.warn(\"Geometry column does not contain geometry.\")\n",
      "/usr/local/lib/python3.8/site-packages/geopandas/geodataframe.py:852: UserWarning: Geometry column does not contain geometry.\n",
      "  warnings.warn(\"Geometry column does not contain geometry.\")\n",
      "/usr/local/lib/python3.8/site-packages/geopandas/geodataframe.py:852: UserWarning: Geometry column does not contain geometry.\n",
      "  warnings.warn(\"Geometry column does not contain geometry.\")\n",
      "/usr/local/lib/python3.8/site-packages/geopandas/geodataframe.py:852: UserWarning: Geometry column does not contain geometry.\n",
      "  warnings.warn(\"Geometry column does not contain geometry.\")\n",
      "/usr/local/lib/python3.8/site-packages/geopandas/geodataframe.py:852: UserWarning: Geometry column does not contain geometry.\n",
      "  warnings.warn(\"Geometry column does not contain geometry.\")\n",
      "/usr/local/lib/python3.8/site-packages/geopandas/geodataframe.py:852: UserWarning: Geometry column does not contain geometry.\n",
      "  warnings.warn(\"Geometry column does not contain geometry.\")\n",
      "/usr/local/lib/python3.8/site-packages/geopandas/geodataframe.py:852: UserWarning: Geometry column does not contain geometry.\n",
      "  warnings.warn(\"Geometry column does not contain geometry.\")\n",
      "/usr/local/lib/python3.8/site-packages/geopandas/geodataframe.py:852: UserWarning: Geometry column does not contain geometry.\n",
      "  warnings.warn(\"Geometry column does not contain geometry.\")\n",
      "/usr/local/lib/python3.8/site-packages/geopandas/geodataframe.py:852: UserWarning: Geometry column does not contain geometry.\n",
      "  warnings.warn(\"Geometry column does not contain geometry.\")\n",
      "/usr/local/lib/python3.8/site-packages/geopandas/geodataframe.py:852: UserWarning: Geometry column does not contain geometry.\n",
      "  warnings.warn(\"Geometry column does not contain geometry.\")\n",
      "/usr/local/lib/python3.8/site-packages/geopandas/geodataframe.py:852: UserWarning: Geometry column does not contain geometry.\n",
      "  warnings.warn(\"Geometry column does not contain geometry.\")\n",
      "/usr/local/lib/python3.8/site-packages/geopandas/geodataframe.py:852: UserWarning: Geometry column does not contain geometry.\n",
      "  warnings.warn(\"Geometry column does not contain geometry.\")\n",
      "/usr/local/lib/python3.8/site-packages/geopandas/geodataframe.py:852: UserWarning: Geometry column does not contain geometry.\n",
      "  warnings.warn(\"Geometry column does not contain geometry.\")\n",
      "/usr/local/lib/python3.8/site-packages/geopandas/geodataframe.py:852: UserWarning: Geometry column does not contain geometry.\n",
      "  warnings.warn(\"Geometry column does not contain geometry.\")\n",
      "/usr/local/lib/python3.8/site-packages/geopandas/geodataframe.py:852: UserWarning: Geometry column does not contain geometry.\n",
      "  warnings.warn(\"Geometry column does not contain geometry.\")\n",
      "/usr/local/lib/python3.8/site-packages/geopandas/geodataframe.py:852: UserWarning: Geometry column does not contain geometry.\n",
      "  warnings.warn(\"Geometry column does not contain geometry.\")\n",
      "/usr/local/lib/python3.8/site-packages/geopandas/geodataframe.py:852: UserWarning: Geometry column does not contain geometry.\n",
      "  warnings.warn(\"Geometry column does not contain geometry.\")\n",
      "/usr/local/lib/python3.8/site-packages/geopandas/geodataframe.py:852: UserWarning: Geometry column does not contain geometry.\n",
      "  warnings.warn(\"Geometry column does not contain geometry.\")\n",
      "/usr/local/lib/python3.8/site-packages/geopandas/geodataframe.py:852: UserWarning: Geometry column does not contain geometry.\n",
      "  warnings.warn(\"Geometry column does not contain geometry.\")\n",
      "/usr/local/lib/python3.8/site-packages/geopandas/geodataframe.py:852: UserWarning: Geometry column does not contain geometry.\n",
      "  warnings.warn(\"Geometry column does not contain geometry.\")\n",
      "/usr/local/lib/python3.8/site-packages/geopandas/geodataframe.py:852: UserWarning: Geometry column does not contain geometry.\n",
      "  warnings.warn(\"Geometry column does not contain geometry.\")\n",
      "/usr/local/lib/python3.8/site-packages/geopandas/geodataframe.py:852: UserWarning: Geometry column does not contain geometry.\n",
      "  warnings.warn(\"Geometry column does not contain geometry.\")\n",
      "/usr/local/lib/python3.8/site-packages/geopandas/geodataframe.py:852: UserWarning: Geometry column does not contain geometry.\n",
      "  warnings.warn(\"Geometry column does not contain geometry.\")\n",
      "/usr/local/lib/python3.8/site-packages/geopandas/geodataframe.py:852: UserWarning: Geometry column does not contain geometry.\n",
      "  warnings.warn(\"Geometry column does not contain geometry.\")\n",
      "/usr/local/lib/python3.8/site-packages/geopandas/geodataframe.py:852: UserWarning: Geometry column does not contain geometry.\n",
      "  warnings.warn(\"Geometry column does not contain geometry.\")\n"
     ]
    },
    {
     "name": "stderr",
     "output_type": "stream",
     "text": [
      "/usr/local/lib/python3.8/site-packages/geopandas/geodataframe.py:852: UserWarning: Geometry column does not contain geometry.\n",
      "  warnings.warn(\"Geometry column does not contain geometry.\")\n",
      "/usr/local/lib/python3.8/site-packages/geopandas/geodataframe.py:852: UserWarning: Geometry column does not contain geometry.\n",
      "  warnings.warn(\"Geometry column does not contain geometry.\")\n",
      "/usr/local/lib/python3.8/site-packages/geopandas/geodataframe.py:852: UserWarning: Geometry column does not contain geometry.\n",
      "  warnings.warn(\"Geometry column does not contain geometry.\")\n",
      "/usr/local/lib/python3.8/site-packages/geopandas/geodataframe.py:852: UserWarning: Geometry column does not contain geometry.\n",
      "  warnings.warn(\"Geometry column does not contain geometry.\")\n",
      "/usr/local/lib/python3.8/site-packages/geopandas/geodataframe.py:852: UserWarning: Geometry column does not contain geometry.\n",
      "  warnings.warn(\"Geometry column does not contain geometry.\")\n",
      "/usr/local/lib/python3.8/site-packages/geopandas/geodataframe.py:852: UserWarning: Geometry column does not contain geometry.\n",
      "  warnings.warn(\"Geometry column does not contain geometry.\")\n",
      "/usr/local/lib/python3.8/site-packages/geopandas/geodataframe.py:852: UserWarning: Geometry column does not contain geometry.\n",
      "  warnings.warn(\"Geometry column does not contain geometry.\")\n",
      "/usr/local/lib/python3.8/site-packages/geopandas/geodataframe.py:852: UserWarning: Geometry column does not contain geometry.\n",
      "  warnings.warn(\"Geometry column does not contain geometry.\")\n",
      "/usr/local/lib/python3.8/site-packages/geopandas/geodataframe.py:852: UserWarning: Geometry column does not contain geometry.\n",
      "  warnings.warn(\"Geometry column does not contain geometry.\")\n",
      "/usr/local/lib/python3.8/site-packages/geopandas/geodataframe.py:852: UserWarning: Geometry column does not contain geometry.\n",
      "  warnings.warn(\"Geometry column does not contain geometry.\")\n",
      "/usr/local/lib/python3.8/site-packages/geopandas/geodataframe.py:852: UserWarning: Geometry column does not contain geometry.\n",
      "  warnings.warn(\"Geometry column does not contain geometry.\")\n",
      "/usr/local/lib/python3.8/site-packages/geopandas/geodataframe.py:852: UserWarning: Geometry column does not contain geometry.\n",
      "  warnings.warn(\"Geometry column does not contain geometry.\")\n",
      "/usr/local/lib/python3.8/site-packages/geopandas/geodataframe.py:852: UserWarning: Geometry column does not contain geometry.\n",
      "  warnings.warn(\"Geometry column does not contain geometry.\")\n",
      "/usr/local/lib/python3.8/site-packages/geopandas/geodataframe.py:852: UserWarning: Geometry column does not contain geometry.\n",
      "  warnings.warn(\"Geometry column does not contain geometry.\")\n",
      "/usr/local/lib/python3.8/site-packages/geopandas/geodataframe.py:852: UserWarning: Geometry column does not contain geometry.\n",
      "  warnings.warn(\"Geometry column does not contain geometry.\")\n",
      "/usr/local/lib/python3.8/site-packages/geopandas/geodataframe.py:852: UserWarning: Geometry column does not contain geometry.\n",
      "  warnings.warn(\"Geometry column does not contain geometry.\")\n",
      "/usr/local/lib/python3.8/site-packages/geopandas/geodataframe.py:852: UserWarning: Geometry column does not contain geometry.\n",
      "  warnings.warn(\"Geometry column does not contain geometry.\")\n",
      "/usr/local/lib/python3.8/site-packages/geopandas/geodataframe.py:852: UserWarning: Geometry column does not contain geometry.\n",
      "  warnings.warn(\"Geometry column does not contain geometry.\")\n",
      "/usr/local/lib/python3.8/site-packages/geopandas/geodataframe.py:852: UserWarning: Geometry column does not contain geometry.\n",
      "  warnings.warn(\"Geometry column does not contain geometry.\")\n",
      "/usr/local/lib/python3.8/site-packages/geopandas/geodataframe.py:852: UserWarning: Geometry column does not contain geometry.\n",
      "  warnings.warn(\"Geometry column does not contain geometry.\")\n",
      "/usr/local/lib/python3.8/site-packages/geopandas/geodataframe.py:852: UserWarning: Geometry column does not contain geometry.\n",
      "  warnings.warn(\"Geometry column does not contain geometry.\")\n",
      "/usr/local/lib/python3.8/site-packages/geopandas/geodataframe.py:852: UserWarning: Geometry column does not contain geometry.\n",
      "  warnings.warn(\"Geometry column does not contain geometry.\")\n",
      "/usr/local/lib/python3.8/site-packages/geopandas/geodataframe.py:852: UserWarning: Geometry column does not contain geometry.\n",
      "  warnings.warn(\"Geometry column does not contain geometry.\")\n",
      "/usr/local/lib/python3.8/site-packages/geopandas/geodataframe.py:852: UserWarning: Geometry column does not contain geometry.\n",
      "  warnings.warn(\"Geometry column does not contain geometry.\")\n",
      "/usr/local/lib/python3.8/site-packages/geopandas/geodataframe.py:852: UserWarning: Geometry column does not contain geometry.\n",
      "  warnings.warn(\"Geometry column does not contain geometry.\")\n",
      "/usr/local/lib/python3.8/site-packages/geopandas/geodataframe.py:852: UserWarning: Geometry column does not contain geometry.\n",
      "  warnings.warn(\"Geometry column does not contain geometry.\")\n",
      "/usr/local/lib/python3.8/site-packages/geopandas/geodataframe.py:852: UserWarning: Geometry column does not contain geometry.\n",
      "  warnings.warn(\"Geometry column does not contain geometry.\")\n",
      "/usr/local/lib/python3.8/site-packages/geopandas/geodataframe.py:852: UserWarning: Geometry column does not contain geometry.\n",
      "  warnings.warn(\"Geometry column does not contain geometry.\")\n",
      "/usr/local/lib/python3.8/site-packages/geopandas/geodataframe.py:852: UserWarning: Geometry column does not contain geometry.\n",
      "  warnings.warn(\"Geometry column does not contain geometry.\")\n",
      "/usr/local/lib/python3.8/site-packages/geopandas/geodataframe.py:852: UserWarning: Geometry column does not contain geometry.\n",
      "  warnings.warn(\"Geometry column does not contain geometry.\")\n",
      "/usr/local/lib/python3.8/site-packages/geopandas/geodataframe.py:852: UserWarning: Geometry column does not contain geometry.\n",
      "  warnings.warn(\"Geometry column does not contain geometry.\")\n",
      "/usr/local/lib/python3.8/site-packages/geopandas/geodataframe.py:852: UserWarning: Geometry column does not contain geometry.\n",
      "  warnings.warn(\"Geometry column does not contain geometry.\")\n",
      "/usr/local/lib/python3.8/site-packages/geopandas/geodataframe.py:852: UserWarning: Geometry column does not contain geometry.\n",
      "  warnings.warn(\"Geometry column does not contain geometry.\")\n",
      "/usr/local/lib/python3.8/site-packages/geopandas/geodataframe.py:852: UserWarning: Geometry column does not contain geometry.\n",
      "  warnings.warn(\"Geometry column does not contain geometry.\")\n",
      "/usr/local/lib/python3.8/site-packages/geopandas/geodataframe.py:852: UserWarning: Geometry column does not contain geometry.\n",
      "  warnings.warn(\"Geometry column does not contain geometry.\")\n",
      "/usr/local/lib/python3.8/site-packages/geopandas/geodataframe.py:852: UserWarning: Geometry column does not contain geometry.\n",
      "  warnings.warn(\"Geometry column does not contain geometry.\")\n",
      "/usr/local/lib/python3.8/site-packages/geopandas/geodataframe.py:852: UserWarning: Geometry column does not contain geometry.\n",
      "  warnings.warn(\"Geometry column does not contain geometry.\")\n",
      "/usr/local/lib/python3.8/site-packages/geopandas/geodataframe.py:852: UserWarning: Geometry column does not contain geometry.\n",
      "  warnings.warn(\"Geometry column does not contain geometry.\")\n",
      "/usr/local/lib/python3.8/site-packages/geopandas/geodataframe.py:852: UserWarning: Geometry column does not contain geometry.\n",
      "  warnings.warn(\"Geometry column does not contain geometry.\")\n",
      "/usr/local/lib/python3.8/site-packages/geopandas/geodataframe.py:852: UserWarning: Geometry column does not contain geometry.\n",
      "  warnings.warn(\"Geometry column does not contain geometry.\")\n",
      "/usr/local/lib/python3.8/site-packages/geopandas/geodataframe.py:852: UserWarning: Geometry column does not contain geometry.\n",
      "  warnings.warn(\"Geometry column does not contain geometry.\")\n",
      "/usr/local/lib/python3.8/site-packages/geopandas/geodataframe.py:852: UserWarning: Geometry column does not contain geometry.\n",
      "  warnings.warn(\"Geometry column does not contain geometry.\")\n",
      "/usr/local/lib/python3.8/site-packages/geopandas/geodataframe.py:852: UserWarning: Geometry column does not contain geometry.\n",
      "  warnings.warn(\"Geometry column does not contain geometry.\")\n",
      "/usr/local/lib/python3.8/site-packages/geopandas/geodataframe.py:852: UserWarning: Geometry column does not contain geometry.\n",
      "  warnings.warn(\"Geometry column does not contain geometry.\")\n",
      "/usr/local/lib/python3.8/site-packages/geopandas/geodataframe.py:852: UserWarning: Geometry column does not contain geometry.\n",
      "  warnings.warn(\"Geometry column does not contain geometry.\")\n",
      "/usr/local/lib/python3.8/site-packages/geopandas/geodataframe.py:852: UserWarning: Geometry column does not contain geometry.\n",
      "  warnings.warn(\"Geometry column does not contain geometry.\")\n"
     ]
    },
    {
     "name": "stdout",
     "output_type": "stream",
     "text": [
      "\n",
      "(Passed!)\n"
     ]
    }
   ],
   "source": [
    "# Test cell: f_ex0__filter_ratings (2 points)\n",
    "\n",
    "###\n",
    "### AUTOGRADER TEST - DO NOT REMOVE\n",
    "###\n",
    "\n",
    "from testing_tools import f_ex0__check\n",
    "print(\"Testing...\")\n",
    "for trial in range(125):\n",
    "    f_ex0__check(filter_ratings)\n",
    "\n",
    "filter_ratings__passed = True\n",
    "print(\"\\n(Passed!)\")"
   ]
  },
  {
   "cell_type": "markdown",
   "metadata": {
    "deletable": false,
    "editable": false,
    "nbgrader": {
     "grade": false,
     "locked": true,
     "solution": false
    }
   },
   "source": [
    "**Sample result of `filter_ratings` (Exercise 0) for Atlanta.** If you had a working solution to Exercise 0, then in principle you could use it to visualize these neighborhoods, color-coded by grade, as the following cell does for `'Atlanta, GA'`.\n",
    "\n",
    "> **Run this cell even if you did not complete Exercise 0.**"
   ]
  },
  {
   "cell_type": "code",
   "execution_count": 40,
   "metadata": {
    "deletable": false,
    "editable": false,
    "nbgrader": {
     "grade": false,
     "locked": true,
     "solution": false
    }
   },
   "outputs": [
    {
     "name": "stdout",
     "output_type": "stream",
     "text": [
      "Opening geopandas data file, './resource/asnlib/publicdata/atl.geojson' ...\n"
     ]
    },
    {
     "data": {
      "image/png": "[encoded data removed]",
      "text/plain": [
       "<Figure size 576x324 with 1 Axes>"
      ]
     },
     "metadata": {
      "needs_background": "light"
     },
     "output_type": "display_data"
    }
   ],
   "source": [
    "f_ex0__sample_result(); # The black \"star\" is Georgia Tech!"
   ]
  },
  {
   "cell_type": "markdown",
   "metadata": {
    "deletable": false,
    "editable": false,
    "nbgrader": {
     "grade": false,
     "locked": true,
     "solution": false
    }
   },
   "source": [
    "### Bounding boxes ###\n",
    "\n",
    "Recall that a geopandas dataframe includes a `'geometry'` column, which defines the geographic shape of each neighborhood using special multipolygon objects. To simplify some geometric calculations, a useful operation is to determine a multipolygon's _bounding box_, which is the smallest rectangle that encloses it.\n",
    "\n",
    "Getting a bounding box is easy! For example, recall the neighborhood in row 4 of the `neighborhood_ratings` geopandas dataframe:"
   ]
  },
  {
   "cell_type": "code",
   "execution_count": 41,
   "metadata": {
    "deletable": false,
    "editable": false,
    "nbgrader": {
     "grade": false,
     "locked": true,
     "solution": false
    }
   },
   "outputs": [
    {
     "name": "stdout",
     "output_type": "stream",
     "text": [
      "* Type of `g4_example`: <class 'shapely.geometry.multipolygon.MultiPolygon'>\n",
      "\n",
      "* Contents of `g4_example`: MULTIPOLYGON (((-86.749227 33.533325, -86.749156 33.530809, -86.75388599999999 33.529075, -86.754373 33.529382, -86.754729 33.529769, -86.754729 33.530294, -86.75604800000001 33.531225, -86.75539499999999 33.532008, -86.754456 33.532335, -86.753196 33.531483, -86.749714 33.533295, -86.749227 33.533325)))\n",
      "\n",
      "* A quick visual preview:\n"
     ]
    },
    {
     "data": {
      "image/svg+xml": [
       "<svg xmlns=\"http://www.w3.org/2000/svg\" xmlns:xlink=\"http://www.w3.org/1999/xlink\" width=\"100.0\" height=\"100.0\" viewBox=\"-86.75632368000001 33.52879932 0.007443360000010557 0.004801360000001864\" preserveAspectRatio=\"xMinYMin meet\"><g transform=\"matrix(1,0,0,-1,0,67.0624)\"><g><path fill-rule=\"evenodd\" fill=\"#66cc99\" stroke=\"#555555\" stroke-width=\"0.00014886720000021114\" opacity=\"0.6\" d=\"M -86.749227,33.533325 L -86.749156,33.530809 L -86.753886,33.529075 L -86.754373,33.529382 L -86.754729,33.529769 L -86.754729,33.530294 L -86.756048,33.531225 L -86.755395,33.532008 L -86.754456,33.532335 L -86.753196,33.531483 L -86.749714,33.533295 L -86.749227,33.533325 z\" /></g></g></svg>"
      ],
      "text/plain": [
       "<shapely.geometry.multipolygon.MultiPolygon at 0x7f2c2c0d2be0>"
      ]
     },
     "metadata": {},
     "output_type": "display_data"
    }
   ],
   "source": [
    "g4_example = neighborhood_ratings.loc[4, 'geometry']\n",
    "print(\"* Type of `g4_example`:\", type(g4_example))\n",
    "print(\"\\n* Contents of `g4_example`:\", g4_example)\n",
    "print(\"\\n* A quick visual preview:\")\n",
    "display(g4_example)"
   ]
  },
  {
   "cell_type": "markdown",
   "metadata": {
    "deletable": false,
    "editable": false,
    "nbgrader": {
     "grade": false,
     "locked": true,
     "solution": false
    }
   },
   "source": [
    "The bounding box is given to you by the multipolygon's `.bounds` attribute. This attribute is a Python 4-tuple (tuple with four components) that encodes both the lower-left corner and the upper-right corner of the shape. Here is what that tuple looks like for the previous example:"
   ]
  },
  {
   "cell_type": "code",
   "execution_count": 42,
   "metadata": {
    "deletable": false,
    "editable": false,
    "nbgrader": {
     "grade": false,
     "locked": true,
     "solution": false
    }
   },
   "outputs": [
    {
     "name": "stdout",
     "output_type": "stream",
     "text": [
      "* Recall: `g4_example` == MULTIPOLYGON (((-86.749227 33.533325, -86.749156 33.530809, -86.75388599999999 33.529075, -86.754373 33.529382, -86.754729 33.529769, -86.754729 33.530294, -86.75604800000001 33.531225, -86.75539499999999 33.532008, -86.754456 33.532335, -86.753196 33.531483, -86.749714 33.533295, -86.749227 33.533325)))\n",
      "\n",
      "* ==> `g4_example.bounds` == (-86.756048, 33.529075, -86.749156, 33.533325)\n"
     ]
    }
   ],
   "source": [
    "print(\"* Recall: `g4_example` ==\", g4_example)\n",
    "print(\"\\n* ==> `g4_example.bounds` ==\", g4_example.bounds)"
   ]
  },
  {
   "cell_type": "markdown",
   "metadata": {
    "deletable": false,
    "editable": false,
    "nbgrader": {
     "grade": false,
     "locked": true,
     "solution": false
    }
   },
   "source": [
    "The first two elements of the tuple are the smallest possible x-value and the smallest possible y-value among all points of the multipolygon. The last two elements are the largest x-value and y-value.\n",
    "\n",
    "If it's helpful, here is a plot that superimposes the bounding box on `g4_example`:"
   ]
  },
  {
   "cell_type": "code",
   "execution_count": 43,
   "metadata": {
    "deletable": false,
    "editable": false,
    "nbgrader": {
     "grade": false,
     "locked": true,
     "solution": false
    }
   },
   "outputs": [
    {
     "data": {
      "image/png": "[encoded data removed]",
      "text/plain": [
       "<Figure size 432x288 with 1 Axes>"
      ]
     },
     "metadata": {
      "needs_background": "light"
     },
     "output_type": "display_data"
    }
   ],
   "source": [
    "# Draw the multipolygon as a solid gray line:\n",
    "from testing_tools import plot_multipolygon, plot_bounding_box\n",
    "plot_multipolygon(g4_example, color='gray') \n",
    "\n",
    "# Add the bounding box as a dashed black line:\n",
    "plot_bounding_box(g4_example.bounds, color='black', linestyle='--')"
   ]
  },
  {
   "cell_type": "markdown",
   "metadata": {
    "deletable": false,
    "editable": false,
    "nbgrader": {
     "grade": false,
     "locked": true,
     "solution": false
    }
   },
   "source": [
    "### Exercise 1: Bounding box of _all_ neighborhoods  (3 points) ###\n",
    "\n",
    "Complete the function, `get_bounds(gdf)`, below, so that it returns the coordinates of a single bounding box for _all_ neighborhoods in a given dataframe.\n",
    "\n",
    "For example, suppose `gdf_ex1_demo` holds rows 3 and 4 of the `neighborhood_ratings` dataframe:"
   ]
  },
  {
   "cell_type": "code",
   "execution_count": 44,
   "metadata": {
    "deletable": false,
    "editable": false,
    "nbgrader": {
     "grade": false,
     "locked": true,
     "solution": false
    }
   },
   "outputs": [
    {
     "data": {
      "text/html": [
       "<div>\n",
       "<style scoped>\n",
       "    .dataframe tbody tr th:only-of-type {\n",
       "        vertical-align: middle;\n",
       "    }\n",
       "\n",
       "    .dataframe tbody tr th {\n",
       "        vertical-align: top;\n",
       "    }\n",
       "\n",
       "    .dataframe thead th {\n",
       "        text-align: right;\n",
       "    }\n",
       "</style>\n",
       "<table border=\"1\" class=\"dataframe\">\n",
       "  <thead>\n",
       "    <tr style=\"text-align: right;\">\n",
       "      <th></th>\n",
       "      <th>state</th>\n",
       "      <th>city</th>\n",
       "      <th>name</th>\n",
       "      <th>holc_id</th>\n",
       "      <th>holc_grade</th>\n",
       "      <th>area_description_data</th>\n",
       "      <th>geometry</th>\n",
       "    </tr>\n",
       "  </thead>\n",
       "  <tbody>\n",
       "    <tr>\n",
       "      <th>3</th>\n",
       "      <td>AL</td>\n",
       "      <td>Birmingham</td>\n",
       "      <td>Grove Park, Hollywood, Mayfair, and Edgewood s...</td>\n",
       "      <td>B1</td>\n",
       "      <td>B</td>\n",
       "      <td>{'5': 'Both sales and rental prices in 1929 we...</td>\n",
       "      <td>MULTIPOLYGON (((-86.80111 33.48071, -86.80099 ...</td>\n",
       "    </tr>\n",
       "    <tr>\n",
       "      <th>4</th>\n",
       "      <td>AL</td>\n",
       "      <td>Birmingham</td>\n",
       "      <td>Best section of Woodlawn Highlands</td>\n",
       "      <td>B10</td>\n",
       "      <td>B</td>\n",
       "      <td>{'5': 'Both sales and rental prices in 1929 we...</td>\n",
       "      <td>MULTIPOLYGON (((-86.74923 33.53332, -86.74916 ...</td>\n",
       "    </tr>\n",
       "  </tbody>\n",
       "</table>\n",
       "</div>"
      ],
      "text/plain": [
       "  state        city                                               name  \\\n",
       "3    AL  Birmingham  Grove Park, Hollywood, Mayfair, and Edgewood s...   \n",
       "4    AL  Birmingham                 Best section of Woodlawn Highlands   \n",
       "\n",
       "  holc_id holc_grade                              area_description_data  \\\n",
       "3      B1          B  {'5': 'Both sales and rental prices in 1929 we...   \n",
       "4     B10          B  {'5': 'Both sales and rental prices in 1929 we...   \n",
       "\n",
       "                                            geometry  \n",
       "3  MULTIPOLYGON (((-86.80111 33.48071, -86.80099 ...  \n",
       "4  MULTIPOLYGON (((-86.74923 33.53332, -86.74916 ...  "
      ]
     },
     "execution_count": 44,
     "metadata": {},
     "output_type": "execute_result"
    }
   ],
   "source": [
    "gdf_ex1_demo = neighborhood_ratings.loc[[3, 4]]\n",
    "gdf_ex1_demo"
   ]
  },
  {
   "cell_type": "markdown",
   "metadata": {
    "deletable": false,
    "editable": false,
    "nbgrader": {
     "grade": false,
     "locked": true,
     "solution": false
    }
   },
   "source": [
    "This dataframe has these bounds for each of the two rows:"
   ]
  },
  {
   "cell_type": "code",
   "execution_count": 45,
   "metadata": {
    "deletable": false,
    "editable": false,
    "nbgrader": {
     "grade": false,
     "locked": true,
     "solution": false
    }
   },
   "outputs": [
    {
     "name": "stdout",
     "output_type": "stream",
     "text": [
      "(-86.815458, 33.464794, -86.767064, 33.483678)\n",
      "(-86.756048, 33.529075, -86.749156, 33.533325)\n"
     ]
    }
   ],
   "source": [
    "print(gdf_ex1_demo.loc[3, 'geometry'].bounds)\n",
    "print(gdf_ex1_demo.loc[4, 'geometry'].bounds)"
   ]
  },
  {
   "cell_type": "markdown",
   "metadata": {
    "deletable": false,
    "editable": false,
    "nbgrader": {
     "grade": false,
     "locked": true,
     "solution": false
    }
   },
   "source": [
    "Therefore, the bounding box for `gdf_ex1_demo` is the smallest rectangle that covers both neighborhoods, or `(-86.815458, 33.464794, -86.749156, 33.533325)`. The next code cell illustrates the result."
   ]
  },
  {
   "cell_type": "code",
   "execution_count": 46,
   "metadata": {
    "deletable": false,
    "editable": false,
    "nbgrader": {
     "grade": false,
     "locked": true,
     "solution": false
    }
   },
   "outputs": [
    {
     "data": {
      "image/png": "[encoded data removed]",
      "text/plain": [
       "<Figure size 432x288 with 1 Axes>"
      ]
     },
     "metadata": {
      "needs_background": "light"
     },
     "output_type": "display_data"
    }
   ],
   "source": [
    "plot_multipolygon(gdf_ex1_demo.loc[3, 'geometry'], color='blue')\n",
    "plot_bounding_box(gdf_ex1_demo.loc[3, 'geometry'].bounds, color='blue', linestyle=':')\n",
    "plot_multipolygon(gdf_ex1_demo.loc[4, 'geometry'], color='gray')\n",
    "plot_bounding_box(gdf_ex1_demo.loc[4, 'geometry'].bounds, color='gray', linestyle=':')\n",
    "\n",
    "gdf_ex1_demo_bounding_box = (-86.815458, 33.464794, -86.749156, 33.533325)\n",
    "plot_bounding_box(gdf_ex1_demo_bounding_box, color='black', linestyle='--')"
   ]
  },
  {
   "cell_type": "markdown",
   "metadata": {
    "deletable": false,
    "editable": false,
    "nbgrader": {
     "grade": false,
     "locked": true,
     "solution": false
    }
   },
   "source": [
    "The plot shows two multipolygons, along with the bounding box around each one as dotted lines. Your function should return a single bounding box for all multipolygons, which we show as the dashed black line that encloses both.\n",
    "\n",
    "> **Note 0:** The test cell will use randomly generated input data frames. Per the example above, your solution should only depend on the presence of a column named `'geometry'`, and should return a correct result no matter what other columns are present in the input.\n",
    ">\n",
    "> **Note 1:** We've provided a partial solution that handles the corner-case of an empty input dataframe, so your solution can focus on dataframes having at least one row."
   ]
  },
  {
   "cell_type": "code",
   "execution_count": 61,
   "metadata": {
    "nbgrader": {
     "grade": false,
     "locked": false,
     "solution": false
    }
   },
   "outputs": [],
   "source": [
    "def get_bounds(gdf):\n",
    "    assert isinstance(gdf, geopandas.GeoDataFrame)\n",
    "    if len(gdf) == 0:\n",
    "        return None\n",
    "    assert len(gdf) >= 1\n",
    "    \n",
    "    x_min = y_min =float('inf')\n",
    "    x_max = y_max =float('-inf')\n",
    "    \n",
    "    for _, row in gdf.iterrows():\n",
    "        \n",
    "        row_bounds = row['geometry'].bounds\n",
    "        \n",
    "        x_min = min(x_min, row_bounds[0])\n",
    "        y_min = min(y_min, row_bounds[1])\n",
    "        x_max = max(x_max, row_bounds[2])\n",
    "        y_max = max(y_max, row_bounds[3])\n",
    "    \n",
    "    return (x_min, y_min, x_max, y_max)\n",
    "\n",
    "\n",
    "#             (gdf['geometry'].apply(lambda x: x.bounds[0]).min(),\n",
    "#             gdf['geometry'].apply(lambda x: x.bounds[1]).min(),\n",
    "#             gdf['geometry'].apply(lambda x: x.bounds[2]).max(),\n",
    "#             gdf['geometry'].apply(lambda x: x.bounds[3]).max())"
   ]
  },
  {
   "cell_type": "code",
   "execution_count": 62,
   "metadata": {},
   "outputs": [
    {
     "name": "stdout",
     "output_type": "stream",
     "text": [
      "Your result on the demo dataframe: (-86.815458, 33.464794, -86.749156, 33.533325)\n",
      "Expected result: (-86.815458, 33.464794, -86.749156, 33.533325)\n",
      "Great -- so far, your result matches our expected result.\n"
     ]
    }
   ],
   "source": [
    "# Demo cell\n",
    "your_gdf_ex1_demo_bounding_box = get_bounds(gdf_ex1_demo)\n",
    "print(\"Your result on the demo dataframe:\", your_gdf_ex1_demo_bounding_box)\n",
    "print(\"Expected result:\", gdf_ex1_demo_bounding_box)\n",
    "\n",
    "assert all([np.isclose(a, b) for a, b in zip(your_gdf_ex1_demo_bounding_box,\n",
    "                                             gdf_ex1_demo_bounding_box)]), \\\n",
    "       \"*** Your result does not match our example! ***\"\n",
    "print(\"Great -- so far, your result matches our expected result.\")"
   ]
  },
  {
   "cell_type": "code",
   "execution_count": 63,
   "metadata": {
    "deletable": false,
    "editable": false,
    "nbgrader": {
     "grade": true,
     "grade_id": "f_ex1__get_bounds",
     "locked": true,
     "points": "3",
     "solution": false
    }
   },
   "outputs": [
    {
     "name": "stdout",
     "output_type": "stream",
     "text": [
      "Testing...\n",
      "\n",
      "(Passed!)\n"
     ]
    }
   ],
   "source": [
    "# Test cell: f_ex1__get_bounds (3 points)\n",
    "\n",
    "###\n",
    "### AUTOGRADER TEST - DO NOT REMOVE\n",
    "###\n",
    "\n",
    "from testing_tools import f_ex1__check\n",
    "print(\"Testing...\")\n",
    "for trial in range(250):\n",
    "    f_ex1__check(get_bounds)\n",
    "\n",
    "print(\"\\n(Passed!)\")"
   ]
  },
  {
   "cell_type": "markdown",
   "metadata": {
    "deletable": false,
    "editable": false,
    "nbgrader": {
     "grade": false,
     "locked": true,
     "solution": false
    }
   },
   "source": [
    "**Sample result of `get_bounds` (Exercise 1) for Atlanta.** If your function was working, then you could calculate the bounding box for Atlanta, which would be the following.\n",
    "\n",
    "> **Run this cell even if you did not complete Exercise 1.**"
   ]
  },
  {
   "cell_type": "code",
   "execution_count": 64,
   "metadata": {
    "deletable": false,
    "editable": false,
    "nbgrader": {
     "grade": false,
     "locked": true,
     "solution": false
    }
   },
   "outputs": [
    {
     "name": "stdout",
     "output_type": "stream",
     "text": [
      "Opening geopandas data file, './resource/asnlib/publicdata/atl.geojson' ...\n",
      "Opening pickle from './resource/asnlib/publicdata/atl-bb.pickle' ...\n",
      "Bounding box for Atlanta: (-84.457945, 33.637042, -84.254692, 33.869701)\n"
     ]
    },
    {
     "data": {
      "image/png": "[encoded data removed]",
      "text/plain": [
       "<Figure size 576x324 with 1 Axes>"
      ]
     },
     "metadata": {
      "needs_background": "light"
     },
     "output_type": "display_data"
    }
   ],
   "source": [
    "_, _, f_ex1__atl_bounds = f_ex1__sample_result();\n",
    "print(f\"Bounding box for Atlanta: {f_ex1__atl_bounds}\")"
   ]
  },
  {
   "cell_type": "markdown",
   "metadata": {
    "deletable": false,
    "editable": false,
    "nbgrader": {
     "grade": false,
     "locked": true,
     "solution": false
    }
   },
   "source": [
    "## Part 2: Temperature analysis ##\n",
    "\n",
    "We have downloaded satellite images that cover some of the cities in the `neighborhood_ratings` dataset. Each pixel of an image is the estimated temperature at the earth's surface. The images we downloaded were taken by the satellite on a summer day.\n",
    "\n",
    "Here is an example of a satellite image that includes the Atlanta, Georgia neighborhoods used in earlier examples. The code cell below loads this image, draws it, and superimposes the Atlanta bounding box. The image is stored in the variable `sat_demo`. The geopandas dataframe for Atlanta is stored in `gdf_sat_demo`, and its bounding box in `bounds_sat_demo`."
   ]
  },
  {
   "cell_type": "code",
   "execution_count": 65,
   "metadata": {
    "deletable": false,
    "editable": false,
    "nbgrader": {
     "grade": false,
     "locked": true,
     "solution": false
    }
   },
   "outputs": [
    {
     "name": "stdout",
     "output_type": "stream",
     "text": [
      "Opening satellite image, './resource/asnlib/publicdata/LC08_CU_024013_20190808_20190822_C01_V01_ST--EPSG_4326.tif' ...\n",
      "Opening geopandas data file, './resource/asnlib/publicdata/atl.geojson' ...\n",
      "Opening pickle from './resource/asnlib/publicdata/atl-bb.pickle' ...\n"
     ]
    },
    {
     "data": {
      "image/png": "[encoded data removed]",
      "text/plain": [
       "<Figure size 432x288 with 1 Axes>"
      ]
     },
     "metadata": {
      "needs_background": "light"
     },
     "output_type": "display_data"
    }
   ],
   "source": [
    "from testing_tools import load_satellite_image, plot_satellite_image\n",
    "\n",
    "# Load a satellite image that includes the Atlanta area\n",
    "sat_demo = load_satellite_image('LC08_CU_024013_20190808_20190822_C01_V01_ST--EPSG_4326.tif')\n",
    "\n",
    "fig = plt.figure()\n",
    "plot_satellite_image(sat_demo, ax=fig.gca())\n",
    "\n",
    "# Add the bounding box for Atlanta\n",
    "_, gdf_sat_demo, bounds_sat_demo = f_ex1__sample_result(do_plot=False);\n",
    "plot_bounding_box(bounds_sat_demo, color='black', linestyle='dashed')"
   ]
  },
  {
   "cell_type": "markdown",
   "metadata": {},
   "source": [
    "**Masked images:** _merging the satellite and neighborhood data._ A really cool feature of a geopandas dataframe is that you can \"intersect\" its polygons with an image!\n",
    "\n",
    "We wrote a function called `mask_image_by_geodf(img, gdf)` that does this merging for you. It takes as input a satellite image, `img`, and a geopandas dataframe, `gdf`. It then clips the image to the bounding box of `gdf`, and masks out all the pixels. By \"masking,\" we mean that pixels falling within the multipolygon regions of `gdf` retain their original value; everything outside those regions gets a special \"undefined\" value.\n",
    "\n",
    "Here is an example. First, let's call `mask_image_by_geodf` to generate the Numpy array, stored as `sat_demo_masked`:"
   ]
  },
  {
   "cell_type": "code",
   "execution_count": 66,
   "metadata": {
    "deletable": false,
    "editable": false,
    "nbgrader": {
     "grade": false,
     "locked": true,
     "solution": false
    }
   },
   "outputs": [
    {
     "name": "stdout",
     "output_type": "stream",
     "text": [
      "(798, 698)\n"
     ]
    },
    {
     "data": {
      "text/plain": [
       "array([[-9999, -9999, -9999, ..., -9999, -9999, -9999],\n",
       "       [-9999, -9999, -9999, ..., -9999, -9999, -9999],\n",
       "       [-9999, -9999, -9999, ..., -9999, -9999, -9999],\n",
       "       ...,\n",
       "       [-9999, -9999,  3167, ..., -9999, -9999, -9999],\n",
       "       [-9999, -9999, -9999, ..., -9999, -9999, -9999],\n",
       "       [-9999, -9999, -9999, ..., -9999, -9999, -9999]], dtype=int16)"
      ]
     },
     "execution_count": 66,
     "metadata": {},
     "output_type": "execute_result"
    }
   ],
   "source": [
    "def mask_image_by_geodf(img, gdf):\n",
    "    from json import loads\n",
    "    from rasterio.mask import mask\n",
    "    gdf_json = loads(gdf.to_json())\n",
    "    gdf_coords = [f['geometry'] for f in gdf_json['features']]\n",
    "    out_img, _ = mask(img, shapes=gdf_coords, crop=True)\n",
    "    return out_img[0]\n",
    "    \n",
    "sat_demo_masked = mask_image_by_geodf(sat_demo, gdf_sat_demo)\n",
    "print(sat_demo_masked.shape)\n",
    "sat_demo_masked"
   ]
  },
  {
   "cell_type": "markdown",
   "metadata": {
    "deletable": false,
    "editable": false,
    "nbgrader": {
     "grade": false,
     "locked": true,
     "solution": false
    }
   },
   "source": [
    "The output shows the clipped result has a shape of 798 x 698 pixels, and the values are 16-bit integers (`dtype=int16`). The first thing you might see are a bunch of values equal to -9999. That is the special value indicating that the given pixel falls _outside_ of any neighborhood polygon.\n",
    "\n",
    "Any other integer is the estimated surface temperature **in [degrees Kelvin](https://en.wikipedia.org/wiki/Kelvin#2019_redefinition) multiplied by 10**. For instance, suppose a pixel has the value `3167` embedded in the sample output above. That is 3167 / 10 = 316.7 degrees Kelvin, which in degrees Celsius would be 316.7 - 273.15 = 43.55 degrees Celsius. (That, in turn, is approximately (316.7 − 273.15) * 9/5 + 32 = 110.39 degrees Farenheit.)\n",
    "\n",
    "In our analysis, we'd like to inspect the average temperatures of the neighborhoods, **ignoring** the -9999 values."
   ]
  },
  {
   "cell_type": "markdown",
   "metadata": {
    "deletable": false,
    "editable": false,
    "nbgrader": {
     "grade": false,
     "locked": true,
     "solution": false
    }
   },
   "source": [
    "If it's helpful, here is a picture of that Numpy array. The dark regions correspond to the -9999 values that fall outside the neighborhoods of `gdf_sat_demo`; the bright ones indicate the presence of valid temperatures.\n",
    "\n",
    "> If they appear to have the same color or shade, it's because the -9999 values make other \"real\" temperatures look nearly the same."
   ]
  },
  {
   "cell_type": "code",
   "execution_count": 67,
   "metadata": {
    "deletable": false,
    "editable": false,
    "nbgrader": {
     "grade": false,
     "locked": true,
     "solution": false
    }
   },
   "outputs": [
    {
     "data": {
      "text/plain": [
       "<matplotlib.image.AxesImage at 0x7f2c13795fd0>"
      ]
     },
     "execution_count": 67,
     "metadata": {},
     "output_type": "execute_result"
    },
    {
     "data": {
      "image/png": "[encoded data removed]",
      "text/plain": [
       "<Figure size 432x288 with 1 Axes>"
      ]
     },
     "metadata": {
      "needs_background": "light"
     },
     "output_type": "display_data"
    }
   ],
   "source": [
    "plt.imshow(sat_demo_masked)"
   ]
  },
  {
   "cell_type": "markdown",
   "metadata": {
    "deletable": false,
    "editable": false,
    "nbgrader": {
     "grade": false,
     "locked": true,
     "solution": false
    }
   },
   "source": [
    "### Exercise 2: Cleaning masked images (2 points) ###\n",
    "\n",
    "To help our analysis, your next task is to clean a masked image, converting its values to degrees Celsius.\n",
    "\n",
    "In particular, let `masked_array` be any Numpy array holding `int16` values, where the value `-9999` represents masked or missing values, and any other integer is a temperature in degrees Kelvin times 10. You should complete the function, `masked_to_degC(masked_array)`, so that it returns a _new_ Numpy array having the same shape as `masked_array`, but with the following properties:\n",
    "\n",
    "- The new array should hold **floating-point** values, not integers. That is, the new Numpy array should have `dtype=float`.\n",
    "- Every `-9999` value should be converted into a **not-a-number (NaN)** value.\n",
    "- Any other integer value should be converted to **degrees Celsius.**\n",
    "\n",
    "For instance, suppose `masked_array` is the following 2-D Numpy array:\n",
    "\n",
    "```python\n",
    "[[-9999  2950 -9999]\n",
    " [-9999  3167  2014]\n",
    " [-9999  3075  3222]\n",
    " [ 2801 -9999  2416]]\n",
    "```\n",
    "\n",
    "Then the output array should have the following values:\n",
    "\n",
    "```python\n",
    "[[   nan  21.85    nan]\n",
    " [   nan  43.55 -71.75]\n",
    " [   nan  34.35  49.05]\n",
    " [  6.95    nan -31.55]]\n",
    "```\n",
    "\n",
    "> **Note 0:** The simplest way to use a NaN value is through the predefined constant, [`np.nan`](https://numpy.org/doc/stable/user/misc.html).\n",
    ">\n",
    "> **Note 1:** There are three demo cells. Two of them show plots in addition to input/output pairs, in case you work better with visual representations. In the plots, any NaN entries will appear as blanks (white space).\n",
    ">\n",
    "> **Note 2:** Your function must work for an input array of _any_ dimension greater than or equal to 1. That is, it could be a 1-D array, a 2-D array (e.g., like true images), or 3-D or higher. Solutions that only work on 2-D arrays will only get half credit (one point instead of two)."
   ]
  },
  {
   "cell_type": "code",
   "execution_count": 70,
   "metadata": {
    "deletable": false,
    "editable": false,
    "nbgrader": {
     "grade": false,
     "locked": true,
     "solution": false
    }
   },
   "outputs": [
    {
     "name": "stdout",
     "output_type": "stream",
     "text": [
      "nan\n"
     ]
    }
   ],
   "source": [
    "# Note:\n",
    "print(np.nan) # a single NaN value"
   ]
  },
  {
   "cell_type": "code",
   "execution_count": 84,
   "metadata": {
    "collapsed": true
   },
   "outputs": [],
   "source": [
    "def masked_to_degC(masked_array):\n",
    "    assert isinstance(masked_array, np.ndarray)\n",
    "    assert masked_array.ndim >= 1\n",
    "    assert np.issubdtype(masked_array.dtype, np.integer)\n",
    "    \n",
    "    new_masked_array = masked_array.copy()\n",
    "    new_masked_array = new_masked_array.astype('float')\n",
    "    \n",
    "    new_masked_array[new_masked_array == -9999] = np.nan\n",
    "    new_masked_array[new_masked_array != -9999] = (new_masked_array[new_masked_array != -9999]/10)-273.15\n",
    "    \n",
    "    return new_masked_array\n",
    "\n",
    "\n",
    "#     new_array = masked_array.astype(float)\n",
    "#     new_array[new_array == -9999] = np.nan\n",
    "#     new_array *= 0.1\n",
    "#     new_array -= 273.15"
   ]
  },
  {
   "cell_type": "code",
   "execution_count": 85,
   "metadata": {},
   "outputs": [
    {
     "name": "stdout",
     "output_type": "stream",
     "text": [
      "[[-9999  2950 -9999]\n",
      " [-9999  3167  2014]\n",
      " [-9999  3075  3222]\n",
      " [ 2801 -9999  2416]]\n",
      "\n",
      "[[   nan  21.85    nan]\n",
      " [   nan  43.55 -71.75]\n",
      " [   nan  34.35  49.05]\n",
      " [  6.95    nan -31.55]]\n"
     ]
    },
    {
     "data": {
      "image/png": "[encoded data removed]",
      "text/plain": [
       "<Figure size 432x288 with 2 Axes>"
      ]
     },
     "metadata": {
      "needs_background": "light"
     },
     "output_type": "display_data"
    }
   ],
   "source": [
    "# Demo cell 0:\n",
    "img_ex2_demo = np.array([[-9999,  2950, -9999],\n",
    "                         [-9999,  3167, 2014],\n",
    "                         [-9999,  3075, 3222],\n",
    "                         [ 2801, -9999, 2416]], dtype=np.int16)\n",
    "\n",
    "img_ex2_demo_clean = masked_to_degC(img_ex2_demo)\n",
    "\n",
    "print(img_ex2_demo)\n",
    "print()\n",
    "print(img_ex2_demo_clean)\n",
    "plt.imshow(img_ex2_demo_clean)\n",
    "plt.colorbar();"
   ]
  },
  {
   "cell_type": "code",
   "execution_count": 86,
   "metadata": {},
   "outputs": [
    {
     "data": {
      "text/plain": [
       "array([-260.85,     nan, -227.55, -194.25,     nan])"
      ]
     },
     "execution_count": 86,
     "metadata": {},
     "output_type": "execute_result"
    }
   ],
   "source": [
    "# Demo cell 1: Try a 1-D array. Expected output: array([-260.85, nan, -227.55, -194.25, nan])\n",
    "masked_to_degC(np.array([123, -9999, 456, 789, -9999], dtype=np.int16))"
   ]
  },
  {
   "cell_type": "code",
   "execution_count": 87,
   "metadata": {},
   "outputs": [
    {
     "name": "stdout",
     "output_type": "stream",
     "text": [
      "[[  nan   nan   nan ...   nan   nan   nan]\n",
      " [  nan   nan   nan ...   nan   nan   nan]\n",
      " [  nan   nan   nan ...   nan   nan   nan]\n",
      " ...\n",
      " [  nan   nan 43.55 ...   nan   nan   nan]\n",
      " [  nan   nan   nan ...   nan   nan   nan]\n",
      " [  nan   nan   nan ...   nan   nan   nan]]\n"
     ]
    },
    {
     "data": {
      "image/png": "[encoded data removed]",
      "text/plain": [
       "<Figure size 432x288 with 1 Axes>"
      ]
     },
     "metadata": {
      "needs_background": "light"
     },
     "output_type": "display_data"
    }
   ],
   "source": [
    "# Demo cell 2: Apply to the example satellite image\n",
    "sat_demo_clean_ex2 = masked_to_degC(sat_demo_masked)\n",
    "print(sat_demo_clean_ex2)\n",
    "plt.imshow(sat_demo_clean_ex2);"
   ]
  },
  {
   "cell_type": "code",
   "execution_count": 88,
   "metadata": {
    "deletable": false,
    "editable": false,
    "nbgrader": {
     "grade": true,
     "grade_id": "f_ex2__masked_to_degC_2d",
     "locked": true,
     "points": "1",
     "solution": false
    },
    "scrolled": false
   },
   "outputs": [
    {
     "name": "stdout",
     "output_type": "stream",
     "text": [
      "Testing...\n",
      "\n",
      "(Passed the 2-D case!)\n"
     ]
    }
   ],
   "source": [
    "# Test cell 0: f_ex2__masked_to_degC_2d (1 point)\n",
    "\n",
    "###\n",
    "### AUTOGRADER TEST - DO NOT REMOVE\n",
    "###\n",
    "\n",
    "from testing_tools import f_ex2__check\n",
    "print(\"Testing...\")\n",
    "for trial in range(250):\n",
    "    f_ex2__check(masked_to_degC, ndim=2)\n",
    "\n",
    "masked_to_degC__passed_2d = True\n",
    "print(\"\\n(Passed the 2-D case!)\")"
   ]
  },
  {
   "cell_type": "code",
   "execution_count": 89,
   "metadata": {
    "deletable": false,
    "editable": false,
    "nbgrader": {
     "grade": true,
     "grade_id": "f_ex2__masked_to_degC_nd",
     "locked": true,
     "points": "1",
     "solution": false
    }
   },
   "outputs": [
    {
     "name": "stdout",
     "output_type": "stream",
     "text": [
      "Testing...\n",
      "\n",
      "(Passed the any-D case!)\n"
     ]
    }
   ],
   "source": [
    "# Test cell 1: f_ex2__masked_to_degC_nd (1 point)\n",
    "\n",
    "from testing_tools import f_ex2__check\n",
    "print(\"Testing...\")\n",
    "for trial in range(250):\n",
    "    f_ex2__check(masked_to_degC, ndim=None)\n",
    "\n",
    "print(\"\\n(Passed the any-D case!)\")"
   ]
  },
  {
   "cell_type": "markdown",
   "metadata": {
    "deletable": false,
    "editable": false,
    "nbgrader": {
     "grade": false,
     "locked": true,
     "solution": false
    }
   },
   "source": [
    "**Sample result of `masked_to_degC` (Exercise 2) on the Atlanta data.** A correct implementation of `masked_to_degC` would, when applied to the Atlanta data, produce a masked image resembling what follows.\n",
    "\n",
    "> **Run this cell even if you did not complete Exercise 2.**"
   ]
  },
  {
   "cell_type": "code",
   "execution_count": 90,
   "metadata": {
    "deletable": false,
    "editable": false,
    "nbgrader": {
     "grade": false,
     "locked": true,
     "solution": false
    }
   },
   "outputs": [
    {
     "name": "stdout",
     "output_type": "stream",
     "text": [
      "Opening pickle from './resource/asnlib/publicdata/atl-masked-cleaned.pickle' ...\n"
     ]
    },
    {
     "data": {
      "image/png": "[encoded data removed]",
      "text/plain": [
       "<Figure size 432x288 with 2 Axes>"
      ]
     },
     "metadata": {
      "needs_background": "light"
     },
     "output_type": "display_data"
    }
   ],
   "source": [
    "sat_demo_clean = f_ex2__sample_result();"
   ]
  },
  {
   "cell_type": "markdown",
   "metadata": {
    "deletable": false,
    "editable": false,
    "nbgrader": {
     "grade": false,
     "locked": true,
     "solution": false
    }
   },
   "source": [
    "### Exercise 3: Average temperature (2 points) ###\n",
    "\n",
    "Suppose you are given `masked_array`, a Numpy array of masked floating-point temperatures like that _produced_ by `masked_to_degC` in Exercise 2. That is, it has floating-point temperature values _except_ at \"masked\" entries, which are marked by NaN values. Complete the function `mean_temperature(masked_array)` so that it returns the mean temperature value over all pixels, **ignoring any NaNs.**\n",
    "\n",
    "For example, suppose `masked_array` equals the Numpy array,\n",
    "\n",
    "```python\n",
    "[[   nan  21.85    nan]\n",
    " [   nan  43.55 -71.75]\n",
    " [   nan  34.35  49.05]\n",
    " [  6.95    nan -31.55]]\n",
    "```\n",
    "\n",
    "where the values are in degrees Celsius. Then `mean_temperature(masked_array)` would equal (21.85+43.55-71.75+34.35+49.05+6.95-31.55)/7, which is approximately 7.49 degrees Celsius.\n",
    "\n",
    "> **Note 0:** Your approach should work for an input array of _any_ dimension. You'll get partial credit (1 point) if it works for 2-D input arrays, and full credit (2 points) if it works for arrays of _all_ dimensions.\n",
    ">\n",
    "> **Note 1:** If all input values are NaN values, then your function should return NaN."
   ]
  },
  {
   "cell_type": "code",
   "execution_count": 95,
   "metadata": {
    "collapsed": true
   },
   "outputs": [],
   "source": [
    "def mean_temperature(masked_array):\n",
    "    assert isinstance(masked_array, np.ndarray)\n",
    "    assert np.issubdtype(masked_array.dtype, np.floating)\n",
    "    \n",
    "    mean = np.nanmean(masked_array)\n",
    "    \n",
    "    return mean\n"
   ]
  },
  {
   "cell_type": "code",
   "execution_count": 96,
   "metadata": {},
   "outputs": [
    {
     "data": {
      "text/plain": [
       "7.492857142857143"
      ]
     },
     "execution_count": 96,
     "metadata": {},
     "output_type": "execute_result"
    }
   ],
   "source": [
    "# Demo cell 0:\n",
    "img_ex3_demo_clean = np.array([[np.nan,  21.85, np.nan],\n",
    "                               [np.nan,  43.55, -71.75],\n",
    "                               [np.nan,  34.35,  49.05],\n",
    "                               [  6.95, np.nan, -31.55]])\n",
    "mean_temperature(img_ex3_demo_clean) # Expected result: ~ 7.49"
   ]
  },
  {
   "cell_type": "code",
   "execution_count": 97,
   "metadata": {},
   "outputs": [
    {
     "data": {
      "text/plain": [
       "-227.55000000000004"
      ]
     },
     "execution_count": 97,
     "metadata": {},
     "output_type": "execute_result"
    }
   ],
   "source": [
    "# Demo cell 1: Check the 1-D case, as an example (expected output is roughly -277.55)\n",
    "mean_temperature(np.array([-260.85, np.nan, -227.55, -194.25, np.nan]))"
   ]
  },
  {
   "cell_type": "code",
   "execution_count": 98,
   "metadata": {},
   "outputs": [
    {
     "data": {
      "text/plain": [
       "39.24372126540902"
      ]
     },
     "execution_count": 98,
     "metadata": {},
     "output_type": "execute_result"
    }
   ],
   "source": [
    "# Demo cell 2: Mean temperature in Atlanta (a.k.a., \"Hotlanta!\")\n",
    "mean_temperature(sat_demo_clean)"
   ]
  },
  {
   "cell_type": "code",
   "execution_count": 99,
   "metadata": {
    "deletable": false,
    "editable": false,
    "nbgrader": {
     "grade": true,
     "grade_id": "f_ex3__mean_temperature_2d",
     "locked": true,
     "points": "1",
     "solution": false
    }
   },
   "outputs": [
    {
     "name": "stdout",
     "output_type": "stream",
     "text": [
      "Testing...\n",
      "\n",
      "(Passed the 2-D case!)\n"
     ]
    },
    {
     "name": "stderr",
     "output_type": "stream",
     "text": [
      "<ipython-input-95-330645487524>:5: RuntimeWarning: Mean of empty slice\n",
      "  mean = np.nanmean(masked_array)\n"
     ]
    }
   ],
   "source": [
    "# Test cell 0: f_ex3__mean_temperature_2d (1 point)\n",
    "\n",
    "###\n",
    "### AUTOGRADER TEST - DO NOT REMOVE\n",
    "###\n",
    "\n",
    "from testing_tools import f_ex3__check\n",
    "print(\"Testing...\")\n",
    "for trial in range(250):\n",
    "    f_ex3__check(mean_temperature, ndim=2)\n",
    "\n",
    "mean_temperature__passed_2d = True\n",
    "print(\"\\n(Passed the 2-D case!)\")"
   ]
  },
  {
   "cell_type": "code",
   "execution_count": 100,
   "metadata": {
    "deletable": false,
    "editable": false,
    "nbgrader": {
     "grade": true,
     "grade_id": "f_ex3__mean_temperature_nd",
     "locked": true,
     "points": "1",
     "solution": false
    }
   },
   "outputs": [
    {
     "name": "stdout",
     "output_type": "stream",
     "text": [
      "Testing...\n",
      "\n",
      "(Passed the N-D case!)\n"
     ]
    },
    {
     "name": "stderr",
     "output_type": "stream",
     "text": [
      "<ipython-input-95-330645487524>:5: RuntimeWarning: Mean of empty slice\n",
      "  mean = np.nanmean(masked_array)\n"
     ]
    }
   ],
   "source": [
    "# Test cell 1: f_ex3__mean_temperature_nd (1 point)\n",
    "\n",
    "from testing_tools import f_ex3__check\n",
    "print(\"Testing...\")\n",
    "for trial in range(250):\n",
    "    f_ex3__check(mean_temperature, ndim=None)\n",
    "\n",
    "print(\"\\n(Passed the N-D case!)\")"
   ]
  },
  {
   "cell_type": "markdown",
   "metadata": {
    "deletable": false,
    "editable": false,
    "nbgrader": {
     "grade": false,
     "locked": true,
     "solution": false
    }
   },
   "source": [
    "**Sample result of `mean_temperature` (Exercise 3) for Atlanta.** If all of your code were working up until now, you could analyze the average temperature in each type of neighborhood by rating. You would see the result below. It shows that there is an observable difference in temperature based on the rating of the neighborhood -- a difference of 5 to 6 degrees Celsius is about 10 degrees Fahrenheit.\n",
    "\n",
    "> **Run this cell even if you did not complete Exercise 3.**"
   ]
  },
  {
   "cell_type": "code",
   "execution_count": 101,
   "metadata": {
    "deletable": false,
    "editable": false,
    "nbgrader": {
     "grade": false,
     "locked": true,
     "solution": false
    }
   },
   "outputs": [
    {
     "name": "stdout",
     "output_type": "stream",
     "text": [
      "Average temperatures in Atlanta during some summer day:\n",
      "*  Overall: ~ 39.2 degrees Celsius (~ 102.6 deg F)\n",
      "*  In 1930s 'A'-rated neighborhoods: ~ 35.3 degrees Celsius (~ 95.6 deg F)\n",
      "*  In 1930s 'B'-rated neighborhoods: ~ 37.6 degrees Celsius (~ 99.7 deg F)\n",
      "*  In 1930s 'C'-rated neighborhoods: ~ 39.3 degrees Celsius (~ 102.8 deg F)\n",
      "*  In 1930s 'D'-rated neighborhoods: ~ 41.5 degrees Celsius (~ 106.7 deg F)\n"
     ]
    }
   ],
   "source": [
    "f_ex3__sample_result();"
   ]
  },
  {
   "cell_type": "markdown",
   "metadata": {
    "deletable": false,
    "editable": false,
    "nbgrader": {
     "grade": false,
     "locked": true,
     "solution": false
    }
   },
   "source": [
    "## Part 3: Real estate data ##\n",
    "\n",
    "The last piece of data we'll incorporate is real estate data. Here is the raw data:"
   ]
  },
  {
   "cell_type": "code",
   "execution_count": 102,
   "metadata": {
    "deletable": false,
    "editable": false,
    "nbgrader": {
     "grade": false,
     "locked": true,
     "solution": false
    }
   },
   "outputs": [
    {
     "name": "stdout",
     "output_type": "stream",
     "text": [
      "Reading a regular pandas dataframe from './resource/asnlib/publicdata/Zip_zhvi_uc_sfrcondo_tier_0.33_0.67_sm_sa_mon.csv' ...\n",
      "\n",
      "Columns:\n",
      " Index(['RegionID', 'SizeRank', 'RegionName', 'RegionType', 'StateName',\n",
      "       'State', 'City', 'Metro', 'CountyName', '1996-01-31',\n",
      "       ...\n",
      "       '2020-01-31', '2020-02-29', '2020-03-31', '2020-04-30', '2020-05-31',\n",
      "       '2020-06-30', '2020-07-31', '2020-08-31', '2020-09-30', '2020-10-31'],\n",
      "      dtype='object', length=307) \n",
      "\n"
     ]
    },
    {
     "data": {
      "text/html": [
       "<div>\n",
       "<style scoped>\n",
       "    .dataframe tbody tr th:only-of-type {\n",
       "        vertical-align: middle;\n",
       "    }\n",
       "\n",
       "    .dataframe tbody tr th {\n",
       "        vertical-align: top;\n",
       "    }\n",
       "\n",
       "    .dataframe thead th {\n",
       "        text-align: right;\n",
       "    }\n",
       "</style>\n",
       "<table border=\"1\" class=\"dataframe\">\n",
       "  <thead>\n",
       "    <tr style=\"text-align: right;\">\n",
       "      <th></th>\n",
       "      <th>RegionID</th>\n",
       "      <th>SizeRank</th>\n",
       "      <th>RegionName</th>\n",
       "      <th>RegionType</th>\n",
       "      <th>StateName</th>\n",
       "      <th>State</th>\n",
       "      <th>City</th>\n",
       "      <th>Metro</th>\n",
       "      <th>CountyName</th>\n",
       "      <th>1996-01-31</th>\n",
       "      <th>...</th>\n",
       "      <th>2020-01-31</th>\n",
       "      <th>2020-02-29</th>\n",
       "      <th>2020-03-31</th>\n",
       "      <th>2020-04-30</th>\n",
       "      <th>2020-05-31</th>\n",
       "      <th>2020-06-30</th>\n",
       "      <th>2020-07-31</th>\n",
       "      <th>2020-08-31</th>\n",
       "      <th>2020-09-30</th>\n",
       "      <th>2020-10-31</th>\n",
       "    </tr>\n",
       "  </thead>\n",
       "  <tbody>\n",
       "    <tr>\n",
       "      <th>0</th>\n",
       "      <td>61639</td>\n",
       "      <td>0</td>\n",
       "      <td>10025</td>\n",
       "      <td>Zip</td>\n",
       "      <td>NY</td>\n",
       "      <td>NY</td>\n",
       "      <td>New York</td>\n",
       "      <td>New York-Newark-Jersey City</td>\n",
       "      <td>New York County</td>\n",
       "      <td>223469.0</td>\n",
       "      <td>...</td>\n",
       "      <td>1152491.0</td>\n",
       "      <td>1129471.0</td>\n",
       "      <td>1101051.0</td>\n",
       "      <td>1088618.0</td>\n",
       "      <td>1078931.0</td>\n",
       "      <td>1075287.0</td>\n",
       "      <td>1072738.0</td>\n",
       "      <td>1072625.0</td>\n",
       "      <td>1075648.0</td>\n",
       "      <td>1073416.0</td>\n",
       "    </tr>\n",
       "    <tr>\n",
       "      <th>1</th>\n",
       "      <td>84654</td>\n",
       "      <td>1</td>\n",
       "      <td>60657</td>\n",
       "      <td>Zip</td>\n",
       "      <td>IL</td>\n",
       "      <td>IL</td>\n",
       "      <td>Chicago</td>\n",
       "      <td>Chicago-Naperville-Elgin</td>\n",
       "      <td>Cook County</td>\n",
       "      <td>205864.0</td>\n",
       "      <td>...</td>\n",
       "      <td>476938.0</td>\n",
       "      <td>478070.0</td>\n",
       "      <td>479687.0</td>\n",
       "      <td>480848.0</td>\n",
       "      <td>481240.0</td>\n",
       "      <td>481907.0</td>\n",
       "      <td>483484.0</td>\n",
       "      <td>485902.0</td>\n",
       "      <td>489188.0</td>\n",
       "      <td>492585.0</td>\n",
       "    </tr>\n",
       "    <tr>\n",
       "      <th>2</th>\n",
       "      <td>61637</td>\n",
       "      <td>2</td>\n",
       "      <td>10023</td>\n",
       "      <td>Zip</td>\n",
       "      <td>NY</td>\n",
       "      <td>NY</td>\n",
       "      <td>New York</td>\n",
       "      <td>New York-Newark-Jersey City</td>\n",
       "      <td>New York County</td>\n",
       "      <td>227596.0</td>\n",
       "      <td>...</td>\n",
       "      <td>1105727.0</td>\n",
       "      <td>1118319.0</td>\n",
       "      <td>1118234.0</td>\n",
       "      <td>1126375.0</td>\n",
       "      <td>1129930.0</td>\n",
       "      <td>1132927.0</td>\n",
       "      <td>1133142.0</td>\n",
       "      <td>1136998.0</td>\n",
       "      <td>1149940.0</td>\n",
       "      <td>1152889.0</td>\n",
       "    </tr>\n",
       "  </tbody>\n",
       "</table>\n",
       "<p>3 rows × 307 columns</p>\n",
       "</div>"
      ],
      "text/plain": [
       "   RegionID  SizeRank  RegionName RegionType StateName State      City  \\\n",
       "0     61639         0       10025        Zip        NY    NY  New York   \n",
       "1     84654         1       60657        Zip        IL    IL   Chicago   \n",
       "2     61637         2       10023        Zip        NY    NY  New York   \n",
       "\n",
       "                         Metro       CountyName  1996-01-31  ...  2020-01-31  \\\n",
       "0  New York-Newark-Jersey City  New York County    223469.0  ...   1152491.0   \n",
       "1     Chicago-Naperville-Elgin      Cook County    205864.0  ...    476938.0   \n",
       "2  New York-Newark-Jersey City  New York County    227596.0  ...   1105727.0   \n",
       "\n",
       "   2020-02-29  2020-03-31  2020-04-30  2020-05-31  2020-06-30  2020-07-31  \\\n",
       "0   1129471.0   1101051.0   1088618.0   1078931.0   1075287.0   1072738.0   \n",
       "1    478070.0    479687.0    480848.0    481240.0    481907.0    483484.0   \n",
       "2   1118319.0   1118234.0   1126375.0   1129930.0   1132927.0   1133142.0   \n",
       "\n",
       "   2020-08-31  2020-09-30  2020-10-31  \n",
       "0   1072625.0   1075648.0   1073416.0  \n",
       "1    485902.0    489188.0    492585.0  \n",
       "2   1136998.0   1149940.0   1152889.0  \n",
       "\n",
       "[3 rows x 307 columns]"
      ]
     },
     "execution_count": 102,
     "metadata": {},
     "output_type": "execute_result"
    }
   ],
   "source": [
    "home_prices = load_df(\"Zip_zhvi_uc_sfrcondo_tier_0.33_0.67_sm_sa_mon.csv\") # From Zillow\n",
    "print(\"\\nColumns:\\n\", home_prices.columns, \"\\n\")\n",
    "home_prices.head(3)"
   ]
  },
  {
   "cell_type": "markdown",
   "metadata": {
    "deletable": false,
    "editable": false,
    "nbgrader": {
     "grade": false,
     "locked": true,
     "solution": false
    }
   },
   "source": [
    "This dataframe has a lot of information, but here are the elements you need:\n",
    "\n",
    "- Each row gives historical average home price estimates for different areas of the United States. The areas are uniquely identified by their 5-digit zip code, stored as integers in the `'RegionName'` column. Zip codes are areas that are _different_ from the neighborhoods you'd been considering previously.\n",
    "- The city and two-letter state abbreviations are given by the `'City'` and `'State'` columns. Their values match the city and state abbreviations you've seen in the other data.\n",
    "- The home price estimates appear in the columns given by numeric dates, in the string format `'yyyy-mm-dd'`."
   ]
  },
  {
   "cell_type": "markdown",
   "metadata": {
    "deletable": false,
    "editable": false,
    "nbgrader": {
     "grade": false,
     "locked": true,
     "solution": false
    }
   },
   "source": [
    "### Exercise 4: Cleaning the dataframe (2 points) ###\n",
    "\n",
    "Given a regular pandas dataframe `df` formatted like `home_prices` above, complete the function `clean_zip_prices(df)` so that it returns a new dataframe containing the following columns:\n",
    "\n",
    "- `'ZipCode'`: The 5-digit zip code, taken from the `'RegionName'` column and stored as integers.\n",
    "- `'City'`: The city name, taken directly from `'City'`.\n",
    "- `'State'`: The two-letter state abbreviation, taken directly from `'State'`.\n",
    "- `'Price'`: The home price, taken as the **latest** (most recent) date column and stored as floating-point values. In `home_prices`, the latest or most recent date is `'2020-10-31'`; therefore, the `'Price'` column of the output would contain the values from this column."
   ]
  },
  {
   "cell_type": "markdown",
   "metadata": {
    "deletable": false,
    "editable": false,
    "nbgrader": {
     "grade": false,
     "locked": true,
     "solution": false
    }
   },
   "source": [
    "For example, suppose `df` is the following:\n",
    "\n",
    "|    |   RegionID |   SizeRank |   RegionName | RegionType   | StateName   | State   | City            | Metro                    | CountyName         |   1996-01-31 |   2020-09-30 |   2020-10-31 |\n",
    "|---:|-----------:|-----------:|-------------:|:-------------|:------------|:--------|:----------------|:-------------------------|:-------------------|-------------:|-------------:|-------------:|\n",
    "|  0 |      98046 |       6533 |        95212 | Zip          | CA          | CA      | Stockton        | Stockton-Lodi            | San Joaquin County |          nan |       424606 |       430334 |\n",
    "|  1 |      68147 |      16308 |        24445 | Zip          | VA          | VA      | Hot Springs     | nan                      | Bath County        |          nan |       138424 |       138496 |\n",
    "|  2 |      84364 |       3748 |        60110 | Zip          | IL          | IL      | Carpentersville | Chicago-Naperville-Elgin | Kane County        |       138980 |       178311 |       179852 |\n",
    "\n",
    "Then your function would return:\n",
    "\n",
    "|    |   ZipCode | City            | State   |   Price   |\n",
    "|---:|----------:|:----------------|:--------|----------:|\n",
    "|  0 |     95212 | Stockton        | CA      |  430334.0 |\n",
    "|  1 |     24445 | Hot Springs     | VA      |  138496.0 |\n",
    "|  2 |     60110 | Carpentersville | IL      |  179852.0 |"
   ]
  },
  {
   "cell_type": "markdown",
   "metadata": {
    "deletable": false,
    "editable": false,
    "nbgrader": {
     "grade": false,
     "locked": true,
     "solution": false
    }
   },
   "source": [
    "> **Note 0:** We will test your code on randomly generated input dataframes. Therefore, your solution should only depend on the existence of the columns `'RegionName'`, `'City'`, `'State'`, and at least one column whose name is formatted as a date-string (`yyyy-mm-dd`). Any other columns may have different names from what is shown above and, in any case, are immaterial to your solution.\n",
    ">\n",
    "> **Note 1:** A helpful function for searching for column names matching a given pattern is [`df.filter`](https://pandas.pydata.org/pandas-docs/stable/reference/api/pandas.DataFrame.filter.html).\n",
    ">\n",
    "> **Note 2:** Row ordering does not matter, since we will use an `tibbles_are_equivalent`-type function to check for dataframe equivalence."
   ]
  },
  {
   "cell_type": "code",
   "execution_count": 177,
   "metadata": {},
   "outputs": [],
   "source": [
    "def clean_zip_prices(df):\n",
    "    assert isinstance(df, pd.DataFrame)\n",
    "    \n",
    "    import datetime\n",
    "    \n",
    "    columns = df.columns.tolist()\n",
    "    filtered_col = df.filter(regex='^\\d{4}-\\d{2}-\\d{2}$', axis=1)\n",
    "\n",
    "    sorted_filtered_col = sorted(filtered_col, reverse=True)\n",
    "    latest_date_col = sorted_filtered_col[0]\n",
    "    \n",
    "    new_df = df[[latest_date_col,'RegionName', 'City', 'State']].\\\n",
    "    rename(columns={'RegionName': 'ZipCode', latest_date_col: 'Price'})\n",
    "    \n",
    "    return new_df\n",
    "\n",
    "#     last_date = sorted(df.filter(regex='\\d{4}-\\d{2}-\\d{2}', axis=1).columns)[-1]\n",
    "#     df_new = df[['RegionName', 'City', 'State', last_date]]\n",
    "#     df_new = df_new.rename(columns={'RegionName': 'ZipCode', last_date: 'Price'})\n",
    "#     df_new['ZipCode'] = df_new['ZipCode'].astype(int)\n",
    "#     df_new['Price'] = df_new['Price'].astype(float)\n",
    "#     return df_new\n",
    "\n"
   ]
  },
  {
   "cell_type": "code",
   "execution_count": 178,
   "metadata": {},
   "outputs": [
    {
     "data": {
      "text/html": [
       "<div>\n",
       "<style scoped>\n",
       "    .dataframe tbody tr th:only-of-type {\n",
       "        vertical-align: middle;\n",
       "    }\n",
       "\n",
       "    .dataframe tbody tr th {\n",
       "        vertical-align: top;\n",
       "    }\n",
       "\n",
       "    .dataframe thead th {\n",
       "        text-align: right;\n",
       "    }\n",
       "</style>\n",
       "<table border=\"1\" class=\"dataframe\">\n",
       "  <thead>\n",
       "    <tr style=\"text-align: right;\">\n",
       "      <th></th>\n",
       "      <th>Price</th>\n",
       "      <th>ZipCode</th>\n",
       "      <th>City</th>\n",
       "      <th>State</th>\n",
       "    </tr>\n",
       "  </thead>\n",
       "  <tbody>\n",
       "    <tr>\n",
       "      <th>0</th>\n",
       "      <td>1073416.0</td>\n",
       "      <td>10025</td>\n",
       "      <td>New York</td>\n",
       "      <td>NY</td>\n",
       "    </tr>\n",
       "    <tr>\n",
       "      <th>1</th>\n",
       "      <td>492585.0</td>\n",
       "      <td>60657</td>\n",
       "      <td>Chicago</td>\n",
       "      <td>IL</td>\n",
       "    </tr>\n",
       "    <tr>\n",
       "      <th>2</th>\n",
       "      <td>1152889.0</td>\n",
       "      <td>10023</td>\n",
       "      <td>New York</td>\n",
       "      <td>NY</td>\n",
       "    </tr>\n",
       "    <tr>\n",
       "      <th>3</th>\n",
       "      <td>347871.0</td>\n",
       "      <td>77494</td>\n",
       "      <td>Katy</td>\n",
       "      <td>TX</td>\n",
       "    </tr>\n",
       "    <tr>\n",
       "      <th>4</th>\n",
       "      <td>629989.0</td>\n",
       "      <td>60614</td>\n",
       "      <td>Chicago</td>\n",
       "      <td>IL</td>\n",
       "    </tr>\n",
       "    <tr>\n",
       "      <th>...</th>\n",
       "      <td>...</td>\n",
       "      <td>...</td>\n",
       "      <td>...</td>\n",
       "      <td>...</td>\n",
       "    </tr>\n",
       "    <tr>\n",
       "      <th>30225</th>\n",
       "      <td>44241.0</td>\n",
       "      <td>47865</td>\n",
       "      <td>Carlisle</td>\n",
       "      <td>IN</td>\n",
       "    </tr>\n",
       "    <tr>\n",
       "      <th>30226</th>\n",
       "      <td>1343080.0</td>\n",
       "      <td>20052</td>\n",
       "      <td>Washington</td>\n",
       "      <td>DC</td>\n",
       "    </tr>\n",
       "    <tr>\n",
       "      <th>30227</th>\n",
       "      <td>30100.0</td>\n",
       "      <td>801</td>\n",
       "      <td>Charlotte Amalie</td>\n",
       "      <td>UT</td>\n",
       "    </tr>\n",
       "    <tr>\n",
       "      <th>30228</th>\n",
       "      <td>191183.0</td>\n",
       "      <td>820</td>\n",
       "      <td>Choudrant</td>\n",
       "      <td>LA</td>\n",
       "    </tr>\n",
       "    <tr>\n",
       "      <th>30229</th>\n",
       "      <td>190667.0</td>\n",
       "      <td>822</td>\n",
       "      <td>Choudrant</td>\n",
       "      <td>LA</td>\n",
       "    </tr>\n",
       "  </tbody>\n",
       "</table>\n",
       "<p>30230 rows × 4 columns</p>\n",
       "</div>"
      ],
      "text/plain": [
       "           Price  ZipCode              City State\n",
       "0      1073416.0    10025          New York    NY\n",
       "1       492585.0    60657           Chicago    IL\n",
       "2      1152889.0    10023          New York    NY\n",
       "3       347871.0    77494              Katy    TX\n",
       "4       629989.0    60614           Chicago    IL\n",
       "...          ...      ...               ...   ...\n",
       "30225    44241.0    47865          Carlisle    IN\n",
       "30226  1343080.0    20052        Washington    DC\n",
       "30227    30100.0      801  Charlotte Amalie    UT\n",
       "30228   191183.0      820         Choudrant    LA\n",
       "30229   190667.0      822         Choudrant    LA\n",
       "\n",
       "[30230 rows x 4 columns]"
      ]
     },
     "execution_count": 178,
     "metadata": {},
     "output_type": "execute_result"
    }
   ],
   "source": [
    "# Demo cell\n",
    "clean_zip_prices(home_prices)"
   ]
  },
  {
   "cell_type": "code",
   "execution_count": 179,
   "metadata": {
    "deletable": false,
    "editable": false,
    "nbgrader": {
     "grade": true,
     "grade_id": "f_ex4__clean_zip_prices",
     "locked": true,
     "points": "2",
     "solution": false
    }
   },
   "outputs": [
    {
     "name": "stdout",
     "output_type": "stream",
     "text": [
      "Testing...\n",
      "\n",
      "(Passed!)\n"
     ]
    }
   ],
   "source": [
    "# Test cell: f_ex4__clean_zip_prices (2 points)\n",
    "\n",
    "###\n",
    "### AUTOGRADER TEST - DO NOT REMOVE\n",
    "###\n",
    "\n",
    "from testing_tools import f_ex4__check\n",
    "print(\"Testing...\")\n",
    "for trial in range(250):\n",
    "    f_ex4__check(clean_zip_prices)\n",
    "\n",
    "print(\"\\n(Passed!)\")"
   ]
  },
  {
   "cell_type": "markdown",
   "metadata": {
    "deletable": false,
    "editable": false,
    "nbgrader": {
     "grade": false,
     "locked": true,
     "solution": false
    }
   },
   "source": [
    "**Sample result of `clean_zip_prices` (Exercise 4).** A successful implementation of Exercise 4 would produce a cleaned dataframe for `home_prices` as shown below.\n",
    "\n",
    "> **Run this cell even if you did not complete Exercise 4.**"
   ]
  },
  {
   "cell_type": "code",
   "execution_count": 180,
   "metadata": {
    "deletable": false,
    "editable": false,
    "nbgrader": {
     "grade": false,
     "locked": true,
     "solution": false
    }
   },
   "outputs": [
    {
     "name": "stdout",
     "output_type": "stream",
     "text": [
      "Opening pickle from './resource/asnlib/publicdata/zip-prices.pickle' ...\n"
     ]
    },
    {
     "data": {
      "text/html": [
       "<div>\n",
       "<style scoped>\n",
       "    .dataframe tbody tr th:only-of-type {\n",
       "        vertical-align: middle;\n",
       "    }\n",
       "\n",
       "    .dataframe tbody tr th {\n",
       "        vertical-align: top;\n",
       "    }\n",
       "\n",
       "    .dataframe thead th {\n",
       "        text-align: right;\n",
       "    }\n",
       "</style>\n",
       "<table border=\"1\" class=\"dataframe\">\n",
       "  <thead>\n",
       "    <tr style=\"text-align: right;\">\n",
       "      <th></th>\n",
       "      <th>ZipCode</th>\n",
       "      <th>City</th>\n",
       "      <th>State</th>\n",
       "      <th>Price</th>\n",
       "    </tr>\n",
       "  </thead>\n",
       "  <tbody>\n",
       "    <tr>\n",
       "      <th>0</th>\n",
       "      <td>10025</td>\n",
       "      <td>New York</td>\n",
       "      <td>NY</td>\n",
       "      <td>1073416.0</td>\n",
       "    </tr>\n",
       "    <tr>\n",
       "      <th>1</th>\n",
       "      <td>60657</td>\n",
       "      <td>Chicago</td>\n",
       "      <td>IL</td>\n",
       "      <td>492585.0</td>\n",
       "    </tr>\n",
       "    <tr>\n",
       "      <th>2</th>\n",
       "      <td>10023</td>\n",
       "      <td>New York</td>\n",
       "      <td>NY</td>\n",
       "      <td>1152889.0</td>\n",
       "    </tr>\n",
       "    <tr>\n",
       "      <th>3</th>\n",
       "      <td>77494</td>\n",
       "      <td>Katy</td>\n",
       "      <td>TX</td>\n",
       "      <td>347871.0</td>\n",
       "    </tr>\n",
       "    <tr>\n",
       "      <th>4</th>\n",
       "      <td>60614</td>\n",
       "      <td>Chicago</td>\n",
       "      <td>IL</td>\n",
       "      <td>629989.0</td>\n",
       "    </tr>\n",
       "  </tbody>\n",
       "</table>\n",
       "</div>"
      ],
      "text/plain": [
       "   ZipCode      City State      Price\n",
       "0    10025  New York    NY  1073416.0\n",
       "1    60657   Chicago    IL   492585.0\n",
       "2    10023  New York    NY  1152889.0\n",
       "3    77494      Katy    TX   347871.0\n",
       "4    60614   Chicago    IL   629989.0"
      ]
     },
     "execution_count": 180,
     "metadata": {},
     "output_type": "execute_result"
    }
   ],
   "source": [
    "home_prices_clean = f_ex4__sample_result()\n",
    "home_prices_clean.head()"
   ]
  },
  {
   "cell_type": "markdown",
   "metadata": {
    "deletable": false,
    "editable": false,
    "nbgrader": {
     "grade": false,
     "locked": true,
     "solution": false
    }
   },
   "source": [
    "### Zip code boundaries ###\n",
    "\n",
    "To merge the home prices with the neighborhood rating information, we need the geographic boundaries of the zip codes. The following code loads a geopandas dataframe with this information:"
   ]
  },
  {
   "cell_type": "code",
   "execution_count": 181,
   "metadata": {
    "deletable": false,
    "editable": false,
    "nbgrader": {
     "grade": false,
     "locked": true,
     "solution": false
    }
   },
   "outputs": [
    {
     "name": "stdout",
     "output_type": "stream",
     "text": [
      "Opening pickle from './resource/asnlib/publicdata/tl_2017_us_zcta510.pickle' ...\n"
     ]
    },
    {
     "name": "stderr",
     "output_type": "stream",
     "text": [
      "/usr/local/lib/python3.8/site-packages/pyproj/crs/crs.py:53: FutureWarning: '+init=<authority>:<code>' syntax is deprecated. '<authority>:<code>' is the preferred initialization method. When making the change, be mindful of axis order changes: https://pyproj4.github.io/pyproj/stable/gotchas.html#axis-order-changes-in-proj-6\n",
      "  return _prepare_from_string(\" \".join(pjargs))\n"
     ]
    },
    {
     "data": {
      "text/html": [
       "<div>\n",
       "<style scoped>\n",
       "    .dataframe tbody tr th:only-of-type {\n",
       "        vertical-align: middle;\n",
       "    }\n",
       "\n",
       "    .dataframe tbody tr th {\n",
       "        vertical-align: top;\n",
       "    }\n",
       "\n",
       "    .dataframe thead th {\n",
       "        text-align: right;\n",
       "    }\n",
       "</style>\n",
       "<table border=\"1\" class=\"dataframe\">\n",
       "  <thead>\n",
       "    <tr style=\"text-align: right;\">\n",
       "      <th></th>\n",
       "      <th>GEOID10</th>\n",
       "      <th>geometry</th>\n",
       "    </tr>\n",
       "  </thead>\n",
       "  <tbody>\n",
       "    <tr>\n",
       "      <th>0</th>\n",
       "      <td>43451</td>\n",
       "      <td>POLYGON ((-83.70873 41.32733, -83.70815 41.327...</td>\n",
       "    </tr>\n",
       "    <tr>\n",
       "      <th>1</th>\n",
       "      <td>43452</td>\n",
       "      <td>POLYGON ((-83.08698 41.53780, -83.08256 41.537...</td>\n",
       "    </tr>\n",
       "    <tr>\n",
       "      <th>2</th>\n",
       "      <td>43456</td>\n",
       "      <td>MULTIPOLYGON (((-82.83558 41.71082, -82.83515 ...</td>\n",
       "    </tr>\n",
       "  </tbody>\n",
       "</table>\n",
       "</div>"
      ],
      "text/plain": [
       "  GEOID10                                           geometry\n",
       "0   43451  POLYGON ((-83.70873 41.32733, -83.70815 41.327...\n",
       "1   43452  POLYGON ((-83.08698 41.53780, -83.08256 41.537...\n",
       "2   43456  MULTIPOLYGON (((-82.83558 41.71082, -82.83515 ..."
      ]
     },
     "execution_count": 181,
     "metadata": {},
     "output_type": "execute_result"
    }
   ],
   "source": [
    "zip_geo = load_pickle('tl_2017_us_zcta510.pickle')\n",
    "zip_geo.head(3)"
   ]
  },
  {
   "cell_type": "markdown",
   "metadata": {
    "deletable": false,
    "editable": false,
    "nbgrader": {
     "grade": false,
     "locked": true,
     "solution": false
    }
   },
   "source": [
    "This dataframe has just two columns: the zip code, stored as a **string** in the column named `'GEOID10'`, and `'geometry'`, which holds the shape of the zip code's area. Being stored in a geopandas dataframe, each zip code's boundary can be visualized easily and a bounding box computed, as the code cell below demonstrates.\n",
    "\n",
    "> **Note 0:** Zip codes in this dataframe are stored as strings, rather than integers as in the pricing dataframe.\n",
    ">\n",
    "> **Note 1:** The sample zip code visualized by the following code cell is a bit unusual in that it consists of three spatially disconnected regions. However, that won't matter. Just note that each zip code is associated with some shape, just like the neighborhoods of the 1930s ratings data."
   ]
  },
  {
   "cell_type": "code",
   "execution_count": 182,
   "metadata": {
    "deletable": false,
    "editable": false,
    "nbgrader": {
     "grade": false,
     "locked": true,
     "solution": false
    }
   },
   "outputs": [
    {
     "data": {
      "image/png": "[encoded data removed]",
      "text/plain": [
       "<Figure size 432x288 with 1 Axes>"
      ]
     },
     "metadata": {
      "needs_background": "light"
     },
     "output_type": "display_data"
    }
   ],
   "source": [
    "plot_multipolygon(zip_geo.loc[2, 'geometry'], color='blue')\n",
    "plot_bounding_box(zip_geo.loc[2, 'geometry'].bounds, color='black', linestyle='dashed')"
   ]
  },
  {
   "cell_type": "markdown",
   "metadata": {
    "deletable": false,
    "editable": false,
    "nbgrader": {
     "grade": false,
     "locked": true,
     "solution": false
    }
   },
   "source": [
    "### Exercise 5 (last one!): Merging price and geographic boundaries (2 points) ###\n",
    "\n",
    "Complete the function, `merge_prices_with_geo(prices_clean, zip_gdf)`, so that it merges price information stored in `prices_clean` with geographic boundaries stored in `zip_gdf`.\n",
    "\n",
    "- The `prices_clean` object is a **pandas** dataframe that will have four columns, `'ZipCode'`, `'City'`, `'State'`, and `'Price'`, as would be produced by `clean_home_prices` (Exercise 4).\n",
    "- The `zip_gdf` input is a **geopandas** dataframe with two columns, `'GEOID10'` and `'geometry'`.\n",
    "- Your function should return a new **geopandas** dataframe with five columns: `'ZipCode'`, `'City'`, `'State'`, `'Price'`, and `'geometry'`.\n",
    "\n",
    "> **Note 0:** Recall that the `'ZipCode'` column of `prices_clean` stores values as integers, whereas the `'GEOID10'` column of `zip_gdf` stores values as strings. In your final result, store the `'ZipCode'` column using integer values.\n",
    ">\n",
    "> **Note 1:** We are only interested in zip codes with _both_ price information _and_ known geographic boundaries. That is, if a zip code is missing in either `prices_clean` or `zip_gdf`, you should ignore and omit it from your output.\n",
    ">\n",
    "> **Note 2:** If `df` is a pandas dataframe, you can convert it to a geopandas one simply by calling `geopandas.GeoDataFrame(df)`."
   ]
  },
  {
   "cell_type": "code",
   "execution_count": 201,
   "metadata": {},
   "outputs": [],
   "source": [
    "def merge_prices_with_geo(prices_clean, zip_gdf):\n",
    "    assert isinstance(prices_clean, pd.DataFrame)\n",
    "    assert isinstance(zip_gdf, geopandas.GeoDataFrame)\n",
    "    \n",
    "    zip_gdf['GEOID10'] = zip_gdf['GEOID10'].apply(pd.to_numeric)\n",
    "    \n",
    "    prices_clean['ZipCode'] = prices_clean['ZipCode'].dropna()\n",
    "    zip_gdf['GEOID10'] = zip_gdf['GEOID10'].dropna()\n",
    "    \n",
    "    df = prices_clean.merge(zip_gdf, left_on='ZipCode', right_on='GEOID10')\n",
    "    \n",
    "    df = df.drop(columns='GEOID10')\n",
    "    \n",
    "    return geopandas.GeoDataFrame(df)\n",
    "\n",
    "\n",
    "    zip_gdf_int = zip_gdf.copy()\n",
    "    zip_gdf_int['ZipCode'] = zip_gdf_int['GEOID10'].astype(int)\n",
    "    prices_gdf = geopandas.GeoDataFrame(prices_clean)\n",
    "    return prices_gdf.merge(zip_gdf_int[['ZipCode', 'geometry']], on='ZipCode')\n"
   ]
  },
  {
   "cell_type": "code",
   "execution_count": 202,
   "metadata": {},
   "outputs": [
    {
     "data": {
      "text/html": [
       "<div>\n",
       "<style scoped>\n",
       "    .dataframe tbody tr th:only-of-type {\n",
       "        vertical-align: middle;\n",
       "    }\n",
       "\n",
       "    .dataframe tbody tr th {\n",
       "        vertical-align: top;\n",
       "    }\n",
       "\n",
       "    .dataframe thead th {\n",
       "        text-align: right;\n",
       "    }\n",
       "</style>\n",
       "<table border=\"1\" class=\"dataframe\">\n",
       "  <thead>\n",
       "    <tr style=\"text-align: right;\">\n",
       "      <th></th>\n",
       "      <th>ZipCode</th>\n",
       "      <th>City</th>\n",
       "      <th>State</th>\n",
       "      <th>Price</th>\n",
       "      <th>geometry</th>\n",
       "    </tr>\n",
       "  </thead>\n",
       "  <tbody>\n",
       "    <tr>\n",
       "      <th>0</th>\n",
       "      <td>10025</td>\n",
       "      <td>New York</td>\n",
       "      <td>NY</td>\n",
       "      <td>1073416.0</td>\n",
       "      <td>POLYGON ((-73.97701 40.79281, -73.97695 40.792...</td>\n",
       "    </tr>\n",
       "    <tr>\n",
       "      <th>1</th>\n",
       "      <td>60657</td>\n",
       "      <td>Chicago</td>\n",
       "      <td>IL</td>\n",
       "      <td>492585.0</td>\n",
       "      <td>POLYGON ((-87.67850 41.94504, -87.67802 41.945...</td>\n",
       "    </tr>\n",
       "    <tr>\n",
       "      <th>2</th>\n",
       "      <td>10023</td>\n",
       "      <td>New York</td>\n",
       "      <td>NY</td>\n",
       "      <td>1152889.0</td>\n",
       "      <td>POLYGON ((-73.99015 40.77231, -73.98992 40.773...</td>\n",
       "    </tr>\n",
       "  </tbody>\n",
       "</table>\n",
       "</div>"
      ],
      "text/plain": [
       "   ZipCode      City State      Price  \\\n",
       "0    10025  New York    NY  1073416.0   \n",
       "1    60657   Chicago    IL   492585.0   \n",
       "2    10023  New York    NY  1152889.0   \n",
       "\n",
       "                                            geometry  \n",
       "0  POLYGON ((-73.97701 40.79281, -73.97695 40.792...  \n",
       "1  POLYGON ((-87.67850 41.94504, -87.67802 41.945...  \n",
       "2  POLYGON ((-73.99015 40.77231, -73.98992 40.773...  "
      ]
     },
     "execution_count": 202,
     "metadata": {},
     "output_type": "execute_result"
    }
   ],
   "source": [
    "# Demo cell\n",
    "merge_prices_with_geo(home_prices_clean, zip_geo).head(3)"
   ]
  },
  {
   "cell_type": "code",
   "execution_count": 203,
   "metadata": {},
   "outputs": [
    {
     "data": {
      "text/html": [
       "<div>\n",
       "<style scoped>\n",
       "    .dataframe tbody tr th:only-of-type {\n",
       "        vertical-align: middle;\n",
       "    }\n",
       "\n",
       "    .dataframe tbody tr th {\n",
       "        vertical-align: top;\n",
       "    }\n",
       "\n",
       "    .dataframe thead th {\n",
       "        text-align: right;\n",
       "    }\n",
       "</style>\n",
       "<table border=\"1\" class=\"dataframe\">\n",
       "  <thead>\n",
       "    <tr style=\"text-align: right;\">\n",
       "      <th></th>\n",
       "      <th>ZipCode</th>\n",
       "      <th>City</th>\n",
       "      <th>State</th>\n",
       "      <th>Price</th>\n",
       "      <th>geometry</th>\n",
       "    </tr>\n",
       "  </thead>\n",
       "  <tbody>\n",
       "    <tr>\n",
       "      <th>0</th>\n",
       "      <td>10025</td>\n",
       "      <td>New York</td>\n",
       "      <td>NY</td>\n",
       "      <td>1073416.0</td>\n",
       "      <td>POLYGON ((-73.97701 40.79281, -73.97695 40.792...</td>\n",
       "    </tr>\n",
       "    <tr>\n",
       "      <th>1</th>\n",
       "      <td>60657</td>\n",
       "      <td>Chicago</td>\n",
       "      <td>IL</td>\n",
       "      <td>492585.0</td>\n",
       "      <td>POLYGON ((-87.67850 41.94504, -87.67802 41.945...</td>\n",
       "    </tr>\n",
       "    <tr>\n",
       "      <th>2</th>\n",
       "      <td>10023</td>\n",
       "      <td>New York</td>\n",
       "      <td>NY</td>\n",
       "      <td>1152889.0</td>\n",
       "      <td>POLYGON ((-73.99015 40.77231, -73.98992 40.773...</td>\n",
       "    </tr>\n",
       "  </tbody>\n",
       "</table>\n",
       "</div>"
      ],
      "text/plain": [
       "   ZipCode      City State      Price  \\\n",
       "0    10025  New York    NY  1073416.0   \n",
       "1    60657   Chicago    IL   492585.0   \n",
       "2    10023  New York    NY  1152889.0   \n",
       "\n",
       "                                            geometry  \n",
       "0  POLYGON ((-73.97701 40.79281, -73.97695 40.792...  \n",
       "1  POLYGON ((-87.67850 41.94504, -87.67802 41.945...  \n",
       "2  POLYGON ((-73.99015 40.77231, -73.98992 40.773...  "
      ]
     },
     "execution_count": 203,
     "metadata": {},
     "output_type": "execute_result"
    }
   ],
   "source": [
    "merge_prices_with_geo(home_prices_clean, zip_geo).head(3)"
   ]
  },
  {
   "cell_type": "code",
   "execution_count": 204,
   "metadata": {
    "deletable": false,
    "editable": false,
    "nbgrader": {
     "grade": true,
     "grade_id": "f_ex5__merge_prices_with_geo",
     "locked": true,
     "points": "2",
     "solution": false
    },
    "scrolled": false
   },
   "outputs": [
    {
     "name": "stdout",
     "output_type": "stream",
     "text": [
      "Testing...\n",
      "\n",
      "(Passed!)\n"
     ]
    }
   ],
   "source": [
    "# Test cell: f_ex5__merge_prices_with_geo (2 points)\n",
    "\n",
    "###\n",
    "### AUTOGRADER TEST - DO NOT REMOVE\n",
    "###\n",
    "\n",
    "from testing_tools import f_ex5__check\n",
    "print(\"Testing...\")\n",
    "for trial in range(250):\n",
    "    f_ex5__check(merge_prices_with_geo)\n",
    "\n",
    "print(\"\\n(Passed!)\")"
   ]
  },
  {
   "cell_type": "markdown",
   "metadata": {
    "deletable": false,
    "editable": false,
    "nbgrader": {
     "grade": false,
     "locked": true,
     "solution": false
    }
   },
   "source": [
    "## Part 4: Fin! (Epilogue and _optional_ wrap-up) ##\n",
    "\n",
    "There are no additional required exercises — you’ve reached the end of the final exam and, therefore, of the class! Don’t forget to restart and run all cells again to make sure it’s all working when run in sequence; and make sure your work passes the submission process. Good luck!\n",
    "\n",
    "The code cells below provide a bit more supplementary information and analysis. If you've finished early and want to try an interesting analysis, give the optional \"Exercise 6,\" below, a shot!"
   ]
  },
  {
   "cell_type": "markdown",
   "metadata": {
    "deletable": false,
    "editable": false,
    "nbgrader": {
     "grade": false,
     "locked": true,
     "solution": false
    }
   },
   "source": [
    "**Sample result of `merge_prices_with_geo` (Exercise 5).** One incredibly cool feature of geopandas is that it can do spatial (geographic) queries for you. For instance, let's merge the neighborhood rating data with the housing price data. The geopandas merging routines will account for how the geographic zones in one dataframe intersect with the other.\n",
    "\n",
    "Visually, imagine laying the two \"geographies\" on top of one another, as illustrated below. (The shading corresponds with house prices by zip code regions, and the hollow polygons correspond to neighborhoods.)\n",
    "\n",
    "![Overlaying neighborhoods and zip code boundaries](./resource/asnlib/public/real-estate-with-neighborhoods.png)\n",
    "\n",
    "If a neighborhood overlaps with two zip codes, the merge can create two rows in the output for each combination of (neighborhood, zip code). That allows you to run subsequent queries, like examining the relationship between rating and price."
   ]
  },
  {
   "cell_type": "markdown",
   "metadata": {
    "deletable": false,
    "editable": false,
    "nbgrader": {
     "grade": false,
     "locked": true,
     "solution": false
    }
   },
   "source": [
    "We have carried out this merge for you. Run the cell below to load that precomputed result into a geopandas dataframe named `neighborhood_prices` (as opposed to the original, `neighborhood_ratings`)."
   ]
  },
  {
   "cell_type": "code",
   "execution_count": 205,
   "metadata": {
    "deletable": false,
    "editable": false,
    "nbgrader": {
     "grade": false,
     "locked": true,
     "solution": false
    }
   },
   "outputs": [
    {
     "name": "stdout",
     "output_type": "stream",
     "text": [
      "Opening pickle from './resource/asnlib/publicdata/prices-geo.pickle' ...\n"
     ]
    },
    {
     "name": "stderr",
     "output_type": "stream",
     "text": [
      "/usr/local/lib/python3.8/site-packages/pyproj/crs/crs.py:53: FutureWarning: '+init=<authority>:<code>' syntax is deprecated. '<authority>:<code>' is the preferred initialization method. When making the change, be mindful of axis order changes: https://pyproj4.github.io/pyproj/stable/gotchas.html#axis-order-changes-in-proj-6\n",
      "  return _prepare_from_string(\" \".join(pjargs))\n"
     ]
    },
    {
     "data": {
      "text/html": [
       "<div>\n",
       "<style scoped>\n",
       "    .dataframe tbody tr th:only-of-type {\n",
       "        vertical-align: middle;\n",
       "    }\n",
       "\n",
       "    .dataframe tbody tr th {\n",
       "        vertical-align: top;\n",
       "    }\n",
       "\n",
       "    .dataframe thead th {\n",
       "        text-align: right;\n",
       "    }\n",
       "</style>\n",
       "<table border=\"1\" class=\"dataframe\">\n",
       "  <thead>\n",
       "    <tr style=\"text-align: right;\">\n",
       "      <th></th>\n",
       "      <th>state</th>\n",
       "      <th>city</th>\n",
       "      <th>name</th>\n",
       "      <th>holc_id</th>\n",
       "      <th>holc_grade</th>\n",
       "      <th>area_description_data</th>\n",
       "      <th>ZipCode</th>\n",
       "      <th>Price</th>\n",
       "      <th>geometry</th>\n",
       "    </tr>\n",
       "  </thead>\n",
       "  <tbody>\n",
       "    <tr>\n",
       "      <th>0</th>\n",
       "      <td>AL</td>\n",
       "      <td>Birmingham</td>\n",
       "      <td>Mountain Brook Estates and Country Club Garden...</td>\n",
       "      <td>A1</td>\n",
       "      <td>A</td>\n",
       "      <td>{'5': 'Both sales and rental prices in 1929 we...</td>\n",
       "      <td>35223</td>\n",
       "      <td>610462.0</td>\n",
       "      <td>MULTIPOLYGON (((-86.76062 33.49298, -86.76202 ...</td>\n",
       "    </tr>\n",
       "    <tr>\n",
       "      <th>1</th>\n",
       "      <td>AL</td>\n",
       "      <td>Birmingham</td>\n",
       "      <td>Redmont Park, Rockridge Park, Warwick Manor, a...</td>\n",
       "      <td>A2</td>\n",
       "      <td>A</td>\n",
       "      <td>{'5': 'Both sales and rental prices in 1929 we...</td>\n",
       "      <td>35223</td>\n",
       "      <td>610462.0</td>\n",
       "      <td>MULTIPOLYGON (((-86.77425 33.49538, -86.77430 ...</td>\n",
       "    </tr>\n",
       "    <tr>\n",
       "      <th>2</th>\n",
       "      <td>AL</td>\n",
       "      <td>Birmingham</td>\n",
       "      <td>Colonial Hills, Pine Crest (outside city limits)</td>\n",
       "      <td>A3</td>\n",
       "      <td>A</td>\n",
       "      <td>{'5': 'Generally speaking, houses are not buil...</td>\n",
       "      <td>35223</td>\n",
       "      <td>610462.0</td>\n",
       "      <td>POLYGON ((-86.75454 33.48883, -86.76227 33.488...</td>\n",
       "    </tr>\n",
       "    <tr>\n",
       "      <th>3</th>\n",
       "      <td>AL</td>\n",
       "      <td>Birmingham</td>\n",
       "      <td>Grove Park, Hollywood, Mayfair, and Edgewood s...</td>\n",
       "      <td>B1</td>\n",
       "      <td>B</td>\n",
       "      <td>{'5': 'Both sales and rental prices in 1929 we...</td>\n",
       "      <td>35223</td>\n",
       "      <td>610462.0</td>\n",
       "      <td>MULTIPOLYGON (((-86.77070 33.47585, -86.76970 ...</td>\n",
       "    </tr>\n",
       "    <tr>\n",
       "      <th>4</th>\n",
       "      <td>AL</td>\n",
       "      <td>Birmingham</td>\n",
       "      <td>First Addition to South Highlands</td>\n",
       "      <td>B3</td>\n",
       "      <td>B</td>\n",
       "      <td>{'5': 'Both sales and rental prices in 1929 we...</td>\n",
       "      <td>35223</td>\n",
       "      <td>610462.0</td>\n",
       "      <td>POLYGON ((-86.77843 33.49367, -86.77847 33.490...</td>\n",
       "    </tr>\n",
       "  </tbody>\n",
       "</table>\n",
       "</div>"
      ],
      "text/plain": [
       "  state        city                                               name  \\\n",
       "0    AL  Birmingham  Mountain Brook Estates and Country Club Garden...   \n",
       "1    AL  Birmingham  Redmont Park, Rockridge Park, Warwick Manor, a...   \n",
       "2    AL  Birmingham   Colonial Hills, Pine Crest (outside city limits)   \n",
       "3    AL  Birmingham  Grove Park, Hollywood, Mayfair, and Edgewood s...   \n",
       "4    AL  Birmingham                  First Addition to South Highlands   \n",
       "\n",
       "  holc_id holc_grade                              area_description_data  \\\n",
       "0      A1          A  {'5': 'Both sales and rental prices in 1929 we...   \n",
       "1      A2          A  {'5': 'Both sales and rental prices in 1929 we...   \n",
       "2      A3          A  {'5': 'Generally speaking, houses are not buil...   \n",
       "3      B1          B  {'5': 'Both sales and rental prices in 1929 we...   \n",
       "4      B3          B  {'5': 'Both sales and rental prices in 1929 we...   \n",
       "\n",
       "   ZipCode     Price                                           geometry  \n",
       "0    35223  610462.0  MULTIPOLYGON (((-86.76062 33.49298, -86.76202 ...  \n",
       "1    35223  610462.0  MULTIPOLYGON (((-86.77425 33.49538, -86.77430 ...  \n",
       "2    35223  610462.0  POLYGON ((-86.75454 33.48883, -86.76227 33.488...  \n",
       "3    35223  610462.0  MULTIPOLYGON (((-86.77070 33.47585, -86.76970 ...  \n",
       "4    35223  610462.0  POLYGON ((-86.77843 33.49367, -86.77847 33.490...  "
      ]
     },
     "execution_count": 205,
     "metadata": {},
     "output_type": "execute_result"
    }
   ],
   "source": [
    "neighborhood_prices = f_ex5__sample_result()\n",
    "neighborhood_prices.head()"
   ]
  },
  {
   "cell_type": "markdown",
   "metadata": {
    "deletable": false,
    "editable": false,
    "nbgrader": {
     "grade": false,
     "locked": true,
     "solution": false
    }
   },
   "source": [
    "If we consider just the Atlanta area, here is how today's average house price varies by that original 1930s neighborhood rating.\n",
    "\n",
    "> This code cell requires a working solution to Exercise 0."
   ]
  },
  {
   "cell_type": "code",
   "execution_count": 206,
   "metadata": {
    "deletable": false,
    "editable": false,
    "nbgrader": {
     "grade": false,
     "locked": true,
     "solution": false
    }
   },
   "outputs": [
    {
     "name": "stdout",
     "output_type": "stream",
     "text": [
      "Average house price in Atlanta, GA:\n",
      "*  Overall: ~ $398,127.40\n",
      "*  In 1930s 'A'-rated neighborhoods: ~ $589,818.12\n",
      "*  In 1930s 'B'-rated neighborhoods: ~ $445,985.37\n",
      "*  In 1930s 'C'-rated neighborhoods: ~ $393,349.46\n",
      "*  In 1930s 'D'-rated neighborhoods: ~ $317,403.05\n"
     ]
    }
   ],
   "source": [
    "from testing_tools import f_ex5b__sample_result\n",
    "\n",
    "if 'filter_ratings__passed' in globals() and filter_ratings__passed:\n",
    "    f_ex5b__sample_result(neighborhood_prices, 'Atlanta, GA', filter_ratings) # Try other cities!\n",
    "else:\n",
    "    print(\"This code cell was not run because it needs a working version of `filter_ratings` from Exercise 0.\")"
   ]
  },
  {
   "cell_type": "markdown",
   "metadata": {
    "deletable": false,
    "editable": false,
    "nbgrader": {
     "grade": false,
     "locked": true,
     "solution": false
    }
   },
   "source": [
    "### OPTIONAL Exercise 6: Put it all together (no points) ###\n",
    "\n",
    "We've provided satellite images for not just Atlanta, but all the cities defined in the dictionary below. Use all of your code from earlier exercises to repeat the Atlanta analysis for all other neighborhoods.\n",
    "\n",
    "In particular, construct a table that shows, for each city, the percent differences in mean temperature and house price among the A/B/C/D-rated neighborhoods. Then try running a multiple regression (Notebook 12) to see how the 1930s rating predicts them.\n",
    "\n",
    "> _Hint:_ To conduct the regression analysis, you'll want to \"dummy-code\" the ratings variable, since it is categorical (A, B, C, and D values). See [this explanation](https://stats.idre.ucla.edu/spss/faq/coding-systems-for-categorical-variables-in-regression-analysis-2/#DUMMYCODING) if you aren't familiar with this practice. When you construct the data matrix, pandas's [`pd.get_dummies()`](https://pandas.pydata.org/pandas-docs/stable/reference/api/pandas.get_dummies.html) function is a good tool."
   ]
  },
  {
   "cell_type": "code",
   "execution_count": 208,
   "metadata": {
    "scrolled": false
   },
   "outputs": [
    {
     "name": "stdout",
     "output_type": "stream",
     "text": [
      "Processing Birmingham, AL [image=LC08_CU_022014_20200614_20200628_C01_V01_ST--EPSG_4326.tif] ...\n",
      "Processing Los Angeles, CA [image=LC08_CU_003012_20200703_20200709_C01_V01_ST--EPSG_4326.tif] ...\n",
      "Processing Denver, CO [image=LC08_CU_012009_20200812_20200824_C01_V01_ST--EPSG_4326.tif] ...\n",
      "Processing New Haven, CT [image=LC08_CU_029006_20200613_20200627_C01_V01_ST--EPSG_4326.tif] ...\n",
      "Processing Jacksonville, FL [image=LC08_CU_026016_20160709_20190430_C01_V01_ST--EPSG_4326.tif] ...\n",
      "Processing Atlanta, GA [image=LC08_CU_024013_20190808_20190822_C01_V01_ST--EPSG_4326.tif] ...\n",
      "Processing Chicago, IL [image=LC08_CU_021007_20160624_20181205_C01_V01_ST--EPSG_4326.tif] ...\n",
      "Processing Indianapolis, IN [image=LC08_CU_022009_20200824_20200907_C01_V01_ST--EPSG_4326.tif] ...\n",
      "Processing Louisville, KY [image=LC08_CU_023010_20200817_20200825_C01_V01_ST--EPSG_4326.tif] ...\n",
      "Processing New Orleans, LA [image=LC08_CU_020016_20200612_20200627_C01_V01_ST--EPSG_4326.tif] ...\n",
      "Processing Boston, MA [image=LC08_CU_030006_20180719_20190614_C01_V01_ST--EPSG_4326.tif] ...\n",
      "Processing Baltimore, MD [image=LC08_CU_028008_20190812_20190822_C01_V01_ST--EPSG_4326.tif] ...\n",
      "Processing Detroit, MI [image=LC08_CU_024007_20190714_20190723_C01_V01_ST--EPSG_4326.tif] ...\n",
      "Processing Minneapolis, MN [image=LC08_CU_018005_20190613_20190621_C01_V01_ST--EPSG_4326.tif] ...\n",
      "Processing St.Louis, MO [image=LC08_CU_020010_20180723_20190614_C01_V01_ST--EPSG_4326.tif] ...\n",
      "Processing Charlotte, NC [image=LC08_CU_026012_20180823_20190614_C01_V01_ST--EPSG_4326.tif] ...\n",
      "Processing Bergen Co., NJ [image=LC08_CU_029007_20190830_20190919_C01_V01_ST--EPSG_4326.tif] ...\n",
      "Processing Manhattan, NY [image=LC08_CU_029007_20190830_20190919_C01_V01_ST--EPSG_4326.tif] ...\n",
      "Processing Brooklyn, NY [image=LC08_CU_029007_20190830_20190919_C01_V01_ST--EPSG_4326.tif] ...\n",
      "Processing Columbus, OH [image=LC08_CU_024009_20190824_20190908_C01_V01_ST--EPSG_4326.tif] ...\n",
      "Processing Portland, OR [image=LE07_CU_003003_20190813_20190910_C01_V01_ST--EPSG_4326.tif] ...\n",
      "Processing Philadelphia, PA [image=LC08_CU_028008_20190720_20190803_C01_V01_ST--EPSG_4326.tif] ...\n",
      "Processing Nashville, TN [image=LC08_CU_022012_20190603_20190621_C01_V01_ST--EPSG_4326.tif] ...\n",
      "Processing Dallas, TX [image=LC08_CU_016014_20190816_20190906_C01_V01_ST--EPSG_4326.tif] ...\n",
      "Processing Richmond, VA [image=LC08_CU_027010_20190727_20190803_C01_V01_ST--EPSG_4326.tif] ...\n",
      "Processing Seattle, WA [image=LC08_CU_003002_20190828_20190905_C01_V01_ST--EPSG_4326.tif] ...\n",
      "Processing Milwaukee Co., WI [image=LC08_CU_021007_20180801_20190614_C01_V01_ST--EPSG_4326.tif] ...\n",
      "Processing Charleston, WV [image=LC08_CU_025010_20190817_20190905_C01_V01_ST--EPSG_4326.tif] ...\n"
     ]
    },
    {
     "data": {
      "text/html": [
       "<div>\n",
       "<style scoped>\n",
       "    .dataframe tbody tr th:only-of-type {\n",
       "        vertical-align: middle;\n",
       "    }\n",
       "\n",
       "    .dataframe tbody tr th {\n",
       "        vertical-align: top;\n",
       "    }\n",
       "\n",
       "    .dataframe thead tr th {\n",
       "        text-align: left;\n",
       "    }\n",
       "</style>\n",
       "<table border=\"1\" class=\"dataframe\">\n",
       "  <thead>\n",
       "    <tr>\n",
       "      <th></th>\n",
       "      <th>city_st</th>\n",
       "      <th colspan=\"4\" halign=\"left\">delta_degC</th>\n",
       "      <th colspan=\"4\" halign=\"left\">%price</th>\n",
       "    </tr>\n",
       "    <tr>\n",
       "      <th>ratings</th>\n",
       "      <th></th>\n",
       "      <th>A</th>\n",
       "      <th>B</th>\n",
       "      <th>C</th>\n",
       "      <th>D</th>\n",
       "      <th>A</th>\n",
       "      <th>B</th>\n",
       "      <th>C</th>\n",
       "      <th>D</th>\n",
       "    </tr>\n",
       "  </thead>\n",
       "  <tbody>\n",
       "    <tr>\n",
       "      <th>0</th>\n",
       "      <td>Atlanta, GA</td>\n",
       "      <td>-3.9</td>\n",
       "      <td>-1.6</td>\n",
       "      <td>0.1</td>\n",
       "      <td>2.3</td>\n",
       "      <td>48.1</td>\n",
       "      <td>12.0</td>\n",
       "      <td>-1.2</td>\n",
       "      <td>-20.3</td>\n",
       "    </tr>\n",
       "    <tr>\n",
       "      <th>1</th>\n",
       "      <td>Baltimore, MD</td>\n",
       "      <td>-2.7</td>\n",
       "      <td>-1.2</td>\n",
       "      <td>1.2</td>\n",
       "      <td>2.8</td>\n",
       "      <td>11.1</td>\n",
       "      <td>10.6</td>\n",
       "      <td>-4.7</td>\n",
       "      <td>-14.8</td>\n",
       "    </tr>\n",
       "    <tr>\n",
       "      <th>2</th>\n",
       "      <td>Bergen Co., NJ</td>\n",
       "      <td>-2.9</td>\n",
       "      <td>-1.0</td>\n",
       "      <td>0.2</td>\n",
       "      <td>2.3</td>\n",
       "      <td>22.4</td>\n",
       "      <td>3.3</td>\n",
       "      <td>-1.1</td>\n",
       "      <td>-10.3</td>\n",
       "    </tr>\n",
       "    <tr>\n",
       "      <th>3</th>\n",
       "      <td>Birmingham, AL</td>\n",
       "      <td>-3.6</td>\n",
       "      <td>0.1</td>\n",
       "      <td>1.6</td>\n",
       "      <td>-0.2</td>\n",
       "      <td>166.6</td>\n",
       "      <td>52.9</td>\n",
       "      <td>-27.6</td>\n",
       "      <td>-35.2</td>\n",
       "    </tr>\n",
       "    <tr>\n",
       "      <th>4</th>\n",
       "      <td>Boston, MA</td>\n",
       "      <td>-5.4</td>\n",
       "      <td>-0.9</td>\n",
       "      <td>-0.2</td>\n",
       "      <td>2.3</td>\n",
       "      <td>17.9</td>\n",
       "      <td>3.4</td>\n",
       "      <td>-5.6</td>\n",
       "      <td>6.1</td>\n",
       "    </tr>\n",
       "    <tr>\n",
       "      <th>5</th>\n",
       "      <td>Brooklyn, NY</td>\n",
       "      <td>-0.0</td>\n",
       "      <td>-0.2</td>\n",
       "      <td>-0.2</td>\n",
       "      <td>0.3</td>\n",
       "      <td>-32.8</td>\n",
       "      <td>-4.9</td>\n",
       "      <td>-2.0</td>\n",
       "      <td>5.5</td>\n",
       "    </tr>\n",
       "    <tr>\n",
       "      <th>6</th>\n",
       "      <td>Charleston, WV</td>\n",
       "      <td>-2.8</td>\n",
       "      <td>0.6</td>\n",
       "      <td>1.1</td>\n",
       "      <td>-1.0</td>\n",
       "      <td>21.5</td>\n",
       "      <td>-3.6</td>\n",
       "      <td>-5.0</td>\n",
       "      <td>3.8</td>\n",
       "    </tr>\n",
       "    <tr>\n",
       "      <th>7</th>\n",
       "      <td>Charlotte, NC</td>\n",
       "      <td>-2.4</td>\n",
       "      <td>-0.6</td>\n",
       "      <td>0.5</td>\n",
       "      <td>1.1</td>\n",
       "      <td>38.5</td>\n",
       "      <td>27.2</td>\n",
       "      <td>-17.6</td>\n",
       "      <td>-7.4</td>\n",
       "    </tr>\n",
       "    <tr>\n",
       "      <th>8</th>\n",
       "      <td>Chicago, IL</td>\n",
       "      <td>-5.3</td>\n",
       "      <td>-1.9</td>\n",
       "      <td>0.8</td>\n",
       "      <td>0.8</td>\n",
       "      <td>103.7</td>\n",
       "      <td>23.7</td>\n",
       "      <td>-11.5</td>\n",
       "      <td>-24.1</td>\n",
       "    </tr>\n",
       "    <tr>\n",
       "      <th>9</th>\n",
       "      <td>Columbus, OH</td>\n",
       "      <td>-1.6</td>\n",
       "      <td>-0.1</td>\n",
       "      <td>0.3</td>\n",
       "      <td>0.8</td>\n",
       "      <td>27.5</td>\n",
       "      <td>5.5</td>\n",
       "      <td>-4.0</td>\n",
       "      <td>-10.9</td>\n",
       "    </tr>\n",
       "    <tr>\n",
       "      <th>10</th>\n",
       "      <td>Dallas, TX</td>\n",
       "      <td>-3.0</td>\n",
       "      <td>-1.1</td>\n",
       "      <td>1.0</td>\n",
       "      <td>1.9</td>\n",
       "      <td>57.8</td>\n",
       "      <td>-3.8</td>\n",
       "      <td>-20.1</td>\n",
       "      <td>-20.3</td>\n",
       "    </tr>\n",
       "    <tr>\n",
       "      <th>11</th>\n",
       "      <td>Denver, CO</td>\n",
       "      <td>11.6</td>\n",
       "      <td>1.5</td>\n",
       "      <td>-2.8</td>\n",
       "      <td>0.2</td>\n",
       "      <td>12.2</td>\n",
       "      <td>10.4</td>\n",
       "      <td>-0.5</td>\n",
       "      <td>-11.8</td>\n",
       "    </tr>\n",
       "    <tr>\n",
       "      <th>12</th>\n",
       "      <td>Detroit, MI</td>\n",
       "      <td>-3.0</td>\n",
       "      <td>-0.8</td>\n",
       "      <td>0.0</td>\n",
       "      <td>1.0</td>\n",
       "      <td>59.1</td>\n",
       "      <td>14.9</td>\n",
       "      <td>-1.4</td>\n",
       "      <td>-19.9</td>\n",
       "    </tr>\n",
       "    <tr>\n",
       "      <th>13</th>\n",
       "      <td>Indianapolis, IN</td>\n",
       "      <td>-1.7</td>\n",
       "      <td>-0.5</td>\n",
       "      <td>-0.3</td>\n",
       "      <td>1.2</td>\n",
       "      <td>15.5</td>\n",
       "      <td>-1.4</td>\n",
       "      <td>-3.2</td>\n",
       "      <td>1.1</td>\n",
       "    </tr>\n",
       "    <tr>\n",
       "      <th>14</th>\n",
       "      <td>Jacksonville, FL</td>\n",
       "      <td>-3.7</td>\n",
       "      <td>-0.6</td>\n",
       "      <td>0.1</td>\n",
       "      <td>0.9</td>\n",
       "      <td>32.5</td>\n",
       "      <td>7.7</td>\n",
       "      <td>-7.8</td>\n",
       "      <td>-10.0</td>\n",
       "    </tr>\n",
       "    <tr>\n",
       "      <th>15</th>\n",
       "      <td>Los Angeles, CA</td>\n",
       "      <td>-5.2</td>\n",
       "      <td>-0.8</td>\n",
       "      <td>1.2</td>\n",
       "      <td>1.1</td>\n",
       "      <td>40.5</td>\n",
       "      <td>7.9</td>\n",
       "      <td>-6.9</td>\n",
       "      <td>-22.2</td>\n",
       "    </tr>\n",
       "    <tr>\n",
       "      <th>16</th>\n",
       "      <td>Louisville, KY</td>\n",
       "      <td>-2.5</td>\n",
       "      <td>-0.4</td>\n",
       "      <td>0.3</td>\n",
       "      <td>1.9</td>\n",
       "      <td>46.7</td>\n",
       "      <td>10.0</td>\n",
       "      <td>-12.7</td>\n",
       "      <td>-15.3</td>\n",
       "    </tr>\n",
       "    <tr>\n",
       "      <th>17</th>\n",
       "      <td>Manhattan, NY</td>\n",
       "      <td>-1.0</td>\n",
       "      <td>-1.0</td>\n",
       "      <td>0.0</td>\n",
       "      <td>0.6</td>\n",
       "      <td>1.0</td>\n",
       "      <td>-12.3</td>\n",
       "      <td>-12.9</td>\n",
       "      <td>7.5</td>\n",
       "    </tr>\n",
       "    <tr>\n",
       "      <th>18</th>\n",
       "      <td>Milwaukee Co., WI</td>\n",
       "      <td>-2.9</td>\n",
       "      <td>0.4</td>\n",
       "      <td>-0.2</td>\n",
       "      <td>0.7</td>\n",
       "      <td>29.8</td>\n",
       "      <td>12.0</td>\n",
       "      <td>-5.4</td>\n",
       "      <td>-10.3</td>\n",
       "    </tr>\n",
       "    <tr>\n",
       "      <th>19</th>\n",
       "      <td>Minneapolis, MN</td>\n",
       "      <td>-2.8</td>\n",
       "      <td>-0.7</td>\n",
       "      <td>1.0</td>\n",
       "      <td>2.0</td>\n",
       "      <td>4.5</td>\n",
       "      <td>6.0</td>\n",
       "      <td>-4.7</td>\n",
       "      <td>-6.0</td>\n",
       "    </tr>\n",
       "    <tr>\n",
       "      <th>20</th>\n",
       "      <td>Nashville, TN</td>\n",
       "      <td>-2.2</td>\n",
       "      <td>-0.3</td>\n",
       "      <td>-0.2</td>\n",
       "      <td>1.3</td>\n",
       "      <td>20.7</td>\n",
       "      <td>5.3</td>\n",
       "      <td>0.5</td>\n",
       "      <td>-11.2</td>\n",
       "    </tr>\n",
       "    <tr>\n",
       "      <th>21</th>\n",
       "      <td>New Haven, CT</td>\n",
       "      <td>-3.2</td>\n",
       "      <td>-1.5</td>\n",
       "      <td>0.8</td>\n",
       "      <td>1.8</td>\n",
       "      <td>8.2</td>\n",
       "      <td>-1.5</td>\n",
       "      <td>-4.9</td>\n",
       "      <td>5.9</td>\n",
       "    </tr>\n",
       "    <tr>\n",
       "      <th>22</th>\n",
       "      <td>New Orleans, LA</td>\n",
       "      <td>-1.9</td>\n",
       "      <td>-0.7</td>\n",
       "      <td>0.2</td>\n",
       "      <td>0.2</td>\n",
       "      <td>16.6</td>\n",
       "      <td>13.7</td>\n",
       "      <td>2.0</td>\n",
       "      <td>-10.7</td>\n",
       "    </tr>\n",
       "    <tr>\n",
       "      <th>23</th>\n",
       "      <td>Philadelphia, PA</td>\n",
       "      <td>-4.4</td>\n",
       "      <td>-1.2</td>\n",
       "      <td>1.6</td>\n",
       "      <td>2.9</td>\n",
       "      <td>34.9</td>\n",
       "      <td>4.9</td>\n",
       "      <td>-15.0</td>\n",
       "      <td>-10.5</td>\n",
       "    </tr>\n",
       "    <tr>\n",
       "      <th>24</th>\n",
       "      <td>Portland, OR</td>\n",
       "      <td>-5.8</td>\n",
       "      <td>0.0</td>\n",
       "      <td>0.7</td>\n",
       "      <td>2.1</td>\n",
       "      <td>13.2</td>\n",
       "      <td>1.7</td>\n",
       "      <td>-7.8</td>\n",
       "      <td>7.6</td>\n",
       "    </tr>\n",
       "    <tr>\n",
       "      <th>25</th>\n",
       "      <td>Richmond, VA</td>\n",
       "      <td>-3.0</td>\n",
       "      <td>-0.3</td>\n",
       "      <td>0.2</td>\n",
       "      <td>1.6</td>\n",
       "      <td>18.9</td>\n",
       "      <td>11.8</td>\n",
       "      <td>-5.6</td>\n",
       "      <td>-20.7</td>\n",
       "    </tr>\n",
       "    <tr>\n",
       "      <th>26</th>\n",
       "      <td>Seattle, WA</td>\n",
       "      <td>-3.2</td>\n",
       "      <td>-0.6</td>\n",
       "      <td>1.0</td>\n",
       "      <td>-0.2</td>\n",
       "      <td>8.1</td>\n",
       "      <td>3.0</td>\n",
       "      <td>-1.0</td>\n",
       "      <td>-8.9</td>\n",
       "    </tr>\n",
       "    <tr>\n",
       "      <th>27</th>\n",
       "      <td>St.Louis, MO</td>\n",
       "      <td>-2.0</td>\n",
       "      <td>0.2</td>\n",
       "      <td>0.1</td>\n",
       "      <td>1.2</td>\n",
       "      <td>40.6</td>\n",
       "      <td>-11.2</td>\n",
       "      <td>-12.6</td>\n",
       "      <td>-14.2</td>\n",
       "    </tr>\n",
       "  </tbody>\n",
       "</table>\n",
       "</div>"
      ],
      "text/plain": [
       "                   city_st delta_degC                %price                  \n",
       "ratings                             A    B    C    D      A     B     C     D\n",
       "0              Atlanta, GA       -3.9 -1.6  0.1  2.3   48.1  12.0  -1.2 -20.3\n",
       "1            Baltimore, MD       -2.7 -1.2  1.2  2.8   11.1  10.6  -4.7 -14.8\n",
       "2           Bergen Co., NJ       -2.9 -1.0  0.2  2.3   22.4   3.3  -1.1 -10.3\n",
       "3           Birmingham, AL       -3.6  0.1  1.6 -0.2  166.6  52.9 -27.6 -35.2\n",
       "4               Boston, MA       -5.4 -0.9 -0.2  2.3   17.9   3.4  -5.6   6.1\n",
       "5             Brooklyn, NY       -0.0 -0.2 -0.2  0.3  -32.8  -4.9  -2.0   5.5\n",
       "6           Charleston, WV       -2.8  0.6  1.1 -1.0   21.5  -3.6  -5.0   3.8\n",
       "7            Charlotte, NC       -2.4 -0.6  0.5  1.1   38.5  27.2 -17.6  -7.4\n",
       "8              Chicago, IL       -5.3 -1.9  0.8  0.8  103.7  23.7 -11.5 -24.1\n",
       "9             Columbus, OH       -1.6 -0.1  0.3  0.8   27.5   5.5  -4.0 -10.9\n",
       "10              Dallas, TX       -3.0 -1.1  1.0  1.9   57.8  -3.8 -20.1 -20.3\n",
       "11              Denver, CO       11.6  1.5 -2.8  0.2   12.2  10.4  -0.5 -11.8\n",
       "12             Detroit, MI       -3.0 -0.8  0.0  1.0   59.1  14.9  -1.4 -19.9\n",
       "13        Indianapolis, IN       -1.7 -0.5 -0.3  1.2   15.5  -1.4  -3.2   1.1\n",
       "14        Jacksonville, FL       -3.7 -0.6  0.1  0.9   32.5   7.7  -7.8 -10.0\n",
       "15         Los Angeles, CA       -5.2 -0.8  1.2  1.1   40.5   7.9  -6.9 -22.2\n",
       "16          Louisville, KY       -2.5 -0.4  0.3  1.9   46.7  10.0 -12.7 -15.3\n",
       "17           Manhattan, NY       -1.0 -1.0  0.0  0.6    1.0 -12.3 -12.9   7.5\n",
       "18       Milwaukee Co., WI       -2.9  0.4 -0.2  0.7   29.8  12.0  -5.4 -10.3\n",
       "19         Minneapolis, MN       -2.8 -0.7  1.0  2.0    4.5   6.0  -4.7  -6.0\n",
       "20           Nashville, TN       -2.2 -0.3 -0.2  1.3   20.7   5.3   0.5 -11.2\n",
       "21           New Haven, CT       -3.2 -1.5  0.8  1.8    8.2  -1.5  -4.9   5.9\n",
       "22         New Orleans, LA       -1.9 -0.7  0.2  0.2   16.6  13.7   2.0 -10.7\n",
       "23        Philadelphia, PA       -4.4 -1.2  1.6  2.9   34.9   4.9 -15.0 -10.5\n",
       "24            Portland, OR       -5.8  0.0  0.7  2.1   13.2   1.7  -7.8   7.6\n",
       "25            Richmond, VA       -3.0 -0.3  0.2  1.6   18.9  11.8  -5.6 -20.7\n",
       "26             Seattle, WA       -3.2 -0.6  1.0 -0.2    8.1   3.0  -1.0  -8.9\n",
       "27            St.Louis, MO       -2.0  0.2  0.1  1.2   40.6 -11.2 -12.6 -14.2"
      ]
     },
     "metadata": {},
     "output_type": "display_data"
    },
    {
     "name": "stdout",
     "output_type": "stream",
     "text": [
      "Regressing on neighborhood ratings ('A', 'B', 'C', 'D')):\n",
      "* Response 'delta_degC' has these weights: [-2.51785714 -0.54285714  0.36071429  1.21071429]\n",
      "* Response '%price' has these weights: [31.61785714  7.47142857 -7.15357143 -9.91071429]\n"
     ]
    }
   ],
   "source": [
    "# Develop your analysis here!\n",
    "\n",
    "# Merges neighborhood ratings, satellite image with temperatures, and Zillow data\n",
    "# for a given city and (optionally) target rating. Returns the mean temperature\n",
    "# and house price.\n",
    "def merge_city(neighborhood_ratings, satimg, neighborhood_prices, city_st, targets=None):\n",
    "    ratings = filter_ratings(neighborhood_ratings, city_st, targets)\n",
    "    satimg_clean = mask_image_by_geodf(satimg, ratings)\n",
    "    degC = mean_temperature(masked_to_degC(satimg_clean))\n",
    "    prices = filter_ratings(neighborhood_prices, city_st, targets)\n",
    "    price = prices['Price'].mean()\n",
    "    return degC, price\n",
    "\n",
    "# Merges data for every city having ratings, a temperature satellite image, and prices\n",
    "def merge_all_data(ratings, images, prices):\n",
    "    all_rows = []\n",
    "    for city_st, satimg_filename in images.items():\n",
    "        print(f\"Processing {city_st} [image={satimg_filename}] ...\")\n",
    "        satimg = load_satellite_image(satimg_filename, verbose=False)\n",
    "        degC_overall, price_overall = merge_city(ratings, satimg, prices, city_st)\n",
    "        for rating in ['A', 'B', 'C', 'D']:\n",
    "            degC_r, price_r = merge_city(ratings, satimg, prices, city_st, targets={rating})\n",
    "            delta_degC = round(degC_r - degC_overall, 1)\n",
    "            price_percent = round((price_r - price_overall) / price_overall * 100.0, 1)\n",
    "            all_rows.append((city_st, rating, delta_degC, price_percent))\n",
    "    return pd.DataFrame(all_rows, columns=['city_st', 'ratings', 'delta_degC', '%price'])\n",
    "\n",
    "# Construct a data matrix from a table with a single categorical predictor\n",
    "def build_matrix_dataframe(df, continuous=[], categorical=[], standardize=False, add_bias_term=False):\n",
    "    df_data = df[continuous] if continuous else pd.DataFrame()\n",
    "    if standardize:\n",
    "        for col in continuous:\n",
    "            mu = df[col].mean(skipna=True)\n",
    "            df_data[col] = (df[col] - mu) / mu\n",
    "    for col in categorical:\n",
    "        df_cat_col = pd.get_dummies(df[col], prefix=col)\n",
    "        df_data = pd.concat([df_data, df_cat_col], axis=0)\n",
    "    if add_bias_term:\n",
    "        df_data['__ones__'] = np.ones(len(df))\n",
    "    return df_data\n",
    "\n",
    "# ========== Analysis begins here ==========\n",
    "\n",
    "# First, verify that dependent functions work:\n",
    "if not ('filter_ratings__passed' in globals() and filter_ratings__passed \\\n",
    "        and 'mean_temperature__passed_2d' in globals() and mean_temperature__passed_2d \\\n",
    "        and 'masked_to_degC__passed_2d' in globals() and masked_to_degC__passed_2d \\\n",
    "        ):\n",
    "    print(\"This code cell was not run because it needs working solutions from earlier exercises.\")\n",
    "    assert False, \"*** Stopping execution here. ***\"\n",
    "\n",
    "summary_tibble = merge_all_data(neighborhood_ratings, satellite_image_data, neighborhood_prices)\n",
    "summary_df = summary_tibble.pivot(index='city_st', values=['delta_degC', '%price'], columns=['ratings']).reset_index()\n",
    "display(summary_df)\n",
    "\n",
    "from numpy.linalg import lstsq\n",
    "print(f\"Regressing on neighborhood ratings {tuple(summary_tibble['ratings'].unique())}):\")\n",
    "X = build_matrix_dataframe(summary_tibble, categorical=['ratings']).values\n",
    "for response in ['delta_degC', '%price']:\n",
    "    y = summary_tibble[response]\n",
    "    theta, _, _, _ = lstsq(X, y, rcond=None)\n",
    "    print(f\"* Response '{response}' has these weights: {theta.T}\")\n",
    "    \n"
   ]
  },
  {
   "cell_type": "code",
   "execution_count": 209,
   "metadata": {
    "collapsed": true,
    "deletable": false,
    "editable": false,
    "nbgrader": {
     "grade": false,
     "locked": true,
     "solution": false
    }
   },
   "outputs": [],
   "source": [
    "# Cities and their available satellite images\n",
    "satellite_image_data = {\n",
    "    'Birmingham, AL': 'LC08_CU_022014_20200614_20200628_C01_V01_ST--EPSG_4326.tif'\n",
    "    , 'Los Angeles, CA': 'LC08_CU_003012_20200703_20200709_C01_V01_ST--EPSG_4326.tif'\n",
    "    , 'Denver, CO': 'LC08_CU_012009_20200812_20200824_C01_V01_ST--EPSG_4326.tif' # incomplete\n",
    "    , 'New Haven, CT': 'LC08_CU_029006_20200613_20200627_C01_V01_ST--EPSG_4326.tif' # incomplete\n",
    "    , 'Jacksonville, FL': 'LC08_CU_026016_20160709_20190430_C01_V01_ST--EPSG_4326.tif' # mostly complete\n",
    "    , 'Atlanta, GA': 'LC08_CU_024013_20190808_20190822_C01_V01_ST--EPSG_4326.tif'\n",
    "    , 'Chicago, IL': 'LC08_CU_021007_20160624_20181205_C01_V01_ST--EPSG_4326.tif' # incomplete (multi-tile)\n",
    "    , 'Indianapolis, IN': 'LC08_CU_022009_20200824_20200907_C01_V01_ST--EPSG_4326.tif'\n",
    "    , 'Louisville, KY': 'LC08_CU_023010_20200817_20200825_C01_V01_ST--EPSG_4326.tif' # incomplete (multi-tile)\n",
    "    , 'New Orleans, LA': 'LC08_CU_020016_20200612_20200627_C01_V01_ST--EPSG_4326.tif'\n",
    "    , 'Boston, MA': 'LC08_CU_030006_20180719_20190614_C01_V01_ST--EPSG_4326.tif' # incomplete (multi-tile)\n",
    "    , 'Baltimore, MD': 'LC08_CU_028008_20190812_20190822_C01_V01_ST--EPSG_4326.tif'  # mostly complete\n",
    "    , 'Detroit, MI': 'LC08_CU_024007_20190714_20190723_C01_V01_ST--EPSG_4326.tif'  # mostly complete\n",
    "    , 'Minneapolis, MN': 'LC08_CU_018005_20190613_20190621_C01_V01_ST--EPSG_4326.tif'\n",
    "    , 'St.Louis, MO': 'LC08_CU_020010_20180723_20190614_C01_V01_ST--EPSG_4326.tif'\n",
    "    , 'Charlotte, NC': 'LC08_CU_026012_20180823_20190614_C01_V01_ST--EPSG_4326.tif'\n",
    "    , 'Bergen Co., NJ': 'LC08_CU_029007_20190830_20190919_C01_V01_ST--EPSG_4326.tif'\n",
    "    , 'Manhattan, NY': 'LC08_CU_029007_20190830_20190919_C01_V01_ST--EPSG_4326.tif' # same tile as Bergen Co., NJ!\n",
    "    , 'Brooklyn, NY': 'LC08_CU_029007_20190830_20190919_C01_V01_ST--EPSG_4326.tif' # same tile as Bergen Co., NJ!\n",
    "    , 'Columbus, OH': 'LC08_CU_024009_20190824_20190908_C01_V01_ST--EPSG_4326.tif' # partial\n",
    "    , 'Portland, OR': 'LE07_CU_003003_20190813_20190910_C01_V01_ST--EPSG_4326.tif'\n",
    "    , 'Philadelphia, PA': 'LC08_CU_028008_20190720_20190803_C01_V01_ST--EPSG_4326.tif'\n",
    "    , 'Nashville, TN': 'LC08_CU_022012_20190603_20190621_C01_V01_ST--EPSG_4326.tif'\n",
    "    , 'Dallas, TX': 'LC08_CU_016014_20190816_20190906_C01_V01_ST--EPSG_4326.tif'\n",
    "    , 'Richmond, VA': 'LC08_CU_027010_20190727_20190803_C01_V01_ST--EPSG_4326.tif'\n",
    "    , 'Seattle, WA': 'LC08_CU_003002_20190828_20190905_C01_V01_ST--EPSG_4326.tif' # partial\n",
    "    , 'Milwaukee Co., WI': 'LC08_CU_021007_20180801_20190614_C01_V01_ST--EPSG_4326.tif'\n",
    "    , 'Charleston, WV': 'LC08_CU_025010_20190817_20190905_C01_V01_ST--EPSG_4326.tif'\n",
    "}"
   ]
  },
  {
   "cell_type": "markdown",
   "metadata": {
    "deletable": false,
    "editable": false,
    "nbgrader": {
     "grade": false,
     "locked": true,
     "solution": false
    }
   },
   "source": [
    "**Epilogue.** The analysis in this notebook is inspired by a [New York Times article](https://www.nytimes.com/interactive/2019/08/09/climate/city-heat-islands.html) about the disproportionate affects of climate on different racial and socioeconomic groups. What you've done in this notebook just scratches the surface of that analysis, available in [this paper](https://www.mdpi.com/2225-1154/8/1/12/htm), but we hope you can appreciate how remarkable it is that with just a semester's worth of experience, this kind of data analysis is well within your grasp!\n",
    "\n",
    "Indeed, although we ended up cutting it out of the problem, you could easily imagine applying any number of the analyses from Notebooks 12-15, starting with simple regression models that relate ratings with temperature and home prices.\n",
    "\n",
    "Data sources for this notebook:\n",
    "- Redlining data: The [_Mapping Inequality_ website](dsl.richmond.edu/panorama/redlining)\n",
    "- Satellite data: The [US Geological Survey (USGS) Earth Explorer](https://earthexplorer.usgs.gov) (we used the \"provisional land surface temperature\" images)\n",
    "- Real estate data: [Zillow Home Price Forecast Data for Researchers](https://www.zillow.com/research/data)\n",
    "- Geographic boundaries for zip codes: [this blog post](https://n8henrie.com/uploads/2017/11/plotting-us-census-data-with-python-and-geopandas.html), which derives this information from US Census Data (see the post for details)"
   ]
  }
 ],
 "metadata": {
  "kernelspec": {
   "display_name": "Python 3.8",
   "language": "python",
   "name": "python38"
  },
  "language_info": {
   "codemirror_mode": {
    "name": "ipython",
    "version": 3
   },
   "file_extension": ".py",
   "mimetype": "text/x-python",
   "name": "python",
   "nbconvert_exporter": "python",
   "pygments_lexer": "ipython3",
   "version": "3.8.7"
  }
 },
 "nbformat": 4,
 "nbformat_minor": 4
}
