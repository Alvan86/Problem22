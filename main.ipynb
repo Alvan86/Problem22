{
 "cells": [
  {
   "cell_type": "markdown",
   "metadata": {
    "deletable": false,
    "editable": false,
    "nbgrader": {
     "grade": false,
     "locked": true,
     "solution": false
    },
    "tags": [
     "notebook_header"
    ]
   },
   "source": [
    "# `Final Exam`, `Fall 2022`: `Time Series Analysis of US Inflation`\n",
    "_Version 1.0.1_\n",
    "\n",
    "Change history:   \n",
    "1.0.1 - bugfix ex2 test code.  \n",
    "1.0 - initial release  \n",
    "\n",
    "*All of the header information is important. Please read it..*\n",
    "\n",
    "**Topics, number of exercises:** This problem builds on your knowledge of Pandas, Numpy, basic Python data structures, and implementing mathematical functions. It has **9** exercises, numbered 0 to **8**. There are **18** available points. However, to earn 100% the threshold is **13** points. (Therefore, once you hit **13** points, you can stop. There is no extra credit for exceeding this threshold.)\n",
    "\n",
    "**Exercise ordering:** Each exercise builds logically on previous exercises, but you may solve them in any order. That is, if you can't solve an exercise, you can still move on and try the next one. Use this to your advantage, as the exercises are **not** necessarily ordered in terms of difficulty. Higher point values generally indicate more difficult exercises. \n",
    "\n",
    "**Demo cells:** Code cells starting with the comment `### define demo inputs` load results from prior exercises applied to the entire data set and use those to build demo inputs. These must be run for subsequent demos to work properly, but they do not affect the test cells. The data loaded in these cells may be rather large (at least in terms of human readability). You are free to print or otherwise use Python to explore them, but we did not print them in the starter code.\n",
    "\n",
    "**Debugging your code:** Right before each exercise test cell, there is a block of text explaining the variables available to you for debugging. You may use these to test your code and can print/display them as needed (careful when printing large objects, you may want to print the head or chunks of rows at a time).\n",
    "\n",
    "**Exercise point breakdown:**\n",
    "\n",
    "- Exercise 0: **1** point(s)\n",
    "- Exercise 1: **1** point(s)\n",
    "- Exercise 2: **2** point(s)\n",
    "- Exercise 3: **2** point(s)\n",
    "- Exercise 4: **2** point(s)\n",
    "- Exercise 5: **2** point(s)\n",
    "- Exercise 6: **2** point(s)\n",
    "- Exercise 7: **3** point(s)\n",
    "- Exercise 8: **3** point(s)\n",
    "\n",
    "**Final reminders:** \n",
    "\n",
    "- Submit after **every exercise**\n",
    "- Review the generated grade report after you submit to see what errors were returned\n",
    "- Stay calm, skip problems as needed, and take short breaks at your leisure\n"
   ]
  },
  {
   "cell_type": "markdown",
   "metadata": {
    "deletable": false,
    "editable": false,
    "nbgrader": {
     "grade": false,
     "locked": true,
     "solution": false
    },
    "tags": [
     "topic_intro"
    ]
   },
   "source": [
    "## Background Inflation\n",
    "\n",
    "Inflation is an increase in overall prices in an economy over time. Deflation is \"negative inflation\", a decrease in prices over time. A common way to measure inflation is to first calculate the CPI (price of a representative basket of goods), then compute the difference in CPI over a time interval. In other words if the CPI is 100 at one point in time, and the CPI is 105 one year later then we would say that the inflation rate over that year was 5%.\n",
    "\n",
    "## Data\n",
    "\n",
    "We have obtained the US CPI for each month going back to the early 20th century from The Organisation for Economic Co-operation and Development. \n",
    "\n",
    "## Analysis goals\n",
    "- Use the CPI data to calculate the inflation rate at any point in history over an arbitrary number of months.\n",
    "- Attempt to predict the inflation rate in future months based on the inflation rate in previous months using exponential smoothing models.\n",
    "    - Evaluate how \"good\" the predictions are.\n",
    "    - Tune the models to pick the best parameters.\n",
    "    - Make inferences based on the selected parameters."
   ]
  },
  {
   "cell_type": "code",
   "execution_count": 1,
   "metadata": {
    "deletable": false,
    "editable": false,
    "nbgrader": {
     "grade": false,
     "locked": true,
     "solution": false
    },
    "tags": [
     "global_imports"
    ]
   },
   "outputs": [],
   "source": [
    "### Global Imports\n",
    "###\n",
    "### AUTOGRADER TEST - DO NOT REMOVE\n",
    "###\n",
    "import pandas as pd\n",
    "import numpy as np\n",
    "import pickle\n",
    "from matplotlib import pyplot as plt"
   ]
  },
  {
   "cell_type": "markdown",
   "metadata": {
    "deletable": false,
    "editable": false,
    "nbgrader": {
     "grade": false,
     "locked": true,
     "solution": false
    },
    "tags": [
     "exercise_text"
    ]
   },
   "source": [
    "## Exercise 0 - (**1** Points): \n",
    "To start things off we will load the CPI data into the notebook environment. You do not need to modify the cell below, just execute the test and collect your free point!\n",
    "\n",
    "This cell will also display the first few rows and last few rows of the CPI data we just loaded."
   ]
  },
  {
   "cell_type": "code",
   "execution_count": 2,
   "metadata": {
    "deletable": false,
    "editable": false,
    "nbgrader": {
     "grade": false,
     "locked": true,
     "solution": false
    },
    "tags": [
     "exercise_solution"
    ]
   },
   "outputs": [
    {
     "data": {
      "text/html": [
       "<div>\n",
       "<style scoped>\n",
       "    .dataframe tbody tr th:only-of-type {\n",
       "        vertical-align: middle;\n",
       "    }\n",
       "\n",
       "    .dataframe tbody tr th {\n",
       "        vertical-align: top;\n",
       "    }\n",
       "\n",
       "    .dataframe thead th {\n",
       "        text-align: right;\n",
       "    }\n",
       "</style>\n",
       "<table border=\"1\" class=\"dataframe\">\n",
       "  <thead>\n",
       "    <tr style=\"text-align: right;\">\n",
       "      <th></th>\n",
       "      <th>Year</th>\n",
       "      <th>Jan</th>\n",
       "      <th>Feb</th>\n",
       "      <th>Mar</th>\n",
       "      <th>Apr</th>\n",
       "      <th>May</th>\n",
       "      <th>Jun</th>\n",
       "      <th>Jul</th>\n",
       "      <th>Aug</th>\n",
       "      <th>Sep</th>\n",
       "      <th>Oct</th>\n",
       "      <th>Nov</th>\n",
       "      <th>Dec</th>\n",
       "      <th>HALF1</th>\n",
       "      <th>HALF2</th>\n",
       "    </tr>\n",
       "  </thead>\n",
       "  <tbody>\n",
       "    <tr>\n",
       "      <th>0</th>\n",
       "      <td>1913</td>\n",
       "      <td>9.8</td>\n",
       "      <td>9.8</td>\n",
       "      <td>9.8</td>\n",
       "      <td>9.8</td>\n",
       "      <td>9.7</td>\n",
       "      <td>9.8</td>\n",
       "      <td>9.9</td>\n",
       "      <td>9.9</td>\n",
       "      <td>10.0</td>\n",
       "      <td>10.0</td>\n",
       "      <td>10.1</td>\n",
       "      <td>10.0</td>\n",
       "      <td></td>\n",
       "      <td></td>\n",
       "    </tr>\n",
       "    <tr>\n",
       "      <th>1</th>\n",
       "      <td>1914</td>\n",
       "      <td>10.0</td>\n",
       "      <td>9.9</td>\n",
       "      <td>9.9</td>\n",
       "      <td>9.8</td>\n",
       "      <td>9.9</td>\n",
       "      <td>9.9</td>\n",
       "      <td>10.0</td>\n",
       "      <td>10.2</td>\n",
       "      <td>10.2</td>\n",
       "      <td>10.1</td>\n",
       "      <td>10.2</td>\n",
       "      <td>10.1</td>\n",
       "      <td></td>\n",
       "      <td></td>\n",
       "    </tr>\n",
       "    <tr>\n",
       "      <th>2</th>\n",
       "      <td>1915</td>\n",
       "      <td>10.1</td>\n",
       "      <td>10.0</td>\n",
       "      <td>9.9</td>\n",
       "      <td>10.0</td>\n",
       "      <td>10.1</td>\n",
       "      <td>10.1</td>\n",
       "      <td>10.1</td>\n",
       "      <td>10.1</td>\n",
       "      <td>10.1</td>\n",
       "      <td>10.2</td>\n",
       "      <td>10.3</td>\n",
       "      <td>10.3</td>\n",
       "      <td></td>\n",
       "      <td></td>\n",
       "    </tr>\n",
       "    <tr>\n",
       "      <th>3</th>\n",
       "      <td>1916</td>\n",
       "      <td>10.4</td>\n",
       "      <td>10.4</td>\n",
       "      <td>10.5</td>\n",
       "      <td>10.6</td>\n",
       "      <td>10.7</td>\n",
       "      <td>10.8</td>\n",
       "      <td>10.8</td>\n",
       "      <td>10.9</td>\n",
       "      <td>11.1</td>\n",
       "      <td>11.3</td>\n",
       "      <td>11.5</td>\n",
       "      <td>11.6</td>\n",
       "      <td></td>\n",
       "      <td></td>\n",
       "    </tr>\n",
       "    <tr>\n",
       "      <th>4</th>\n",
       "      <td>1917</td>\n",
       "      <td>11.7</td>\n",
       "      <td>12.0</td>\n",
       "      <td>12.0</td>\n",
       "      <td>12.6</td>\n",
       "      <td>12.8</td>\n",
       "      <td>13.0</td>\n",
       "      <td>12.8</td>\n",
       "      <td>13.0</td>\n",
       "      <td>13.3</td>\n",
       "      <td>13.5</td>\n",
       "      <td>13.5</td>\n",
       "      <td>13.7</td>\n",
       "      <td></td>\n",
       "      <td></td>\n",
       "    </tr>\n",
       "  </tbody>\n",
       "</table>\n",
       "</div>"
      ],
      "text/plain": [
       "   Year   Jan   Feb   Mar   Apr   May   Jun   Jul   Aug   Sep   Oct   Nov  \\\n",
       "0  1913   9.8   9.8   9.8   9.8   9.7   9.8   9.9   9.9  10.0  10.0  10.1   \n",
       "1  1914  10.0   9.9   9.9   9.8   9.9   9.9  10.0  10.2  10.2  10.1  10.2   \n",
       "2  1915  10.1  10.0   9.9  10.0  10.1  10.1  10.1  10.1  10.1  10.2  10.3   \n",
       "3  1916  10.4  10.4  10.5  10.6  10.7  10.8  10.8  10.9  11.1  11.3  11.5   \n",
       "4  1917  11.7  12.0  12.0  12.6  12.8  13.0  12.8  13.0  13.3  13.5  13.5   \n",
       "\n",
       "    Dec HALF1 HALF2  \n",
       "0  10.0              \n",
       "1  10.1              \n",
       "2  10.3              \n",
       "3  11.6              \n",
       "4  13.7              "
      ]
     },
     "metadata": {},
     "output_type": "display_data"
    },
    {
     "data": {
      "text/html": [
       "<div>\n",
       "<style scoped>\n",
       "    .dataframe tbody tr th:only-of-type {\n",
       "        vertical-align: middle;\n",
       "    }\n",
       "\n",
       "    .dataframe tbody tr th {\n",
       "        vertical-align: top;\n",
       "    }\n",
       "\n",
       "    .dataframe thead th {\n",
       "        text-align: right;\n",
       "    }\n",
       "</style>\n",
       "<table border=\"1\" class=\"dataframe\">\n",
       "  <thead>\n",
       "    <tr style=\"text-align: right;\">\n",
       "      <th></th>\n",
       "      <th>Year</th>\n",
       "      <th>Jan</th>\n",
       "      <th>Feb</th>\n",
       "      <th>Mar</th>\n",
       "      <th>Apr</th>\n",
       "      <th>May</th>\n",
       "      <th>Jun</th>\n",
       "      <th>Jul</th>\n",
       "      <th>Aug</th>\n",
       "      <th>Sep</th>\n",
       "      <th>Oct</th>\n",
       "      <th>Nov</th>\n",
       "      <th>Dec</th>\n",
       "      <th>HALF1</th>\n",
       "      <th>HALF2</th>\n",
       "    </tr>\n",
       "  </thead>\n",
       "  <tbody>\n",
       "    <tr>\n",
       "      <th>105</th>\n",
       "      <td>2018</td>\n",
       "      <td>247.867</td>\n",
       "      <td>248.991</td>\n",
       "      <td>249.554</td>\n",
       "      <td>250.546</td>\n",
       "      <td>251.588</td>\n",
       "      <td>251.989</td>\n",
       "      <td>252.006</td>\n",
       "      <td>252.146</td>\n",
       "      <td>252.439</td>\n",
       "      <td>252.885</td>\n",
       "      <td>252.038</td>\n",
       "      <td>251.233</td>\n",
       "      <td>250.089</td>\n",
       "      <td>252.125</td>\n",
       "    </tr>\n",
       "    <tr>\n",
       "      <th>106</th>\n",
       "      <td>2019</td>\n",
       "      <td>251.712</td>\n",
       "      <td>252.776</td>\n",
       "      <td>254.202</td>\n",
       "      <td>255.548</td>\n",
       "      <td>256.092</td>\n",
       "      <td>256.143</td>\n",
       "      <td>256.571</td>\n",
       "      <td>256.558</td>\n",
       "      <td>256.759</td>\n",
       "      <td>257.346</td>\n",
       "      <td>257.208</td>\n",
       "      <td>256.974</td>\n",
       "      <td>254.412</td>\n",
       "      <td>256.903</td>\n",
       "    </tr>\n",
       "    <tr>\n",
       "      <th>107</th>\n",
       "      <td>2020</td>\n",
       "      <td>257.971</td>\n",
       "      <td>258.678</td>\n",
       "      <td>258.115</td>\n",
       "      <td>256.389</td>\n",
       "      <td>256.394</td>\n",
       "      <td>257.797</td>\n",
       "      <td>259.101</td>\n",
       "      <td>259.918</td>\n",
       "      <td>260.280</td>\n",
       "      <td>260.388</td>\n",
       "      <td>260.229</td>\n",
       "      <td>260.474</td>\n",
       "      <td>257.557</td>\n",
       "      <td>260.065</td>\n",
       "    </tr>\n",
       "    <tr>\n",
       "      <th>108</th>\n",
       "      <td>2021</td>\n",
       "      <td>261.582</td>\n",
       "      <td>263.014</td>\n",
       "      <td>264.877</td>\n",
       "      <td>267.054</td>\n",
       "      <td>269.195</td>\n",
       "      <td>271.696</td>\n",
       "      <td>273.003</td>\n",
       "      <td>273.567</td>\n",
       "      <td>274.310</td>\n",
       "      <td>276.589</td>\n",
       "      <td>277.948</td>\n",
       "      <td>278.802</td>\n",
       "      <td>266.236</td>\n",
       "      <td>275.703</td>\n",
       "    </tr>\n",
       "    <tr>\n",
       "      <th>109</th>\n",
       "      <td>2022</td>\n",
       "      <td>281.148</td>\n",
       "      <td>283.716</td>\n",
       "      <td>287.504</td>\n",
       "      <td>289.109</td>\n",
       "      <td>292.296</td>\n",
       "      <td>296.311</td>\n",
       "      <td>296.276</td>\n",
       "      <td>296.171</td>\n",
       "      <td>296.808</td>\n",
       "      <td>298.012</td>\n",
       "      <td></td>\n",
       "      <td></td>\n",
       "      <td>288.347</td>\n",
       "      <td></td>\n",
       "    </tr>\n",
       "  </tbody>\n",
       "</table>\n",
       "</div>"
      ],
      "text/plain": [
       "     Year      Jan      Feb      Mar      Apr      May      Jun      Jul  \\\n",
       "105  2018  247.867  248.991  249.554  250.546  251.588  251.989  252.006   \n",
       "106  2019  251.712  252.776  254.202  255.548  256.092  256.143  256.571   \n",
       "107  2020  257.971  258.678  258.115  256.389  256.394  257.797  259.101   \n",
       "108  2021  261.582  263.014  264.877  267.054  269.195  271.696  273.003   \n",
       "109  2022  281.148  283.716  287.504  289.109  292.296  296.311  296.276   \n",
       "\n",
       "         Aug      Sep      Oct      Nov      Dec    HALF1    HALF2  \n",
       "105  252.146  252.439  252.885  252.038  251.233  250.089  252.125  \n",
       "106  256.558  256.759  257.346  257.208  256.974  254.412  256.903  \n",
       "107  259.918  260.280  260.388  260.229  260.474  257.557  260.065  \n",
       "108  273.567  274.310  276.589  277.948  278.802  266.236  275.703  \n",
       "109  296.171  296.808  298.012                    288.347           "
      ]
     },
     "metadata": {},
     "output_type": "display_data"
    }
   ],
   "source": [
    "cpi_all_df = pd.read_csv('resource/asnlib/publicdata/cpi_urban_all.csv')\n",
    "display(cpi_all_df.head())\n",
    "display(cpi_all_df.tail())"
   ]
  },
  {
   "cell_type": "markdown",
   "metadata": {
    "deletable": false,
    "editable": false,
    "nbgrader": {
     "grade": false,
     "locked": true,
     "solution": false
    },
    "tags": [
     "test_data_boilerplate"
    ]
   },
   "source": [
    "<!-- Test Cell Boilerplate -->\n",
    "The cell below will test your solution for Exercise 0. The testing variables will be available for debugging under the following names in a dictionary format.\n",
    "- `input_vars` - Input variables for your solution. \n",
    "- `original_input_vars` - Copy of input variables from prior to running your solution. These _should_ be the same as `input_vars` - otherwise the inputs were modified by your solution.\n",
    "- `returned_output_vars` - Outputs returned by your solution.\n",
    "- `true_output_vars` - The expected output. This _should_ \"match\" `returned_output_vars` based on the question requirements - otherwise, your solution is not returning the correct output. "
   ]
  },
  {
   "cell_type": "code",
   "execution_count": 3,
   "metadata": {
    "deletable": false,
    "editable": false,
    "nbgrader": {
     "grade": true,
     "grade_id": "ex0",
     "locked": true,
     "points": "1",
     "solution": false
    },
    "tags": []
   },
   "outputs": [
    {
     "name": "stdout",
     "output_type": "stream",
     "text": [
      "Passed! Please submit.\n"
     ]
    }
   ],
   "source": [
    "### test_cell_ex0\n",
    "###\n",
    "### AUTOGRADER TEST - DO NOT REMOVE\n",
    "###\n",
    "assert 'cpi_all_df' in globals()\n",
    "assert isinstance(cpi_all_df, pd.DataFrame)\n",
    "print('Passed! Please submit.')"
   ]
  },
  {
   "cell_type": "markdown",
   "metadata": {
    "deletable": false,
    "editable": false,
    "nbgrader": {
     "grade": false,
     "locked": true,
     "solution": false
    },
    "tags": [
     "exercise_text"
    ]
   },
   "source": [
    "## Exercise 1 - (**1** Points): \n",
    "The raw data needs some light cleaning. There are some columns which we do not need for analysis, some of the numerical columns have blanks, and (due to the blanks) some numerical columns are the wrong type. We need to correct these issues before moving forward.\n",
    "\n",
    "Define the function `cleanup_df(df, drop_cols)`. Input `df` is a DataFrame and `drop_cols` is a list of column names **which may or may not** appear in `df`. \n",
    "\n",
    "Your function should return a new DataFrame having the same contents as `df` with the following exceptions:  \n",
    "- All columns included in `drop_cols` should be dropped.  \n",
    "    - Your function **should not** raise an error if a column in `drop_cols` does not appear in `df`.\n",
    "- All cells which contain the value `' '` should be replaced with `np.nan`.\n",
    "- All columns with month abbreviations for names (`Jan, Feb, Mar, Apr, May, Jun, Jul, Aug, Sep, Oct, Nov, Dec`) should be converted to `float64`.\n"
   ]
  },
  {
   "cell_type": "code",
   "execution_count": 4,
   "metadata": {
    "deletable": false,
    "editable": false,
    "nbgrader": {
     "grade": false,
     "locked": true,
     "solution": false
    },
    "tags": [
     "demo_data"
    ]
   },
   "outputs": [
    {
     "data": {
      "text/html": [
       "<div>\n",
       "<style scoped>\n",
       "    .dataframe tbody tr th:only-of-type {\n",
       "        vertical-align: middle;\n",
       "    }\n",
       "\n",
       "    .dataframe tbody tr th {\n",
       "        vertical-align: top;\n",
       "    }\n",
       "\n",
       "    .dataframe thead th {\n",
       "        text-align: right;\n",
       "    }\n",
       "</style>\n",
       "<table border=\"1\" class=\"dataframe\">\n",
       "  <thead>\n",
       "    <tr style=\"text-align: right;\">\n",
       "      <th></th>\n",
       "      <th>Year</th>\n",
       "      <th>Jan</th>\n",
       "      <th>Feb</th>\n",
       "      <th>Mar</th>\n",
       "      <th>Apr</th>\n",
       "      <th>May</th>\n",
       "      <th>Jun</th>\n",
       "      <th>Jul</th>\n",
       "      <th>Aug</th>\n",
       "      <th>Sep</th>\n",
       "      <th>Oct</th>\n",
       "      <th>Nov</th>\n",
       "      <th>Dec</th>\n",
       "      <th>HALF1</th>\n",
       "      <th>HALF2</th>\n",
       "    </tr>\n",
       "  </thead>\n",
       "  <tbody>\n",
       "    <tr>\n",
       "      <th>0</th>\n",
       "      <td>2018</td>\n",
       "      <td>247.867</td>\n",
       "      <td>248.991</td>\n",
       "      <td>249.554</td>\n",
       "      <td>250.546</td>\n",
       "      <td>251.588</td>\n",
       "      <td>251.989</td>\n",
       "      <td>252.006</td>\n",
       "      <td>252.146</td>\n",
       "      <td>252.439</td>\n",
       "      <td>252.885</td>\n",
       "      <td>252.038</td>\n",
       "      <td>251.233</td>\n",
       "      <td>250.089</td>\n",
       "      <td>252.125</td>\n",
       "    </tr>\n",
       "    <tr>\n",
       "      <th>1</th>\n",
       "      <td>2019</td>\n",
       "      <td>251.712</td>\n",
       "      <td>252.776</td>\n",
       "      <td>254.202</td>\n",
       "      <td>255.548</td>\n",
       "      <td>256.092</td>\n",
       "      <td>256.143</td>\n",
       "      <td>256.571</td>\n",
       "      <td>256.558</td>\n",
       "      <td>256.759</td>\n",
       "      <td>257.346</td>\n",
       "      <td>257.208</td>\n",
       "      <td>256.974</td>\n",
       "      <td>254.412</td>\n",
       "      <td>256.903</td>\n",
       "    </tr>\n",
       "    <tr>\n",
       "      <th>2</th>\n",
       "      <td>2020</td>\n",
       "      <td>257.971</td>\n",
       "      <td>258.678</td>\n",
       "      <td>258.115</td>\n",
       "      <td>256.389</td>\n",
       "      <td>256.394</td>\n",
       "      <td>257.797</td>\n",
       "      <td>259.101</td>\n",
       "      <td>259.918</td>\n",
       "      <td>260.280</td>\n",
       "      <td>260.388</td>\n",
       "      <td>260.229</td>\n",
       "      <td>260.474</td>\n",
       "      <td>257.557</td>\n",
       "      <td>260.065</td>\n",
       "    </tr>\n",
       "    <tr>\n",
       "      <th>3</th>\n",
       "      <td>2021</td>\n",
       "      <td>261.582</td>\n",
       "      <td>263.014</td>\n",
       "      <td>264.877</td>\n",
       "      <td>267.054</td>\n",
       "      <td>269.195</td>\n",
       "      <td>271.696</td>\n",
       "      <td>273.003</td>\n",
       "      <td>273.567</td>\n",
       "      <td>274.310</td>\n",
       "      <td>276.589</td>\n",
       "      <td>277.948</td>\n",
       "      <td>278.802</td>\n",
       "      <td>266.236</td>\n",
       "      <td>275.703</td>\n",
       "    </tr>\n",
       "    <tr>\n",
       "      <th>4</th>\n",
       "      <td>2022</td>\n",
       "      <td>281.148</td>\n",
       "      <td>283.716</td>\n",
       "      <td>287.504</td>\n",
       "      <td>289.109</td>\n",
       "      <td>292.296</td>\n",
       "      <td>296.311</td>\n",
       "      <td>296.276</td>\n",
       "      <td>296.171</td>\n",
       "      <td>296.808</td>\n",
       "      <td>298.012</td>\n",
       "      <td></td>\n",
       "      <td></td>\n",
       "      <td>288.347</td>\n",
       "      <td></td>\n",
       "    </tr>\n",
       "  </tbody>\n",
       "</table>\n",
       "</div>"
      ],
      "text/plain": [
       "   Year      Jan      Feb      Mar      Apr      May      Jun      Jul  \\\n",
       "0  2018  247.867  248.991  249.554  250.546  251.588  251.989  252.006   \n",
       "1  2019  251.712  252.776  254.202  255.548  256.092  256.143  256.571   \n",
       "2  2020  257.971  258.678  258.115  256.389  256.394  257.797  259.101   \n",
       "3  2021  261.582  263.014  264.877  267.054  269.195  271.696  273.003   \n",
       "4  2022  281.148  283.716  287.504  289.109  292.296  296.311  296.276   \n",
       "\n",
       "       Aug      Sep      Oct      Nov      Dec    HALF1    HALF2  \n",
       "0  252.146  252.439  252.885  252.038  251.233  250.089  252.125  \n",
       "1  256.558  256.759  257.346  257.208  256.974  254.412  256.903  \n",
       "2  259.918  260.280  260.388  260.229  260.474  257.557  260.065  \n",
       "3  273.567  274.310  276.589  277.948  278.802  266.236  275.703  \n",
       "4  296.171  296.808  298.012                    288.347           "
      ]
     },
     "metadata": {},
     "output_type": "display_data"
    }
   ],
   "source": [
    "### Define demo inputs\n",
    "demo_df_ex1 = cpi_all_df.tail().reset_index(drop=True)\n",
    "display(demo_df_ex1)\n",
    "demo_drop_cols_ex1 = ['HALF1', 'HALF2', 'THIS COLUMN DOESN\\'T EXIST']"
   ]
  },
  {
   "cell_type": "markdown",
   "metadata": {
    "deletable": false,
    "editable": false,
    "nbgrader": {
     "grade": false,
     "locked": true,
     "solution": false
    },
    "tags": [
     "demo_output_md"
    ]
   },
   "source": [
    "<!-- Expected demo output text block -->\n",
    "The demo included in the solution cell below should display the following output:\n",
    "  \n",
    "|    |   Year |     Jan |     Feb |     Mar |     Apr |     May |     Jun |     Jul |     Aug |     Sep |     Oct |     Nov |     Dec |  \n",
    "|---:|-------:|--------:|--------:|--------:|--------:|--------:|--------:|--------:|--------:|--------:|--------:|--------:|--------:|  \n",
    "|  0 |   2018 | 247.867 | 248.991 | 249.554 | 250.546 | 251.588 | 251.989 | 252.006 | 252.146 | 252.439 | 252.885 | 252.038 | 251.233 |  \n",
    "|  1 |   2019 | 251.712 | 252.776 | 254.202 | 255.548 | 256.092 | 256.143 | 256.571 | 256.558 | 256.759 | 257.346 | 257.208 | 256.974 |  \n",
    "|  2 |   2020 | 257.971 | 258.678 | 258.115 | 256.389 | 256.394 | 257.797 | 259.101 | 259.918 | 260.28  | 260.388 | 260.229 | 260.474 |  \n",
    "|  3 |   2021 | 261.582 | 263.014 | 264.877 | 267.054 | 269.195 | 271.696 | 273.003 | 273.567 | 274.31  | 276.589 | 277.948 | 278.802 |  \n",
    "|  4 |   2022 | 281.148 | 283.716 | 287.504 | 289.109 | 292.296 | 296.311 | 296.276 | 296.171 | 296.808 | 298.012 | NaN     | NaN     |\n",
    "\n",
    "Notice:  \n",
    "- The columns 'HALF1' and 'HALF2' were dropped.\n",
    "- There was no error for trying to drop 'THIS COLUMN DOESN'T EXIST' which does not exist in `df`.\n",
    "- The blanks are replaced with `np.nan` (which displays as 'NaN'). FYI `np.nan` is a `float`.\n",
    "\n",
    "Notes:\n",
    "- Check the `dtypes` attribute of your result. Columns which are months ('Jan', 'Feb', ...) should be `float64`. Any other remaining columns should have the same `dtype` as the original column in the input."
   ]
  },
  {
   "cell_type": "code",
   "execution_count": 19,
   "metadata": {
    "tags": [
     "exercise_solution"
    ]
   },
   "outputs": [
    {
     "data": {
      "text/html": [
       "<div>\n",
       "<style scoped>\n",
       "    .dataframe tbody tr th:only-of-type {\n",
       "        vertical-align: middle;\n",
       "    }\n",
       "\n",
       "    .dataframe tbody tr th {\n",
       "        vertical-align: top;\n",
       "    }\n",
       "\n",
       "    .dataframe thead th {\n",
       "        text-align: right;\n",
       "    }\n",
       "</style>\n",
       "<table border=\"1\" class=\"dataframe\">\n",
       "  <thead>\n",
       "    <tr style=\"text-align: right;\">\n",
       "      <th></th>\n",
       "      <th>Year</th>\n",
       "      <th>Jan</th>\n",
       "      <th>Feb</th>\n",
       "      <th>Mar</th>\n",
       "      <th>Apr</th>\n",
       "      <th>May</th>\n",
       "      <th>Jun</th>\n",
       "      <th>Jul</th>\n",
       "      <th>Aug</th>\n",
       "      <th>Sep</th>\n",
       "      <th>Oct</th>\n",
       "      <th>Nov</th>\n",
       "      <th>Dec</th>\n",
       "    </tr>\n",
       "  </thead>\n",
       "  <tbody>\n",
       "    <tr>\n",
       "      <th>0</th>\n",
       "      <td>2018</td>\n",
       "      <td>247.867</td>\n",
       "      <td>248.991</td>\n",
       "      <td>249.554</td>\n",
       "      <td>250.546</td>\n",
       "      <td>251.588</td>\n",
       "      <td>251.989</td>\n",
       "      <td>252.006</td>\n",
       "      <td>252.146</td>\n",
       "      <td>252.439</td>\n",
       "      <td>252.885</td>\n",
       "      <td>252.038</td>\n",
       "      <td>251.233</td>\n",
       "    </tr>\n",
       "    <tr>\n",
       "      <th>1</th>\n",
       "      <td>2019</td>\n",
       "      <td>251.712</td>\n",
       "      <td>252.776</td>\n",
       "      <td>254.202</td>\n",
       "      <td>255.548</td>\n",
       "      <td>256.092</td>\n",
       "      <td>256.143</td>\n",
       "      <td>256.571</td>\n",
       "      <td>256.558</td>\n",
       "      <td>256.759</td>\n",
       "      <td>257.346</td>\n",
       "      <td>257.208</td>\n",
       "      <td>256.974</td>\n",
       "    </tr>\n",
       "    <tr>\n",
       "      <th>2</th>\n",
       "      <td>2020</td>\n",
       "      <td>257.971</td>\n",
       "      <td>258.678</td>\n",
       "      <td>258.115</td>\n",
       "      <td>256.389</td>\n",
       "      <td>256.394</td>\n",
       "      <td>257.797</td>\n",
       "      <td>259.101</td>\n",
       "      <td>259.918</td>\n",
       "      <td>260.280</td>\n",
       "      <td>260.388</td>\n",
       "      <td>260.229</td>\n",
       "      <td>260.474</td>\n",
       "    </tr>\n",
       "    <tr>\n",
       "      <th>3</th>\n",
       "      <td>2021</td>\n",
       "      <td>261.582</td>\n",
       "      <td>263.014</td>\n",
       "      <td>264.877</td>\n",
       "      <td>267.054</td>\n",
       "      <td>269.195</td>\n",
       "      <td>271.696</td>\n",
       "      <td>273.003</td>\n",
       "      <td>273.567</td>\n",
       "      <td>274.310</td>\n",
       "      <td>276.589</td>\n",
       "      <td>277.948</td>\n",
       "      <td>278.802</td>\n",
       "    </tr>\n",
       "    <tr>\n",
       "      <th>4</th>\n",
       "      <td>2022</td>\n",
       "      <td>281.148</td>\n",
       "      <td>283.716</td>\n",
       "      <td>287.504</td>\n",
       "      <td>289.109</td>\n",
       "      <td>292.296</td>\n",
       "      <td>296.311</td>\n",
       "      <td>296.276</td>\n",
       "      <td>296.171</td>\n",
       "      <td>296.808</td>\n",
       "      <td>298.012</td>\n",
       "      <td>NaN</td>\n",
       "      <td>NaN</td>\n",
       "    </tr>\n",
       "  </tbody>\n",
       "</table>\n",
       "</div>"
      ],
      "text/plain": [
       "   Year      Jan      Feb      Mar      Apr      May      Jun      Jul  \\\n",
       "0  2018  247.867  248.991  249.554  250.546  251.588  251.989  252.006   \n",
       "1  2019  251.712  252.776  254.202  255.548  256.092  256.143  256.571   \n",
       "2  2020  257.971  258.678  258.115  256.389  256.394  257.797  259.101   \n",
       "3  2021  261.582  263.014  264.877  267.054  269.195  271.696  273.003   \n",
       "4  2022  281.148  283.716  287.504  289.109  292.296  296.311  296.276   \n",
       "\n",
       "       Aug      Sep      Oct      Nov      Dec  \n",
       "0  252.146  252.439  252.885  252.038  251.233  \n",
       "1  256.558  256.759  257.346  257.208  256.974  \n",
       "2  259.918  260.280  260.388  260.229  260.474  \n",
       "3  273.567  274.310  276.589  277.948  278.802  \n",
       "4  296.171  296.808  298.012      NaN      NaN  "
      ]
     },
     "metadata": {},
     "output_type": "display_data"
    }
   ],
   "source": [
    "### Exercise 1 solution\n",
    "def cleanup_df(df, drop_cols):\n",
    "    \n",
    "    df = df.drop([x for x in drop_cols if x in df.columns], axis=1)\n",
    "    df.replace(' ', np.nan, inplace=True)\n",
    "    \n",
    "    return df\n",
    "\n",
    "\n",
    "#     df_copy = df.copy()\n",
    "#     clean_df = df_copy.drop(columns=drop_cols, errors='ignore').replace(' ', np.nan)\n",
    "#     months = ['Jan', 'Feb', 'Mar', 'Apr', 'May', 'Jun','Jul', 'Aug', 'Sep', 'Oct', 'Nov', 'Dec']\n",
    "#     for m in months: \n",
    "#         clean_df[m].astype('float64')\n",
    "#     return clean_df\n",
    "    \n",
    "### demo function call\n",
    "demo_output_ex1 = cleanup_df(demo_df_ex1, demo_drop_cols_ex1)\n",
    "display(demo_output_ex1)"
   ]
  },
  {
   "cell_type": "markdown",
   "metadata": {
    "deletable": false,
    "editable": false,
    "nbgrader": {
     "grade": false,
     "locked": true,
     "solution": false
    },
    "tags": [
     "test_data_boilerplate"
    ]
   },
   "source": [
    "<!-- Test Cell Boilerplate -->\n",
    "The cell below will test your solution for Exercise 1. The testing variables will be available for debugging under the following names in a dictionary format.\n",
    "- `input_vars` - Input variables for your solution. \n",
    "- `original_input_vars` - Copy of input variables from prior to running your solution. These _should_ be the same as `input_vars` - otherwise the inputs were modified by your solution.\n",
    "- `returned_output_vars` - Outputs returned by your solution.\n",
    "- `true_output_vars` - The expected output. This _should_ \"match\" `returned_output_vars` based on the question requirements - otherwise, your solution is not returning the correct output. "
   ]
  },
  {
   "cell_type": "code",
   "execution_count": 20,
   "metadata": {
    "deletable": false,
    "editable": false,
    "nbgrader": {
     "grade": true,
     "grade_id": "ex1",
     "locked": true,
     "points": "1",
     "solution": false
    },
    "tags": []
   },
   "outputs": [
    {
     "name": "stdout",
     "output_type": "stream",
     "text": [
      "Passed! Please submit.\n"
     ]
    }
   ],
   "source": [
    "### test_cell_ex1\n",
    "###\n",
    "### AUTOGRADER TEST - DO NOT REMOVE\n",
    "###\n",
    "from tester_fw.testers import Tester\n",
    "\n",
    "conf = {\n",
    "    'case_file':'tc_1', \n",
    "    'func': cleanup_df, # replace this with the function defined above\n",
    "    'inputs':{ # input config dict. keys are parameter names\n",
    "        'df':{\n",
    "            'dtype':'pd.DataFrame', # data type of param.\n",
    "            'check_modified':True,\n",
    "        },\n",
    "        'drop_cols':{\n",
    "            'dtype':'list', # data type of param.\n",
    "            'check_modified':True,\n",
    "        }\n",
    "    },\n",
    "    'outputs':{\n",
    "        'output_0':{\n",
    "            'index':0,\n",
    "            'dtype':'pd.DataFrame',\n",
    "            'check_dtype': True,\n",
    "            'check_col_dtypes': True, # Ignored if dtype is not df\n",
    "            'check_col_order': True, # Ignored if dtype is not df\n",
    "            'check_row_order': True, # Ignored if dtype is not df\n",
    "            'check_column_type': True, # Ignored if dtype is not df\n",
    "            'float_tolerance': 10 ** (-10)\n",
    "        }\n",
    "    }\n",
    "}\n",
    "tester = Tester(conf, key=b'z0BNF11iKYQicR63590bVXZGa19YGvJcmzrbP6R7oAY=', path='resource/asnlib/publicdata/')\n",
    "for _ in range(70):\n",
    "    try:\n",
    "        tester.run_test()\n",
    "        (input_vars, original_input_vars, returned_output_vars, true_output_vars) = tester.get_test_vars()\n",
    "    except:\n",
    "        (input_vars, original_input_vars, returned_output_vars, true_output_vars) = tester.get_test_vars()\n",
    "        raise\n",
    "\n",
    "###\n",
    "### AUTOGRADER TEST - DO NOT REMOVE\n",
    "###\n",
    "print('Passed! Please submit.')"
   ]
  },
  {
   "cell_type": "markdown",
   "metadata": {
    "deletable": false,
    "editable": false,
    "nbgrader": {
     "grade": false,
     "locked": true,
     "solution": false
    },
    "tags": [
     "exercise_text"
    ]
   },
   "source": [
    "## Exercise 2 - (**2** Points): \n",
    "To complete our time series analysis we need to reshape the data into a proper time series. By using earlier functions we are able to pare down the data into this form:\n",
    "\n",
    "|    |   Year |     Jan |     Feb |     Mar |     Apr |     May |     Jun |     Jul |     Aug |     Sep |     Oct |     Nov |     Dec |  \n",
    "|---:|-------:|--------:|--------:|--------:|--------:|--------:|--------:|--------:|--------:|--------:|--------:|--------:|--------:|  \n",
    "|  2 |   2020 | 257.971 | 258.678 | 258.115 | 256.389 | 256.394 | 257.797 | 259.101 | 259.918 | 260.28  | 260.388 | 260.229 | 260.474 |  \n",
    "|  3 |   2021 | 261.582 | 263.014 | 264.877 | 267.054 | 269.195 | 271.696 | 273.003 | 273.567 | 274.31  | 276.589 | 277.948 | 278.802 |  \n",
    "|  4 |   2022 | 281.148 | 283.716 | 287.504 | 289.109 | 292.296 | 296.311 | 296.276 | 296.171 | 296.808 | 298.012 | NaN     | NaN     |  \n",
    "\n",
    "We want to further transform it into a single dimension in chronological order. (i.e. all the data points for 2020 followed by all the data points for 2021 followed by all the data points for 2022.)\n",
    "\n",
    "**Note**: In the example above there are no records for November and December of 2022 (because they have not concluded at the writing of this exam).  \n",
    "- For most months out of the year there will be missing values _at the end_ of the time interval.  \n",
    "    - Our solution should handle this gracefully.  \n",
    "- However, missing values _in the middle or at the start_ of the time interval are not expected and indicate an invalid input.  \n",
    "    - Our solution should take care of this validation.\n",
    "\n",
    "Define the function `to_ts(df)`. The input `df` can be assumed to have the following characteristics:  \n",
    "- It's columns will be `'Year' 'Jan' 'Feb' 'Mar' 'Apr' 'May' 'Jun' 'Jul' 'Aug' 'Sep' 'Oct' 'Nov' 'Dec'` in that particular order. \n",
    "- All of the \"month\" columns will be type `float64`.\n",
    "- There may be some missing values which will be populated with `np.nan`. \n",
    "- The records will be sorted by the `'Year'` column in ascending order.\n",
    "\n",
    "Your function should return a new Array or `None` by implementing this logic:\n",
    "- Extract the values for the \"month\" columns only into a 2-D array.\n",
    "- Flatten it to a 1-D array such that each data point is in chronological order.\n",
    "- Handle the missing values.\n",
    "    - Identify the index of all missing values in the 1-D array.\n",
    "    - Identify the largest index of a non-missing value in the 1-D array.\n",
    "    - If there are missing values anywhere except the end of the 1-D array, return `None`\n",
    "    - Otherwise, return the 1-D array with the missing values removed from the end."
   ]
  },
  {
   "cell_type": "code",
   "execution_count": 21,
   "metadata": {
    "collapsed": true,
    "deletable": false,
    "editable": false,
    "nbgrader": {
     "grade": false,
     "locked": true,
     "solution": false
    },
    "tags": [
     "demo_data"
    ]
   },
   "outputs": [],
   "source": [
    "### Define demo inputs\n",
    "\n",
    "demo_df_ex2 = \\\n",
    "pd.DataFrame([[2021,261.582,263.014, 264.877, 267.054, 269.195, 271.696, 273.003, 273.567, 274.31, 276.589, 277.948, 278.802],\n",
    "            [2022, 281.148, 283.716, 287.504, 289.109, 292.296, 296.311, 296.276, 296.171, 96.808, 298.012, np.nan, np.nan]], \n",
    "            columns=['Year', 'Jan', 'Feb', 'Mar', 'Apr', 'May', 'Jun', 'Jul', 'Aug', 'Sep', 'Oct', 'Nov', 'Dec'])\n",
    "\n",
    "demo_invalid_df_ex2 = \\\n",
    "pd.DataFrame([[2021,261.582,263.014, np.nan, 267.054, 269.195, 271.696, 273.003, 273.567, 274.31, 276.589, 277.948, 278.802],\n",
    "            [2022, 281.148, 283.716, 287.504, 289.109, 292.296, 296.311, 296.276, 296.171, 96.808, 298.012, np.nan, np.nan]], \n",
    "            columns=['Year', 'Jan', 'Feb', 'Mar', 'Apr', 'May', 'Jun', 'Jul', 'Aug', 'Sep', 'Oct', 'Nov', 'Dec'])"
   ]
  },
  {
   "cell_type": "markdown",
   "metadata": {
    "deletable": false,
    "editable": false,
    "nbgrader": {
     "grade": false,
     "locked": true,
     "solution": false
    },
    "tags": [
     "demo_output_md"
    ]
   },
   "source": [
    "<!-- Expected demo output text block -->\n",
    "The demo included in the solution cell below should display the following output:\n",
    "```\n",
    "Demo output\n",
    "[261.582 263.014 264.877 267.054 269.195 271.696 273.003 273.567 274.31\n",
    " 276.589 277.948 278.802 281.148 283.716 287.504 289.109 292.296 296.311\n",
    " 296.276 296.171  96.808 298.012]\n",
    "\n",
    "Demo handling invalid input\n",
    "None\n",
    "```\n",
    "The demo runs your solution first on a `df` input with missing values only at the end (an array is expected as output). Then runs it on a `df` input with a missing value in the middle (`None` is expected as output). "
   ]
  },
  {
   "cell_type": "code",
   "execution_count": 29,
   "metadata": {
    "tags": [
     "exercise_solution"
    ]
   },
   "outputs": [
    {
     "name": "stdout",
     "output_type": "stream",
     "text": [
      "Demo output\n",
      "[261.582 263.014 264.877 267.054 269.195 271.696 273.003 273.567 274.31\n",
      " 276.589 277.948 278.802 281.148 283.716 287.504 289.109 292.296 296.311\n",
      " 296.276 296.171  96.808 298.012]\n",
      "\n",
      "Demo handling invalid input\n",
      "None\n"
     ]
    }
   ],
   "source": [
    "### Exercise 2 solution\n",
    "def to_ts(df):\n",
    "    assert (['Year'] + 'Jan Feb Mar Apr May Jun Jul Aug Sep Oct Nov Dec'.split()) == list(df.columns)\n",
    "    \n",
    "    col = ['Jan', 'Feb', 'Mar', 'Apr', 'May', 'Jun', 'Jul', 'Aug', 'Sep', 'Oct', 'Nov', 'Dec']\n",
    "\n",
    "    arr = df[col].values\n",
    "    \n",
    "    flat_arr = arr[:,:].flatten()\n",
    "    \n",
    "    if np.isnan(flat_arr).any():\n",
    "        \n",
    "        largest_non_missing_ind = np.max(np.where(~np.isnan(flat_arr)))\n",
    "        \n",
    "        if np.isnan(flat_arr[:largest_non_missing_ind+1]).any():\n",
    "            return None\n",
    "        \n",
    "        else:\n",
    "            return flat_arr[:largest_non_missing_ind+1]\n",
    "        \n",
    "    else:\n",
    "        return flat_arr\n",
    "    \n",
    "    \n",
    "#     ts = df.drop(columns='Year', axis = 1).values\n",
    "#     ts = ts.reshape((-1,))\n",
    "#     missing = np.argwhere(np.isnan(ts)).reshape((-1,))\n",
    "#     not_missing = np.argwhere(~np.isnan(ts)).max()\n",
    "#     if (not_missing > missing).any():\n",
    "#         return None\n",
    "#     index= not_missing +1\n",
    "#     ts = ts[:index]\n",
    "#     return ts\n",
    "\n",
    "### demo function call\n",
    "demo_output_ex2 = to_ts(demo_df_ex2)\n",
    "demo_invalid_ex2 = to_ts(demo_invalid_df_ex2)\n",
    "print('Demo output')\n",
    "print(demo_output_ex2)\n",
    "print()\n",
    "print('Demo handling invalid input')\n",
    "print(demo_invalid_ex2)"
   ]
  },
  {
   "cell_type": "markdown",
   "metadata": {
    "deletable": false,
    "editable": false,
    "nbgrader": {
     "grade": false,
     "locked": true,
     "solution": false
    },
    "tags": [
     "test_data_boilerplate"
    ]
   },
   "source": [
    "<!-- Test Cell Boilerplate -->\n",
    "The cell below will test your solution for Exercise 2. The testing variables will be available for debugging under the following names in a dictionary format.\n",
    "- `input_vars` - Input variables for your solution. \n",
    "- `original_input_vars` - Copy of input variables from prior to running your solution. These _should_ be the same as `input_vars` - otherwise the inputs were modified by your solution.\n",
    "- `returned_output_vars` - Outputs returned by your solution.\n",
    "- `true_output_vars` - The expected output. This _should_ \"match\" `returned_output_vars` based on the question requirements - otherwise, your solution is not returning the correct output. "
   ]
  },
  {
   "cell_type": "code",
   "execution_count": 30,
   "metadata": {
    "deletable": false,
    "editable": false,
    "nbgrader": {
     "grade": true,
     "grade_id": "ex2",
     "locked": true,
     "points": "2",
     "solution": false
    },
    "tags": []
   },
   "outputs": [
    {
     "name": "stdout",
     "output_type": "stream",
     "text": [
      "Passed! Please submit.\n"
     ]
    }
   ],
   "source": [
    "### test_cell_ex2\n",
    "###\n",
    "### AUTOGRADER TEST - DO NOT REMOVE\n",
    "###\n",
    "from tester_fw.testers import Tester\n",
    "\n",
    "conf = {\n",
    "    'case_file':'tc_2', \n",
    "    'func': to_ts, # replace this with the function defined above\n",
    "    'inputs':{ # input config dict. keys are parameter names\n",
    "        'df':{\n",
    "            'dtype':'pd.DataFrame', # data type of param.\n",
    "            'check_modified':True,\n",
    "        }\n",
    "    },\n",
    "    'outputs':{\n",
    "        'output_0':{\n",
    "            'index':0,\n",
    "            'dtype':'np.ndarray',\n",
    "            'check_dtype': True,\n",
    "            'check_col_dtypes': True, # Ignored if dtype is not df\n",
    "            'check_col_order': True, # Ignored if dtype is not df\n",
    "            'check_row_order': True, # Ignored if dtype is not df\n",
    "            'check_column_type': True, # Ignored if dtype is not df\n",
    "            'float_tolerance': 10 ** (-10)\n",
    "        }\n",
    "    }\n",
    "}\n",
    "tester = Tester(conf, key=b'z0BNF11iKYQicR63590bVXZGa19YGvJcmzrbP6R7oAY=', path='resource/asnlib/publicdata/')\n",
    "for _ in range(200):\n",
    "    try:\n",
    "        tester.run_test()\n",
    "        (input_vars, original_input_vars, returned_output_vars, true_output_vars) = tester.get_test_vars()\n",
    "    except:\n",
    "        (input_vars, original_input_vars, returned_output_vars, true_output_vars) = tester.get_test_vars()\n",
    "        raise\n",
    "\n",
    "###\n",
    "### AUTOGRADER TEST - DO NOT REMOVE\n",
    "###\n",
    "print('Passed! Please submit.')"
   ]
  },
  {
   "cell_type": "markdown",
   "metadata": {
    "deletable": false,
    "editable": false,
    "nbgrader": {
     "grade": false,
     "locked": true,
     "solution": false
    },
    "tags": [
     "exercise_text"
    ]
   },
   "source": [
    "## Exercise 3 - (**2** Points):\n",
    "Eventually, we are going to plot some of the time series data, so we will need a date axis to provide context for users. We can extract this from our source DataFrame.\n",
    "\n",
    "Define the function `date_series(df, n)`. The input `df` will have these columns `['Year', 'Jan', 'Feb', 'Mar', 'Apr', 'May', 'Jun', 'Jul', 'Aug', 'Sep', 'Oct', 'Nov', 'Dec']` in that order. Also the `'Year'` column will be sorted in ascending order. We are unconcerned with the values or types in any other columns. The input `n` will be a positive integer smaller than `12*df.shape[0]`.  \n",
    "\n",
    "Your function should return a Pandas Series with dtype of `datetime64` containing the timestamp for midnight on the first day of the first `n` months represented in `df`. The [`pd.to_datetime()`](https://pandas.pydata.org/docs/reference/api/pandas.to_datetime.html) function is useful in converting the dates."
   ]
  },
  {
   "cell_type": "code",
   "execution_count": 31,
   "metadata": {
    "deletable": false,
    "editable": false,
    "nbgrader": {
     "grade": false,
     "locked": true,
     "solution": false
    },
    "tags": [
     "demo_data"
    ]
   },
   "outputs": [
    {
     "data": {
      "text/html": [
       "<div>\n",
       "<style scoped>\n",
       "    .dataframe tbody tr th:only-of-type {\n",
       "        vertical-align: middle;\n",
       "    }\n",
       "\n",
       "    .dataframe tbody tr th {\n",
       "        vertical-align: top;\n",
       "    }\n",
       "\n",
       "    .dataframe thead th {\n",
       "        text-align: right;\n",
       "    }\n",
       "</style>\n",
       "<table border=\"1\" class=\"dataframe\">\n",
       "  <thead>\n",
       "    <tr style=\"text-align: right;\">\n",
       "      <th></th>\n",
       "      <th>Year</th>\n",
       "      <th>Jan</th>\n",
       "      <th>Feb</th>\n",
       "      <th>Mar</th>\n",
       "      <th>Apr</th>\n",
       "      <th>May</th>\n",
       "      <th>Jun</th>\n",
       "      <th>Jul</th>\n",
       "      <th>Aug</th>\n",
       "      <th>Sep</th>\n",
       "      <th>Oct</th>\n",
       "      <th>Nov</th>\n",
       "      <th>Dec</th>\n",
       "    </tr>\n",
       "  </thead>\n",
       "  <tbody>\n",
       "    <tr>\n",
       "      <th>0</th>\n",
       "      <td>1961</td>\n",
       "      <td>NaN</td>\n",
       "      <td>NaN</td>\n",
       "      <td>NaN</td>\n",
       "      <td>NaN</td>\n",
       "      <td>NaN</td>\n",
       "      <td>NaN</td>\n",
       "      <td>NaN</td>\n",
       "      <td>NaN</td>\n",
       "      <td>NaN</td>\n",
       "      <td>NaN</td>\n",
       "      <td>NaN</td>\n",
       "      <td>NaN</td>\n",
       "    </tr>\n",
       "    <tr>\n",
       "      <th>1</th>\n",
       "      <td>1962</td>\n",
       "      <td>NaN</td>\n",
       "      <td>NaN</td>\n",
       "      <td>NaN</td>\n",
       "      <td>NaN</td>\n",
       "      <td>NaN</td>\n",
       "      <td>NaN</td>\n",
       "      <td>NaN</td>\n",
       "      <td>NaN</td>\n",
       "      <td>NaN</td>\n",
       "      <td>NaN</td>\n",
       "      <td>NaN</td>\n",
       "      <td>NaN</td>\n",
       "    </tr>\n",
       "    <tr>\n",
       "      <th>2</th>\n",
       "      <td>1963</td>\n",
       "      <td>NaN</td>\n",
       "      <td>NaN</td>\n",
       "      <td>NaN</td>\n",
       "      <td>NaN</td>\n",
       "      <td>NaN</td>\n",
       "      <td>NaN</td>\n",
       "      <td>NaN</td>\n",
       "      <td>NaN</td>\n",
       "      <td>NaN</td>\n",
       "      <td>NaN</td>\n",
       "      <td>NaN</td>\n",
       "      <td>NaN</td>\n",
       "    </tr>\n",
       "  </tbody>\n",
       "</table>\n",
       "</div>"
      ],
      "text/plain": [
       "   Year  Jan  Feb  Mar  Apr  May  Jun  Jul  Aug  Sep  Oct  Nov  Dec\n",
       "0  1961  NaN  NaN  NaN  NaN  NaN  NaN  NaN  NaN  NaN  NaN  NaN  NaN\n",
       "1  1962  NaN  NaN  NaN  NaN  NaN  NaN  NaN  NaN  NaN  NaN  NaN  NaN\n",
       "2  1963  NaN  NaN  NaN  NaN  NaN  NaN  NaN  NaN  NaN  NaN  NaN  NaN"
      ]
     },
     "metadata": {},
     "output_type": "display_data"
    }
   ],
   "source": [
    "### Define demo inputs\n",
    "demo_df_ex3 = pd.DataFrame(columns=['Year', 'Jan', 'Feb', 'Mar', 'Apr', 'May', 'Jun', 'Jul', 'Aug', 'Sep', 'Oct', 'Nov', 'Dec'])\n",
    "demo_df_ex3['Year'] = [1961, 1962, 1963]\n",
    "demo_n_ex3 = 14\n",
    "display(demo_df_ex3)"
   ]
  },
  {
   "cell_type": "markdown",
   "metadata": {
    "deletable": false,
    "editable": false,
    "nbgrader": {
     "grade": false,
     "locked": true,
     "solution": false
    },
    "tags": [
     "demo_output_md"
    ]
   },
   "source": [
    "<!-- Expected demo output text block -->\n",
    "The demo included in the solution cell below should display the following output:\n",
    "```\n",
    "0    1961-01-01\n",
    "1    1961-02-01\n",
    "2    1961-03-01\n",
    "3    1961-04-01\n",
    "4    1961-05-01\n",
    "5    1961-06-01\n",
    "6    1961-07-01\n",
    "7    1961-08-01\n",
    "8    1961-09-01\n",
    "9    1961-10-01\n",
    "10   1961-11-01\n",
    "11   1961-12-01\n",
    "12   1962-01-01\n",
    "13   1962-02-01\n",
    "dtype: datetime64[ns]\n",
    "```\n",
    "Notice that the items are `datetime64` and not strings."
   ]
  },
  {
   "cell_type": "code",
   "execution_count": 32,
   "metadata": {
    "tags": [
     "exercise_solution"
    ]
   },
   "outputs": [
    {
     "data": {
      "text/plain": [
       "0    1961-01-01\n",
       "1    1961-02-01\n",
       "2    1961-03-01\n",
       "3    1961-04-01\n",
       "4    1961-05-01\n",
       "5    1961-06-01\n",
       "6    1961-07-01\n",
       "7    1961-08-01\n",
       "8    1961-09-01\n",
       "9    1961-10-01\n",
       "10   1961-11-01\n",
       "11   1961-12-01\n",
       "12   1962-01-01\n",
       "13   1962-02-01\n",
       "dtype: datetime64[ns]"
      ]
     },
     "execution_count": 32,
     "metadata": {},
     "output_type": "execute_result"
    }
   ],
   "source": [
    "### Exercise 3 solution\n",
    "def date_series(df, n):\n",
    "    \n",
    "    years = df['Year'].unique()\n",
    "    \n",
    "    month_strings = [f'{year}-{month:02d}-01' for year in years for month in range(1,13)][:n]\n",
    "    \n",
    "    timestamps = pd.to_datetime(month_strings) \n",
    "    \n",
    "    return pd.Series(timestamps)\n",
    "\n",
    "\n",
    "#     date_list = []\n",
    "#     for y in df['Year']:\n",
    "#         for m in range(1,13):\n",
    "#             date_list.append(f'{y}-{m}-01')\n",
    "#     dates = pd.Series(date_list[:n])\n",
    "#     dates = pd.to_datetime(dates)\n",
    "#     return dates\n",
    "\n",
    "### demo function call\n",
    "demo_output_ex3 = date_series(demo_df_ex3, demo_n_ex3)\n",
    "demo_output_ex3"
   ]
  },
  {
   "cell_type": "markdown",
   "metadata": {
    "deletable": false,
    "editable": false,
    "nbgrader": {
     "grade": false,
     "locked": true,
     "solution": false
    },
    "tags": [
     "test_data_boilerplate"
    ]
   },
   "source": [
    "<!-- Test Cell Boilerplate -->\n",
    "The cell below will test your solution for Exercise 3. The testing variables will be available for debugging under the following names in a dictionary format.\n",
    "- `input_vars` - Input variables for your solution. \n",
    "- `original_input_vars` - Copy of input variables from prior to running your solution. These _should_ be the same as `input_vars` - otherwise the inputs were modified by your solution.\n",
    "- `returned_output_vars` - Outputs returned by your solution.\n",
    "- `true_output_vars` - The expected output. This _should_ \"match\" `returned_output_vars` based on the question requirements - otherwise, your solution is not returning the correct output. "
   ]
  },
  {
   "cell_type": "code",
   "execution_count": 33,
   "metadata": {
    "deletable": false,
    "editable": false,
    "nbgrader": {
     "grade": true,
     "grade_id": "ex3",
     "locked": true,
     "points": "2",
     "solution": false
    },
    "tags": []
   },
   "outputs": [
    {
     "name": "stdout",
     "output_type": "stream",
     "text": [
      "Passed! Please submit.\n"
     ]
    }
   ],
   "source": [
    "### test_cell_ex3\n",
    "###\n",
    "### AUTOGRADER TEST - DO NOT REMOVE\n",
    "###\n",
    "from tester_fw.testers import Tester\n",
    "\n",
    "conf = {\n",
    "    'case_file':'tc_3', \n",
    "    'func': date_series, # replace this with the function defined above\n",
    "    'inputs':{ # input config dict. keys are parameter names\n",
    "        'df':{\n",
    "            'dtype':'pd.DataFrame', # data type of param.\n",
    "            'check_modified':True,\n",
    "        },\n",
    "        'n':{\n",
    "            'dtype':'int', # data type of param.\n",
    "            'check_modified':False,\n",
    "        }\n",
    "    },\n",
    "    'outputs':{\n",
    "        'output_0':{\n",
    "            'index':0,\n",
    "            'dtype':'pd.Series',\n",
    "            'check_dtype': True,\n",
    "            'check_col_dtypes': True, # Ignored if dtype is not df\n",
    "            'check_col_order': True, # Ignored if dtype is not df\n",
    "            'check_row_order': True, # Ignored if dtype is not df\n",
    "            'check_column_type': True, # Ignored if dtype is not df\n",
    "            'float_tolerance': 10 ** (-6)\n",
    "        }\n",
    "    }\n",
    "}\n",
    "tester = Tester(conf, key=b'z0BNF11iKYQicR63590bVXZGa19YGvJcmzrbP6R7oAY=', path='resource/asnlib/publicdata/')\n",
    "for _ in range(70):\n",
    "    try:\n",
    "        tester.run_test()\n",
    "        (input_vars, original_input_vars, returned_output_vars, true_output_vars) = tester.get_test_vars()\n",
    "    except:\n",
    "        (input_vars, original_input_vars, returned_output_vars, true_output_vars) = tester.get_test_vars()\n",
    "        raise\n",
    "\n",
    "###\n",
    "### AUTOGRADER TEST - DO NOT REMOVE\n",
    "###\n",
    "print('Passed! Please submit.')"
   ]
  },
  {
   "cell_type": "markdown",
   "metadata": {
    "deletable": false,
    "editable": false,
    "nbgrader": {
     "grade": false,
     "locked": true,
     "solution": false
    },
    "tags": [
     "exercise_text"
    ]
   },
   "source": [
    "## Exercise 4 - (**2** Points): \n",
    "We have the CPI data re-organized into a time series. We are concerned with inflation, which is the multiplicative change in CPI over some time interval. We will need to transform the data a final time to get an inflation time series.\n",
    "\n",
    "Define the function `multiplicative_change(ts, lag)`. The input `ts` is a 1-D array of floats representing monthly observations of the CPI. The input `lag` is an integer indicating the time interval we want to measure inflation over in months. \n",
    "\n",
    "Your function should implement the following formula to calculate $\\hat{x}$ and return the result as a 1-D array. In the mathematical notation $x$ is `ts`, and $\\ell$ is `lag`:\n",
    "$$\\hat{x_i} = \\frac{x_i - x_{i-\\ell}}{x_{i-\\ell}}$$\n",
    "\n",
    "Note that by this definition the first $\\ell$ (or `lag`) entries in $\\hat{x}$ are undefined. The output will start with the first defined value."
   ]
  },
  {
   "cell_type": "code",
   "execution_count": 34,
   "metadata": {
    "collapsed": true,
    "deletable": false,
    "editable": false,
    "nbgrader": {
     "grade": false,
     "locked": true,
     "solution": false
    },
    "tags": [
     "demo_data"
    ]
   },
   "outputs": [],
   "source": [
    "### Define demo inputs\n",
    "demo_ts_ex4 = np.array([100., 150., 180., 216., 324.])"
   ]
  },
  {
   "cell_type": "markdown",
   "metadata": {
    "deletable": false,
    "editable": false,
    "nbgrader": {
     "grade": false,
     "locked": true,
     "solution": false
    },
    "tags": [
     "demo_output_md"
    ]
   },
   "source": [
    "<!-- Expected demo output text block -->\n",
    "The demo included in the solution cell below should display the following output:\n",
    "```\n",
    "lag of 1\n",
    "[0.5 0.2 0.2 0.5]\n",
    "\n",
    "lag of 2\n",
    "[0.8  0.44 0.8 ]\n",
    "```\n",
    "<!-- Include any shout outs here -->"
   ]
  },
  {
   "cell_type": "code",
   "execution_count": 115,
   "metadata": {
    "tags": [
     "exercise_solution"
    ]
   },
   "outputs": [
    {
     "name": "stdout",
     "output_type": "stream",
     "text": [
      "lag of 1\n",
      "[0.5 0.2 0.2 0.5]\n",
      "\n",
      "lag of 2\n",
      "[0.8  0.44 0.8 ]\n"
     ]
    }
   ],
   "source": [
    "### Exercise 4 solution\n",
    "def multiplicative_change(ts, lag):\n",
    "    \n",
    "    x_hat = np.zeros_like(ts)\n",
    "    \n",
    "    for i in range(lag, len(ts)):\n",
    "        x_hat[i] = ts[i] - ts[i-lag]\n",
    "        x_hat[i] /= ts[i-lag]\n",
    "    \n",
    "    return x_hat[lag:]\n",
    "    \n",
    "    #return (ts[lag:] - ts[:-lag])/ts[:-lag]\n",
    "\n",
    "### demo function call\n",
    "demo_output_ex4_lag_1 = multiplicative_change(demo_ts_ex4, 1)\n",
    "demo_output_ex4_lag_2 = multiplicative_change(demo_ts_ex4, 2)\n",
    "print('lag of 1')\n",
    "print(demo_output_ex4_lag_1)\n",
    "print()\n",
    "print('lag of 2')\n",
    "print(demo_output_ex4_lag_2)"
   ]
  },
  {
   "cell_type": "markdown",
   "metadata": {
    "deletable": false,
    "editable": false,
    "nbgrader": {
     "grade": false,
     "locked": true,
     "solution": false
    },
    "tags": [
     "test_data_boilerplate"
    ]
   },
   "source": [
    "<!-- Test Cell Boilerplate -->\n",
    "The cell below will test your solution for Exercise 4. The testing variables will be available for debugging under the following names in a dictionary format.\n",
    "- `input_vars` - Input variables for your solution. \n",
    "- `original_input_vars` - Copy of input variables from prior to running your solution. These _should_ be the same as `input_vars` - otherwise the inputs were modified by your solution.\n",
    "- `returned_output_vars` - Outputs returned by your solution.\n",
    "- `true_output_vars` - The expected output. This _should_ \"match\" `returned_output_vars` based on the question requirements - otherwise, your solution is not returning the correct output. "
   ]
  },
  {
   "cell_type": "code",
   "execution_count": 116,
   "metadata": {
    "deletable": false,
    "editable": false,
    "nbgrader": {
     "grade": true,
     "grade_id": "ex4",
     "locked": true,
     "points": "2",
     "solution": false
    },
    "tags": []
   },
   "outputs": [
    {
     "name": "stdout",
     "output_type": "stream",
     "text": [
      "Passed! Please submit.\n"
     ]
    }
   ],
   "source": [
    "### test_cell_ex4\n",
    "###\n",
    "### AUTOGRADER TEST - DO NOT REMOVE\n",
    "###\n",
    "from tester_fw.testers import Tester\n",
    "\n",
    "conf = {\n",
    "    'case_file':'tc_4', \n",
    "    'func': multiplicative_change, # replace this with the function defined above\n",
    "    'inputs':{ # input config dict. keys are parameter names\n",
    "        'ts':{\n",
    "            'dtype':'np.ndarray', # data type of param.\n",
    "            'check_modified':True,\n",
    "        },\n",
    "        'lag':{\n",
    "            'dtype':'int', # data type of param.\n",
    "            'check_modified':True,\n",
    "        }\n",
    "    },\n",
    "    'outputs':{\n",
    "        'output_0':{\n",
    "            'index':0,\n",
    "            'dtype':'',\n",
    "            'check_dtype': True,\n",
    "            'check_col_dtypes': True, # Ignored if dtype is not df\n",
    "            'check_col_order': True, # Ignored if dtype is not df\n",
    "            'check_row_order': True, # Ignored if dtype is not df\n",
    "            'check_column_type': True, # Ignored if dtype is not df\n",
    "            'float_tolerance': 10 ** (-6)\n",
    "        }\n",
    "    }\n",
    "}\n",
    "tester = Tester(conf, key=b'z0BNF11iKYQicR63590bVXZGa19YGvJcmzrbP6R7oAY=', path='resource/asnlib/publicdata/')\n",
    "for _ in range(70):\n",
    "    try:\n",
    "        tester.run_test()\n",
    "        (input_vars, original_input_vars, returned_output_vars, true_output_vars) = tester.get_test_vars()\n",
    "    except:\n",
    "        (input_vars, original_input_vars, returned_output_vars, true_output_vars) = tester.get_test_vars()\n",
    "        raise\n",
    "\n",
    "###\n",
    "### AUTOGRADER TEST - DO NOT REMOVE\n",
    "###\n",
    "print('Passed! Please submit.')"
   ]
  },
  {
   "cell_type": "markdown",
   "metadata": {
    "deletable": false,
    "editable": false,
    "nbgrader": {
     "grade": false,
     "locked": true,
     "solution": false
    }
   },
   "source": [
    "## On time-series analysis\n",
    "The following two exercises will focus on implementing two triple time-series analysis techniques, triple and double exponential smoothing. The high level idea for simple smoothing is that we will make an initial guess, compare it with the observation, and use that information to improve our guess on the following observation. For double smoothing, we will do this on two levels - adjusting successive guesses for the observations themselves as well as for the difference between observations in an attempt to capture any trends in our model."
   ]
  },
  {
   "cell_type": "markdown",
   "metadata": {
    "deletable": false,
    "editable": false,
    "nbgrader": {
     "grade": false,
     "locked": true,
     "solution": false
    },
    "tags": [
     "exercise_text"
    ]
   },
   "source": [
    "## Exercise 5 - (**2** Points): \n",
    "This is the formula for our application of simple exponential smoothing. In the math notation $x_t$ is `ts[t]`, and $\\hat{x_t}$ is our prediction for $x_t$:   \n",
    "\n",
    "Initial conditions  \n",
    "- $s_0 = x_0$.                This is our initial guess.  \n",
    "- $\\hat{x_0}$ is undefined.   We can't call the first guess a prediction since it's actually the first observation.  \n",
    "\n",
    "For $t > 0$  \n",
    "- $s_t = \\alpha(x_{t}) + (1-\\alpha)s_{t-1}$  \n",
    "- $\\hat{x_t} = s_{t-1}$\n",
    "\n",
    "When $\\alpha$ is closer to 1 the model is more sensitive to recent observations. When $\\alpha$ is closer to 0 the model is more sensitive to past observations.\n",
    "\n",
    "Define the function `simple_exp_smoothing(ts, alpha)`. The input `ts` will be a 1-D numerical array (the vector $x$ from the formula above), and the input `alpha` (the scalar $\\alpha$ from the formula above) will be a floating point number between 0 and 1. \n",
    "\n",
    "Your function should implement the formula above and return the vector $\\hat{x}$ as a 1-D array.   \n",
    "- Since $\\hat{x_0}$ is undefined, the first element in your result should be `np.nan`.  \n",
    "- Since $\\hat{x}_{n+1}$ is well-defined for $x \\in \\mathcal{R}^n$, your result should have exactly one more element than the input `ts`."
   ]
  },
  {
   "cell_type": "code",
   "execution_count": 6,
   "metadata": {
    "collapsed": true,
    "deletable": false,
    "editable": false,
    "nbgrader": {
     "grade": false,
     "locked": true,
     "solution": false
    },
    "tags": [
     "demo_data"
    ]
   },
   "outputs": [],
   "source": [
    "### Define demo inputs\n",
    "\n",
    "demo_ts_ex5 = np.array([100., 105., 120., 110., 115.])"
   ]
  },
  {
   "cell_type": "markdown",
   "metadata": {
    "deletable": false,
    "editable": false,
    "nbgrader": {
     "grade": false,
     "locked": true,
     "solution": false
    },
    "tags": [
     "demo_output_md"
    ]
   },
   "source": [
    "<!-- Expected demo output text block -->\n",
    "The demo included in the solution cell below should display the following output:\n",
    "```\n",
    "[ nan 100. 105. 120. 110. 115.]\n",
    "[ nan 100. 100. 100. 100. 100.]\n",
    "[ nan 100. 102.5 111.25 110.625 112.8125]\n",
    "```\n",
    "The demo below will run your solution 3 times with `alpha` values of `1`, `0`, and `0.5`."
   ]
  },
  {
   "cell_type": "code",
   "execution_count": 7,
   "metadata": {
    "tags": [
     "exercise_solution"
    ]
   },
   "outputs": [
    {
     "name": "stdout",
     "output_type": "stream",
     "text": [
      "[ nan 100. 105. 120. 110. 115.]\n",
      "[ nan 100. 100. 100. 100. 100.]\n",
      "[     nan 100.     102.5    111.25   110.625  112.8125]\n"
     ]
    }
   ],
   "source": [
    "### Exercise 5 solution\n",
    "def simple_exp_smoothing(ts, alpha):\n",
    "    \n",
    "    n = len(ts)\n",
    "    \n",
    "    s = np.zeros(n)\n",
    "    s[0] = ts[0]\n",
    "    \n",
    "    for t in range(1, len(ts)):\n",
    "        s[t] = alpha * ts[t] +(1-alpha) * s[t-1]\n",
    "    \n",
    "    x_hat = np.zeros(n+1)\n",
    "    x_hat[0] = np.nan\n",
    "    x_hat[1:] = s\n",
    "    \n",
    "    return x_hat\n",
    "    \n",
    "#     x_hat = [0]*(len(ts)+1) \n",
    "#     x_hat[0] = np.nan\n",
    "#     s = [0]*(len(ts))\n",
    "#     s[0] = ts[0]\n",
    "#     x_hat[1] = s[0]\n",
    "#     for i in range(1, len(ts)):\n",
    "#         s[i] = alpha*ts[i] + (1-alpha)*s[i-1]\n",
    "#         x_hat[i+1] = s[i]\n",
    "#     return np.array(x_hat)\n",
    "\n",
    "### demo function call\n",
    "print(simple_exp_smoothing(demo_ts_ex5, 1))\n",
    "print(simple_exp_smoothing(demo_ts_ex5, 0))\n",
    "print(simple_exp_smoothing(demo_ts_ex5, 0.5))"
   ]
  },
  {
   "cell_type": "markdown",
   "metadata": {
    "deletable": false,
    "editable": false,
    "nbgrader": {
     "grade": false,
     "locked": true,
     "solution": false
    },
    "tags": [
     "test_data_boilerplate"
    ]
   },
   "source": [
    "<!-- Test Cell Boilerplate -->\n",
    "The cell below will test your solution for Exercise 5. The testing variables will be available for debugging under the following names in a dictionary format.\n",
    "- `input_vars` - Input variables for your solution. \n",
    "- `original_input_vars` - Copy of input variables from prior to running your solution. These _should_ be the same as `input_vars` - otherwise the inputs were modified by your solution.\n",
    "- `returned_output_vars` - Outputs returned by your solution.\n",
    "- `true_output_vars` - The expected output. This _should_ \"match\" `returned_output_vars` based on the question requirements - otherwise, your solution is not returning the correct output. "
   ]
  },
  {
   "cell_type": "code",
   "execution_count": 137,
   "metadata": {
    "deletable": false,
    "editable": false,
    "nbgrader": {
     "grade": true,
     "grade_id": "ex5",
     "locked": true,
     "points": "2",
     "solution": false
    },
    "tags": []
   },
   "outputs": [
    {
     "name": "stdout",
     "output_type": "stream",
     "text": [
      "Passed! Please submit.\n"
     ]
    }
   ],
   "source": [
    "### test_cell_ex5\n",
    "###\n",
    "### AUTOGRADER TEST - DO NOT REMOVE\n",
    "###\n",
    "from tester_fw.testers import Tester\n",
    "\n",
    "conf = {\n",
    "    'case_file':'tc_5', \n",
    "    'func': simple_exp_smoothing, # replace this with the function defined above\n",
    "    'inputs':{ # input config dict. keys are parameter names\n",
    "        'ts':{\n",
    "            'dtype':'np.ndarray', # data type of param.\n",
    "            'check_modified':True,\n",
    "        },\n",
    "        'alpha':{\n",
    "            'dtype':'float', # data type of param.\n",
    "            'check_modified':True,\n",
    "        }\n",
    "    },\n",
    "    'outputs':{\n",
    "        'output_0':{\n",
    "            'index':0,\n",
    "            'dtype':'np.ndarray',\n",
    "            'check_dtype': True,\n",
    "            'check_col_dtypes': True, # Ignored if dtype is not df\n",
    "            'check_col_order': True, # Ignored if dtype is not df\n",
    "            'check_row_order': True, # Ignored if dtype is not df\n",
    "            'check_column_type': True, # Ignored if dtype is not df\n",
    "            'float_tolerance': 10 ** (-6)\n",
    "        }\n",
    "    }\n",
    "}\n",
    "tester = Tester(conf, key=b'z0BNF11iKYQicR63590bVXZGa19YGvJcmzrbP6R7oAY=', path='resource/asnlib/publicdata/')\n",
    "for _ in range(70):\n",
    "    try:\n",
    "        tester.run_test()\n",
    "        (input_vars, original_input_vars, returned_output_vars, true_output_vars) = tester.get_test_vars()\n",
    "    except:\n",
    "        (input_vars, original_input_vars, returned_output_vars, true_output_vars) = tester.get_test_vars()\n",
    "        raise\n",
    "\n",
    "###\n",
    "### AUTOGRADER TEST - DO NOT REMOVE\n",
    "###\n",
    "print('Passed! Please submit.')"
   ]
  },
  {
   "cell_type": "markdown",
   "metadata": {
    "deletable": false,
    "editable": false,
    "nbgrader": {
     "grade": false,
     "locked": true,
     "solution": false
    },
    "tags": [
     "exercise_text"
    ]
   },
   "source": [
    "## Exercise 6 - (**2** Points): \n",
    "Now we will implement double exponential smoothing. For our implementation the formula is as follows:\n",
    "\n",
    "- $s_0 = x_0$  \n",
    "- $b_0 = 0$  \n",
    "- $\\hat{x}_0$ is undefined  \n",
    "\n",
    "For $t > 0$:  \n",
    "- $s_t = \\alpha x_{t} + (1-\\alpha)(s_{t-1} + b_{t-1})$  \n",
    "- $b_t = \\beta (s_t - s_{t-1}) + (1-\\beta)b_{t-1}$  \n",
    "- $\\hat{x}_{t} = s_{t-1} + b_{t-1}$  \n",
    "\n",
    "Define the function `double_exp_smoothing(ts, alpha, beta)`. The input `ts` will be a 1-D numerical array (the vector $x$ from the formula above), and the inputs `alpha` and `beta` (the scalars $\\alpha$ and $\\beta$ from the formula above) will be floating point numbers between 0 and 1. \n",
    "\n",
    "Your function should implement the formula above and return the vector $\\hat{x}$ as a 1-D array.   \n",
    "- Since $\\hat{x_0}$ is undefined, the first element in your result should be `np.nan`.  \n",
    "- Since $\\hat{x}_{n+1}$ is well-defined for $x \\in \\mathcal{R}^n$, your result should have exactly one more element than the input `ts`."
   ]
  },
  {
   "cell_type": "code",
   "execution_count": 141,
   "metadata": {
    "collapsed": true,
    "deletable": false,
    "editable": false,
    "nbgrader": {
     "grade": false,
     "locked": true,
     "solution": false
    },
    "tags": [
     "demo_data"
    ]
   },
   "outputs": [],
   "source": [
    "### Define demo inputs\n",
    "\n",
    "demo_ts_ex6 = np.array([100., 105., 120., 110., 115.])"
   ]
  },
  {
   "cell_type": "markdown",
   "metadata": {
    "deletable": false,
    "editable": false,
    "nbgrader": {
     "grade": false,
     "locked": true,
     "solution": false
    },
    "tags": [
     "demo_output_md"
    ]
   },
   "source": [
    "<!-- Expected demo output text block -->\n",
    "The demo included in the solution cell below should display the following output:\n",
    "```\n",
    "[nan 100. 102.5   111.25     110.625      112.8125]\n",
    "[nan 100. 105.    122.5      120.         118.75]\n",
    "[nan 100. 103.75  117.1875   117.109375   119.04296875]\n",
    "[nan 100. 101.875 109.296875 112.45117188 116.38549805]\n",
    "```\n",
    "The demo below performs 4 runs with your solution. Each run with different `alpha` or `beta` parameters."
   ]
  },
  {
   "cell_type": "code",
   "execution_count": 158,
   "metadata": {
    "tags": [
     "exercise_solution"
    ]
   },
   "outputs": [
    {
     "name": "stdout",
     "output_type": "stream",
     "text": [
      "[     nan 100.     102.5    111.25   110.625  112.8125]\n",
      "[   nan 100.   105.   122.5  120.   118.75]\n",
      "[         nan 100.         103.75       117.1875     117.109375\n",
      " 119.04296875]\n",
      "[         nan 100.         101.875      109.296875   112.45117188\n",
      " 116.38549805]\n"
     ]
    }
   ],
   "source": [
    "### Exercise 6 solution\n",
    "def double_exp_smoothing(ts, alpha, beta):\n",
    "    \n",
    "    n = len(ts)\n",
    "    s = np.zeros(n)\n",
    "    b = np.zeros(n)\n",
    "    \n",
    "    s[0] = ts[0]\n",
    "    b[0] = 0\n",
    "  \n",
    "    for i in range(1, n):\n",
    "        s[i] = alpha*ts[i] + (1-alpha)*(s[i-1]+b[i-1])\n",
    "        b[i] = beta*(s[i]-s[i-1]) + (1-beta)*b[i-1]\n",
    " \n",
    "    return np.concatenate(([np.nan], s[:] + b[:]))\n",
    "\n",
    "\n",
    "#     x_hat = [0]*(len(ts)+1) \n",
    "#     x_hat[0] = np.nan\n",
    "#     b = [0]* len(ts)\n",
    "#     s = [0]* len(ts)\n",
    "#     s[0] = ts[0]\n",
    "#     x_hat[1] = s[0] + b[0]\n",
    "#     for i in range(1, len(ts)):\n",
    "#         s[i] = alpha*ts[i] + (1-alpha)*(s[i-1]+ b[i-1])\n",
    "#         b[i] = beta*(s[i] - s[i-1])+(1-beta)*b[i-1]\n",
    "#         x_hat[i+1] = s[i]+ b[i]\n",
    "#     return np.array(x_hat)\n",
    "    \n",
    "print(double_exp_smoothing(demo_ts_ex6, alpha=0.5, beta=0))\n",
    "print(double_exp_smoothing(demo_ts_ex6, alpha=0.5, beta=1))\n",
    "print(double_exp_smoothing(demo_ts_ex6, alpha=0.5, beta=0.5))\n",
    "print(double_exp_smoothing(demo_ts_ex6, alpha=0.25, beta=0.5))"
   ]
  },
  {
   "cell_type": "markdown",
   "metadata": {
    "deletable": false,
    "editable": false,
    "nbgrader": {
     "grade": false,
     "locked": true,
     "solution": false
    },
    "tags": [
     "test_data_boilerplate"
    ]
   },
   "source": [
    "<!-- Test Cell Boilerplate -->\n",
    "The cell below will test your solution for Exercise 6. The testing variables will be available for debugging under the following names in a dictionary format.\n",
    "- `input_vars` - Input variables for your solution. \n",
    "- `original_input_vars` - Copy of input variables from prior to running your solution. These _should_ be the same as `input_vars` - otherwise the inputs were modified by your solution.\n",
    "- `returned_output_vars` - Outputs returned by your solution.\n",
    "- `true_output_vars` - The expected output. This _should_ \"match\" `returned_output_vars` based on the question requirements - otherwise, your solution is not returning the correct output. "
   ]
  },
  {
   "cell_type": "code",
   "execution_count": 159,
   "metadata": {
    "deletable": false,
    "editable": false,
    "nbgrader": {
     "grade": true,
     "grade_id": "ex6",
     "locked": true,
     "points": "2",
     "solution": false
    },
    "tags": []
   },
   "outputs": [
    {
     "name": "stdout",
     "output_type": "stream",
     "text": [
      "Passed! Please submit.\n"
     ]
    }
   ],
   "source": [
    "### test_cell_ex6\n",
    "###\n",
    "### AUTOGRADER TEST - DO NOT REMOVE\n",
    "###\n",
    "from tester_fw.testers import Tester\n",
    "\n",
    "conf = {\n",
    "    'case_file':'tc_6', \n",
    "    'func': double_exp_smoothing, # replace this with the function defined above\n",
    "    'inputs':{ # input config dict. keys are parameter names\n",
    "        'ts':{\n",
    "            'dtype':'np.ndarray', # data type of param.\n",
    "            'check_modified':True,\n",
    "        },\n",
    "        'alpha':{\n",
    "            'dtype':'float', # data type of param.\n",
    "            'check_modified':True,\n",
    "        },\n",
    "        'beta':{\n",
    "            'dtype':'float', # data type of param.\n",
    "            'check_modified':True,\n",
    "        }\n",
    "    },\n",
    "    'outputs':{\n",
    "        'output_0':{\n",
    "            'index':0,\n",
    "            'dtype':'np.ndarray',\n",
    "            'check_dtype': True,\n",
    "            'check_col_dtypes': True, # Ignored if dtype is not df\n",
    "            'check_col_order': True, # Ignored if dtype is not df\n",
    "            'check_row_order': True, # Ignored if dtype is not df\n",
    "            'check_column_type': True, # Ignored if dtype is not df\n",
    "            'float_tolerance': 10 ** (-6)\n",
    "        }\n",
    "    }\n",
    "}\n",
    "tester = Tester(conf, key=b'z0BNF11iKYQicR63590bVXZGa19YGvJcmzrbP6R7oAY=', path='resource/asnlib/publicdata/')\n",
    "for _ in range(70):\n",
    "    try:\n",
    "        tester.run_test()\n",
    "        (input_vars, original_input_vars, returned_output_vars, true_output_vars) = tester.get_test_vars()\n",
    "    except:\n",
    "        (input_vars, original_input_vars, returned_output_vars, true_output_vars) = tester.get_test_vars()\n",
    "        raise\n",
    "\n",
    "###\n",
    "### AUTOGRADER TEST - DO NOT REMOVE\n",
    "###\n",
    "print('Passed! Please submit.')"
   ]
  },
  {
   "cell_type": "markdown",
   "metadata": {
    "deletable": false,
    "editable": false,
    "nbgrader": {
     "grade": false,
     "locked": true,
     "solution": false
    }
   },
   "source": [
    "## Grid search\n",
    "\n",
    "Calculus won't work for finding the optimal parameters for either flavor of exponential smoothing implemented above. A \"brute-force\" alternative is to generate a list of suitable candidates for each parameter and test our functions on all possible combinations. This is called a grid search. It's not flashy, but for a lot of modeling techniques it's one of the only suitable choices."
   ]
  },
  {
   "cell_type": "markdown",
   "metadata": {
    "deletable": false,
    "editable": false,
    "nbgrader": {
     "grade": false,
     "locked": true,
     "solution": false
    },
    "tags": [
     "exercise_text"
    ]
   },
   "source": [
    "## Exercise 7 - (**3** Points): \n",
    "Define the function `build_grid(params)`. The input `params` will be a dictionary mapping strings to arrays (or array-like data structures such as `list`s). Consider each string a parameter name and each value in the corresponding array to be a candidate value for that parameter.\n",
    "\n",
    "Your function should return a list of dictionaries which satisfies the following:  \n",
    "- Each dictionary maps each parameter name to exactly one candidate value for that parameter.\n",
    "- Exactly one dictionary exists for each combination of parameters. \n",
    "- The list is sorted by the values associated with each key. The sort priority for each key should be based on their lexographical order.\n",
    "\n",
    "For example, `build_params({'b': [1, 2], 'z': [3, 5, 6], 'a': [100, 10]})` should return:  \n",
    "```\n",
    "[{'b': 1, 'z': 3, 'a': 10},\n",
    " {'b': 1, 'z': 5, 'a': 10},\n",
    " {'b': 1, 'z': 6, 'a': 10},\n",
    " {'b': 2, 'z': 3, 'a': 10},\n",
    " {'b': 2, 'z': 5, 'a': 10},\n",
    " {'b': 2, 'z': 6, 'a': 10},\n",
    " {'b': 1, 'z': 3, 'a': 100},\n",
    " {'b': 1, 'z': 5, 'a': 100},\n",
    " {'b': 1, 'z': 6, 'a': 100},\n",
    " {'b': 2, 'z': 3, 'a': 100},\n",
    " {'b': 2, 'z': 5, 'a': 100},\n",
    " {'b': 2, 'z': 6, 'a': 100}]\n",
    "```\n",
    "\n",
    "Notice the following:  \n",
    "- There are 3 parameters. The length of the lists assigned to the parameters are 2, 3, and 2.  \n",
    "    - Thus there are 12 (`2*3*2`)possible combinations.  \n",
    "- Each possible combination is represented exactly once in the list. \n",
    "- The list is sorted first by the `'a'` value, then by the `'b'` value, and finally by the `'z'` value.\n",
    "\n",
    "Keep in mind that the function needs to work for an **arbitrary** dictionary (the number of keys, the keys themselves, and the values can be **anything** which meets the which has the structure given earlier in the prompt).\n",
    "\n",
    "**Note**: You may find the functions `itertools.product` or `numpy.meshgrid` helpful in solving this problem."
   ]
  },
  {
   "cell_type": "code",
   "execution_count": 9,
   "metadata": {
    "collapsed": true,
    "deletable": false,
    "editable": false,
    "nbgrader": {
     "grade": false,
     "locked": true,
     "solution": false
    },
    "tags": [
     "demo_data"
    ]
   },
   "outputs": [],
   "source": [
    "### Define demo inputs\n",
    "\n",
    "demo_params_ex7 = {'b': [1, 2], 'z': [3, 5, 6], 'a': [100, 10]}"
   ]
  },
  {
   "cell_type": "code",
   "execution_count": 32,
   "metadata": {
    "tags": [
     "exercise_solution"
    ]
   },
   "outputs": [
    {
     "data": {
      "text/plain": [
       "[{'a': 10, 'b': 1, 'z': 3},\n",
       " {'a': 10, 'b': 1, 'z': 5},\n",
       " {'a': 10, 'b': 1, 'z': 6},\n",
       " {'a': 10, 'b': 2, 'z': 3},\n",
       " {'a': 10, 'b': 2, 'z': 5},\n",
       " {'a': 10, 'b': 2, 'z': 6},\n",
       " {'a': 100, 'b': 1, 'z': 3},\n",
       " {'a': 100, 'b': 1, 'z': 5},\n",
       " {'a': 100, 'b': 1, 'z': 6},\n",
       " {'a': 100, 'b': 2, 'z': 3},\n",
       " {'a': 100, 'b': 2, 'z': 5},\n",
       " {'a': 100, 'b': 2, 'z': 6}]"
      ]
     },
     "execution_count": 32,
     "metadata": {},
     "output_type": "execute_result"
    }
   ],
   "source": [
    "### Exercise 7 solution\n",
    "def build_grid(params):\n",
    "    \n",
    "    import itertools\n",
    "    \n",
    "    param_names = sorted(params.keys())\n",
    "    param_values = [params[key] for key in param_names]\n",
    "    \n",
    "    param_combinations = itertools.product(*param_values)\n",
    "    \n",
    "    result = []\n",
    "    \n",
    "    for v in param_combinations:\n",
    "        result.append(dict(zip(param_names,v)))\n",
    "\n",
    "    result.sort(key=lambda d: tuple(d[key] for key in param_names))\n",
    "    \n",
    "    return result\n",
    "\n",
    "### demo function call\n",
    "build_grid(demo_params_ex7)"
   ]
  },
  {
   "cell_type": "markdown",
   "metadata": {
    "deletable": false,
    "editable": false,
    "nbgrader": {
     "grade": false,
     "locked": true,
     "solution": false
    },
    "tags": [
     "test_data_boilerplate"
    ]
   },
   "source": [
    "<!-- Test Cell Boilerplate -->\n",
    "The cell below will test your solution for Exercise 7. The testing variables will be available for debugging under the following names in a dictionary format.\n",
    "- `input_vars` - Input variables for your solution. \n",
    "- `original_input_vars` - Copy of input variables from prior to running your solution. These _should_ be the same as `input_vars` - otherwise the inputs were modified by your solution.\n",
    "- `returned_output_vars` - Outputs returned by your solution.\n",
    "- `true_output_vars` - The expected output. This _should_ \"match\" `returned_output_vars` based on the question requirements - otherwise, your solution is not returning the correct output. "
   ]
  },
  {
   "cell_type": "code",
   "execution_count": 27,
   "metadata": {
    "deletable": false,
    "editable": false,
    "nbgrader": {
     "grade": true,
     "grade_id": "ex7",
     "locked": true,
     "points": "3",
     "solution": false
    },
    "tags": []
   },
   "outputs": [
    {
     "name": "stdout",
     "output_type": "stream",
     "text": [
      "Passed! Please submit.\n"
     ]
    }
   ],
   "source": [
    "### test_cell_ex7\n",
    "###\n",
    "### AUTOGRADER TEST - DO NOT REMOVE\n",
    "###\n",
    "from tester_fw.testers import Tester\n",
    "\n",
    "conf = {\n",
    "    'case_file':'tc_7', \n",
    "    'func': build_grid, # replace this with the function defined above\n",
    "    'inputs':{ # input config dict. keys are parameter names\n",
    "        'params':{\n",
    "            'dtype':'dict', # data type of param.\n",
    "            'check_modified':False,\n",
    "        }\n",
    "    },\n",
    "    'outputs':{\n",
    "        'output_0':{\n",
    "            'index':0,\n",
    "            'dtype':'',\n",
    "            'check_dtype': True,\n",
    "            'check_col_dtypes': True, # Ignored if dtype is not df\n",
    "            'check_col_order': True, # Ignored if dtype is not df\n",
    "            'check_row_order': True, # Ignored if dtype is not df\n",
    "            'check_column_type': True, # Ignored if dtype is not df\n",
    "            'float_tolerance': 10 ** (-6)\n",
    "        }\n",
    "    }\n",
    "}\n",
    "tester = Tester(conf, key=b'z0BNF11iKYQicR63590bVXZGa19YGvJcmzrbP6R7oAY=', path='resource/asnlib/publicdata/')\n",
    "for _ in range(70):\n",
    "    try:\n",
    "        tester.run_test()\n",
    "        (input_vars, original_input_vars, returned_output_vars, true_output_vars) = tester.get_test_vars()\n",
    "    except:\n",
    "        (input_vars, original_input_vars, returned_output_vars, true_output_vars) = tester.get_test_vars()\n",
    "        raise\n",
    "\n",
    "###\n",
    "### AUTOGRADER TEST - DO NOT REMOVE\n",
    "###\n",
    "print('Passed! Please submit.')"
   ]
  },
  {
   "cell_type": "code",
   "execution_count": 20,
   "metadata": {},
   "outputs": [],
   "source": [
    "returned_output_vars['output_0']"
   ]
  },
  {
   "cell_type": "code",
   "execution_count": 21,
   "metadata": {},
   "outputs": [
    {
     "data": {
      "text/plain": [
       "[{'vqzyo': 70.3}, {'vqzyo': 80.13}]"
      ]
     },
     "execution_count": 21,
     "metadata": {},
     "output_type": "execute_result"
    }
   ],
   "source": [
    "true_output_vars['output_0']"
   ]
  },
  {
   "cell_type": "markdown",
   "metadata": {
    "deletable": false,
    "editable": false,
    "nbgrader": {
     "grade": false,
     "locked": true,
     "solution": false
    }
   },
   "source": [
    "## A metric to compare models\n",
    "In order to implement a grid search we need some metric of evaluating how well each model fits the data. We have provided `mse` to calculate the mean squared error for the predictions coming from a model. It takes two 1-D array arguments, `obs` (observed values) and `preds` (predicted values). It returns the mean of the squared difference between observations and predictions. A lower output from `mse` indicates that the model is a better fit."
   ]
  },
  {
   "cell_type": "code",
   "execution_count": 93,
   "metadata": {
    "collapsed": true,
    "deletable": false,
    "editable": false,
    "nbgrader": {
     "grade": false,
     "locked": true,
     "solution": false
    }
   },
   "outputs": [],
   "source": [
    "def mse(obs, preds):\n",
    "    r = obs-preds\n",
    "    return np.power(r,2).mean()"
   ]
  },
  {
   "cell_type": "markdown",
   "metadata": {
    "deletable": false,
    "editable": false,
    "nbgrader": {
     "grade": false,
     "locked": true,
     "solution": false
    },
    "tags": [
     "exercise_text"
    ]
   },
   "source": [
    "## Exercise 8 - (**3** Points): \n",
    "Now that we have built our parameter grid, it's time to test it.\n",
    "\n",
    "Define the function `grid_search(func, ts, grid, n_back)`. The inputs are as follows.  \n",
    "- `func`: an _arbitrary_ function similar to the ones which we defined in exercises 5 and 6. It takes a 1-D time-series array and some additional parameters as inputs. It returns predictions for the time series based on some logic of which we are unaware.\n",
    "    - You can consider `func(...)[i]` to be the prediction that corresponds with `ts[i]`. \n",
    "    - `func(...)[-1]` is the prediction for the next value of `ts` which has not been observed yet. \n",
    "- `ts`: a 1-D numerical array which is a suitable input for `func`. Think of this as time-series data that we want to fit some model defined by `func`.\n",
    "- `grid`: a list of dictionaries. Each dictionary maps the remaining parameters for `func` to values. You can assume that the keys in these dictionaries match the remaining named parameters for `func`.  \n",
    "- `n_back`: a positive integer smaller than `ts.shape[0]`.\n",
    "\n",
    "Your function should iteratively search the parameter sets given in `grid` to determine the set which results in the best model (the one with the lowest `mse`) given `func` and `ts`. Since exponential smoothing takes time to ramp up, you should only consider the last `n_back` **observations** in `mse` calculations. If there are multiple parameter sets which result in the same `mse` the parameter set encountered _first_ in `grid` should be chosen.\n",
    "\n",
    "You can follow this whiteboard-level algorithm to implement your search.  \n",
    "1. Initialize a variable to track the lowest `mse` returned so far in the search.\n",
    "2. Initialize a variable to track the best set of parameters tested so far. \n",
    "3. Iterate through each `dict` (we will call the dict `params`) in `grid`.\n",
    "    - Calculate the predictions for this set of parameters.\n",
    "        - `func(ts, **params)` will calculate the predictions.\n",
    "    - Slice the predictions and observations so that only data points corresponding to the last `n_back` **observations** are in the slices.\n",
    "    - Calculate the `mse` of the slices.\n",
    "    - Update the tracking variables set in steps 1 and 3 if the `mse` has improved.\n",
    "4. Once all `dict`s in `grid` have been checked, return the best set of parameters.\n"
   ]
  },
  {
   "cell_type": "code",
   "execution_count": 94,
   "metadata": {
    "collapsed": true,
    "deletable": false,
    "editable": false,
    "nbgrader": {
     "grade": false,
     "locked": true,
     "solution": false
    },
    "tags": [
     "demo_data"
    ]
   },
   "outputs": [],
   "source": [
    "### Define demo inputs\n",
    "def demo_func_ex8(ts, a, b):\n",
    "    return np.concatenate(( np.array([np.nan]), \n",
    "                            ((5*a)/(7*b))*ts[1:], \n",
    "                            np.array([50.])))\n",
    "demo_ts_ex8 = np.array([51.1, 61.7, 34.92, 7.97, 84.03, 29.65, 85.86, 95.4, 82., 36.61])\n",
    "demo_grid_ex8 = [   {'a': 2, 'b': 5},\n",
    "                    {'a': 2, 'b': 11},\n",
    "                    {'a': 3, 'b': 5},\n",
    "                    {'a': 3, 'b': 11},\n",
    "                    {'a': 21, 'b': 15},\n",
    "                    {'a': 7, 'b': 11},\n",
    "                    {'a': 14, 'b': 10}]\n",
    "demo_n_back_ex8 = 9"
   ]
  },
  {
   "cell_type": "markdown",
   "metadata": {
    "deletable": false,
    "editable": false,
    "nbgrader": {
     "grade": false,
     "locked": true,
     "solution": false
    },
    "tags": [
     "demo_output_md"
    ]
   },
   "source": [
    "<!-- Expected demo output text block -->\n",
    "The demo included in the solution cell below should display the following output:\n",
    "```\n",
    "{'a': 21, 'b': 15}\n",
    "```\n",
    "Notice:  \n",
    "- `func` will return \"predictions\" $\\hat{x}_t = \\frac{5a}{7b}x_t$ whenever $0 < t \\le 9$.\n",
    "- Due to the `n_back` parameter we are only looking at the last 9 observations (same interval as in the above point).\n",
    "- When $a=7k$ and $b=5k$ with any number $k$, the fraction cancels and we have $\\hat{x}_t = x_t$. This will have MSE of 0.\n",
    "    - Both `{'a': 21, 'b': 15}` and `{'a': 14, 'b': 10}` match this form, so we choose `{'a': 21, 'b': 15}` which appeared first in `grid`."
   ]
  },
  {
   "cell_type": "code",
   "execution_count": 108,
   "metadata": {
    "tags": [
     "exercise_solution"
    ]
   },
   "outputs": [
    {
     "data": {
      "text/plain": [
       "{'a': 21, 'b': 15}"
      ]
     },
     "execution_count": 108,
     "metadata": {},
     "output_type": "execute_result"
    }
   ],
   "source": [
    "### Exercise 8 solution\n",
    "def grid_search(func, ts, grid, n_back):\n",
    "    \n",
    "    best_mse = np.inf\n",
    "    best_paras = None\n",
    "    \n",
    "    for params in grid:\n",
    "        pred = func(ts, **params)\n",
    "        last_n = n_back if n_back else None\n",
    "        mse = np.mean((ts[last_n] - pred[last_n]) ** 2) #or mse(ts[-n_back:], preds[-(n_back+1):-1])\n",
    "        if mse < best_mse:\n",
    "            best_mse = mse\n",
    "            best_paras = params\n",
    "    return best_paras\n",
    "    \n",
    "### demo function call\n",
    "grid_search(func=demo_func_ex8, ts=demo_ts_ex8, grid=demo_grid_ex8, n_back=9)"
   ]
  },
  {
   "cell_type": "markdown",
   "metadata": {
    "deletable": false,
    "editable": false,
    "nbgrader": {
     "grade": false,
     "locked": true,
     "solution": false
    },
    "tags": [
     "test_data_boilerplate"
    ]
   },
   "source": [
    "<!-- Test Cell Boilerplate -->\n",
    "The cell below will test your solution for Exercise 8. The testing variables will be available for debugging under the following names in a dictionary format.\n",
    "- `input_vars` - Input variables for your solution. \n",
    "- `original_input_vars` - Copy of input variables from prior to running your solution. These _should_ be the same as `input_vars` - otherwise the inputs were modified by your solution.\n",
    "- `returned_output_vars` - Outputs returned by your solution.\n",
    "- `true_output_vars` - The expected output. This _should_ \"match\" `returned_output_vars` based on the question requirements - otherwise, your solution is not returning the correct output. "
   ]
  },
  {
   "cell_type": "code",
   "execution_count": 109,
   "metadata": {
    "deletable": false,
    "editable": false,
    "nbgrader": {
     "grade": true,
     "grade_id": "ex8",
     "locked": true,
     "points": "3",
     "solution": false
    },
    "tags": []
   },
   "outputs": [
    {
     "name": "stdout",
     "output_type": "stream",
     "text": [
      "Passed! Please submit.\n"
     ]
    }
   ],
   "source": [
    "### test_cell_ex8\n",
    "###\n",
    "### AUTOGRADER TEST - DO NOT REMOVE\n",
    "###\n",
    "from tester_fw.testers import Tester\n",
    "\n",
    "conf = {\n",
    "    'case_file':'tc_8', \n",
    "    'func': grid_search, # replace this with the function defined above\n",
    "    'inputs':{ # input config dict. keys are parameter names\n",
    "        'func':{\n",
    "            'dtype':'function', # data type of param.\n",
    "            'check_modified':False,\n",
    "        },\n",
    "        'ts':{\n",
    "            'dtype':'np.ndarray', # data type of param.\n",
    "            'check_modified':True,\n",
    "        },\n",
    "        'grid':{\n",
    "            'dtype':'dict', # data type of param.\n",
    "            'check_modified':True,\n",
    "        },\n",
    "        'n_back':{\n",
    "            'dtype':'int', # data type of param.\n",
    "            'check_modified':False,\n",
    "        }\n",
    "    },\n",
    "    'outputs':{\n",
    "        'output_0':{\n",
    "            'index':0,\n",
    "            'dtype':'dict',\n",
    "            'check_dtype': True,\n",
    "            'check_col_dtypes': True, # Ignored if dtype is not df\n",
    "            'check_col_order': True, # Ignored if dtype is not df\n",
    "            'check_row_order': True, # Ignored if dtype is not df\n",
    "            'check_column_type': True, # Ignored if dtype is not df\n",
    "            'float_tolerance': 10 ** (-6)\n",
    "        }\n",
    "    }\n",
    "}\n",
    "tester = Tester(conf, key=b'z0BNF11iKYQicR63590bVXZGa19YGvJcmzrbP6R7oAY=', path='resource/asnlib/publicdata/')\n",
    "for _ in range(70):\n",
    "    try:\n",
    "        tester.run_test()\n",
    "        (input_vars, original_input_vars, returned_output_vars, true_output_vars) = tester.get_test_vars()\n",
    "    except:\n",
    "        (input_vars, original_input_vars, returned_output_vars, true_output_vars) = tester.get_test_vars()\n",
    "        raise\n",
    "\n",
    "###\n",
    "### AUTOGRADER TEST - DO NOT REMOVE\n",
    "###\n",
    "print('Passed! Please submit.')"
   ]
  },
  {
   "cell_type": "markdown",
   "metadata": {
    "deletable": false,
    "editable": false,
    "nbgrader": {
     "grade": false,
     "locked": true,
     "solution": false
    },
    "tags": [
     "fin"
    ]
   },
   "source": [
    "**Fin.** If you have made it this far, congratulations on completing the exam. **Don't forget to submit!**"
   ]
  },
  {
   "cell_type": "markdown",
   "metadata": {
    "deletable": false,
    "editable": false,
    "nbgrader": {
     "grade": false,
     "locked": true,
     "solution": false
    }
   },
   "source": [
    "## Analysis (there are no more exercises)\n",
    "We have used the functions developed above to fit simple and double exponential smoothing models. If you have correctly completed all of the exercises then you will get the same results by running this code:   \n",
    "```\n",
    "### Load data\n",
    "cpi_all_df = pd.read_csv('resource/asnlib/publicdata/cpi_urban_all.csv')\n",
    "### Clean data\n",
    "cpi_clean_df = cleanup_df(cpi_all_df, ['HALF1', 'HALF2'])\n",
    "### Reshape to time-series array\n",
    "cpi_ts = to_ts(cpi_clean_df)\n",
    "### Calculate inflation (change lag of one month)\n",
    "monthly_inflation = multiplicative_change(cpi_ts, 1)\n",
    "### Determine corresponding dates for plotting\n",
    "dates = date_series(cpi_clean_df, cpi_ts.shape[0])\n",
    "### Calculate params for simple smoothing\n",
    "simple_params = grid_search(\n",
    "\tfunc=simple_exp_smoothing,\n",
    "\tts=monthly_inflation,\n",
    "\tgrid=build_grid({'alpha': np.linspace(0, 1, 21)}),\n",
    "\tn_back=360)\n",
    "### Calculate params for double smoothing\n",
    "double_params = grid_search(\n",
    "\tfunc=double_exp_smoothing,\n",
    "\tts=monthly_inflation,\n",
    "\tgrid=build_grid({'alpha': np.linspace(0, 1, 21), 'beta': np.linspace(0, 1, 21)}),\n",
    "\tn_back=360)\n",
    "### Make predictions\n",
    "simple_preds = simple_exp_smoothing(monthly_inflation, **simple_params)\n",
    "double_preds = double_exp_smoothing(monthly_inflation, **double_params)\n",
    "```\n",
    "\n",
    "We will load our pre-computed results in case you did not complete all of the exercises."
   ]
  },
  {
   "cell_type": "markdown",
   "metadata": {
    "deletable": false,
    "editable": false,
    "nbgrader": {
     "grade": false,
     "locked": true,
     "solution": false
    }
   },
   "source": [
    "Let's start by plotting the month-over-month inflation."
   ]
  },
  {
   "cell_type": "code",
   "execution_count": 110,
   "metadata": {
    "deletable": false,
    "editable": false,
    "nbgrader": {
     "grade": false,
     "locked": true,
     "solution": false
    }
   },
   "outputs": [
    {
     "data": {
      "text/plain": [
       "[<matplotlib.lines.Line2D at 0x7ff5b55d66a0>]"
      ]
     },
     "execution_count": 110,
     "metadata": {},
     "output_type": "execute_result"
    },
    {
     "data": {
      "image/png": "[encoded data removed]",
      "text/plain": [
       "<Figure size 864x648 with 1 Axes>"
      ]
     },
     "metadata": {
      "needs_background": "light"
     },
     "output_type": "display_data"
    }
   ],
   "source": [
    "with open('resource/asnlib/publicdata/monthly_inflation.pkl', 'rb') as f:\n",
    "    monthly_inflation = pickle.load(f)\n",
    "with open('resource/asnlib/publicdata/dates.pkl', 'rb') as f:\n",
    "    dates = pickle.load(f)\n",
    "plt.rcParams[\"figure.figsize\"] = (12, 9)\n",
    "plt.plot(dates[1:], monthly_inflation)\n"
   ]
  },
  {
   "cell_type": "markdown",
   "metadata": {
    "deletable": false,
    "editable": false,
    "nbgrader": {
     "grade": false,
     "locked": true,
     "solution": false
    }
   },
   "source": [
    "We see a lot of volitility over the first few decades. Let's look at the last 30 years..."
   ]
  },
  {
   "cell_type": "code",
   "execution_count": 111,
   "metadata": {
    "deletable": false,
    "editable": false,
    "nbgrader": {
     "grade": false,
     "locked": true,
     "solution": false
    }
   },
   "outputs": [
    {
     "data": {
      "text/plain": [
       "[<matplotlib.lines.Line2D at 0x7ff5cdef3a90>]"
      ]
     },
     "execution_count": 111,
     "metadata": {},
     "output_type": "execute_result"
    },
    {
     "data": {
      "image/png": "[encoded data removed]",
      "text/plain": [
       "<Figure size 864x648 with 1 Axes>"
      ]
     },
     "metadata": {
      "needs_background": "light"
     },
     "output_type": "display_data"
    }
   ],
   "source": [
    "plt.plot(dates[-360:], monthly_inflation[-360:])"
   ]
  },
  {
   "cell_type": "markdown",
   "metadata": {
    "deletable": false,
    "editable": false,
    "nbgrader": {
     "grade": false,
     "locked": true,
     "solution": false
    }
   },
   "source": [
    "This looks like a more stationary time-series. There's one outlier in 2008. Aside from that it looks like the month-to-month inflation rate is bouncing around a more-or-less constant value.\n",
    "\n",
    "Now, let's see what parameters we got from the grid search..."
   ]
  },
  {
   "cell_type": "code",
   "execution_count": null,
   "metadata": {
    "collapsed": true,
    "deletable": false,
    "editable": false,
    "nbgrader": {
     "grade": false,
     "locked": true,
     "solution": false
    }
   },
   "outputs": [],
   "source": [
    "with open('resource/asnlib/publicdata/simple_params.pkl', 'rb') as f:\n",
    "    simple_params = pickle.load(f)\n",
    "with open('resource/asnlib/publicdata/double_params.pkl', 'rb') as f:\n",
    "    double_params = pickle.load(f)\n",
    "print(f'Best simple params: {simple_params}')\n",
    "print(f'Best double params: {double_params}')"
   ]
  },
  {
   "cell_type": "markdown",
   "metadata": {
    "deletable": false,
    "editable": false,
    "nbgrader": {
     "grade": false,
     "locked": true,
     "solution": false
    }
   },
   "source": [
    "There are two interesting take-aways from this choice of parameter. The first is from the `alpha` parameter. The value relatively close to 1 means that the best model takes 75% of it's prediction from the most recent observation and places relatively little importance on older observations. In layman's terms, the model does not think that the inflation rate is likely to change from whatever it was in the previous month.  \n",
    "\n",
    "The second takeaway is that the `beta` parameter is 0. This means that the best model does not account for any trend. In other words if the inflation rate goes up in one month it does not imply that it will go up (or down) again in the following month. **Note**: The double exponential smoothing model with `beta=0` is equivalent to the simple exponential smoothing model!\n",
    "\n",
    "Now, let's take a look at the predicted vs. observed inflation rates. We will look at a shorter time interval so it's easy to compare..."
   ]
  },
  {
   "cell_type": "code",
   "execution_count": null,
   "metadata": {
    "collapsed": true,
    "deletable": false,
    "editable": false,
    "nbgrader": {
     "grade": false,
     "locked": true,
     "solution": false
    }
   },
   "outputs": [],
   "source": [
    "with open('resource/asnlib/publicdata/simple_preds.pkl', 'rb') as f:\n",
    "    simple_preds = pickle.load(f)\n",
    "simple_mse = mse(monthly_inflation[-360:], simple_preds[-361:-1])\n",
    "print(simple_mse)\n",
    "plt.plot(dates[-120:], monthly_inflation[-120:], label='Observed', marker='o')\n",
    "plt.plot(dates[-120:], simple_preds[-121:-1], label='Predicted', marker='x')\n",
    "plt.legend()\n",
    "plt.figure()\n",
    "plt.plot(dates[-360:], monthly_inflation[-360:] - simple_preds[-361:-1], label='Residuals')\n",
    "plt.legend()"
   ]
  },
  {
   "cell_type": "markdown",
   "metadata": {
    "deletable": false,
    "editable": false,
    "nbgrader": {
     "grade": false,
     "locked": true,
     "solution": false
    }
   },
   "source": [
    "The predictions are not terrible. There seems to be a sort of \"seasonal rhythm\" to the observations. We can account for seasonality by using a more complex model. We have fit and generated predictions using the Holt-Winters method (so-called triple exponential smoothing). This method accounts for signal, trend, and cyclal seasonal effects. Let's take a look!"
   ]
  },
  {
   "cell_type": "code",
   "execution_count": null,
   "metadata": {
    "collapsed": true,
    "deletable": false,
    "editable": false,
    "nbgrader": {
     "grade": false,
     "locked": true,
     "solution": false
    }
   },
   "outputs": [],
   "source": [
    "with open('resource/asnlib/publicdata/triple_preds.pkl', 'rb') as f:\n",
    "    triple_preds = pickle.load(f)\n",
    "triple_mse = mse(monthly_inflation[-360:], triple_preds[-361:-1])\n",
    "print(triple_mse)\n",
    "plt.plot(dates[-120:], monthly_inflation[-120:], label='Observed', marker='o')\n",
    "plt.plot(dates[-120:], triple_preds[-121:-1], label='Predicted', marker='x')\n",
    "plt.legend()\n",
    "plt.figure()\n",
    "plt.plot(dates[-360:], monthly_inflation[-360:] - triple_preds[-361:-1], label='Residuals')\n",
    "plt.legend()"
   ]
  },
  {
   "cell_type": "markdown",
   "metadata": {
    "deletable": false,
    "editable": false,
    "nbgrader": {
     "grade": false,
     "locked": true,
     "solution": false
    }
   },
   "source": [
    "The Holt-Winters model did not offer much improvement.\n",
    "\n",
    "Here's the take-aways from this analysis:  \n",
    "1. There is no trend in month to month inflation rate. If it increases one month, that does not indicate that it is more or less likely to increase in the following month.\n",
    "2. There is no seasonal component. We do not expect differences between observations made in January versus June (or any other combination of months).\n",
    "3. There is some autoregressive component of the month to month inflation rate, but there are probably external factors which may provide additional predictive value."
   ]
  }
 ],
 "metadata": {
  "kernelspec": {
   "display_name": "Python 3.8",
   "language": "python",
   "name": "python38"
  },
  "language_info": {
   "codemirror_mode": {
    "name": "ipython",
    "version": 3
   },
   "file_extension": ".py",
   "mimetype": "text/x-python",
   "name": "python",
   "nbconvert_exporter": "python",
   "pygments_lexer": "ipython3",
   "version": "3.8.7"
  },
  "vscode": {
   "interpreter": {
    "hash": "916dbcbb3f70747c44a77c7bcd40155683ae19c65e1c03b4aa3499c5328201f1"
   }
  }
 },
 "nbformat": 4,
 "nbformat_minor": 5
}
