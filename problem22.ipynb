{
 "cells": [
  {
   "cell_type": "markdown",
   "metadata": {
    "deletable": false,
    "editable": false,
    "nbgrader": {
     "grade": false,
     "locked": true,
     "solution": false
    }
   },
   "source": [
    "# Final Exam, Spring 2021: Analyzing product reviews #\n",
    "\n",
    "_Version 1.0.1_\n",
    "\n",
    "This problem has **9** exercises, numbered 0 to **8**. There are **20 available points.** However, to earn 100%, the threshold is **17 points.** (Therefore, once you hit the threshold, you can stop. There is no extra credit for exceeding it.)\n",
    "\n",
    "Each exercise builds logically on the previous one, but you may solve them in any order. That is, if you can't solve an exercise, you can still move on and try the next one. **However, if you see a code cell introduced by the phrase, \"Sample result for ...\", please run it.** Some demo cells in the notebook may depend on these precomputed results.\n",
    "\n",
    "The point values of individual exercises are as follows:\n",
    "\n",
    "- Exercise 0: 2 points\n",
    "- Exercise 1: 2 points\n",
    "- Exercise 2: 1 point\n",
    "- Exercise 3: 2 points\n",
    "- Exercise 4: 2 point\n",
    "- Exercise 5: 2 points\n",
    "- Exercise 6: 3 points\n",
    "- Exercise 7: 2 points\n",
    "- Exercise 8: 4 points\n",
    "\n",
    "**Pro-tips.**\n",
    "- All test cells use **randomly generated inputs.** Therefore, try your best to write solutions that do not assume too much. To help you debug, when a test cell does fail, it will often tell you exactly what inputs it was using and what output it expected, compared to yours.\n",
    "- If you need a complex SQL query, remember that you can define one using a [triple-quoted (multiline) string](https://docs.python.org/3.7/tutorial/introduction.html#strings).\n",
    "- If your program behavior seem strange, try resetting the kernel and rerunning everything.\n",
    "- If you mess up this notebook or just want to start from scratch, save copies of all your partial responses and use `Actions` $\\rightarrow$ `Reset Assignment` to get a fresh, original copy of this notebook. _(Resetting will wipe out any answers you've written so far, so be sure to stash those somewhere safe if you intend to keep or reuse them!)_\n",
    "- If you generate excessive output (e.g., from an ill-placed `print` statement) that causes the notebook to load slowly or not at all, use `Actions` $\\rightarrow$ `Clear Notebook Output` to get a clean copy. The clean copy will retain your code but remove any generated output. **However**, it will also **rename** the notebook to `clean.xxx.ipynb`. Since the autograder expects a notebook file with the original name, you'll need to rename the clean notebook accordingly. Be forewarned: we won't manually grade \"cleaned\" notebooks if you forget!\n",
    "\n",
    "**Good luck!**"
   ]
  },
  {
   "cell_type": "markdown",
   "metadata": {
    "deletable": false,
    "editable": false,
    "nbgrader": {
     "grade": false,
     "locked": true,
     "solution": false
    }
   },
   "source": [
    "## Problem goal: Category mining ##\n",
    "\n",
    "In this problem, your goal is to analyze a product-reviews dataset from the Amazon Kindle Store, which sells electronic books (e-books). The observations consist of about 1 million product reviews, where for each review, a user rates a book on a scale of 1-5 and then writes a short comment.\n",
    "\n",
    "Suppose that you only know which users reviewed which e-books. But your hunch is that users interested in a certain type of book (e.g., books about business or sports) tend to rate and review similar books. You'll test this hunch, by running a _spectral co-clustering_ of a user-product graph to see how books cluster.\n",
    "\n",
    "The clustering code comes from the [scikit-learn](https://scikit-learn.org/stable/) package, so you won't have to build that from scratch. However, the hard work you'll do is preparing the data and postprocessing the results. Welcome to data analysis in the wild."
   ]
  },
  {
   "cell_type": "markdown",
   "metadata": {
    "deletable": false,
    "editable": false,
    "nbgrader": {
     "grade": false,
     "locked": true,
     "solution": false
    }
   },
   "source": [
    "## Setup ##\n",
    "\n",
    "Run the code cell below, which will load some utilities that the notebook needs, as well as some common modules that you may need. (As always, you can use other modules, too, if they are available on Vocareum; however, it is _your_ responsibility to make sure they work.)"
   ]
  },
  {
   "cell_type": "code",
   "execution_count": 1,
   "metadata": {
    "deletable": false,
    "editable": false,
    "nbgrader": {
     "grade": false,
     "locked": true,
     "solution": false
    }
   },
   "outputs": [
    {
     "name": "stdout",
     "output_type": "stream",
     "text": [
      "Sat 22 Apr 2023 05:16:06 AM PDT\n",
      "Opening pickle from './resource/asnlib/publicdata/reviews_df.pickle' ...\n",
      "Opening pickle from './resource/asnlib/publicdata/metadata_df.pickle' ...\n",
      "Opening pickle from './resource/asnlib/publicdata/combined_df.pickle' ...\n",
      "Opening pickle from './resource/asnlib/publicdata/maps.pickle' ...\n",
      "Opening pickle from './resource/asnlib/publicdata/ratings_matrix.pickle' ...\n",
      "Opening pickle from './resource/asnlib/publicdata/ebook_labels.pickle' ...\n",
      "Opening pickle from './resource/asnlib/publicdata/top_k_ebook_labels.pickle' ...\n",
      "Opening pickle from './resource/asnlib/publicdata/labeled_metadata_df.pickle' ...\n",
      "Opening pickle from './resource/asnlib/publicdata/top_cluster_genres.pickle' ...\n",
      "1.4 GiB\n",
      "Sat 22 Apr 2023 05:16:09 AM PDT\n"
     ]
    }
   ],
   "source": [
    "###\n",
    "### AUTOGRADER TEST - DO NOT REMOVE\n",
    "###\n",
    "\n",
    "!date\n",
    "global_overwrite = False\n",
    "from testing_tools import get_mem_usage_GiB\n",
    "print(get_mem_usage_GiB())\n",
    "!date\n",
    "\n",
    "# Some things *we* need...\n",
    "from pprint import pprint\n",
    "from testing_tools import load_json, plot_spy\n",
    "\n",
    "# Some things *you* might need...\n",
    "import re\n",
    "import pandas as pd\n",
    "import numpy as np\n",
    "import scipy as sp"
   ]
  },
  {
   "cell_type": "markdown",
   "metadata": {
    "deletable": false,
    "editable": false,
    "nbgrader": {
     "grade": false,
     "locked": true,
     "solution": false
    }
   },
   "source": [
    "## Part A: Data cleaning (contains Exercises 0 and 1) ##\n",
    "\n",
    "We need to clean two parts of the dataset."
   ]
  },
  {
   "cell_type": "markdown",
   "metadata": {
    "deletable": false,
    "editable": false,
    "nbgrader": {
     "grade": false,
     "locked": true,
     "solution": false
    }
   },
   "source": [
    "### Part A-0: Reviews ###\n",
    "\n",
    "The first part are the reviews. The code cell below loads them into a list of dictionaries named `raw_reviews`:"
   ]
  },
  {
   "cell_type": "code",
   "execution_count": 2,
   "metadata": {
    "deletable": false,
    "editable": false,
    "nbgrader": {
     "grade": false,
     "locked": true,
     "solution": false
    }
   },
   "outputs": [
    {
     "name": "stdout",
     "output_type": "stream",
     "text": [
      "Sat 22 Apr 2023 05:16:09 AM PDT\n",
      "'./resource/asnlib/publicdata/kindle_reviews.json': 982619\n",
      "\n",
      "==> Found 982,619 e-book reviews. Here are the first two:\n",
      "\n",
      "[{'asin': 'B000F83SZQ',\n",
      "  'helpful': [0, 0],\n",
      "  'overall': 5.0,\n",
      "  'reviewText': 'I enjoy vintage books and movies so I enjoyed reading this '\n",
      "                \"book.  The plot was unusual.  Don't think killing someone in \"\n",
      "                'self-defense but leaving the scene and the body without '\n",
      "                'notifying the police or hitting someone in the jaw to knock '\n",
      "                'them out would wash today.Still it was a good read for me.',\n",
      "  'reviewTime': '05 5, 2014',\n",
      "  'reviewerID': 'A1F6404F1VG29J',\n",
      "  'reviewerName': 'Avidreader',\n",
      "  'summary': 'Nice vintage story',\n",
      "  'unixReviewTime': 1399248000},\n",
      " {'asin': 'B000F83SZQ',\n",
      "  'helpful': [2, 2],\n",
      "  'overall': 4.0,\n",
      "  'reviewText': 'This book is a reissue of an old one; the author was born in '\n",
      "                \"1910. It's of the era of, say, Nero Wolfe. The introduction \"\n",
      "                'was quite interesting, explaining who the author was and why '\n",
      "                \"he's been forgotten; I'd never heard of him.The language is a \"\n",
      "                'little dated at times, like calling a gun a '\n",
      "                \"&#34;heater.&#34;  I also made good use of my Fire's \"\n",
      "                'dictionary to look up words like &#34;deshabille&#34; and '\n",
      "                '&#34;Canarsie.&#34; Still, it was well worth a look-see.',\n",
      "  'reviewTime': '01 6, 2014',\n",
      "  'reviewerID': 'AN0N05A9LIJEQ',\n",
      "  'reviewerName': 'critters',\n",
      "  'summary': 'Different...',\n",
      "  'unixReviewTime': 1388966400}]\n",
      "4.0 GiB\n",
      "Sat 22 Apr 2023 05:16:22 AM PDT\n"
     ]
    }
   ],
   "source": [
    "!date\n",
    "raw_reviews = load_json('kindle_reviews.json', line_by_line=True)\n",
    "\n",
    "print(f'\\n==> Found {len(raw_reviews):,} e-book reviews. Here are the first two:\\n')\n",
    "pprint(raw_reviews[:2])\n",
    "print(get_mem_usage_GiB())\n",
    "!date"
   ]
  },
  {
   "cell_type": "markdown",
   "metadata": {
    "deletable": false,
    "editable": false,
    "nbgrader": {
     "grade": false,
     "locked": true,
     "solution": false
    }
   },
   "source": [
    "Each element is an e-book review, stored as a dictionary. The most relevant keys are the following:\n",
    "\n",
    "* `'reviewerID'`: An ID string for the user who wrote the review.\n",
    "* `'asin'`: An ID string for the e-book that the user reviewed.\n",
    "* `'overall'`: The reviewer's rating of the e-book, on a scale of 1.0 (hated the book) to 5.0 (loved the book). The value is shown and stored as a floating-point value, but the stored value is always an integer.\n",
    "* `'reviewText'`: The reviewer's comments about the book, a string of arbitrary length.\n",
    "* `'helpful'`: A two-element list. The first element is the number of other users who marked this review as being \"helpful\"; the second element is the number of users who looked at the review. For example, a value of `[4, 7]` means that 7 users read the review, but only 4 marked it as \"helpful.\""
   ]
  },
  {
   "cell_type": "markdown",
   "metadata": {
    "deletable": false,
    "editable": false,
    "nbgrader": {
     "grade": false,
     "locked": true,
     "solution": false
    }
   },
   "source": [
    "### Exercise 0 (2 points): Convert the reviews into a pandas data frame ###\n",
    "\n",
    "Complete the function, `reviews_to_df(reviews)`, below. Given a raw reviews dataset named `reviews`, which is a list of dictionaries like the one shown above, your function should convert it to a pandas `DataFrame` object and return that dataframe. Each row of the dataframe will be a book review; your function should organize the dataframe as **six** columns, constructed as follows:\n",
    "\n",
    "1. `'reviewer'`: A string ID for the reviewer, which is the value of `'reviewerID'`\n",
    "2. `'ebook'`: A string ID for the e-book, which is the value of `'asin'`\n",
    "3. `'rating'`: An **integer** value, which is the `'overall'` rating converted into an integer value\n",
    "4. `'text'`: A string holding the reviewer's text comments, taken from `'reviewText'`\n",
    "5. `'num_helpful'`: An integer for the number of users who thought the review was helpful, taken from the first field of the `'helpful'` value\n",
    "6. `'num_evals'`: An integer for the number of users who evaluated the review, taken from the second field of the `'helpful'` value\n",
    "\n",
    "For example, suppose `reviews` has exactly these two elements:\n",
    "\n",
    "```python\n",
    "[{'asin': 'B000F83SZQ', 'helpful': [0, 0], 'overall': 5.0, 'reviewerID': 'A1F6404F1VG29J',\n",
    "  'reviewText': 'I enjoy vintage books ... good read for me.',\n",
    "  ... },\n",
    " {'asin': 'B000F83SZQ', 'helpful': [2, 2], 'overall': 4.0, 'reviewerID': 'AN0N05A9LIJEQ',\n",
    "  'reviewText': 'This book is ... well worth a look-see.',\n",
    "  ...}\n",
    "]\n",
    "```\n",
    "\n",
    "Then the output would be a `DataFrame` of the form:\n",
    "\n",
    "|    | reviewer       | ebook      |   rating | text                                        |   num_helpful |   num_evals |\n",
    "|---:|:---------------|:-----------|---------:|:--------------------------------------------|--------------:|------------:|\n",
    "|  0 | A1F6404F1VG29J | B000F83SZQ |        5 | I enjoy vintage books ... good read for me. |             0 |           0 |\n",
    "|  1 | AN0N05A9LIJEQ  | B000F83SZQ |        4 | This book is ... well worth a look-see.     |             2 |           2 |\n",
    "\n",
    "> _Note 0:_ Your function must _not_ modify the input, `reviews`. The test cell will check for that and may fail with strange errors if you do so.\n",
    ">\n",
    "> _Note 1:_ The test code uses randomly generated inputs. Your function should _only_ depend on the presence of the keys, `'reviewerID'`, `'asin'`, `'helpful'`, `'overall'`, and `'reviewText'`, which you need to construct the output. The test inputs may or may not contain other keys with randomly generated names.\n",
    ">\n",
    "> _Note 2:_ The order of rows does not matter, as the test cell will use tibble comparison functions."
   ]
  },
  {
   "cell_type": "code",
   "execution_count": 3,
   "metadata": {
    "collapsed": true,
    "nbgrader": {
     "grade": false,
     "locked": false,
     "solution": false
    }
   },
   "outputs": [],
   "source": [
    "def reviews_to_df(reviews):\n",
    "    \n",
    "    keys = ['reviewerID', 'asin', 'overall', 'reviewText']\n",
    "\n",
    "\n",
    "    df = pd.DataFrame([{k: rev[k] for k in keys} for rev in reviews])\n",
    "    \n",
    "    df['overall'] = df['overall'].astype(int)\n",
    "    \n",
    "    df['num_helpful'] = pd.DataFrame(rev['helpful'][0] for rev in reviews)\n",
    "    \n",
    "    df['num_evals'] = pd.DataFrame(rev['helpful'][1] for rev in reviews)\n",
    "    \n",
    "    df = df.rename(columns={'reviewerID': 'reviewer', 'asin': 'ebook', 'reviewText': 'text',  'overall': 'rating'})  \n",
    "    \n",
    "    return df\n",
    "\n",
    "\n",
    "# reviews_pared = [{'reviewer': r['reviewerID'],\n",
    "#                       'ebook': r['asin'],\n",
    "#                       'rating': int(r['overall']),\n",
    "#                       'text': r['reviewText'],\n",
    "#                       'num_helpful': r['helpful'][0],\n",
    "#                       'num_evals': r['helpful'][1]}\n",
    "#                     for r in reviews]\n",
    "#     return DataFrame(reviews_pared)"
   ]
  },
  {
   "cell_type": "code",
   "execution_count": 4,
   "metadata": {
    "nbgrader": {
     "grade": false,
     "locked": false,
     "solution": false
    }
   },
   "outputs": [
    {
     "data": {
      "text/html": [
       "<div>\n",
       "<style scoped>\n",
       "    .dataframe tbody tr th:only-of-type {\n",
       "        vertical-align: middle;\n",
       "    }\n",
       "\n",
       "    .dataframe tbody tr th {\n",
       "        vertical-align: top;\n",
       "    }\n",
       "\n",
       "    .dataframe thead th {\n",
       "        text-align: right;\n",
       "    }\n",
       "</style>\n",
       "<table border=\"1\" class=\"dataframe\">\n",
       "  <thead>\n",
       "    <tr style=\"text-align: right;\">\n",
       "      <th></th>\n",
       "      <th>reviewer</th>\n",
       "      <th>ebook</th>\n",
       "      <th>rating</th>\n",
       "      <th>text</th>\n",
       "      <th>num_helpful</th>\n",
       "      <th>num_evals</th>\n",
       "    </tr>\n",
       "  </thead>\n",
       "  <tbody>\n",
       "    <tr>\n",
       "      <th>0</th>\n",
       "      <td>A1F6404F1VG29J</td>\n",
       "      <td>B000F83SZQ</td>\n",
       "      <td>5</td>\n",
       "      <td>I enjoy vintage books ... good read for me.</td>\n",
       "      <td>0</td>\n",
       "      <td>0</td>\n",
       "    </tr>\n",
       "    <tr>\n",
       "      <th>1</th>\n",
       "      <td>AN0N05A9LIJEQ</td>\n",
       "      <td>B000F83SZQ</td>\n",
       "      <td>4</td>\n",
       "      <td>This book is ... well worth a look-see.</td>\n",
       "      <td>2</td>\n",
       "      <td>2</td>\n",
       "    </tr>\n",
       "  </tbody>\n",
       "</table>\n",
       "</div>"
      ],
      "text/plain": [
       "         reviewer       ebook  rating  \\\n",
       "0  A1F6404F1VG29J  B000F83SZQ       5   \n",
       "1   AN0N05A9LIJEQ  B000F83SZQ       4   \n",
       "\n",
       "                                          text  num_helpful  num_evals  \n",
       "0  I enjoy vintage books ... good read for me.            0          0  \n",
       "1      This book is ... well worth a look-see.            2          2  "
      ]
     },
     "execution_count": 4,
     "metadata": {},
     "output_type": "execute_result"
    }
   ],
   "source": [
    "# Demo:\n",
    "ex1_demo_reviews = \\\n",
    "    [{'asin': 'B000F83SZQ', 'helpful': [0, 0], 'overall': 5.0, 'reviewerID': 'A1F6404F1VG29J',\n",
    "      'reviewText': 'I enjoy vintage books ... good read for me.'},\n",
    "     {'asin': 'B000F83SZQ', 'helpful': [2, 2], 'overall': 4.0, 'reviewerID': 'AN0N05A9LIJEQ',\n",
    "      'reviewText': 'This book is ... well worth a look-see.'}]\n",
    "\n",
    "reviews_to_df(ex1_demo_reviews)"
   ]
  },
  {
   "cell_type": "code",
   "execution_count": 5,
   "metadata": {
    "deletable": false,
    "editable": false,
    "nbgrader": {
     "grade": true,
     "grade_id": "fx_ex0_reviews_to_df",
     "locked": true,
     "points": "2",
     "solution": false
    }
   },
   "outputs": [
    {
     "name": "stdout",
     "output_type": "stream",
     "text": [
      "Testing...\n",
      "4.1 GiB\n",
      "\n",
      "(Passed!)\n"
     ]
    }
   ],
   "source": [
    "# Test cell: `fx_ex0_reviews_to_df` (2 points)\n",
    "\n",
    "###\n",
    "### AUTOGRADER TEST - DO NOT REMOVE\n",
    "###\n",
    "\n",
    "from testing_tools import fx_ex0__check\n",
    "print(\"Testing...\")\n",
    "for trial in range(100):\n",
    "    fx_ex0__check(reviews_to_df)\n",
    "\n",
    "reviews_to_df__passed = True\n",
    "print(get_mem_usage_GiB())\n",
    "print(\"\\n(Passed!)\")"
   ]
  },
  {
   "cell_type": "markdown",
   "metadata": {
    "deletable": false,
    "editable": false,
    "nbgrader": {
     "grade": false,
     "locked": true,
     "solution": false
    }
   },
   "source": [
    "### Sample results for Exercise 0: `reviews_to_df` => `reviews_df` ###\n",
    "\n",
    "If you had a working solution to Exercise 0, then in principle you could use it to generate a reviews `DataFrame` from the `raw_reviews` input. We have precomputed these for you; run the cell below to load this dataframe, which will be stored in the global variable, `reviews_df`.\n",
    "\n",
    "> Note 0: **Read and run this cell even if you skipped or otherwise did not complete Exercise 0.**\n",
    ">\n",
    "> Note 1: This cell **deletes** the original `raw_reviews` input to help save memory. Therefore, you should not have to write any code that depends on it."
   ]
  },
  {
   "cell_type": "code",
   "execution_count": 6,
   "metadata": {
    "deletable": false,
    "editable": false,
    "nbgrader": {
     "grade": false,
     "locked": true,
     "solution": false
    }
   },
   "outputs": [
    {
     "name": "stdout",
     "output_type": "stream",
     "text": [
      "\n",
      "Examples:\n"
     ]
    },
    {
     "data": {
      "text/html": [
       "<div>\n",
       "<style scoped>\n",
       "    .dataframe tbody tr th:only-of-type {\n",
       "        vertical-align: middle;\n",
       "    }\n",
       "\n",
       "    .dataframe tbody tr th {\n",
       "        vertical-align: top;\n",
       "    }\n",
       "\n",
       "    .dataframe thead th {\n",
       "        text-align: right;\n",
       "    }\n",
       "</style>\n",
       "<table border=\"1\" class=\"dataframe\">\n",
       "  <thead>\n",
       "    <tr style=\"text-align: right;\">\n",
       "      <th></th>\n",
       "      <th>reviewer</th>\n",
       "      <th>ebook</th>\n",
       "      <th>rating</th>\n",
       "      <th>text</th>\n",
       "      <th>num_helpful</th>\n",
       "      <th>num_evals</th>\n",
       "    </tr>\n",
       "  </thead>\n",
       "  <tbody>\n",
       "    <tr>\n",
       "      <th>0</th>\n",
       "      <td>A1F6404F1VG29J</td>\n",
       "      <td>B000F83SZQ</td>\n",
       "      <td>5</td>\n",
       "      <td>I enjoy vintage books and movies so I enjoyed ...</td>\n",
       "      <td>0</td>\n",
       "      <td>0</td>\n",
       "    </tr>\n",
       "    <tr>\n",
       "      <th>1</th>\n",
       "      <td>AN0N05A9LIJEQ</td>\n",
       "      <td>B000F83SZQ</td>\n",
       "      <td>4</td>\n",
       "      <td>This book is a reissue of an old one; the auth...</td>\n",
       "      <td>2</td>\n",
       "      <td>2</td>\n",
       "    </tr>\n",
       "    <tr>\n",
       "      <th>2</th>\n",
       "      <td>A795DMNCJILA6</td>\n",
       "      <td>B000F83SZQ</td>\n",
       "      <td>4</td>\n",
       "      <td>This was a fairly interesting read.  It had ol...</td>\n",
       "      <td>2</td>\n",
       "      <td>2</td>\n",
       "    </tr>\n",
       "    <tr>\n",
       "      <th>3</th>\n",
       "      <td>A1FV0SX13TWVXQ</td>\n",
       "      <td>B000F83SZQ</td>\n",
       "      <td>5</td>\n",
       "      <td>I'd never read any of the Amy Brewster mysteri...</td>\n",
       "      <td>1</td>\n",
       "      <td>1</td>\n",
       "    </tr>\n",
       "    <tr>\n",
       "      <th>4</th>\n",
       "      <td>A3SPTOKDG7WBLN</td>\n",
       "      <td>B000F83SZQ</td>\n",
       "      <td>4</td>\n",
       "      <td>If you like period pieces - clothing, lingo, y...</td>\n",
       "      <td>0</td>\n",
       "      <td>1</td>\n",
       "    </tr>\n",
       "  </tbody>\n",
       "</table>\n",
       "</div>"
      ],
      "text/plain": [
       "         reviewer       ebook  rating  \\\n",
       "0  A1F6404F1VG29J  B000F83SZQ       5   \n",
       "1   AN0N05A9LIJEQ  B000F83SZQ       4   \n",
       "2   A795DMNCJILA6  B000F83SZQ       4   \n",
       "3  A1FV0SX13TWVXQ  B000F83SZQ       5   \n",
       "4  A3SPTOKDG7WBLN  B000F83SZQ       4   \n",
       "\n",
       "                                                text  num_helpful  num_evals  \n",
       "0  I enjoy vintage books and movies so I enjoyed ...            0          0  \n",
       "1  This book is a reissue of an old one; the auth...            2          2  \n",
       "2  This was a fairly interesting read.  It had ol...            2          2  \n",
       "3  I'd never read any of the Amy Brewster mysteri...            1          1  \n",
       "4  If you like period pieces - clothing, lingo, y...            0          1  "
      ]
     },
     "metadata": {},
     "output_type": "display_data"
    },
    {
     "name": "stdout",
     "output_type": "stream",
     "text": [
      "\n",
      "Deleting `raw_reviews`...\n",
      "2.5 GiB\n",
      "Done.\n"
     ]
    }
   ],
   "source": [
    "from testing_tools import fx_reviews_df as reviews_df\n",
    "\n",
    "print(\"\\nExamples:\")\n",
    "display(reviews_df.head())\n",
    "    \n",
    "print(\"\\nDeleting `raw_reviews`...\")\n",
    "if 'raw_reviews' in globals(): del raw_reviews\n",
    "print(get_mem_usage_GiB())\n",
    "print('Done.')"
   ]
  },
  {
   "cell_type": "markdown",
   "metadata": {
    "deletable": false,
    "editable": false,
    "nbgrader": {
     "grade": false,
     "locked": true,
     "solution": false
    }
   },
   "source": [
    "### Part A-1: E-book metadata ###\n",
    "\n",
    "For many of the e-books, there is also some additional metadata. Run the code cell below, which will load these metadata separately into a list of nested dictionaries called `raw_metadata`:"
   ]
  },
  {
   "cell_type": "code",
   "execution_count": 7,
   "metadata": {
    "deletable": false,
    "editable": false,
    "nbgrader": {
     "grade": false,
     "locked": true,
     "solution": false
    }
   },
   "outputs": [
    {
     "name": "stdout",
     "output_type": "stream",
     "text": [
      "Sat 22 Apr 2023 05:16:25 AM PDT\n",
      "'./resource/asnlib/publicdata/kindle_metadata-2018.json': 491670\n",
      "\n",
      "==> Found 491,670 e-books.\n",
      "Sat 22 Apr 2023 05:16:40 AM PDT\n"
     ]
    }
   ],
   "source": [
    "!date\n",
    "raw_metadata = load_json('kindle_metadata-2018.json', line_by_line=True)\n",
    "print(f'\\n==> Found {len(raw_metadata):,} e-books.')\n",
    "get_mem_usage_GiB()\n",
    "!date"
   ]
  },
  {
   "cell_type": "markdown",
   "metadata": {
    "deletable": false,
    "editable": false,
    "nbgrader": {
     "grade": false,
     "locked": true,
     "solution": false
    }
   },
   "source": [
    "These data are messy. Here is what it looks like for one e-book:"
   ]
  },
  {
   "cell_type": "code",
   "execution_count": 8,
   "metadata": {
    "deletable": false,
    "editable": false,
    "nbgrader": {
     "grade": false,
     "locked": true,
     "solution": false
    }
   },
   "outputs": [
    {
     "name": "stdout",
     "output_type": "stream",
     "text": [
      "{'also_buy': ['B007NLCJBC', 'B01FARODH8'],\n",
      " 'also_view': ['B000FBF81K', 'B00PBDMER8'],\n",
      " 'asin': 'B000FA5KKA',\n",
      " 'brand': 'Arthur K. Barnes',\n",
      " 'category': ['Kindle Store', 'Kindle eBooks', 'Science Fiction & Fantasy'],\n",
      " 'date': '',\n",
      " 'description': [],\n",
      " 'details': {'ASIN:': 'B000FA5KKA',\n",
      "             'File Size:': '295 KB',\n",
      "             'Language:': 'English',\n",
      "             'Lending:': 'Enabled',\n",
      "             'Print Length:': '113 pages',\n",
      "             'Publication Date:': 'October 14, 2001',\n",
      "             'Publisher:': 'FuturesPast Editions (October 14, 2001)',\n",
      "             'Word Wise:': 'Enabled'},\n",
      " 'feature': [],\n",
      " 'fit': '',\n",
      " 'image': [],\n",
      " 'main_cat': 'Buy a Kindle',\n",
      " 'price': '',\n",
      " 'rank': '1,716,849 Paid in Kindle Store (',\n",
      " 'similar_item': '',\n",
      " 'tech1': '',\n",
      " 'tech2': '',\n",
      " 'title': ''}\n"
     ]
    }
   ],
   "source": [
    "pprint(raw_metadata[0])"
   ]
  },
  {
   "cell_type": "markdown",
   "metadata": {
    "deletable": false,
    "editable": false,
    "nbgrader": {
     "grade": false,
     "locked": true,
     "solution": false
    }
   },
   "source": [
    "For our analyses, we only need two pieces of information: the **book ID** (the first `'asin'` value) and the **genre** (element 2 of the `'category'` value, which has 3 elements in the above example).\n",
    "\n",
    "The problem is that the genres can be messy. Here are some examples of what can appear in the category list:"
   ]
  },
  {
   "cell_type": "code",
   "execution_count": 9,
   "metadata": {
    "deletable": false,
    "editable": false,
    "nbgrader": {
     "grade": false,
     "locked": true,
     "solution": false
    }
   },
   "outputs": [
    {
     "name": "stdout",
     "output_type": "stream",
     "text": [
      "   4: ['Kindle Store', 'Kindle eBooks', 'Business & Money']\n",
      "   1: ['Kindle Store', 'Kindle eBooks', 'Engineering & Transportation', '</span>']\n",
      " 244: ['Kindle Store', 'Kindle eBooks']\n",
      "2890: ['Kindle Store', 'Kindle eBooks', '</span>']\n",
      "   9: ['Kindle Store', 'Kindle eBooks', 'Business &amp; Money']\n"
     ]
    }
   ],
   "source": [
    "print('   4:', raw_metadata[4]['category']) # Looks fine ...\n",
    "print('   1:', raw_metadata[1]['category']) # 4 elements; but element 2 is still valid\n",
    "print(' 244:', raw_metadata[244]['category']) # 2 elements\n",
    "print('2890:', raw_metadata[2890]['category']) # 3 elements, but element 2 has \"junk\" in it\n",
    "print('   9:', raw_metadata[9]['category']) # 3 elements, but element 2 has '&amp;' instead of '&'"
   ]
  },
  {
   "cell_type": "markdown",
   "metadata": {
    "deletable": false,
    "editable": false,
    "nbgrader": {
     "grade": false,
     "locked": true,
     "solution": false
    }
   },
   "source": [
    "**Usable genres.** For any e-book, we will say that it has a **usable genre** if the following conditions hold:\n",
    "\n",
    "1. Its `'category'` list has **at least** three elements (`>= 3`).\n",
    "2. The first two elements of the `'category'` list **equal** `'Kindle Store'` and `'Kindle eBooks'`, respectively.\n",
    "3. The third element does **not** contain any angle brackets (`'<'` and `'>'`).\n",
    "\n",
    "Thus, examples 4, 1, and 9 above have usable genres, but 244 and 2890 do not."
   ]
  },
  {
   "cell_type": "markdown",
   "metadata": {
    "deletable": false,
    "editable": false,
    "nbgrader": {
     "grade": false,
     "locked": true,
     "solution": false
    }
   },
   "source": [
    "### Exercise 1 (2 points): Subselect e-books with usable genres ###\n",
    "\n",
    "Suppose you are given a collection of metadata named `metadata`, which is formatted like what you see above. Complete the function `metadata_to_df(metadata)` so that it creates and returns a new pandas `DataFrame` containing only those e-books with usable genres, as defined above.\n",
    "\n",
    "In particular, the new dataframe should have one row per e-book. It should also have two columns:\n",
    "\n",
    "1. `'ebook'`, a string ID for the e-book, taken from the first `'asin'` field\n",
    "2. `'genre'`, a **cleaned** genre string, taken from element 2 of the `'category'` value\n",
    "\n",
    "A cleaned genre string is one where any instance of the substring, `&amp;`, is replaced by `&`. For example, if the input genre string is `'Business &amp; Money'`, then its cleaned version is `'Business & Money'`.\n",
    "\n",
    "**Example.** Suppose `metadata` equals the following:\n",
    "\n",
    "```python\n",
    "    [{'asin': 'B000FA5KKA',\n",
    "      'category': ['Kindle Store', 'Kindle eBooks', 'Science Fiction & Fantasy']},\n",
    "     {'asin': 'B000FA5M3K',\n",
    "      'category': ['Kindle Store', 'Kindle eBooks', 'Engineering & Transportation', '</span>']},\n",
    "     {'asin': 'B000FA5KX2',\n",
    "      'category': ['Kindle Store', 'Kindle eBooks', 'Business & Money']},\n",
    "     {'asin': 'B000FA5L2C',\n",
    "      'category': ['Kindle Store', 'Kindle eBooks', 'Business &amp; Money']},\n",
    "     {'asin': 'B000FC2LCS',\n",
    "      'category': ['Kindle Store', 'Kindle eBooks']},\n",
    "     {'asin': 'B001CBBL7M',\n",
    "      'category': ['Kindle Store', 'Kindle eBooks', '</span>']}]\n",
    "```\n",
    "\n",
    "Then your function would return a dataframe equivalent to this one:\n",
    "\n",
    "|    | ebook      | genre                        |\n",
    "|---:|:-----------|:-----------------------------|\n",
    "|  0 | B000FA5KKA | Science Fiction & Fantasy    |\n",
    "|  1 | B000FA5M3K | Engineering & Transportation |\n",
    "|  2 | B000FA5KX2 | Business & Money             |\n",
    "|  3 | B000FA5L2C | Business & Money             |\n",
    "\n",
    "> _Note 0:_ Your function must _not_ modify the input, `metadata`. The test cell will check for that and may fail with strange errors if you do so.\n",
    ">\n",
    "> _Note 1:_ The test code uses randomly generated inputs. Your function should _only_ depend on the presence of the keys, `'asin'` and `'category'`, which you need to construct the output. The test inputs may or may not contain other keys with randomly generated names.\n",
    ">\n",
    "> _Note 2:_ The order of rows does not matter, as the test cell will use tibble comparison functions.\n",
    ">\n",
    "> _Note 3:_ You may assume there will always be at least one e-book with a usable genre."
   ]
  },
  {
   "cell_type": "code",
   "execution_count": 153,
   "metadata": {},
   "outputs": [],
   "source": [
    "def metadata_to_df(metadata):\n",
    "    \n",
    "    from pandas import DataFrame\n",
    "    \n",
    "    def is_usable(m):\n",
    "        c = m['category']\n",
    "        return len(c) >= 3 \\\n",
    "               and (c[0] == 'Kindle Store') and (c[1] == 'Kindle eBooks') \\\n",
    "               and ('<' not in c[2]) and ('>' not in c[2])\n",
    "    def clean_genre(m):\n",
    "        return m['category'][2].replace('&amp;', '&')\n",
    "    \n",
    "    metadata_pared = [{'ebook': m['asin'],\n",
    "                       'genre': clean_genre(m)} for m in metadata if is_usable(m)]\n",
    "    return DataFrame(metadata_pared)\n"
   ]
  },
  {
   "cell_type": "code",
   "execution_count": 154,
   "metadata": {},
   "outputs": [
    {
     "data": {
      "text/html": [
       "<div>\n",
       "<style scoped>\n",
       "    .dataframe tbody tr th:only-of-type {\n",
       "        vertical-align: middle;\n",
       "    }\n",
       "\n",
       "    .dataframe tbody tr th {\n",
       "        vertical-align: top;\n",
       "    }\n",
       "\n",
       "    .dataframe thead th {\n",
       "        text-align: right;\n",
       "    }\n",
       "</style>\n",
       "<table border=\"1\" class=\"dataframe\">\n",
       "  <thead>\n",
       "    <tr style=\"text-align: right;\">\n",
       "      <th></th>\n",
       "      <th>ebook</th>\n",
       "      <th>genre</th>\n",
       "    </tr>\n",
       "  </thead>\n",
       "  <tbody>\n",
       "    <tr>\n",
       "      <th>0</th>\n",
       "      <td>B000FA5KKA</td>\n",
       "      <td>Science Fiction &amp; Fantasy</td>\n",
       "    </tr>\n",
       "    <tr>\n",
       "      <th>1</th>\n",
       "      <td>B000FA5M3K</td>\n",
       "      <td>Engineering &amp; Transportation</td>\n",
       "    </tr>\n",
       "    <tr>\n",
       "      <th>2</th>\n",
       "      <td>B000FA5KX2</td>\n",
       "      <td>Business &amp; Money</td>\n",
       "    </tr>\n",
       "    <tr>\n",
       "      <th>3</th>\n",
       "      <td>B000FA5L2C</td>\n",
       "      <td>Business &amp; Money</td>\n",
       "    </tr>\n",
       "  </tbody>\n",
       "</table>\n",
       "</div>"
      ],
      "text/plain": [
       "        ebook                         genre\n",
       "0  B000FA5KKA     Science Fiction & Fantasy\n",
       "1  B000FA5M3K  Engineering & Transportation\n",
       "2  B000FA5KX2              Business & Money\n",
       "3  B000FA5L2C              Business & Money"
      ]
     },
     "execution_count": 154,
     "metadata": {},
     "output_type": "execute_result"
    }
   ],
   "source": [
    "# Demo\n",
    "ex1_demo_metadata = \\\n",
    "    [{'asin': 'B000FA5KKA',\n",
    "      'category': ['Kindle Store', 'Kindle eBooks', 'Science Fiction & Fantasy']},\n",
    "     {'asin': 'B000FA5M3K',\n",
    "      'category': ['Kindle Store', 'Kindle eBooks', 'Engineering & Transportation', '</span>']},\n",
    "     {'asin': 'B000FA5KX2',\n",
    "      'category': ['Kindle Store', 'Kindle eBooks', 'Business & Money']},\n",
    "     {'asin': 'B000FA5L2C',\n",
    "      'category': ['Kindle Store', 'Kindle eBooks', 'Business &amp; Money']},\n",
    "     {'asin': 'B000FC2LCS',\n",
    "      'category': ['Kindle Store', 'Kindle eBooks']},\n",
    "     {'asin': 'B001CBBL7M',\n",
    "      'category': ['Kindle Store', 'Kindle eBooks', '</span>']}]\n",
    "\n",
    "metadata_to_df(ex1_demo_metadata)"
   ]
  },
  {
   "cell_type": "code",
   "execution_count": 155,
   "metadata": {
    "deletable": false,
    "editable": false,
    "nbgrader": {
     "grade": true,
     "grade_id": "fx_ex1_metadata_to_df",
     "locked": true,
     "points": "2",
     "solution": false
    }
   },
   "outputs": [
    {
     "name": "stdout",
     "output_type": "stream",
     "text": [
      "Testing...\n",
      "5.0 GiB\n",
      "\n",
      "(Passed!)\n"
     ]
    }
   ],
   "source": [
    "# Test cell: `fx_ex1_metadata_to_df` (2 points)\n",
    "\n",
    "###\n",
    "### AUTOGRADER TEST - DO NOT REMOVE\n",
    "###\n",
    "\n",
    "from testing_tools import fx_ex1__check\n",
    "print(\"Testing...\")\n",
    "for trial in range(100):\n",
    "    fx_ex1__check(metadata_to_df)\n",
    "\n",
    "metadata_to_df__passed = True\n",
    "print(get_mem_usage_GiB())\n",
    "print(\"\\n(Passed!)\")"
   ]
  },
  {
   "cell_type": "markdown",
   "metadata": {
    "deletable": false,
    "editable": false,
    "nbgrader": {
     "grade": false,
     "locked": true,
     "solution": false
    }
   },
   "source": [
    "### Sample results for Exercise 1: `metadata_to_df` => `metadata_df` ###\n",
    "\n",
    "If you had a working solution to Exercise 1, then in principle you could use it to generate a metadata dataframe from the `raw_metadata` input. Instead, we have precomputed that for you; run the cell below to load this dataframe, which will be stored in the global variable, `metadata_df`.\n",
    "\n",
    "> Note 0: **Read and run this cell even if you skipped or otherwise did not complete Exercise 1.**\n",
    ">\n",
    "> Note 1: This cell **deletes** the original `raw_metadata` input to help save memory. Therefore, you should not have to write any code that depends on it."
   ]
  },
  {
   "cell_type": "code",
   "execution_count": null,
   "metadata": {
    "deletable": false,
    "editable": false,
    "nbgrader": {
     "grade": false,
     "locked": true,
     "solution": false
    }
   },
   "outputs": [],
   "source": [
    "from testing_tools import fx_metadata_df as metadata_df\n",
    "\n",
    "print(\"\\nExamples:\")\n",
    "display(metadata_df.head())\n",
    "\n",
    "print(f\"\\nIncidentally, there appear to be {len(metadata_df['genre'].unique())} unique genres.\")\n",
    "    \n",
    "print(\"\\nDeleting `raw_metadata`...\")\n",
    "if 'raw_metadata' in globals(): del raw_metadata\n",
    "print(get_mem_usage_GiB())\n",
    "print('Done.')"
   ]
  },
  {
   "cell_type": "markdown",
   "metadata": {
    "deletable": false,
    "editable": false,
    "nbgrader": {
     "grade": false,
     "locked": true,
     "solution": false
    }
   },
   "source": [
    "### Exercise 2 (1 point): Combining the data ###\n",
    "\n",
    "To simplify your work later, let's combine these separate dataframes into a single one. Complete the function, `combine_dfs(reviews_df, metadata_df)`, so that it returns a new dataframe with the following properties:\n",
    "\n",
    "1. There is one review per row\n",
    "2. The dataframe has seven (7) columns, which essentially combine all columns from the two dataframes: `'reviewer'`, `'ebook'`, `'rating'`, `'text'`, `'num_helpful'`, `'num_evals'`, and `'genre'`\n",
    "3. Any review whose `'ebook'` is **missing** from `metadata_df` should be omitted\n",
    "\n",
    "> _Note 0:_ Your function must _not_ modify the input dataframes. The test cell will check for that and may fail with strange errors if you do so.\n",
    ">\n",
    "> _Note 1:_ The order of rows does not matter, as the test cell will use tibble comparison functions."
   ]
  },
  {
   "cell_type": "code",
   "execution_count": null,
   "metadata": {
    "collapsed": true
   },
   "outputs": [],
   "source": [
    "def combine_dfs(reviews_df, metadata_df):\n",
    "    \n",
    "    metadata_df = metadata_df.dropna(subset=['ebook'])\n",
    "    df = pd.merge(reviews_df, metadata_df, on='ebook')\n",
    "    \n",
    "    return df\n"
   ]
  },
  {
   "cell_type": "code",
   "execution_count": null,
   "metadata": {},
   "outputs": [],
   "source": [
    "# Demo: Should reduce the number of reviews to `484,708`\n",
    "print(f\"`reviews_df` has {len(reviews_df):,} reviews (rows).\")\n",
    "\n",
    "ex2_demo_result = len(combine_dfs(reviews_df, metadata_df))\n",
    "print(f\"Combining with `metadata_df` leaves {ex2_demo_result:,} reviews.\")"
   ]
  },
  {
   "cell_type": "code",
   "execution_count": null,
   "metadata": {
    "deletable": false,
    "editable": false,
    "nbgrader": {
     "grade": true,
     "grade_id": "fx_ex2_combine_dfs",
     "locked": true,
     "points": "1",
     "solution": false
    }
   },
   "outputs": [],
   "source": [
    "# Test cell: `fx_ex2_combine_dfs` (1 point)\n",
    "\n",
    "###\n",
    "### AUTOGRADER TEST - DO NOT REMOVE\n",
    "###\n",
    "\n",
    "from testing_tools import fx_ex2__check\n",
    "print(\"Testing...\")\n",
    "for trial in range(100):\n",
    "    fx_ex2__check(combine_dfs)\n",
    "\n",
    "combine_dfs__passed = True\n",
    "print(get_mem_usage_GiB())\n",
    "print(\"\\n(Passed!)\")"
   ]
  },
  {
   "cell_type": "markdown",
   "metadata": {
    "deletable": false,
    "editable": false,
    "nbgrader": {
     "grade": false,
     "locked": true,
     "solution": false
    }
   },
   "source": [
    "### Sample results for Exercise 2: `combine_dfs` => `combined_df` ###\n",
    "\n",
    "If you had a working solution to Exercise 1, then in principle you could use it to generate a combined input. We have precomputed this result for you; run the cell below to load this dataframe, which will be stored in the global variable, `combined_df`.\n",
    "\n",
    "> Note 0: **Read and run this cell even if you skipped or otherwise did not complete Exercise 2.**\n",
    ">\n",
    "> Note 1: This cell **deletes** `reviews_df` to help save memory. Therefore, you should not have to write any additional code that depends on it below."
   ]
  },
  {
   "cell_type": "code",
   "execution_count": null,
   "metadata": {
    "deletable": false,
    "editable": false,
    "nbgrader": {
     "grade": false,
     "locked": true,
     "solution": false
    }
   },
   "outputs": [],
   "source": [
    "from testing_tools import fx_combined_df as combined_df\n",
    "\n",
    "print(\"\\nExamples:\")\n",
    "display(combined_df.head())\n",
    "    \n",
    "print(\"\\nDeleting `reviews_df` ...\")\n",
    "if 'reviews_df' in globals(): del reviews_df\n",
    "print(get_mem_usage_GiB())\n",
    "print('Done.')"
   ]
  },
  {
   "cell_type": "markdown",
   "metadata": {
    "deletable": false,
    "editable": false,
    "nbgrader": {
     "grade": false,
     "locked": true,
     "solution": false
    }
   },
   "source": [
    "## Part B: Discovering genres? (Exercises 3-5) ##\n",
    "\n",
    "Each review connects a user to a book. Suppose we want to cluster users into groups based on what books they reviewed; or similarly, suppose we want to cluster books together based on who reviewed them. This kind of clustering between **two** times of objects is sometimes referred to as a **biclustering** problem.\n",
    "\n",
    "To do a biclustering, we first need to build a (sparse) matrix that encodes these connections. Here is one way. Let $A$ an $m \\times n$ matrix of $m$ users (rows) and $n$ books (columns). Let each entry $a_{i, j}$ be the rating that user $i$ gave to book $j$. With such a matrix, we can then use a biclustering algorithm called _spectral co-clustering_ to construct both user-user and book-book clusters."
   ]
  },
  {
   "cell_type": "markdown",
   "metadata": {
    "deletable": false,
    "editable": false,
    "nbgrader": {
     "grade": false,
     "locked": true,
     "solution": false
    }
   },
   "source": [
    "### Exercise 3 (2 points): Map string IDs to logical indices ###\n",
    "\n",
    "Suppose you are given a pandas `Series` object, `x`, whose values are strings. For example, suppose `x` is the following `Series`:\n",
    "\n",
    "|    x     |\n",
    "|:--------:|\n",
    "|   cat    |\n",
    "|   dog    |\n",
    "|   cat    |\n",
    "|   cat    |\n",
    "| aardvark |\n",
    "|   dog    |\n",
    "| anemone  |\n",
    "| aardvark |\n",
    "\n",
    "Write a function, `create_map(x)`, so that it does the following:\n",
    "\n",
    "1. It determines the unique values in `x`.\n",
    "2. It sorts these unique values in ascending order.\n",
    "3. It assigns each unique value to a unique integer, starting from 0 and corresponding to the value's position in sorted order.\n",
    "4. It constructs and returns a Python dictionary that maps `x`-values (keys) to integers (values).\n",
    "\n",
    "For instance, for the preceding `x`, the unique sorted values would be _aardvark_, _anemone_, _cat_, and _dog_. Therefore, we would assign _aardvark_ to 0, _anemone_ to 1, _cat_ to 2, and _dog_ to 3. Therefore, the function would return the dictonary,\n",
    "\n",
    "```python\n",
    "   {'aardvark': 0, 'anemone': 1, 'cat': 2, 'dog', 3}\n",
    "```\n",
    "\n",
    "> _Note:_ Your function must _not_ modify the input `Series`, `x`. The test cell will check for that and may fail with strange errors if you do so."
   ]
  },
  {
   "cell_type": "code",
   "execution_count": null,
   "metadata": {
    "collapsed": true
   },
   "outputs": [],
   "source": [
    "def create_map(x):\n",
    "    assert isinstance(x, pd.Series)\n",
    "    \n",
    "    sorted_unique_series = sorted(x.unique())\n",
    "    \n",
    "    return {v: i for i, v in enumerate(sorted_unique_series)}\n",
    "\n",
    "\n",
    "#     values = x.unique()\n",
    "#     values.sort()\n",
    "#     return {value: index for value, index in zip(values, range(len(values)))}\n"
   ]
  },
  {
   "cell_type": "code",
   "execution_count": null,
   "metadata": {},
   "outputs": [],
   "source": [
    "# Demo\n",
    "ex3_demo_input = pd.Series(['cat', 'dog', 'cat', 'cat', 'aardvark', 'dog', 'anemone', 'aardvark'])\n",
    "create_map(ex3_demo_input)"
   ]
  },
  {
   "cell_type": "code",
   "execution_count": null,
   "metadata": {
    "deletable": false,
    "editable": false,
    "nbgrader": {
     "grade": true,
     "grade_id": "fx_ex3_create_map",
     "locked": true,
     "points": "2",
     "solution": false
    }
   },
   "outputs": [],
   "source": [
    "# Test cell: `fx_ex3_create_map` (2 points)\n",
    "\n",
    "###\n",
    "### AUTOGRADER TEST - DO NOT REMOVE\n",
    "###\n",
    "\n",
    "from testing_tools import fx_ex3__check\n",
    "print(\"Testing...\")\n",
    "for trial in range(200):\n",
    "    fx_ex3__check(create_map)\n",
    "\n",
    "create_map__passed = True\n",
    "print(get_mem_usage_GiB())\n",
    "print(\"\\n(Passed!)\")"
   ]
  },
  {
   "cell_type": "markdown",
   "metadata": {
    "deletable": false,
    "editable": false,
    "nbgrader": {
     "grade": false,
     "locked": true,
     "solution": false
    }
   },
   "source": [
    "### Sample results for Exercise 3, `create_map` => `reviewer_map` and `ebook_map` ###\n",
    "\n",
    "If you had a working solution to Exercise 3, then in principle you could use it to generate index maps for both reviewers and e-books. We have precomputed this result for you; run the cell below create two value-to-index maps: `reviewer_map` for users (reviewers) and `ebook_map` for e-books.\n",
    "\n",
    "> Note: **Read and run this cell even if you skipped or otherwise did not complete Exercise 3.**"
   ]
  },
  {
   "cell_type": "code",
   "execution_count": null,
   "metadata": {
    "deletable": false,
    "editable": false,
    "nbgrader": {
     "grade": false,
     "locked": true,
     "solution": false
    }
   },
   "outputs": [],
   "source": [
    "from testing_tools import fx_reviewer_map as reviewer_map\n",
    "from testing_tools import fx_ebook_map as ebook_map\n",
    "print(get_mem_usage_GiB())\n",
    "\n",
    "print('A3SZMGJMV0G16C', \"==>\", reviewer_map['A3SZMGJMV0G16C'])\n",
    "print('B000FA64PK', \"==>\", ebook_map['B000FA64PK'])"
   ]
  },
  {
   "cell_type": "markdown",
   "metadata": {
    "deletable": false,
    "editable": false,
    "nbgrader": {
     "grade": false,
     "locked": true,
     "solution": false
    }
   },
   "source": [
    "### Exercise 4 (2 points): Build a sparse matrix ###\n",
    "\n",
    "Suppose you are given a dataframe, `ratings`, with three columns:\n",
    "\n",
    "* `'reviewer'`: The string ID of a user\n",
    "* `'ebook'`: The string ID of a book that the user rated\n",
    "* `'rating'`: The value of the user's rating, which is an integer from 1 to 5.\n",
    "\n",
    "In addition, suppose you are given string-to-integer maps for reviewers and e-books, as `r_map` and `e_map`, respectively.\n",
    "\n",
    "Complete the function, `ratings_to_coo(ratings, r_map, e_map)`, so that it returns a Scipy sparse matrix in COO (coordinate) format, constructed according to these rules:\n",
    "\n",
    "1. Let `(r, e, v)` denote the values of `'reviewer'`, `'ebook'`, and `'rating'` in a row of `ratings`. Each row will be a nonzero of the sparse matrix.\n",
    "2. The reviewer with string ID `r` corresponds to row `i = r_map[r]` of the sparse matrix.\n",
    "3. An e-book with string ID `e` corresponds to column `j = e_map[e]` of the sparse matrix.\n",
    "4. The `(i, j)` entry of the sparse matrix is `v`.\n",
    "\n",
    "To get you started, the function below imports [Scipy's `coo_matrix` function](https://docs.scipy.org/doc/scipy/reference/generated/scipy.sparse.coo_matrix.html), which you should use to construct your matrix. The starter code also determines the shape (number of rows and columns) for you. Use the `dtype=int` argument to ensure the nonzero values are stored as integers.\n",
    "\n",
    "**Example.** Suppose `ratings` is as follows:\n",
    "\n",
    "| reviewer   | ebook   |   rating |\n",
    "|:-----------|:--------|---------:|\n",
    "| alice      | happy   |        5 |\n",
    "| bob        | sad     |        2 |\n",
    "| carol      | happy   |        5 |\n",
    "| dave       | happy   |        4 |\n",
    "| edith      | sad     |        1 |\n",
    "\n",
    "Next, suppose `r_map` and `e_map` are as follows:\n",
    "\n",
    "```python\n",
    "r_map = {'alice': 0, 'bob': 1, 'carol': 2, 'dave': 3, 'edith': 4}\n",
    "e_map = {'happy': 0, 'sad': 1}\n",
    "```\n",
    "\n",
    "Then the sparse matrix would have a structure that looks like the following (rendered here as a table for ease of visualization):\n",
    "\n",
    "|         | _col 0_ | _col 1_ |\n",
    "|:-------:|:-------:|:-------:|\n",
    "| _row 0_ |    5    |         |\n",
    "| _row 1_ |         |    2    |\n",
    "| _row 2_ |    5    |         |\n",
    "| _row 3_ |    4    |         |\n",
    "| _row 4_ |         |    1    |\n",
    "\n",
    "> _Note:_ Your function must _not_ modify the input dataframe, `ratings`, or the index mappings, `r_map` and `e_map`. The test cell will check for that and may fail with strange errors if you do so."
   ]
  },
  {
   "cell_type": "code",
   "execution_count": 49,
   "metadata": {
    "collapsed": true
   },
   "outputs": [],
   "source": [
    "def ratings_to_coo(ratings, r_map, e_map):\n",
    "    from scipy.sparse import coo_matrix\n",
    "    \n",
    "    # Precompute the matrix shape, `m` rows by `n` columns:\n",
    "    m, n = max(r_map.values())+1, max(e_map.values())+1\n",
    "    \n",
    "    rows = ratings['reviewer'].map(r_map)\n",
    "    cols = ratings['ebook'].map(e_map)\n",
    "    values = ratings['rating']\n",
    "    \n",
    "    matrix = coo_matrix((values, (rows, cols)), shape=(m, n))\n",
    "    \n",
    "    return matrix\n"
   ]
  },
  {
   "cell_type": "code",
   "execution_count": 50,
   "metadata": {},
   "outputs": [
    {
     "data": {
      "image/png": "[encoded data removed]",
      "text/plain": [
       "<Figure size 432x288 with 1 Axes>"
      ]
     },
     "metadata": {
      "needs_background": "light"
     },
     "output_type": "display_data"
    }
   ],
   "source": [
    "# Demo:\n",
    "ex4_demo_ratings = pd.DataFrame({'reviewer': ['alice', 'bob', 'carol', 'dave', 'edith'],\n",
    "                                 'ebook': ['happy', 'sad', 'happy', 'happy', 'sad'],\n",
    "                                 'rating': [5, 2, 5, 4, 1]})\n",
    "ex4_demo_r_map = {'alice': 0, 'bob': 1, 'carol': 2, 'dave': 3, 'edith': 4}\n",
    "ex4_demo_e_map = {'happy': 0, 'sad': 1}\n",
    "\n",
    "ex4_demo_matrix = ratings_to_coo(ex4_demo_ratings, ex4_demo_r_map, ex4_demo_e_map)\n",
    "plot_spy(ex4_demo_matrix)"
   ]
  },
  {
   "cell_type": "code",
   "execution_count": 51,
   "metadata": {
    "deletable": false,
    "editable": false,
    "nbgrader": {
     "grade": true,
     "grade_id": "fx_ex4_ratings_to_coo",
     "locked": true,
     "points": "2",
     "solution": false
    }
   },
   "outputs": [
    {
     "name": "stdout",
     "output_type": "stream",
     "text": [
      "Testing...\n",
      "4.9 GiB\n",
      "\n",
      "(Passed!)\n"
     ]
    }
   ],
   "source": [
    "# Test cell: `fx_ex4_ratings_to_coo` (2 points)\n",
    "\n",
    "###\n",
    "### AUTOGRADER TEST - DO NOT REMOVE\n",
    "###\n",
    "\n",
    "from testing_tools import fx_ex4__check\n",
    "print(\"Testing...\")\n",
    "for trial in range(100):\n",
    "    fx_ex4__check(ratings_to_coo)\n",
    "\n",
    "ratings_to_coo__passed = True\n",
    "print(get_mem_usage_GiB())\n",
    "print(\"\\n(Passed!)\")"
   ]
  },
  {
   "cell_type": "markdown",
   "metadata": {
    "deletable": false,
    "editable": false,
    "nbgrader": {
     "grade": false,
     "locked": true,
     "solution": false
    }
   },
   "source": [
    "### Sample results for Exercise 4, `ratings_to_coo` => `ratings_matrix` ###\n",
    "\n",
    "If you had a working solution to Exercise 4, then in principle you could use it to generate a sparse matrix for the Amazon Kindle ratings data. We have precomputed this result for you; run the cell below create the sparse matrix, which is stored in the variable, `ratings_matrix`.\n",
    "\n",
    "> Note: **Read and run this cell even if you skipped or otherwise did not complete Exercise 4.**"
   ]
  },
  {
   "cell_type": "code",
   "execution_count": 52,
   "metadata": {
    "deletable": false,
    "editable": false,
    "nbgrader": {
     "grade": false,
     "locked": true,
     "solution": false
    }
   },
   "outputs": [
    {
     "name": "stdout",
     "output_type": "stream",
     "text": [
      "The `ratings_matrix` is (65,997 users) x (31,765 e-books), with 484,708 nonzero ratings.\n",
      "Here is a picture:\n",
      "4.9 GiB\n"
     ]
    },
    {
     "data": {
      "image/png": "[encoded data removed]",
      "text/plain": [
       "<Figure size 360x360 with 1 Axes>"
      ]
     },
     "metadata": {
      "needs_background": "light"
     },
     "output_type": "display_data"
    }
   ],
   "source": [
    "from testing_tools import fx_ratings_matrix as ratings_matrix\n",
    "\n",
    "print(f\"The `ratings_matrix` is ({ratings_matrix.shape[0]:,} users) x ({ratings_matrix.shape[1]:,} e-books), with {ratings_matrix.nnz:,} nonzero ratings.\")\n",
    "print(\"Here is a picture:\")\n",
    "plot_spy(ratings_matrix, figsize=(5, 5), markersize=0.005)\n",
    "print(get_mem_usage_GiB())"
   ]
  },
  {
   "cell_type": "markdown",
   "metadata": {
    "deletable": false,
    "editable": false,
    "nbgrader": {
     "grade": false,
     "locked": true,
     "solution": false
    }
   },
   "source": [
    "### Spectral co-clustering ###\n",
    "\n",
    "The `scikit-learn` package provides a spectral co-clustering implementation. It takes your sparse matrix as input, as well as a target number of clusters; it returns an assignment of rows and columns to clusters, as we'll explain below.\n",
    "\n",
    "Let's start by computing this clustering. As it happens, there are roughly 30 different usable genres, so let's ask for 30 clusters. The output will consist of two sets of labels, one for users (in a Numpy array named `row_labels`, below) and one for e-books (`col_labels`).\n",
    "\n",
    "> There are more principled ways to select the number of clusters, but let's save that for your next (O)MSA/VMM class!"
   ]
  },
  {
   "cell_type": "code",
   "execution_count": 53,
   "metadata": {
    "deletable": false,
    "editable": false,
    "nbgrader": {
     "grade": false,
     "locked": true,
     "solution": false
    }
   },
   "outputs": [
    {
     "name": "stdout",
     "output_type": "stream",
     "text": [
      "Sat 22 Apr 2023 05:37:20 AM PDT\n",
      "Performing a biclustering...\n",
      "* Input matrix shape: 65,997 x 31,765\n",
      "* Number of nonzeros: 484,708\n",
      "* Desired number of clusters: 30\n"
     ]
    },
    {
     "name": "stderr",
     "output_type": "stream",
     "text": [
      "Exception ignored on calling ctypes callback function: <function _ThreadpoolInfo._find_modules_with_dl_iterate_phdr.<locals>.match_module_callback at 0x7f5dc02535e0>\n",
      "Traceback (most recent call last):\n",
      "  File \"/usr/local/lib/python3.8/site-packages/threadpoolctl.py\", line 400, in match_module_callback\n",
      "    self._make_module_from_path(filepath)\n",
      "  File \"/usr/local/lib/python3.8/site-packages/threadpoolctl.py\", line 515, in _make_module_from_path\n",
      "    module = module_class(filepath, prefix, user_api, internal_api)\n",
      "  File \"/usr/local/lib/python3.8/site-packages/threadpoolctl.py\", line 606, in __init__\n",
      "    self.version = self.get_version()\n",
      "  File \"/usr/local/lib/python3.8/site-packages/threadpoolctl.py\", line 646, in get_version\n",
      "    config = get_config().split()\n",
      "AttributeError: 'NoneType' object has no attribute 'split'\n",
      "Exception ignored on calling ctypes callback function: <function _ThreadpoolInfo._find_modules_with_dl_iterate_phdr.<locals>.match_module_callback at 0x7f5daa271c10>\n",
      "Traceback (most recent call last):\n",
      "  File \"/usr/local/lib/python3.8/site-packages/threadpoolctl.py\", line 400, in match_module_callback\n",
      "    self._make_module_from_path(filepath)\n",
      "  File \"/usr/local/lib/python3.8/site-packages/threadpoolctl.py\", line 515, in _make_module_from_path\n",
      "    module = module_class(filepath, prefix, user_api, internal_api)\n",
      "  File \"/usr/local/lib/python3.8/site-packages/threadpoolctl.py\", line 606, in __init__\n",
      "    self.version = self.get_version()\n",
      "  File \"/usr/local/lib/python3.8/site-packages/threadpoolctl.py\", line 646, in get_version\n",
      "    config = get_config().split()\n",
      "AttributeError: 'NoneType' object has no attribute 'split'\n",
      "Exception ignored on calling ctypes callback function: <function _ThreadpoolInfo._find_modules_with_dl_iterate_phdr.<locals>.match_module_callback at 0x7f5dc02535e0>\n",
      "Traceback (most recent call last):\n",
      "  File \"/usr/local/lib/python3.8/site-packages/threadpoolctl.py\", line 400, in match_module_callback\n",
      "    self._make_module_from_path(filepath)\n",
      "  File \"/usr/local/lib/python3.8/site-packages/threadpoolctl.py\", line 515, in _make_module_from_path\n",
      "    module = module_class(filepath, prefix, user_api, internal_api)\n",
      "  File \"/usr/local/lib/python3.8/site-packages/threadpoolctl.py\", line 606, in __init__\n",
      "    self.version = self.get_version()\n",
      "  File \"/usr/local/lib/python3.8/site-packages/threadpoolctl.py\", line 646, in get_version\n",
      "    config = get_config().split()\n",
      "AttributeError: 'NoneType' object has no attribute 'split'\n",
      "Exception ignored on calling ctypes callback function: <function _ThreadpoolInfo._find_modules_with_dl_iterate_phdr.<locals>.match_module_callback at 0x7f5daa271c10>\n",
      "Traceback (most recent call last):\n",
      "  File \"/usr/local/lib/python3.8/site-packages/threadpoolctl.py\", line 400, in match_module_callback\n",
      "    self._make_module_from_path(filepath)\n",
      "  File \"/usr/local/lib/python3.8/site-packages/threadpoolctl.py\", line 515, in _make_module_from_path\n",
      "    module = module_class(filepath, prefix, user_api, internal_api)\n",
      "  File \"/usr/local/lib/python3.8/site-packages/threadpoolctl.py\", line 606, in __init__\n",
      "    self.version = self.get_version()\n",
      "  File \"/usr/local/lib/python3.8/site-packages/threadpoolctl.py\", line 646, in get_version\n",
      "    config = get_config().split()\n",
      "AttributeError: 'NoneType' object has no attribute 'split'\n",
      "Exception ignored on calling ctypes callback function: <function _ThreadpoolInfo._find_modules_with_dl_iterate_phdr.<locals>.match_module_callback at 0x7f5dc02535e0>\n",
      "Traceback (most recent call last):\n",
      "  File \"/usr/local/lib/python3.8/site-packages/threadpoolctl.py\", line 400, in match_module_callback\n",
      "    self._make_module_from_path(filepath)\n",
      "  File \"/usr/local/lib/python3.8/site-packages/threadpoolctl.py\", line 515, in _make_module_from_path\n",
      "    module = module_class(filepath, prefix, user_api, internal_api)\n",
      "  File \"/usr/local/lib/python3.8/site-packages/threadpoolctl.py\", line 606, in __init__\n",
      "    self.version = self.get_version()\n",
      "  File \"/usr/local/lib/python3.8/site-packages/threadpoolctl.py\", line 646, in get_version\n",
      "    config = get_config().split()\n",
      "AttributeError: 'NoneType' object has no attribute 'split'\n",
      "Exception ignored on calling ctypes callback function: <function _ThreadpoolInfo._find_modules_with_dl_iterate_phdr.<locals>.match_module_callback at 0x7f5daa271c10>\n",
      "Traceback (most recent call last):\n",
      "  File \"/usr/local/lib/python3.8/site-packages/threadpoolctl.py\", line 400, in match_module_callback\n",
      "    self._make_module_from_path(filepath)\n",
      "  File \"/usr/local/lib/python3.8/site-packages/threadpoolctl.py\", line 515, in _make_module_from_path\n",
      "    module = module_class(filepath, prefix, user_api, internal_api)\n",
      "  File \"/usr/local/lib/python3.8/site-packages/threadpoolctl.py\", line 606, in __init__\n",
      "    self.version = self.get_version()\n",
      "  File \"/usr/local/lib/python3.8/site-packages/threadpoolctl.py\", line 646, in get_version\n",
      "    config = get_config().split()\n",
      "AttributeError: 'NoneType' object has no attribute 'split'\n",
      "Exception ignored on calling ctypes callback function: <function _ThreadpoolInfo._find_modules_with_dl_iterate_phdr.<locals>.match_module_callback at 0x7f5dc02535e0>\n",
      "Traceback (most recent call last):\n",
      "  File \"/usr/local/lib/python3.8/site-packages/threadpoolctl.py\", line 400, in match_module_callback\n",
      "    self._make_module_from_path(filepath)\n",
      "  File \"/usr/local/lib/python3.8/site-packages/threadpoolctl.py\", line 515, in _make_module_from_path\n",
      "    module = module_class(filepath, prefix, user_api, internal_api)\n",
      "  File \"/usr/local/lib/python3.8/site-packages/threadpoolctl.py\", line 606, in __init__\n",
      "    self.version = self.get_version()\n",
      "  File \"/usr/local/lib/python3.8/site-packages/threadpoolctl.py\", line 646, in get_version\n",
      "    config = get_config().split()\n",
      "AttributeError: 'NoneType' object has no attribute 'split'\n",
      "Exception ignored on calling ctypes callback function: <function _ThreadpoolInfo._find_modules_with_dl_iterate_phdr.<locals>.match_module_callback at 0x7f5daa271c10>\n",
      "Traceback (most recent call last):\n",
      "  File \"/usr/local/lib/python3.8/site-packages/threadpoolctl.py\", line 400, in match_module_callback\n",
      "    self._make_module_from_path(filepath)\n",
      "  File \"/usr/local/lib/python3.8/site-packages/threadpoolctl.py\", line 515, in _make_module_from_path\n",
      "    module = module_class(filepath, prefix, user_api, internal_api)\n",
      "  File \"/usr/local/lib/python3.8/site-packages/threadpoolctl.py\", line 606, in __init__\n",
      "    self.version = self.get_version()\n",
      "  File \"/usr/local/lib/python3.8/site-packages/threadpoolctl.py\", line 646, in get_version\n",
      "    config = get_config().split()\n",
      "AttributeError: 'NoneType' object has no attribute 'split'\n",
      "Exception ignored on calling ctypes callback function: <function _ThreadpoolInfo._find_modules_with_dl_iterate_phdr.<locals>.match_module_callback at 0x7f5dc02535e0>\n",
      "Traceback (most recent call last):\n",
      "  File \"/usr/local/lib/python3.8/site-packages/threadpoolctl.py\", line 400, in match_module_callback\n",
      "    self._make_module_from_path(filepath)\n",
      "  File \"/usr/local/lib/python3.8/site-packages/threadpoolctl.py\", line 515, in _make_module_from_path\n",
      "    module = module_class(filepath, prefix, user_api, internal_api)\n",
      "  File \"/usr/local/lib/python3.8/site-packages/threadpoolctl.py\", line 606, in __init__\n",
      "    self.version = self.get_version()\n",
      "  File \"/usr/local/lib/python3.8/site-packages/threadpoolctl.py\", line 646, in get_version\n",
      "    config = get_config().split()\n",
      "AttributeError: 'NoneType' object has no attribute 'split'\n",
      "Exception ignored on calling ctypes callback function: <function _ThreadpoolInfo._find_modules_with_dl_iterate_phdr.<locals>.match_module_callback at 0x7f5dc02535e0>\n",
      "Traceback (most recent call last):\n",
      "  File \"/usr/local/lib/python3.8/site-packages/threadpoolctl.py\", line 400, in match_module_callback\n",
      "    self._make_module_from_path(filepath)\n",
      "  File \"/usr/local/lib/python3.8/site-packages/threadpoolctl.py\", line 515, in _make_module_from_path\n",
      "    module = module_class(filepath, prefix, user_api, internal_api)\n",
      "  File \"/usr/local/lib/python3.8/site-packages/threadpoolctl.py\", line 606, in __init__\n",
      "    self.version = self.get_version()\n",
      "  File \"/usr/local/lib/python3.8/site-packages/threadpoolctl.py\", line 646, in get_version\n",
      "    config = get_config().split()\n",
      "AttributeError: 'NoneType' object has no attribute 'split'\n"
     ]
    },
    {
     "name": "stdout",
     "output_type": "stream",
     "text": [
      "==> Done!\n",
      "Sat 22 Apr 2023 05:37:25 AM PDT\r\n"
     ]
    }
   ],
   "source": [
    "def bicluster(matrix, num_clusters=10, verbose=True):\n",
    "    from sklearn.cluster import SpectralCoclustering\n",
    "    if verbose:\n",
    "        print(\"Performing a biclustering...\")\n",
    "        print(f\"* Input matrix shape: {matrix.shape[0]:,} x {matrix.shape[1]:,}\")\n",
    "        print(f\"* Number of nonzeros: {matrix.nnz:,}\")\n",
    "        print(f\"* Desired number of clusters: {num_clusters}\")\n",
    "    clustering = SpectralCoclustering(n_clusters=num_clusters, random_state=0).fit(matrix)\n",
    "    if verbose:\n",
    "        print(\"==> Done!\")\n",
    "    return clustering.row_labels_, clustering.column_labels_\n",
    "\n",
    "!date\n",
    "row_labels, col_labels = bicluster(ratings_matrix, num_clusters=30)\n",
    "!date"
   ]
  },
  {
   "cell_type": "markdown",
   "metadata": {
    "deletable": false,
    "editable": false,
    "nbgrader": {
     "grade": false,
     "locked": true,
     "solution": false
    }
   },
   "source": [
    "Let's focus on the e-book (column) labels. Here are the computed labels for the first eight e-books:"
   ]
  },
  {
   "cell_type": "code",
   "execution_count": 54,
   "metadata": {
    "deletable": false,
    "editable": false,
    "nbgrader": {
     "grade": false,
     "locked": true,
     "solution": false
    }
   },
   "outputs": [
    {
     "name": "stdout",
     "output_type": "stream",
     "text": [
      "\n",
      "Here are the first few column (e-book) labels: [24 24 24 24 25 25  0 25]\n"
     ]
    }
   ],
   "source": [
    "print(f\"\\nHere are the first few column (e-book) labels: {col_labels[:8]}\")"
   ]
  },
  {
   "cell_type": "markdown",
   "metadata": {
    "deletable": false,
    "editable": false,
    "nbgrader": {
     "grade": false,
     "locked": true,
     "solution": false
    }
   },
   "source": [
    "The labels are arbitrary integers. E-books belonging to the same cluster will have the same label."
   ]
  },
  {
   "cell_type": "markdown",
   "metadata": {
    "deletable": false,
    "editable": false,
    "nbgrader": {
     "grade": false,
     "locked": true,
     "solution": false
    }
   },
   "source": [
    "### Exercise 5: Postprocessing the results (2 points) ###\n",
    "\n",
    "Suppose you are given two inputs, `x_map` and `labels`, formatted as follows:\n",
    "\n",
    "- `x_map` is a dictionary just like `reviewer_map` and `ebook_map` from Exercise 3: each key `s` is a string ID, and the corresponding value `i = x_map[s]` is its integer index.\n",
    "- `labels` is a Numpy array holding cluster labels. For an integer index `i`, the value `labels[i]` is the label assigned to `i`.\n",
    "\n",
    "Complete the function, `map_labels(x_map, labels)` so that it returns a Python dictionary where each key is a string label `s` and the value is its assigned label.\n",
    "\n",
    "**Example.** Suppose\n",
    "\n",
    "```python\n",
    "x_map = {'alice': 0, 'bob': 1, 'carol': 2, 'dave': 3, 'edith': 4}\n",
    "labels = np.array([1, 0, 1, 1, 0])\n",
    "```\n",
    "\n",
    "Then\n",
    "\n",
    "```python\n",
    "map_labels(x_map, labels) == {'alice': 1, 'bob': 0, 'carol': 1, 'dave': 1, 'edith': 0}\n",
    "```\n",
    "\n",
    "> _Note:_ Your function must _not_ modify the inputs, `x_map` and `labels`. The test cell will check for that and may fail with strange errors if you do so."
   ]
  },
  {
   "cell_type": "code",
   "execution_count": 55,
   "metadata": {
    "collapsed": true
   },
   "outputs": [],
   "source": [
    "def map_labels(x_map, labels):\n",
    "    \n",
    "    dic = {}\n",
    "    \n",
    "    for k, v in x_map.items():\n",
    "        dic[k] = labels[v]\n",
    "        \n",
    "    return dic\n"
   ]
  },
  {
   "cell_type": "code",
   "execution_count": 56,
   "metadata": {},
   "outputs": [
    {
     "data": {
      "text/plain": [
       "{'alice': 1, 'bob': 0, 'carol': 1, 'dave': 1, 'edith': 0}"
      ]
     },
     "execution_count": 56,
     "metadata": {},
     "output_type": "execute_result"
    }
   ],
   "source": [
    "# Demo:\n",
    "ex5_demo_x_map = {'alice': 0, 'bob': 1, 'carol': 2, 'dave': 3, 'edith': 4}\n",
    "ex5_demo_labels = np.array([1, 0, 1, 1, 0])\n",
    "map_labels(ex5_demo_x_map, ex5_demo_labels)"
   ]
  },
  {
   "cell_type": "code",
   "execution_count": 57,
   "metadata": {
    "deletable": false,
    "editable": false,
    "nbgrader": {
     "grade": true,
     "grade_id": "fx_ex5_map_labels",
     "locked": true,
     "points": "2",
     "solution": false
    }
   },
   "outputs": [
    {
     "name": "stdout",
     "output_type": "stream",
     "text": [
      "Testing...\n",
      "5.0 GiB\n",
      "\n",
      "(Passed!)\n"
     ]
    }
   ],
   "source": [
    "# Test cell: `fx_ex5_map_labels` (2 points)\n",
    "\n",
    "###\n",
    "### AUTOGRADER TEST - DO NOT REMOVE\n",
    "###\n",
    "\n",
    "from testing_tools import fx_ex5__check\n",
    "print(\"Testing...\")\n",
    "for trial in range(250):\n",
    "    fx_ex5__check(map_labels)\n",
    "\n",
    "map_labels__passed = True\n",
    "print(get_mem_usage_GiB())\n",
    "print(\"\\n(Passed!)\")"
   ]
  },
  {
   "cell_type": "markdown",
   "metadata": {
    "deletable": false,
    "editable": false,
    "nbgrader": {
     "grade": false,
     "locked": true,
     "solution": false
    }
   },
   "source": [
    "### Sample results for Exercise 5, `map_labels` => `ebook_labels` ###\n",
    "\n",
    "If you had a working solution to Exercise 5, then in principle you could use it to map the e-book labels back to each book's string ID. We have precomputed this result for you; run the cell below create the e-book label map, `ebook_labels`.\n",
    "\n",
    "> Note: **Read and run this cell even if you skipped or otherwise did not complete Exercise 5.**"
   ]
  },
  {
   "cell_type": "code",
   "execution_count": 58,
   "metadata": {
    "deletable": false,
    "editable": false,
    "nbgrader": {
     "grade": false,
     "locked": true,
     "solution": false
    }
   },
   "outputs": [
    {
     "name": "stdout",
     "output_type": "stream",
     "text": [
      "5.0 GiB\n",
      "Some of the assigned labels:\n",
      "* 'B00IK5B0LK' ==> label 26\n",
      "* 'B00AQNPV0K' ==> label 29\n",
      "* 'B007Z3S0NE' ==> label 0\n",
      "* 'B0075VFMCI' ==> label 0\n",
      "* 'B00C404E60' ==> label 26\n"
     ]
    }
   ],
   "source": [
    "from testing_tools import fx_ebook_labels as ebook_labels\n",
    "print(get_mem_usage_GiB())\n",
    "\n",
    "print(\"Some of the assigned labels:\")\n",
    "for ebook_id in ['B00IK5B0LK', 'B00AQNPV0K', 'B007Z3S0NE', 'B0075VFMCI', 'B00C404E60']:\n",
    "    print(f\"* '{ebook_id}' ==> label {ebook_labels[ebook_id]}\")"
   ]
  },
  {
   "cell_type": "markdown",
   "metadata": {
    "deletable": false,
    "editable": false,
    "nbgrader": {
     "grade": false,
     "locked": true,
     "solution": false
    }
   },
   "source": [
    "## Part C: Cluster analysis (contains Exercise 6-8) ##\n",
    "\n",
    "Let's inspect the e-book clusters and see what they reveal."
   ]
  },
  {
   "cell_type": "markdown",
   "metadata": {
    "deletable": false,
    "editable": false,
    "nbgrader": {
     "grade": false,
     "locked": true,
     "solution": false
    }
   },
   "source": [
    "### Exercise 6: k-largest clusters (3 points) ###\n",
    "\n",
    "Suppose we are given a Numpy array of cluster labels called `labels` and an integer `k >= 1`. Complete the function, `top_k_labels(labels, k)`, so that\n",
    "\n",
    "1. it counts how many times each label occurs;\n",
    "2. ranks the labels from most-to-least frequent; and\n",
    "3. returns a **Python set** containing the `k` most frequent labels.\n",
    "\n",
    "In the case of ties, include all labels with the same count. Therefore, your function might return more than `k` labels. And if there are fewer than `k` distinct labels, then your function should return them all.\n",
    "\n",
    "For example, consider the array,\n",
    "\n",
    "```python\n",
    "labels = np.array([5, 3, 5, 5, 0, 6, 6, 4, 1, 1, 4, 7, 5, 6])\n",
    "```\n",
    "\n",
    "Observe that 5 appears four times, 6 appears three times, 1 and 4 both appear twice, and 0, 3, and 7 appear once each. Therefore:\n",
    "\n",
    "- If `k=1`, your function would return the set `{5}`.\n",
    "- If `k=2`, your function would return the set `{5, 6}`.\n",
    "- If `k=3`, your function would return the set `{5, 6, 1, 4}`. That is, even though the caller only asked for the top 3, there is a tie for third place.\n",
    "- If `k=4`, your function would again return `{5, 6, 1, 4}`.\n",
    "- For any `k >= 5`, your function would return all unique values, `{5, 6, 1, 4, 0, 3, 7}`.\n",
    "\n",
    "> _Note 0:_ Your function must _not_ modify the input array, `labels`. The test cell will check for that and may fail with strange errors if you do so.\n",
    ">\n",
    "> _Note 1:_ There are many approaches to this exercise. One useful Numpy function is [`bincount`](https://numpy.org/doc/stable/reference/generated/numpy.bincount.html). A useful pandas function is [`nlargest`](https://pandas.pydata.org/docs/reference/api/pandas.DataFrame.nlargest.html)."
   ]
  },
  {
   "cell_type": "code",
   "execution_count": 158,
   "metadata": {},
   "outputs": [],
   "source": [
    "def top_k_labels(labels, k):\n",
    "    assert isinstance(labels, np.ndarray)\n",
    "    \n",
    "    return top_k_labels__1(labels, k)\n",
    "\n",
    "def top_k_labels__0(labels, k):\n",
    "    from numpy import bincount, arange, argsort\n",
    "    counts = bincount(labels)\n",
    "    values = arange(len(counts))\n",
    "    values_by_frequency = argsort(counts)\n",
    "    counts_by_frequency = counts[values_by_frequency]\n",
    "    count_least_frequent = counts_by_frequency[-k:][0]\n",
    "    final_count_mask = (counts_by_frequency >= count_least_frequent) \\\n",
    "                       & (counts_by_frequency > 0)\n",
    "    return set(values_by_frequency[final_count_mask])\n",
    "\n",
    "def top_k_labels__1(labels, k):\n",
    "    from pandas import DataFrame\n",
    "    df = DataFrame({'label': labels}) \\\n",
    "         .groupby('label', as_index=False).size() \\\n",
    "         .nlargest(k, 'size', keep='all')\n",
    "    return set(df['label'].values)\n"
   ]
  },
  {
   "cell_type": "code",
   "execution_count": 159,
   "metadata": {},
   "outputs": [
    {
     "name": "stdout",
     "output_type": "stream",
     "text": [
      "* Input: [5 3 5 5 0 6 6 4 1 1 4 7 5 6]\n",
      "* Your output:\n",
      "k=1 ==> {5}\n",
      "k=2 ==> {5, 6}\n",
      "k=3 ==> {1, 4, 5, 6}\n",
      "k=4 ==> {1, 4, 5, 6}\n",
      "k=5 ==> {0, 1, 3, 4, 5, 6, 7}\n",
      "k=6 ==> {0, 1, 3, 4, 5, 6, 7}\n",
      "k=7 ==> {0, 1, 3, 4, 5, 6, 7}\n",
      "k=8 ==> {0, 1, 3, 4, 5, 6, 7}\n",
      "k=9 ==> {0, 1, 3, 4, 5, 6, 7}\n"
     ]
    }
   ],
   "source": [
    "# Demo:\n",
    "ex6_demo_labels = np.array([5, 3, 5, 5, 0, 6, 6, 4, 1, 1, 4, 7, 5, 6])\n",
    "print(\"* Input:\", ex6_demo_labels)\n",
    "print(\"* Your output:\")\n",
    "for k in range(1, 10):\n",
    "    print(f\"k={k} ==>\", top_k_labels(ex6_demo_labels, k))"
   ]
  },
  {
   "cell_type": "code",
   "execution_count": 160,
   "metadata": {
    "deletable": false,
    "editable": false,
    "nbgrader": {
     "grade": true,
     "grade_id": "fx_ex6_top_k_labels",
     "locked": true,
     "points": "3",
     "solution": false
    }
   },
   "outputs": [
    {
     "name": "stdout",
     "output_type": "stream",
     "text": [
      "Testing...\n",
      "5.0 GiB\n",
      "\n",
      "(Passed!)\n"
     ]
    }
   ],
   "source": [
    "# Test cell: `fx_ex6_top_k_labels` (3 points)\n",
    "\n",
    "###\n",
    "### AUTOGRADER TEST - DO NOT REMOVE\n",
    "###\n",
    "\n",
    "from testing_tools import fx_ex6__check\n",
    "print(\"Testing...\")\n",
    "for trial in range(250):\n",
    "    fx_ex6__check(top_k_labels)\n",
    "\n",
    "top_k_labels__passed = True\n",
    "print(get_mem_usage_GiB())\n",
    "print(\"\\n(Passed!)\")"
   ]
  },
  {
   "cell_type": "markdown",
   "metadata": {
    "deletable": false,
    "editable": false,
    "nbgrader": {
     "grade": false,
     "locked": true,
     "solution": false
    }
   },
   "source": [
    "### Sample results for Exercise 6, `top_k_labels` => `top_k_ebook_labels` ###\n",
    "\n",
    "If you had a working solution to Exercise 6, then in principle you could use it to identify the top `k` e-book labels (computed as `col_labels` in Exercise 4). We have precomputed this result for you; run the cell below create the set of top labels, `top_k_ebook_labels`.\n",
    "\n",
    "> Note: **Read and run this cell even if you skipped or otherwise did not complete Exercise 6.**"
   ]
  },
  {
   "cell_type": "code",
   "execution_count": 62,
   "metadata": {
    "deletable": false,
    "editable": false,
    "nbgrader": {
     "grade": false,
     "locked": true,
     "solution": false
    }
   },
   "outputs": [
    {
     "name": "stdout",
     "output_type": "stream",
     "text": [
      "5.0 GiB\n",
      "The top 5 most frequent e-book labels:\n",
      "{0, 15, 25, 26, 29}\n"
     ]
    }
   ],
   "source": [
    "from testing_tools import fx_top_k_ebook_labels as top_k_ebook_labels\n",
    "print(get_mem_usage_GiB())\n",
    "\n",
    "print(f\"The top {len(top_k_ebook_labels)} most frequent e-book labels:\")\n",
    "print(top_k_ebook_labels)"
   ]
  },
  {
   "cell_type": "markdown",
   "metadata": {
    "deletable": false,
    "editable": false,
    "nbgrader": {
     "grade": false,
     "locked": true,
     "solution": false
    }
   },
   "source": [
    "### Exercise 7: Top genres in each cluster (2 points) ###\n",
    "\n",
    "Recall that our analysis has assigned some of the e-books to clusters. For instance, here are a few such assignments, taken from `ebook_labels` as computed in Exercise 5:"
   ]
  },
  {
   "cell_type": "code",
   "execution_count": 63,
   "metadata": {
    "deletable": false,
    "editable": false,
    "nbgrader": {
     "grade": false,
     "locked": true,
     "solution": false
    }
   },
   "outputs": [
    {
     "data": {
      "text/plain": [
       "{'B005V8XX1Y': 0,\n",
       " 'B004LP2GXE': 15,\n",
       " 'B00BM672WA': 15,\n",
       " 'B00BQK8YEC': 12,\n",
       " 'B00BQR4MYG': 0}"
      ]
     },
     "execution_count": 63,
     "metadata": {},
     "output_type": "execute_result"
    }
   ],
   "source": [
    "ex7_demo_ebooks = {'B00BQR4MYG', 'B00BM672WA', 'B00BQK8YEC', 'B005V8XX1Y', 'B004LP2GXE'}\n",
    "{e: ebook_labels[e] for e in ex7_demo_ebooks}"
   ]
  },
  {
   "cell_type": "markdown",
   "metadata": {
    "deletable": false,
    "editable": false,
    "nbgrader": {
     "grade": false,
     "locked": true,
     "solution": false
    }
   },
   "source": [
    "Each of these e-books is associated with a genre, available in the metadata dataframe from Exercise 1:"
   ]
  },
  {
   "cell_type": "code",
   "execution_count": 64,
   "metadata": {
    "deletable": false,
    "editable": false,
    "nbgrader": {
     "grade": false,
     "locked": true,
     "solution": false
    },
    "scrolled": false
   },
   "outputs": [
    {
     "ename": "NameError",
     "evalue": "name 'metadata_df' is not defined",
     "output_type": "error",
     "traceback": [
      "\u001b[0;31m---------------------------------------------------------------------------\u001b[0m",
      "\u001b[0;31mNameError\u001b[0m                                 Traceback (most recent call last)",
      "\u001b[0;32m<ipython-input-64-90e62783c279>\u001b[0m in \u001b[0;36m<module>\u001b[0;34m\u001b[0m\n\u001b[0;32m----> 1\u001b[0;31m \u001b[0mmetadata_df\u001b[0m\u001b[0;34m[\u001b[0m\u001b[0mmetadata_df\u001b[0m\u001b[0;34m[\u001b[0m\u001b[0;34m'ebook'\u001b[0m\u001b[0;34m]\u001b[0m\u001b[0;34m.\u001b[0m\u001b[0misin\u001b[0m\u001b[0;34m(\u001b[0m\u001b[0mex7_demo_ebooks\u001b[0m\u001b[0;34m)\u001b[0m\u001b[0;34m]\u001b[0m\u001b[0;34m\u001b[0m\u001b[0;34m\u001b[0m\u001b[0m\n\u001b[0m",
      "\u001b[0;31mNameError\u001b[0m: name 'metadata_df' is not defined"
     ]
    }
   ],
   "source": [
    "metadata_df[metadata_df['ebook'].isin(ex7_demo_ebooks)]"
   ]
  },
  {
   "cell_type": "markdown",
   "metadata": {
    "deletable": false,
    "editable": false,
    "nbgrader": {
     "grade": false,
     "locked": true,
     "solution": false
    }
   },
   "source": [
    "**Your task.** Suppose you are given an e-book-to-label mapping, `ebook_labels`, and an e-book metadata dataframe, `metadata`. Complete the function, `merge_labels(metadata, ebook_labels)`, below, so that it does the following:\n",
    "\n",
    "1. It constructs a new dataframe with three columns: `'ebook'`, `'genre'`, and `'label'`.\n",
    "2. In this new dataframe, the `'ebook'` and `'genre'` columns come from `metadata`. The `'label'` column comes from `ebook_labels`. In other words, you need to merge the `ebook_labels` labels with `metadata`.\n",
    "3. Not all e-books in `metadata` will have labels. The new dataframe should **only** include e-books with labels; any other e-book should not appear in it.\n",
    "\n",
    "> _Note 0:_ Your function must _not_ modify the inputs, `metadata` and `ebook_labels`. The test cell will check for that and may fail with strange errors if you do so.\n",
    ">\n",
    "> _Note 1:_ Be sure the column of labels has an integer.\n",
    ">\n",
    "> _Note 2:_ Your function should work even if `ebook_labels` is empty (is a dictionary with no keys, or no keys that match any e-book in `metadata`)."
   ]
  },
  {
   "cell_type": "code",
   "execution_count": 65,
   "metadata": {
    "collapsed": true
   },
   "outputs": [],
   "source": [
    "def merge_labels(metadata, ebook_labels):\n",
    "    \n",
    "    ebook_labels = pd.DataFrame(ebook_labels.items(), columns=['ebook', 'label'])\n",
    "    \n",
    "    df = metadata.merge(ebook_labels, on='ebook')\n",
    "    \n",
    "    df = df.dropna(subset=['label'])\n",
    "    \n",
    "    df['label'] = df['label'].astype('int')\n",
    "    \n",
    "    return df"
   ]
  },
  {
   "cell_type": "code",
   "execution_count": 66,
   "metadata": {
    "scrolled": true
   },
   "outputs": [
    {
     "ename": "NameError",
     "evalue": "name 'metadata_df' is not defined",
     "output_type": "error",
     "traceback": [
      "\u001b[0;31m---------------------------------------------------------------------------\u001b[0m",
      "\u001b[0;31mNameError\u001b[0m                                 Traceback (most recent call last)",
      "\u001b[0;32m<ipython-input-66-8a687ac1bae2>\u001b[0m in \u001b[0;36m<module>\u001b[0;34m\u001b[0m\n\u001b[1;32m      1\u001b[0m \u001b[0;31m# Demo:\u001b[0m\u001b[0;34m\u001b[0m\u001b[0;34m\u001b[0m\u001b[0;34m\u001b[0m\u001b[0m\n\u001b[0;32m----> 2\u001b[0;31m \u001b[0mmerge_labels\u001b[0m\u001b[0;34m(\u001b[0m\u001b[0mmetadata_df\u001b[0m\u001b[0;34m,\u001b[0m \u001b[0mebook_labels\u001b[0m\u001b[0;34m)\u001b[0m\u001b[0;34m.\u001b[0m\u001b[0mhead\u001b[0m\u001b[0;34m(\u001b[0m\u001b[0;34m)\u001b[0m\u001b[0;34m\u001b[0m\u001b[0;34m\u001b[0m\u001b[0m\n\u001b[0m",
      "\u001b[0;31mNameError\u001b[0m: name 'metadata_df' is not defined"
     ]
    }
   ],
   "source": [
    "# Demo:\n",
    "merge_labels(metadata_df, ebook_labels).head()"
   ]
  },
  {
   "cell_type": "code",
   "execution_count": 67,
   "metadata": {
    "deletable": false,
    "editable": false,
    "nbgrader": {
     "grade": true,
     "grade_id": "fx_ex7_merge_labels",
     "locked": true,
     "points": "2",
     "solution": false
    }
   },
   "outputs": [
    {
     "name": "stdout",
     "output_type": "stream",
     "text": [
      "Testing...\n",
      "5.0 GiB\n",
      "\n",
      "(Passed!)\n"
     ]
    }
   ],
   "source": [
    "# Test cell: `fx_ex7_merge_labels` (2 points)\n",
    "\n",
    "###\n",
    "### AUTOGRADER TEST - DO NOT REMOVE\n",
    "###\n",
    "\n",
    "from testing_tools import fx_ex7__check\n",
    "print(\"Testing...\")\n",
    "for trial in range(100):\n",
    "    fx_ex7__check(merge_labels)\n",
    "\n",
    "merge_labels__passed = True\n",
    "print(get_mem_usage_GiB())\n",
    "print(\"\\n(Passed!)\")"
   ]
  },
  {
   "cell_type": "markdown",
   "metadata": {
    "deletable": false,
    "editable": false,
    "nbgrader": {
     "grade": false,
     "locked": true,
     "solution": false
    }
   },
   "source": [
    "### Sample results for Exercise 7, `merge_labels` => `labeled_metadata_df` ###\n",
    "\n",
    "If you had a working solution to Exercise 7, then in principle you could use it to merge `ebook_labels` with `metadata_df`. We have precomputed this result for you; run the cell below create the labeled metadata dataframe, named `labeled_metadata_df`.\n",
    "\n",
    "> Note: **Read and run this cell even if you skipped or otherwise did not complete Exercise 7.**"
   ]
  },
  {
   "cell_type": "code",
   "execution_count": 68,
   "metadata": {
    "deletable": false,
    "editable": false,
    "nbgrader": {
     "grade": false,
     "locked": true,
     "solution": false
    }
   },
   "outputs": [
    {
     "name": "stdout",
     "output_type": "stream",
     "text": [
      "5.0 GiB\n"
     ]
    },
    {
     "data": {
      "text/html": [
       "<div>\n",
       "<style scoped>\n",
       "    .dataframe tbody tr th:only-of-type {\n",
       "        vertical-align: middle;\n",
       "    }\n",
       "\n",
       "    .dataframe tbody tr th {\n",
       "        vertical-align: top;\n",
       "    }\n",
       "\n",
       "    .dataframe thead th {\n",
       "        text-align: right;\n",
       "    }\n",
       "</style>\n",
       "<table border=\"1\" class=\"dataframe\">\n",
       "  <thead>\n",
       "    <tr style=\"text-align: right;\">\n",
       "      <th></th>\n",
       "      <th>ebook</th>\n",
       "      <th>genre</th>\n",
       "      <th>label</th>\n",
       "    </tr>\n",
       "  </thead>\n",
       "  <tbody>\n",
       "    <tr>\n",
       "      <th>9305</th>\n",
       "      <td>B009KP8YOU</td>\n",
       "      <td>Children's eBooks</td>\n",
       "      <td>15</td>\n",
       "    </tr>\n",
       "    <tr>\n",
       "      <th>13747</th>\n",
       "      <td>B00BNQQE8M</td>\n",
       "      <td>Children's eBooks</td>\n",
       "      <td>26</td>\n",
       "    </tr>\n",
       "    <tr>\n",
       "      <th>30535</th>\n",
       "      <td>B00KNLRWR0</td>\n",
       "      <td>Health, Fitness &amp; Dieting</td>\n",
       "      <td>25</td>\n",
       "    </tr>\n",
       "    <tr>\n",
       "      <th>29759</th>\n",
       "      <td>B00K67D67Q</td>\n",
       "      <td>Literature &amp; Fiction</td>\n",
       "      <td>0</td>\n",
       "    </tr>\n",
       "    <tr>\n",
       "      <th>26753</th>\n",
       "      <td>B00IHPPZNW</td>\n",
       "      <td>Cookbooks, Food &amp; Wine</td>\n",
       "      <td>25</td>\n",
       "    </tr>\n",
       "  </tbody>\n",
       "</table>\n",
       "</div>"
      ],
      "text/plain": [
       "            ebook                      genre  label\n",
       "9305   B009KP8YOU          Children's eBooks     15\n",
       "13747  B00BNQQE8M          Children's eBooks     26\n",
       "30535  B00KNLRWR0  Health, Fitness & Dieting     25\n",
       "29759  B00K67D67Q       Literature & Fiction      0\n",
       "26753  B00IHPPZNW     Cookbooks, Food & Wine     25"
      ]
     },
     "execution_count": 68,
     "metadata": {},
     "output_type": "execute_result"
    }
   ],
   "source": [
    "from testing_tools import fx_labeled_metadata_df as labeled_metadata_df\n",
    "print(get_mem_usage_GiB())\n",
    "\n",
    "labeled_metadata_df.sample(5)"
   ]
  },
  {
   "cell_type": "markdown",
   "metadata": {
    "deletable": false,
    "editable": false,
    "nbgrader": {
     "grade": false,
     "locked": true,
     "solution": false
    }
   },
   "source": [
    "### Exercise 8 (last exercise!): Genre features (4 points) ###\n",
    "\n",
    "You now have the building blocks you need to inspect some simple features of each cluster, to see how \"distinct\" clusters are from one another. Let's do that by analyzing the top genres represented in each cluster.\n",
    "\n",
    "First, recall that you previously identified the largest clusters:"
   ]
  },
  {
   "cell_type": "code",
   "execution_count": 69,
   "metadata": {
    "deletable": false,
    "editable": false,
    "nbgrader": {
     "grade": false,
     "locked": true,
     "solution": false
    }
   },
   "outputs": [
    {
     "data": {
      "text/plain": [
       "{0, 15, 25, 26, 29}"
      ]
     },
     "execution_count": 69,
     "metadata": {},
     "output_type": "execute_result"
    }
   ],
   "source": [
    "top_k_ebook_labels"
   ]
  },
  {
   "cell_type": "markdown",
   "metadata": {
    "deletable": false,
    "editable": false,
    "nbgrader": {
     "grade": false,
     "locked": true,
     "solution": false
    }
   },
   "source": [
    "Next, recall that you assigned e-books to clusters:"
   ]
  },
  {
   "cell_type": "code",
   "execution_count": null,
   "metadata": {
    "deletable": false,
    "editable": false,
    "nbgrader": {
     "grade": false,
     "locked": true,
     "solution": false
    }
   },
   "outputs": [],
   "source": [
    "labeled_metadata_df.head(5)"
   ]
  },
  {
   "cell_type": "markdown",
   "metadata": {
    "deletable": false,
    "editable": false,
    "nbgrader": {
     "grade": false,
     "locked": true,
     "solution": false
    }
   },
   "source": [
    "**Your task.** Complete the function, `calc_top_genres(labeled_metadata, top_labels)`, below. It takes as input two objects:\n",
    "\n",
    "- `labeled_metadata`: A pandas dataframe, formatted like `labeled_metadata_df` above.\n",
    "- `top_labels`: A Python set of labels, like `top_k_ebook_labels` above.\n",
    "\n",
    "It should then do the following:\n",
    "\n",
    "- For each label in `top_labels`, it should determine the **two** most frequently occurring genres among the e-books with that label.\n",
    "- It should then return a single dataframe with two columns, `'label'` and `'genre'`. Each row should correspond to one (label, genre) pair. And per the preceding bullet, you expect to see two rows per label.\n",
    "\n",
    "Regarding the number of rows per label, there are two exceptions. First, if a given label only has e-books from one genre, then there will only be one row. Second, if there are ties, then you should retain all pairs, in the same way you would have done in Exercise 6.\n",
    "\n",
    "> _Note 0:_ Your function must _not_ modify the input arguments. The test cell will check for that and may fail with strange errors if you do so.\n",
    ">\n",
    "> _Note 1:_ The order of rows does not matter, as the test cell will use tibble comparison functions."
   ]
  },
  {
   "cell_type": "markdown",
   "metadata": {
    "deletable": false,
    "editable": false,
    "nbgrader": {
     "grade": false,
     "locked": true,
     "solution": false
    }
   },
   "source": [
    "**Example.** A correct implementation will produce, for the call `calc_top_genres(labeled_metadata_df, top_k_ebook_labels)` on the input dataset, the following result:\n",
    "\n",
    "|   label | genre                     |\n",
    "|--------:|:--------------------------|\n",
    "|       0 | Literature & Fiction      |\n",
    "|       0 | Romance                   |\n",
    "|      15 | Children's eBooks         |\n",
    "|      15 | Literature & Fiction      |\n",
    "|      25 | Health, Fitness & Dieting |\n",
    "|      25 | Literature & Fiction      |\n",
    "|      26 | Science Fiction & Fantasy |\n",
    "|      26 | Literature & Fiction      |\n",
    "|      29 | Literature & Fiction      |\n",
    "|      29 | Romance                   |\n",
    "\n",
    "Though not definitive, this result does suggest that the clustering captures distinct groups of books, here, for instance, with a cluster having `'Romance'` novels (label 0) being distinct from a cluster with `'Children's eBooks'` (label 15) and from another with `'Health, Fitness & Dieting'` (label 25), for instance."
   ]
  },
  {
   "cell_type": "code",
   "execution_count": 187,
   "metadata": {},
   "outputs": [],
   "source": [
    "def calc_top_genres(labeled_metadata, top_labels):\n",
    "    \n",
    "    def analyze_one_cluster(df_group):\n",
    "        assert len(df_group['label'].unique()) == 1 # handles *one* cluster (one group)\n",
    "        return df_group.groupby(['label', 'genre'], as_index=False).size().nlargest(2, 'size', keep='all')\n",
    "    \n",
    "    # 1. Filter by top labels\n",
    "    is_top = labeled_metadata['label'].isin(top_labels)\n",
    "    \n",
    "    # 2. Group by label\n",
    "    labeled_groups = labeled_metadata[is_top].groupby('label', as_index=False)\n",
    "        \n",
    "    # 3. Analyze each group\n",
    "    results = labeled_groups.apply(analyze_one_cluster)\n",
    "    \n",
    "    # 4. Clean-up and return\n",
    "    return results.drop(columns='size').reset_index(drop=True)\n"
   ]
  },
  {
   "cell_type": "code",
   "execution_count": 188,
   "metadata": {},
   "outputs": [
    {
     "data": {
      "text/html": [
       "<div>\n",
       "<style scoped>\n",
       "    .dataframe tbody tr th:only-of-type {\n",
       "        vertical-align: middle;\n",
       "    }\n",
       "\n",
       "    .dataframe tbody tr th {\n",
       "        vertical-align: top;\n",
       "    }\n",
       "\n",
       "    .dataframe thead th {\n",
       "        text-align: right;\n",
       "    }\n",
       "</style>\n",
       "<table border=\"1\" class=\"dataframe\">\n",
       "  <thead>\n",
       "    <tr style=\"text-align: right;\">\n",
       "      <th></th>\n",
       "      <th>label</th>\n",
       "      <th>genre</th>\n",
       "    </tr>\n",
       "  </thead>\n",
       "  <tbody>\n",
       "    <tr>\n",
       "      <th>0</th>\n",
       "      <td>0</td>\n",
       "      <td>Literature &amp; Fiction</td>\n",
       "    </tr>\n",
       "    <tr>\n",
       "      <th>1</th>\n",
       "      <td>0</td>\n",
       "      <td>Romance</td>\n",
       "    </tr>\n",
       "    <tr>\n",
       "      <th>2</th>\n",
       "      <td>15</td>\n",
       "      <td>Children's eBooks</td>\n",
       "    </tr>\n",
       "    <tr>\n",
       "      <th>3</th>\n",
       "      <td>15</td>\n",
       "      <td>Literature &amp; Fiction</td>\n",
       "    </tr>\n",
       "    <tr>\n",
       "      <th>4</th>\n",
       "      <td>25</td>\n",
       "      <td>Health, Fitness &amp; Dieting</td>\n",
       "    </tr>\n",
       "    <tr>\n",
       "      <th>5</th>\n",
       "      <td>25</td>\n",
       "      <td>Literature &amp; Fiction</td>\n",
       "    </tr>\n",
       "    <tr>\n",
       "      <th>6</th>\n",
       "      <td>26</td>\n",
       "      <td>Science Fiction &amp; Fantasy</td>\n",
       "    </tr>\n",
       "    <tr>\n",
       "      <th>7</th>\n",
       "      <td>26</td>\n",
       "      <td>Literature &amp; Fiction</td>\n",
       "    </tr>\n",
       "    <tr>\n",
       "      <th>8</th>\n",
       "      <td>29</td>\n",
       "      <td>Literature &amp; Fiction</td>\n",
       "    </tr>\n",
       "    <tr>\n",
       "      <th>9</th>\n",
       "      <td>29</td>\n",
       "      <td>Romance</td>\n",
       "    </tr>\n",
       "  </tbody>\n",
       "</table>\n",
       "</div>"
      ],
      "text/plain": [
       "   label                      genre\n",
       "0      0       Literature & Fiction\n",
       "1      0                    Romance\n",
       "2     15          Children's eBooks\n",
       "3     15       Literature & Fiction\n",
       "4     25  Health, Fitness & Dieting\n",
       "5     25       Literature & Fiction\n",
       "6     26  Science Fiction & Fantasy\n",
       "7     26       Literature & Fiction\n",
       "8     29       Literature & Fiction\n",
       "9     29                    Romance"
      ]
     },
     "execution_count": 188,
     "metadata": {},
     "output_type": "execute_result"
    }
   ],
   "source": [
    "# Demo\n",
    "calc_top_genres(labeled_metadata_df, top_k_ebook_labels)"
   ]
  },
  {
   "cell_type": "code",
   "execution_count": 189,
   "metadata": {
    "deletable": false,
    "editable": false,
    "nbgrader": {
     "grade": true,
     "grade_id": "fx_ex8_calc_top_genres",
     "locked": true,
     "points": "4",
     "solution": false
    }
   },
   "outputs": [
    {
     "name": "stdout",
     "output_type": "stream",
     "text": [
      "Testing...\n",
      "5.0 GiB\n",
      "\n",
      "(Passed!)\n"
     ]
    }
   ],
   "source": [
    "# Test cell: `fx_ex8_calc_top_genres` (4 points)\n",
    "\n",
    "###\n",
    "### AUTOGRADER TEST - DO NOT REMOVE\n",
    "###\n",
    "\n",
    "from testing_tools import fx_ex8__check\n",
    "print(\"Testing...\")\n",
    "for trial in range(100):\n",
    "    fx_ex8__check(calc_top_genres)\n",
    "\n",
    "calc_top_genres__passed = True\n",
    "print(get_mem_usage_GiB())\n",
    "print(\"\\n(Passed!)\")"
   ]
  },
  {
   "cell_type": "markdown",
   "metadata": {
    "deletable": false,
    "editable": false,
    "nbgrader": {
     "grade": false,
     "locked": true,
     "solution": false
    }
   },
   "source": [
    "### Sample results for Exercise 8, `calc_top_genres` => `top_cluster_genres` ###\n",
    "\n",
    "If you had a working solution to Exercise 8, then in principle you could use it to determine the top genres in each cluster by combining `labeled_metadata_df` with `top_k_ebook_labels`. We have precomputed this result for you; run the cell below create the dataframe, named `top_cluster_genres`.\n",
    "\n",
    "> Note: **Read and run this cell even if you skipped or otherwise did not complete Exercise 8.**"
   ]
  },
  {
   "cell_type": "code",
   "execution_count": 190,
   "metadata": {
    "deletable": false,
    "editable": false,
    "nbgrader": {
     "grade": false,
     "locked": true,
     "solution": false
    }
   },
   "outputs": [
    {
     "name": "stdout",
     "output_type": "stream",
     "text": [
      "5.0 GiB\n",
      "* The top genres in each of the largest few clusters:\n"
     ]
    },
    {
     "data": {
      "text/html": [
       "<div>\n",
       "<style scoped>\n",
       "    .dataframe tbody tr th:only-of-type {\n",
       "        vertical-align: middle;\n",
       "    }\n",
       "\n",
       "    .dataframe tbody tr th {\n",
       "        vertical-align: top;\n",
       "    }\n",
       "\n",
       "    .dataframe thead th {\n",
       "        text-align: right;\n",
       "    }\n",
       "</style>\n",
       "<table border=\"1\" class=\"dataframe\">\n",
       "  <thead>\n",
       "    <tr style=\"text-align: right;\">\n",
       "      <th></th>\n",
       "      <th>label</th>\n",
       "      <th>genre</th>\n",
       "    </tr>\n",
       "  </thead>\n",
       "  <tbody>\n",
       "    <tr>\n",
       "      <th>0</th>\n",
       "      <td>0</td>\n",
       "      <td>Literature &amp; Fiction</td>\n",
       "    </tr>\n",
       "    <tr>\n",
       "      <th>1</th>\n",
       "      <td>0</td>\n",
       "      <td>Romance</td>\n",
       "    </tr>\n",
       "    <tr>\n",
       "      <th>2</th>\n",
       "      <td>15</td>\n",
       "      <td>Children's eBooks</td>\n",
       "    </tr>\n",
       "    <tr>\n",
       "      <th>3</th>\n",
       "      <td>15</td>\n",
       "      <td>Literature &amp; Fiction</td>\n",
       "    </tr>\n",
       "    <tr>\n",
       "      <th>4</th>\n",
       "      <td>25</td>\n",
       "      <td>Health, Fitness &amp; Dieting</td>\n",
       "    </tr>\n",
       "    <tr>\n",
       "      <th>5</th>\n",
       "      <td>25</td>\n",
       "      <td>Literature &amp; Fiction</td>\n",
       "    </tr>\n",
       "    <tr>\n",
       "      <th>6</th>\n",
       "      <td>26</td>\n",
       "      <td>Science Fiction &amp; Fantasy</td>\n",
       "    </tr>\n",
       "    <tr>\n",
       "      <th>7</th>\n",
       "      <td>26</td>\n",
       "      <td>Literature &amp; Fiction</td>\n",
       "    </tr>\n",
       "    <tr>\n",
       "      <th>8</th>\n",
       "      <td>29</td>\n",
       "      <td>Literature &amp; Fiction</td>\n",
       "    </tr>\n",
       "    <tr>\n",
       "      <th>9</th>\n",
       "      <td>29</td>\n",
       "      <td>Romance</td>\n",
       "    </tr>\n",
       "  </tbody>\n",
       "</table>\n",
       "</div>"
      ],
      "text/plain": [
       "   label                      genre\n",
       "0      0       Literature & Fiction\n",
       "1      0                    Romance\n",
       "2     15          Children's eBooks\n",
       "3     15       Literature & Fiction\n",
       "4     25  Health, Fitness & Dieting\n",
       "5     25       Literature & Fiction\n",
       "6     26  Science Fiction & Fantasy\n",
       "7     26       Literature & Fiction\n",
       "8     29       Literature & Fiction\n",
       "9     29                    Romance"
      ]
     },
     "metadata": {},
     "output_type": "display_data"
    }
   ],
   "source": [
    "from testing_tools import fx_top_cluster_genres as top_cluster_genres\n",
    "print(get_mem_usage_GiB())\n",
    "\n",
    "print(\"* The top genres in each of the largest few clusters:\")\n",
    "display(top_cluster_genres)"
   ]
  },
  {
   "cell_type": "markdown",
   "metadata": {
    "deletable": false,
    "editable": false,
    "nbgrader": {
     "grade": false,
     "locked": true,
     "solution": false
    }
   },
   "source": [
    "## Fin! ##\n",
    "\n",
    "Congratulations, you've reached the end of the final exam—and, therefore, the end of the class! Don't forget to restart and run all cells again to make sure it's all working when run in sequence; and make sure your work passes the submission process, as you only get points that the autograder awards.\n",
    "\n",
    "**Epilogue.** The idea for this problem was inspired by one of your TAs, Ashley Kelly. The data originated with Julian McAuley [here](http://jmcauley.ucsd.edu/data/amazon/)."
   ]
  },
  {
   "cell_type": "code",
   "execution_count": null,
   "metadata": {
    "collapsed": true
   },
   "outputs": [],
   "source": []
  }
 ],
 "metadata": {
  "kernelspec": {
   "display_name": "Python 3.8",
   "language": "python",
   "name": "python38"
  },
  "language_info": {
   "codemirror_mode": {
    "name": "ipython",
    "version": 3
   },
   "file_extension": ".py",
   "mimetype": "text/x-python",
   "name": "python",
   "nbconvert_exporter": "python",
   "pygments_lexer": "ipython3",
   "version": "3.8.7"
  },
  "toc": {
   "base_numbering": 1,
   "nav_menu": [],
   "number_sections": true,
   "sideBar": true,
   "skip_h1_title": false,
   "title_cell": "Table of Contents",
   "title_sidebar": "Contents",
   "toc_cell": false,
   "toc_position": [],
   "toc_section_display": true,
   "toc_window_display": false
  }
 },
 "nbformat": 4,
 "nbformat_minor": 2
}
